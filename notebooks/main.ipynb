{
 "cells": [
  {
   "cell_type": "code",
   "execution_count": 1,
   "id": "cb4f123f",
   "metadata": {},
   "outputs": [],
   "source": [
    "# Import basic libraries\n",
    "from palmerpenguins import load_penguins\n",
    "from sklearn.datasets import load_iris\n",
    "import numpy as np\n",
    "import pandas as pd\n",
    "import matplotlib.pyplot as plt\n",
    "import seaborn as sns\n",
    "sns.set_theme(style=\"darkgrid\")\n",
    "import time\n",
    "from sklearn.preprocessing import LabelEncoder\n",
    "import os\n",
    "os.chdir(\"/Users/hoangthuyduongvu/Desktop/FuzzSIM\")\n"
   ]
  },
  {
   "cell_type": "code",
   "execution_count": 2,
   "id": "9e2648ca",
   "metadata": {},
   "outputs": [],
   "source": [
    "# Import personalized libraries\n",
    "from fuzz.src.capacity import *\n",
    "from fuzz.choquet.choquet import *\n",
    "from fuzz.src.norm import *\n",
    "from fuzz.src.knn import KNNFuzz\n",
    "from fuzz.src.sim import S1, S2, S3\n",
    "from fuzz.optim import *\n",
    "from fuzz.utils import *\n",
    "from fuzz.eval import leave_one_out\n",
    "from fuzz.dataloader import *\n",
    "from fuzz.choquet.d_choquet import *"
   ]
  },
  {
   "cell_type": "code",
   "execution_count": 3,
   "id": "59fdaeab",
   "metadata": {},
   "outputs": [],
   "source": [
    "def train_test_split(df, train_size=0.8, random_state=42):\n",
    "    \"\"\"\n",
    "    Splits the dataset into training and testing sets while maintaining class balance.\n",
    "    Parameters:\n",
    "    df (tuple): A tuple containing the data and labels.\n",
    "    train_size (float): Proportion of the dataset to include in the training set.\n",
    "    random_state (int): Random seed for reproducibility.\n",
    "    Returns:\n",
    "    tuple: Training data, training labels, testing data, testing labels.\n",
    "    \"\"\"\n",
    "    data, labels = df \n",
    "    nb_samples = len(data) * train_size\n",
    "    for i in range(len(np.unique(labels))):\n",
    "        idx = np.where(labels == i)[0]\n",
    "        np.random.seed(random_state)\n",
    "        np.random.shuffle(idx)\n",
    "        train_idx = idx[:int(nb_samples / len(np.unique(labels)))]\n",
    "        test_idx = idx[int(nb_samples / len(np.unique(labels))):]\n",
    "        if i == 0:\n",
    "            train_data, train_labels = data[train_idx], labels[train_idx]\n",
    "            test_data, test_labels = data[test_idx], labels[test_idx]\n",
    "        else:\n",
    "            train_data = np.concatenate((train_data, data[train_idx]), axis=0)\n",
    "            train_labels = np.concatenate((train_labels, labels[train_idx]), axis=0)\n",
    "            test_data = np.concatenate((test_data, data[test_idx]), axis=0)\n",
    "            test_labels = np.concatenate((test_labels, labels[test_idx]), axis=0)\n",
    "    return train_data, train_labels, test_data, test_labels\n"
   ]
  },
  {
   "cell_type": "code",
   "execution_count": 4,
   "id": "548ca4c1",
   "metadata": {},
   "outputs": [],
   "source": [
    "import copy"
   ]
  },
  {
   "cell_type": "code",
   "execution_count": 5,
   "id": "0890b498",
   "metadata": {},
   "outputs": [],
   "source": [
    "# Fuzzy verion\n",
    "def FuzzLOO(DS, mu, sim = S1, choquet_version='d_choquet', p=1, q=1, time_counter=False):\n",
    "    \"\"\" Classifieur * tuple[array, array] -> float\n",
    "    \"\"\"\n",
    "    ###################### A COMPLETER \n",
    "    pt = 0\n",
    "    Xm, Ym = DS\n",
    "\n",
    "    input_dimension= Xm[0].shape[0]\n",
    "\n",
    "    C = KNNFuzz(input_dimension = input_dimension, mu=mu, sim=sim, choquet_version=choquet_version, p=p, q=q)\n",
    "\n",
    "    if time_counter:\n",
    "        tic = time.time()\n",
    "    for i in range(len(Xm)):\n",
    "        # Xtest, Ytest = Xm[i], Ym[i]\n",
    "        \n",
    "        # Xapp, Yapp = np.array(list(Xm[:i])+list(Xm[i+1:])), np.array(list(Ym[:i])+list(Ym[i+1:]))\n",
    "        Xapp, Yapp, Xtest, Ytest = train_test_split((Xm, Ym), train_size=0.8, random_state=i)\n",
    "\n",
    "        cl = copy.deepcopy(C)\n",
    "        cl.train(desc_set=Xapp, label_set=Yapp)\n",
    "\n",
    "        if cl.accuracy(Xtest, Ytest) == 1: pt += 1\n",
    "\n",
    "    if time_counter:\n",
    "        toc = time.time()\n",
    "        print(f'Result in {(toc-tic):0.4f} seconds.')\n",
    "    \n",
    "    return pt/len(Xm)"
   ]
  },
  {
   "cell_type": "code",
   "execution_count": 6,
   "id": "769161f8",
   "metadata": {},
   "outputs": [],
   "source": [
    "def fitness_function(capacities_list: np.ndarray, DS: Tuple[np.ndarray, np.ndarray], sim = S1, choquet_version='linear', p=1, q=1, time_counter=False, verbose=False) -> np.ndarray:\n",
    "    \"\"\"\n",
    "    Objective function for optimizing Möbius measures:\n",
    "    - capacities_list: list of Möbius measures represented as capacities\n",
    "    - DS: Tuple (X_data, y_data)\n",
    "    - C: Choquet similarity function (e.g., Choquet_classic)\n",
    "    \n",
    "    Returns:\n",
    "    - 1D array of negative LOO accuracy (to minimize)\n",
    "    \"\"\"\n",
    "    results = []\n",
    "    i = 0\n",
    "    # Replace capacities computation with Mobius instead\n",
    "    # Isolate Classifier outside please\n",
    "    for capacity in capacities_list:\n",
    "        i += 1\n",
    "        # if not is_monotonic(capacity):\n",
    "        #     results.append(float('inf'))  # Penalize non-monotonic capacity\n",
    "        #     continue\n",
    "\n",
    "        acc = FuzzLOO(DS, capacity, sim=sim, choquet_version=choquet_version, p=p, q=q, time_counter=time_counter)\n",
    "\n",
    "        # negative accuracy for minimization\n",
    "        results.append(-acc)\n",
    "\n",
    "        if verbose: \n",
    "            print(f\"Processing capacity {i}/{len(capacities_list)}...\")\n",
    "            tmp = [capacity[j].mu for j in range(len(capacity))]\n",
    "            print(f\"Capacities {i}: {tmp}\")\n",
    "            print(f\"Accuracy: {acc:.4f}\\n\")\n",
    "\n",
    "    return np.array(results)"
   ]
  },
  {
   "cell_type": "code",
   "execution_count": 7,
   "id": "8e8f5adb",
   "metadata": {},
   "outputs": [
    {
     "data": {
      "text/plain": [
       "array([[1.        , 0.67346936, 0.24489795, 0.        ],\n",
       "       [1.        , 0.59574461, 0.25531912, 0.        ],\n",
       "       [1.        , 0.66666669, 0.24444443, 0.        ],\n",
       "       [1.        , 0.65909088, 0.29545453, 0.        ],\n",
       "       [1.        , 0.70833325, 0.24999997, 0.        ]])"
      ]
     },
     "execution_count": 7,
     "metadata": {},
     "output_type": "execute_result"
    }
   ],
   "source": [
    "# Load data \n",
    "iris_data = load_iris()\n",
    "iris = pd.DataFrame(data=iris_data.data, columns=iris_data.feature_names)\n",
    "iris['target'] = iris_data.target\n",
    "data, labels = iris.iloc[:, :-1].values, iris.iloc[:, -1].values\n",
    "data = batch_norm(np.array(data, dtype=np.float32))\n",
    "\n",
    "# data, labels = dynamic_generate_positive_gaussian_data(\n",
    "#     dim=3,\n",
    "#     nb_classes=3,\n",
    "#     nb_points_per_class=100,\n",
    "#     seed=42\n",
    "# )\n",
    "# data = batch_norm(data)\n",
    "data[:5]"
   ]
  },
  {
   "cell_type": "code",
   "execution_count": 8,
   "id": "f24674db",
   "metadata": {},
   "outputs": [],
   "source": [
    "train_data, train_labels, test_data, test_labels = train_test_split((data, labels))"
   ]
  },
  {
   "cell_type": "code",
   "execution_count": 9,
   "id": "522bf3d2",
   "metadata": {},
   "outputs": [
    {
     "name": "stdout",
     "output_type": "stream",
     "text": [
      "Total number of Möbius measures: 20\n",
      "Test Möbius measures completed!\n",
      "Total number of capacities: 20\n"
     ]
    }
   ],
   "source": [
    "# Generate all possible mobius for training\n",
    "features = list(range(len(data[0])))    # encode features as integers\n",
    "\n",
    "nb_total = 5\n",
    "\n",
    "# Input Mobius (5 mobius currently)\n",
    "lst_mobius = []\n",
    "for i in range(nb_total):\n",
    "    mobius = generate_mobius(features, 2)\n",
    "    mobius.pop(0)\n",
    "    lst_mobius.append(mobius)\n",
    "\n",
    "# Mutate all mobius\n",
    "mutated = []\n",
    "for i in range(len(lst_mobius)):\n",
    "    mobius = lst_mobius[i]\n",
    "    mutated_mobius = mutate(mobius, mutation_rate=0.8)\n",
    "    mutated.append(mutated_mobius)\n",
    "\n",
    "# Add mutated mobius to the list\n",
    "lst_mobius.extend(mutated)\n",
    "\n",
    "# Cross over all mobius\n",
    "crossed_over = []\n",
    "for i in range(len(lst_mobius)):\n",
    "    for j in range(i + 1, len(lst_mobius) // 2):\n",
    "        crossed = crossover(lst_mobius[i], lst_mobius[j])\n",
    "        crossed_over.append(crossed)\n",
    "\n",
    "# Add crossed over mobius to the list\n",
    "lst_mobius.extend(crossed_over)\n",
    "print(f\"Total number of Möbius measures: {len(lst_mobius)}\")\n",
    "\n",
    "# Convert all Möbius measures to capacities\n",
    "capacities_list = []\n",
    "for i in range(len(lst_mobius)):\n",
    "    mobius = lst_mobius[i]\n",
    "    capacity = mobius_to_capacity(mobius, features)\n",
    "    capacities_list.append(capacity)    \n",
    "print('Test Möbius measures completed!')\n",
    "print(f\"Total number of capacities: {len(capacities_list)}\")"
   ]
  },
  {
   "cell_type": "code",
   "execution_count": null,
   "id": "07073660",
   "metadata": {},
   "outputs": [
    {
     "name": "stdout",
     "output_type": "stream",
     "text": [
      "Starting training loop...\n"
     ]
    }
   ],
   "source": [
    "# Define hyperparameters\n",
    "p = range(1, 3)\n",
    "q = range(1, 3)\n",
    "sim = [S1, S2, S3]  # similarity measures\n",
    "choquet_version = 'linear'\n",
    "verbose = False \n",
    "\n",
    "# Define training loop\n",
    "best_indexes_s1 = []\n",
    "best_accuracies_s1 = []\n",
    "best_mobius_s1 = []\n",
    "\n",
    "best_indexes_s2 = []\n",
    "best_accuracies_s2 = []\n",
    "best_mobius_s2 = []\n",
    "\n",
    "best_indexes_s3 = []\n",
    "best_accuracies_s3 = []\n",
    "best_mobius_s3 = []\n",
    "print(\"Starting training loop...\")\n",
    "start_time = time.time()\n",
    "i = 0\n",
    "for p_val in p:\n",
    "    for q_val in q:\n",
    "        for sim_measure in sim:\n",
    "            i += 1\n",
    "            if i % 10 == 0:\n",
    "                elapsed_time = time.time() - start_time\n",
    "                print(f\"Iteration {i}/{len(p) * len(q) * len(sim)} completed in {elapsed_time:.2f} seconds\")\n",
    "            FF_res = fitness_function(\n",
    "                capacities_list=lst_mobius,\n",
    "                DS=(data, labels),\n",
    "                sim=sim_measure,\n",
    "                choquet_version=choquet_version,\n",
    "                p=p_val,\n",
    "                q=q_val,\n",
    "                time_counter=False,\n",
    "                verbose=verbose\n",
    "            )\n",
    "            if sim_measure == S1:\n",
    "                best_indexes_s1.append(np.argmin(FF_res))\n",
    "                best_accuracies_s1.append(-FF_res[np.argmin(FF_res)])\n",
    "                best_mobius_s1.append(lst_mobius[np.argmin(FF_res)])\n",
    "            elif sim_measure == S2:\n",
    "                best_indexes_s2.append(np.argmin(FF_res))\n",
    "                best_accuracies_s2.append(-FF_res[np.argmin(FF_res)])\n",
    "                best_mobius_s2.append(lst_mobius[np.argmin(FF_res)])\n",
    "            elif sim_measure == S3:\n",
    "                best_indexes_s3.append(np.argmin(FF_res))\n",
    "                best_accuracies_s3.append(-FF_res[np.argmin(FF_res)])\n",
    "                best_mobius_s3.append(lst_mobius[np.argmin(FF_res)])"
   ]
  },
  {
   "cell_type": "code",
   "execution_count": null,
   "id": "39f996a6",
   "metadata": {},
   "outputs": [
    {
     "name": "stdout",
     "output_type": "stream",
     "text": [
      "Best index: 5, Best accuracy: 0.92\n",
      "Best Möbius measure: ['[0]: 0.166', '[1]: 0.635', '[2]: 0.512', '[3]: 0.373', '[0, 1]: 0.261', '[0, 2]: 0.613', '[0, 3]: 0.295', '[1, 2]: 0.938', '[1, 3]: 0.070', '[2, 3]: 0.033']\n",
      "\n",
      "Best Capacity:\n",
      "Capacity of [] is 0.000\n",
      "Capacity of [0] is 0.043\n",
      "Capacity of [1] is 0.163\n",
      "Capacity of [2] is 0.131\n",
      "Capacity of [3] is 0.096\n",
      "Capacity of [0, 1] is 0.273\n",
      "Capacity of [0, 2] is 0.331\n",
      "Capacity of [0, 3] is 0.214\n",
      "Capacity of [1, 2] is 0.535\n",
      "Capacity of [1, 3] is 0.277\n",
      "Capacity of [2, 3] is 0.236\n",
      "Capacity of [0, 1, 2] is 0.802\n",
      "Capacity of [0, 1, 3] is 0.462\n",
      "Capacity of [0, 2, 3] is 0.511\n",
      "Capacity of [1, 2, 3] is 0.657\n",
      "Capacity of [0, 1, 2, 3] is 1.000\n",
      "Result in 2.9126 seconds.\n",
      "Best accuracy: 0.6600\n"
     ]
    }
   ],
   "source": [
    "# Find the best index and accuracy\n",
    "best_index = np.argmax(best_accuracies)\n",
    "best_accuracy = best_accuracies[best_index]\n",
    "print(f\"Best index: {best_index}, Best accuracy: {best_accuracy}\")\n",
    "\n",
    "# get best mobius\n",
    "mobius = best_mobius[best_index]\n",
    "print(f\"Best Möbius measure: {[f'{m.X}: {m.mu:.3f}' for m in mobius]}\")\n",
    "\n",
    "# Convert mobius to capacity\n",
    "best_capacity = mobius_to_capacity(mobius, features)\n",
    "print(\"\\nBest Capacity:\")\n",
    "for c in best_capacity:\n",
    "    print(f\"Capacity of {c.X} is {c.mu:.3f}\")\n",
    "\n",
    "# Evaluate the best capacity\n",
    "best_accuracy = FuzzLOO(\n",
    "    DS=(data, labels),\n",
    "    mu=best_capacity,\n",
    "    sim=S1,\n",
    "    choquet_version='linear',\n",
    "    p=1,\n",
    "    q=1,\n",
    "    time_counter=True\n",
    ")\n",
    "print(f\"Best accuracy: {best_accuracy:.4f}\")"
   ]
  },
  {
   "cell_type": "code",
   "execution_count": null,
   "id": "30be8379",
   "metadata": {},
   "outputs": [
    {
     "data": {
      "text/plain": [
       "[<matplotlib.lines.Line2D at 0x16b3d8e80>]"
      ]
     },
     "execution_count": 36,
     "metadata": {},
     "output_type": "execute_result"
    },
    {
     "data": {
      "image/png": "[encoded data removed]",
      "text/plain": [
       "<Figure size 1000x600 with 1 Axes>"
      ]
     },
     "metadata": {},
     "output_type": "display_data"
    }
   ],
   "source": [
    "plt.figure(figsize=(10, 6))\n",
    "plt.plot(best_accuracies, marker='o', linestyle='-', color='b')"
   ]
  },
  {
   "cell_type": "code",
   "execution_count": null,
   "id": "7c90ae34",
   "metadata": {},
   "outputs": [],
   "source": []
  }
 ],
 "metadata": {
  "kernelspec": {
   "display_name": "rl-env",
   "language": "python",
   "name": "python3"
  },
  "language_info": {
   "codemirror_mode": {
    "name": "ipython",
    "version": 3
   },
   "file_extension": ".py",
   "mimetype": "text/x-python",
   "name": "python",
   "nbconvert_exporter": "python",
   "pygments_lexer": "ipython3",
   "version": "3.10.16"
  }
 },
 "nbformat": 4,
 "nbformat_minor": 5
}
