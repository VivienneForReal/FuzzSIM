{
 "cells": [
  {
   "cell_type": "code",
   "execution_count": 1,
   "id": "cb4f123f",
   "metadata": {},
   "outputs": [],
   "source": [
    "# Import basic libraries\n",
    "from palmerpenguins import load_penguins\n",
    "from sklearn.datasets import load_iris\n",
    "import numpy as np\n",
    "import pandas as pd\n",
    "import matplotlib.pyplot as plt\n",
    "import seaborn as sns\n",
    "sns.set_theme(style=\"darkgrid\")\n",
    "import time\n",
    "from sklearn.preprocessing import LabelEncoder\n",
    "import os\n",
    "os.chdir(\"/Users/hoangthuyduongvu/Desktop/FuzzSIM\")\n"
   ]
  },
  {
   "cell_type": "code",
   "execution_count": 5,
   "id": "9e2648ca",
   "metadata": {},
   "outputs": [],
   "source": [
    "# Import personalized libraries\n",
    "from fuzz.src.capacity import *\n",
    "from fuzz.choquet.choquet import *\n",
    "from fuzz.src.norm import *\n",
    "from fuzz.src.knn import KNNFuzz\n",
    "from fuzz.src.sim import S1, S2, S3\n",
    "from fuzz.optim import *\n",
    "from fuzz.utils import *\n",
    "from fuzz.eval import leave_one_out\n",
    "from fuzz.dataloader import *\n",
    "from fuzz.choquet.d_choquet import *"
   ]
  },
  {
   "cell_type": "code",
   "execution_count": 6,
   "id": "8e8f5adb",
   "metadata": {},
   "outputs": [
    {
     "data": {
      "text/plain": [
       "array([[1.        , 0.67346936, 0.24489795, 0.        ],\n",
       "       [1.        , 0.59574461, 0.25531912, 0.        ],\n",
       "       [1.        , 0.66666669, 0.24444443, 0.        ],\n",
       "       [1.        , 0.65909088, 0.29545453, 0.        ],\n",
       "       [1.        , 0.70833325, 0.24999997, 0.        ]])"
      ]
     },
     "execution_count": 6,
     "metadata": {},
     "output_type": "execute_result"
    }
   ],
   "source": [
    "# Load data \n",
    "iris_data = load_iris()\n",
    "iris = pd.DataFrame(data=iris_data.data, columns=iris_data.feature_names)\n",
    "iris['target'] = iris_data.target\n",
    "data, labels = iris.iloc[:, :-1].values, iris.iloc[:, -1].values\n",
    "data = batch_norm(np.array(data, dtype=np.float32))\n",
    "\n",
    "# data, labels = dynamic_generate_positive_gaussian_data(\n",
    "#     dim=3,\n",
    "#     nb_classes=3,\n",
    "#     nb_points_per_class=100,\n",
    "#     seed=42\n",
    "# )\n",
    "# data = batch_norm(data)\n",
    "data[:5]"
   ]
  },
  {
   "cell_type": "code",
   "execution_count": 31,
   "id": "522bf3d2",
   "metadata": {},
   "outputs": [
    {
     "name": "stdout",
     "output_type": "stream",
     "text": [
      "Total number of Möbius measures: 20\n",
      "Test Möbius measures completed!\n",
      "Total number of capacities: 20\n"
     ]
    }
   ],
   "source": [
    "# Generate all possible mobius for training\n",
    "features = list(range(len(data[0])))    # encode features as integers\n",
    "\n",
    "nb_total = 5\n",
    "\n",
    "# Input Mobius (10 mobius currently)\n",
    "lst_mobius = []\n",
    "for i in range(nb_total):\n",
    "    mobius = generate_mobius(features, 2)\n",
    "    mobius.pop(0)\n",
    "    lst_mobius.append(mobius)\n",
    "\n",
    "# Mutate all mobius\n",
    "mutated = []\n",
    "for i in range(len(lst_mobius)):\n",
    "    mobius = lst_mobius[i]\n",
    "    mutated_mobius = mutate(mobius, mutation_rate=0.8)\n",
    "    mutated.append(mutated_mobius)\n",
    "\n",
    "# Add mutated mobius to the list\n",
    "lst_mobius.extend(mutated)\n",
    "\n",
    "# Cross over all mobius\n",
    "crossed_over = []\n",
    "for i in range(len(lst_mobius)):\n",
    "    for j in range(i + 1, len(lst_mobius) // 2):\n",
    "        crossed = crossover(lst_mobius[i], lst_mobius[j])\n",
    "        crossed_over.append(crossed)\n",
    "\n",
    "# Add crossed over mobius to the list\n",
    "lst_mobius.extend(crossed_over)\n",
    "print(f\"Total number of Möbius measures: {len(lst_mobius)}\")\n",
    "\n",
    "# Convert all Möbius measures to capacities\n",
    "capacities_list = []\n",
    "for i in range(len(lst_mobius)):\n",
    "    mobius = lst_mobius[i]\n",
    "    capacity = mobius_to_capacity(mobius, features)\n",
    "    capacities_list.append(capacity)    \n",
    "print('Test Möbius measures completed!')\n",
    "print(f\"Total number of capacities: {len(capacities_list)}\")"
   ]
  },
  {
   "cell_type": "code",
   "execution_count": null,
   "id": "07073660",
   "metadata": {},
   "outputs": [
    {
     "name": "stdout",
     "output_type": "stream",
     "text": [
      "Starting training loop...\n"
     ]
    }
   ],
   "source": [
    "# Define hyperparameters\n",
    "p = range(1, 3)\n",
    "q = range(1, 3)\n",
    "sim = [S1, S2, S3]  # similarity measures\n",
    "choquet_version = 'linear'\n",
    "verbose = False \n",
    "\n",
    "# Define training loop\n",
    "best_indexes = []\n",
    "best_accuracies = []\n",
    "best_mobius = []\n",
    "\n",
    "print(\"Starting training loop...\")\n",
    "start_time = time.time()\n",
    "i = 0\n",
    "for p_val in p:\n",
    "    for q_val in q:\n",
    "        for sim_measure in sim:\n",
    "            i += 1\n",
    "            if i % 10 == 0:\n",
    "                elapsed_time = time.time() - start_time\n",
    "                print(f\"Iteration {i}/{len(p) * len(q) * len(sim)} completed in {elapsed_time:.2f} seconds\")\n",
    "            FF_res = fitness_function(\n",
    "                capacities_list=lst_mobius,\n",
    "                DS=(data, labels),\n",
    "                sim=sim_measure,\n",
    "                choquet_version=choquet_version,\n",
    "                p=p_val,\n",
    "                q=q_val,\n",
    "                time_counter=False,\n",
    "                verbose=verbose\n",
    "            )\n",
    "            best_indexes.append(np.argmin(FF_res))\n",
    "            best_accuracies.append(-FF_res[np.argmin(FF_res)])\n",
    "            best_mobius.append(lst_mobius[np.argmin(FF_res)])"
   ]
  },
  {
   "cell_type": "code",
   "execution_count": null,
   "id": "39f996a6",
   "metadata": {},
   "outputs": [
    {
     "name": "stdout",
     "output_type": "stream",
     "text": [
      "Best index: 5, Best accuracy: 0.9266666666666666\n",
      "Best Möbius measure: ['[0]: 0.438', '[1]: 0.445', '[2]: 0.244', '[3]: 0.591', '[0, 1]: 0.967', '[0, 2]: 0.775', '[0, 3]: 0.470', '[1, 2]: 0.942', '[1, 3]: 0.216', '[2, 3]: 0.002']\n",
      "\n",
      "Best Capacity:\n",
      "Capacity of [] is 0.000\n",
      "Capacity of [0] is 0.086\n",
      "Capacity of [1] is 0.087\n",
      "Capacity of [2] is 0.048\n",
      "Capacity of [3] is 0.116\n",
      "Capacity of [0, 1] is 0.363\n",
      "Capacity of [0, 2] is 0.286\n",
      "Capacity of [0, 3] is 0.295\n",
      "Capacity of [1, 2] is 0.320\n",
      "Capacity of [1, 3] is 0.246\n",
      "Capacity of [2, 3] is 0.165\n",
      "Capacity of [0, 1, 2] is 0.749\n",
      "Capacity of [0, 1, 3] is 0.614\n",
      "Capacity of [0, 2, 3] is 0.495\n",
      "Capacity of [1, 2, 3] is 0.479\n",
      "Capacity of [0, 1, 2, 3] is 1.000\n",
      "Result in 2.8797 seconds.\n",
      "Best accuracy: 0.6600\n"
     ]
    }
   ],
   "source": [
    "# Find the best index and accuracy\n",
    "best_index = np.argmax(best_accuracies)\n",
    "best_accuracy = best_accuracies[best_index]\n",
    "print(f\"Best index: {best_index}, Best accuracy: {best_accuracy}\")\n",
    "\n",
    "# get best mobius\n",
    "mobius = best_mobius[best_index]\n",
    "print(f\"Best Möbius measure: {[f'{m.X}: {m.mu:.3f}' for m in mobius]}\")\n",
    "\n",
    "# Convert mobius to capacity\n",
    "best_capacity = mobius_to_capacity(mobius, features)\n",
    "print(\"\\nBest Capacity:\")\n",
    "for c in best_capacity:\n",
    "    print(f\"Capacity of {c.X} is {c.mu:.3f}\")\n",
    "\n",
    "# Evaluate the best capacity\n",
    "best_accuracy = FuzzLOO(\n",
    "    DS=(data, labels),\n",
    "    mu=best_capacity,\n",
    "    sim=S1,\n",
    "    choquet_version='linear',\n",
    "    p=1,\n",
    "    q=1,\n",
    "    time_counter=True\n",
    ")\n",
    "print(f\"Best accuracy: {best_accuracy:.4f}\")"
   ]
  },
  {
   "cell_type": "code",
   "execution_count": null,
   "id": "30be8379",
   "metadata": {},
   "outputs": [
    {
     "data": {
      "text/plain": [
       "[<matplotlib.lines.Line2D at 0x16ae6ef50>]"
      ]
     },
     "execution_count": 30,
     "metadata": {},
     "output_type": "execute_result"
    },
    {
     "data": {
      "image/png": "[encoded data removed]",
      "text/plain": [
       "<Figure size 1000x600 with 1 Axes>"
      ]
     },
     "metadata": {},
     "output_type": "display_data"
    }
   ],
   "source": [
    "plt.figure(figsize=(10, 6))\n",
    "plt.plot(best_accuracies, marker='o', linestyle='-', color='b')"
   ]
  },
  {
   "cell_type": "code",
   "execution_count": null,
   "id": "7c90ae34",
   "metadata": {},
   "outputs": [],
   "source": []
  }
 ],
 "metadata": {
  "kernelspec": {
   "display_name": "rl-env",
   "language": "python",
   "name": "python3"
  },
  "language_info": {
   "codemirror_mode": {
    "name": "ipython",
    "version": 3
   },
   "file_extension": ".py",
   "mimetype": "text/x-python",
   "name": "python",
   "nbconvert_exporter": "python",
   "pygments_lexer": "ipython3",
   "version": "3.10.16"
  }
 },
 "nbformat": 4,
 "nbformat_minor": 5
}
