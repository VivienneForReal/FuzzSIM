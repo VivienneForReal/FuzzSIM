{
 "cells": [
  {
   "cell_type": "code",
   "execution_count": 33,
   "id": "cff2017d",
   "metadata": {},
   "outputs": [],
   "source": [
    "# Import basic libraries\n",
    "from palmerpenguins import load_penguins\n",
    "from sklearn.datasets import load_iris\n",
    "import numpy as np\n",
    "import pandas as pd\n",
    "import matplotlib.pyplot as plt\n",
    "import seaborn as sns\n",
    "sns.set_theme(style=\"darkgrid\")\n",
    "import time\n",
    "from sklearn.preprocessing import LabelEncoder\n",
    "import os\n",
    "os.chdir(\"/Users/hoangthuyduongvu/Desktop/FuzzSIM\")\n"
   ]
  },
  {
   "cell_type": "code",
   "execution_count": 34,
   "id": "b09079f9",
   "metadata": {},
   "outputs": [],
   "source": [
    "# Import personalized libraries\n",
    "from fuzz.src.capacity import *\n",
    "from fuzz.choquet.choquet import *\n",
    "from fuzz.src.norm import *\n",
    "from fuzz.src.knn import KNNFuzz\n",
    "from fuzz.src.sim import S1, S2, S3\n",
    "from fuzz.optim import *\n",
    "from fuzz.utils import *\n",
    "from fuzz.eval import leave_one_out\n",
    "from fuzz.dataloader import *\n",
    "from fuzz.choquet.d_choquet import *"
   ]
  },
  {
   "cell_type": "code",
   "execution_count": 35,
   "id": "99501d9c",
   "metadata": {},
   "outputs": [
    {
     "data": {
      "text/plain": [
       "array([[0.        , 1.        , 0.01959192],\n",
       "       [1.        , 0.        , 0.4070175 ],\n",
       "       [0.        , 0.38090406, 1.        ],\n",
       "       [0.6965442 , 0.        , 1.        ],\n",
       "       [0.        , 1.        , 0.99405304]])"
      ]
     },
     "execution_count": 35,
     "metadata": {},
     "output_type": "execute_result"
    }
   ],
   "source": [
    "# Load data \n",
    "# iris_data = load_iris()\n",
    "# iris = pd.DataFrame(data=iris_data.data, columns=iris_data.feature_names)\n",
    "# iris['target'] = iris_data.target\n",
    "# data, labels = iris.iloc[:, :-1].values, iris.iloc[:, -1].values\n",
    "# data = batch_norm(np.array(data, dtype=np.float32))\n",
    "\n",
    "data, labels = dynamic_generate_positive_gaussian_data(\n",
    "    dim=3,\n",
    "    nb_classes=3,\n",
    "    nb_points_per_class=100,\n",
    "    seed=42\n",
    ")\n",
    "data = batch_norm(data)\n",
    "data[:5]"
   ]
  },
  {
   "cell_type": "code",
   "execution_count": 36,
   "id": "0d8dc355",
   "metadata": {},
   "outputs": [],
   "source": [
    "# features = data[0]\n",
    "\n",
    "# mobius = generate_mobius(features, 2)\n",
    "# mobius.pop(0)\n",
    "# print(len(mobius))\n",
    "# capacity = mobius_to_capacity(mobius, features)\n",
    "\n",
    "# print(\"Möbius:\")\n",
    "# for i in range(len(mobius)):\n",
    "#     print(f\"Mobius of {mobius[i].X} is {mobius[i].mu:.3f}\")\n",
    "\n",
    "# print(\"\\nDerived Capacity:\")\n",
    "# for c in capacity:\n",
    "#     print(f\"Capacity of {c.X} is {c.mu:.3f}\")\n"
   ]
  },
  {
   "cell_type": "code",
   "execution_count": 37,
   "id": "3b3bd312",
   "metadata": {},
   "outputs": [],
   "source": [
    "# mutated_mobius = mutate(mobius, mutation_rate=0.2)\n",
    "# print(\"\\nMutated Möbius:\")\n",
    "# for i in range(len(mutated_mobius)):\n",
    "#     print(f\"Mobius of {mutated_mobius[i].X} is {mutated_mobius[i].mu:.3f}\")"
   ]
  },
  {
   "cell_type": "code",
   "execution_count": 56,
   "id": "696f7f4c",
   "metadata": {},
   "outputs": [
    {
     "name": "stdout",
     "output_type": "stream",
     "text": [
      "Total number of Möbius measures: 65\n",
      "Test Möbius measures completed!\n",
      "Total number of capacities: 65\n"
     ]
    }
   ],
   "source": [
    "# Generate all possible mobius for training\n",
    "features = list(range(len(data[0])))    # encode features as integers\n",
    "\n",
    "nb_total = 10\n",
    "\n",
    "# Input Mobius (10 mobius currently)\n",
    "lst_mobius = []\n",
    "for i in range(nb_total):\n",
    "    mobius = generate_mobius(features, 2)\n",
    "    mobius.pop(0)\n",
    "    lst_mobius.append(mobius)\n",
    "\n",
    "# Mutate all mobius\n",
    "mutated = []\n",
    "for i in range(len(lst_mobius)):\n",
    "    mobius = lst_mobius[i]\n",
    "    mutated_mobius = mutate(mobius, mutation_rate=0.8)\n",
    "    mutated.append(mutated_mobius)\n",
    "\n",
    "# Add mutated mobius to the list\n",
    "lst_mobius.extend(mutated)\n",
    "\n",
    "# Cross over all mobius\n",
    "crossed_over = []\n",
    "for i in range(len(lst_mobius)):\n",
    "    for j in range(i + 1, len(lst_mobius) // 2):\n",
    "        crossed = crossover(lst_mobius[i], lst_mobius[j])\n",
    "        crossed_over.append(crossed)\n",
    "\n",
    "# Add crossed over mobius to the list\n",
    "lst_mobius.extend(crossed_over)\n",
    "print(f\"Total number of Möbius measures: {len(lst_mobius)}\")\n",
    "\n",
    "# Convert all Möbius measures to capacities\n",
    "capacities_list = []\n",
    "for i in range(len(lst_mobius)):\n",
    "    mobius = lst_mobius[i]\n",
    "    capacity = mobius_to_capacity(mobius, features)\n",
    "    capacities_list.append(capacity)    \n",
    "print('Test Möbius measures completed!')\n",
    "print(f\"Total number of capacities: {len(capacities_list)}\")"
   ]
  },
  {
   "cell_type": "code",
   "execution_count": 57,
   "id": "ecf6b5a4",
   "metadata": {},
   "outputs": [
    {
     "name": "stdout",
     "output_type": "stream",
     "text": [
      "Mobius 1: [0.25813343270112754, 0.6567366645412922, 0.3251900642246949, 0.7734731256866006, 0.13087366071834983, 0.9698210450785447]\n",
      "Mobius 2: [0.45378954138363925, 0.23605046334646396, 0.07349674733001266, 0.16975790508754074, 0.5197739485560177, 0.3370031764312863]\n",
      "Mobius 3: [0.8288833658826095, 0.43088752366180594, 0.2487142725876299, 0.61714498660403, 0.7067772168854458, 0.16704190790094986]\n",
      "Mobius 4: [0.16761921628831766, 0.03667142693354297, 0.7364020150656405, 0.6638045276218051, 0.4746308757498139, 0.8441704489691971]\n",
      "Mobius 5: [0.8056701529500532, 0.5853543643967521, 0.8682712805132586, 0.20584121003676825, 0.11191961939772788, 0.2697496115169896]\n"
     ]
    }
   ],
   "source": [
    "for i in range(5):\n",
    "    mobius = lst_mobius[i]\n",
    "    tmp = [mobius[j].mu for j in range(len(mobius))]\n",
    "    print(f\"Mobius {i + 1}: {tmp}\")"
   ]
  },
  {
   "cell_type": "code",
   "execution_count": 58,
   "id": "f57cff6e",
   "metadata": {},
   "outputs": [
    {
     "name": "stdout",
     "output_type": "stream",
     "text": [
      "Mobius 1: [np.float64(0.0), np.float64(0.08288841834491255), np.float64(0.21088265407281875), np.float64(0.10442076333550322), np.float64(0.542138606020743), np.float64(0.22933361310117123), np.float64(0.62671961663132), np.float64(1.0)]\n",
      "Mobius 2: [np.float64(0.0), np.float64(0.25353187078146944), np.float64(0.13188121389617236), np.float64(0.04106257669605008), np.float64(0.4802566968189838), np.float64(0.5849917562367151), np.float64(0.3612272083179931), np.float64(1.0)]\n",
      "Mobius 3: [np.float64(0.0), np.float64(0.27634518549773357), np.float64(0.14365554619157916), np.float64(0.0829199796053049), np.float64(0.6257534983894717), np.float64(0.5949008276643278), np.float64(0.28226638524081804), np.float64(1.0)]\n",
      "Mobius 4: [np.float64(0.0), np.float64(0.05733906943779427), np.float64(0.012544537206931022), np.float64(0.25190790895568255), np.float64(0.29695741563425976), np.float64(0.4716083910320374), np.float64(0.5532257089341106), np.float64(1.0)]\n",
      "Mobius 5: [np.float64(0.0), np.float64(0.2830084260621807), np.float64(0.20561791540864363), np.float64(0.3049983763123036), np.float64(0.5609323548659265), np.float64(0.6273209003527334), np.float64(0.6053714625644682), np.float64(1.0)]\n"
     ]
    }
   ],
   "source": [
    "for i in range(5):\n",
    "    mobius = capacities_list[i]\n",
    "    tmp = [mobius[j].mu for j in range(len(mobius))]\n",
    "    print(f\"Mobius {i + 1}: {tmp}\")\n",
    "\n",
    "# All different capacities"
   ]
  },
  {
   "cell_type": "code",
   "execution_count": 59,
   "id": "d479fbc6",
   "metadata": {},
   "outputs": [
    {
     "name": "stdout",
     "output_type": "stream",
     "text": [
      "Möbius:\n",
      "Mobius of [0] is 0.258\n",
      "Mobius of [1] is 0.657\n",
      "Mobius of [2] is 0.325\n",
      "Mobius of [0, 1] is 0.773\n",
      "Mobius of [0, 2] is 0.131\n",
      "Mobius of [1, 2] is 0.970\n",
      "\n",
      "Derived Capacity:\n",
      "Capacity of [] is 0.000\n",
      "Capacity of [0] is 0.083\n",
      "Capacity of [1] is 0.211\n",
      "Capacity of [2] is 0.104\n",
      "Capacity of [0, 1] is 0.542\n",
      "Capacity of [0, 2] is 0.229\n",
      "Capacity of [1, 2] is 0.627\n",
      "Capacity of [0, 1, 2] is 1.000\n"
     ]
    }
   ],
   "source": [
    "mobius = lst_mobius[0]\n",
    "print(\"Möbius:\")\n",
    "for i in range(len(mobius)):\n",
    "    print(f\"Mobius of {mobius[i].X} is {mobius[i].mu:.3f}\")\n",
    "\n",
    "capacity = capacities_list[0]\n",
    "print(\"\\nDerived Capacity:\")\n",
    "for c in capacity:\n",
    "    print(f\"Capacity of {c.X} is {c.mu:.3f}\")\n"
   ]
  },
  {
   "cell_type": "code",
   "execution_count": 60,
   "id": "373c3833",
   "metadata": {},
   "outputs": [],
   "source": [
    "import copy"
   ]
  },
  {
   "cell_type": "code",
   "execution_count": null,
   "id": "c9c35cbb",
   "metadata": {},
   "outputs": [
    {
     "data": {
      "text/plain": [
       "np.int64(0)"
      ]
     },
     "execution_count": 61,
     "metadata": {},
     "output_type": "execute_result"
    }
   ],
   "source": [
    "C = KNNFuzz(input_dimension = data.shape[1], mu=mobius, sim=S1, choquet_version='linear', p=1, q=2)\n",
    "C.train(data, labels)\n",
    "C.score(data[0])"
   ]
  },
  {
   "cell_type": "code",
   "execution_count": 62,
   "id": "08e8697b",
   "metadata": {},
   "outputs": [],
   "source": [
    "# # Fuzzy verion\n",
    "# def FuzzLOO(DS, mu, sim = S1, choquet_version='linear', p=1, q=1, time_counter=False):\n",
    "#     \"\"\" Classifieur * tuple[array, array] -> float\n",
    "#     \"\"\"\n",
    "#     ###################### A COMPLETER \n",
    "#     pt = 0\n",
    "#     Xm, Ym = DS\n",
    "\n",
    "#     input_dimension= Xm[0].shape[0]\n",
    "\n",
    "#     C = KNNFuzz(input_dimension = input_dimension, mu=mu, sim=sim, choquet_version=choquet_version, p=p, q=q)\n",
    "\n",
    "#     if time_counter:\n",
    "#         tic = time.time()\n",
    "#     for i in range(len(Xm)):\n",
    "#         Xtest, Ytest = Xm[i], Ym[i]\n",
    "        \n",
    "#         Xapp, Yapp = np.array(list(Xm[:i])+list(Xm[i+1:])), np.array(list(Ym[:i])+list(Ym[i+1:]))\n",
    "\n",
    "#         cl = copy.deepcopy(C)\n",
    "#         cl.train(desc_set=Xapp, label_set=Yapp)\n",
    "\n",
    "#         if cl.accuracy([Xtest], [Ytest]) == 1: pt += 1\n",
    "\n",
    "#     if time_counter:\n",
    "#         toc = time.time()\n",
    "#         print(f'Result in {(toc-tic):0.4f} seconds.')\n",
    "    \n",
    "#     return pt/len(Xm)"
   ]
  },
  {
   "cell_type": "code",
   "execution_count": 63,
   "id": "d38d8a82",
   "metadata": {},
   "outputs": [
    {
     "data": {
      "text/plain": [
       "0.3433333333333333"
      ]
     },
     "execution_count": 63,
     "metadata": {},
     "output_type": "execute_result"
    }
   ],
   "source": [
    "FuzzLOO(\n",
    "    # C=C,\n",
    "    DS=(data, labels),\n",
    "    mu=lst_mobius[64],\n",
    ")"
   ]
  },
  {
   "cell_type": "code",
   "execution_count": 64,
   "id": "20bd22c7",
   "metadata": {},
   "outputs": [],
   "source": [
    "def fitness_function(capacities_list: np.ndarray, DS: Tuple[np.ndarray, np.ndarray], sim = S1, choquet_version='linear', p=1, q=1, time_counter=False, verbose=False) -> np.ndarray:\n",
    "    \"\"\"\n",
    "    Objective function for optimizing Möbius measures:\n",
    "    - capacities_list: list of Möbius measures represented as capacities\n",
    "    - DS: Tuple (X_data, y_data)\n",
    "    - C: Choquet similarity function (e.g., Choquet_classic)\n",
    "    \n",
    "    Returns:\n",
    "    - 1D array of negative LOO accuracy (to minimize)\n",
    "    \"\"\"\n",
    "    results = []\n",
    "    i = 0\n",
    "    # Replace capacities computation with Mobius instead\n",
    "    # Isolate Classifier outside please\n",
    "    for capacity in capacities_list:\n",
    "        i += 1\n",
    "        # if not is_monotonic(capacity):\n",
    "        #     results.append(float('inf'))  # Penalize non-monotonic capacity\n",
    "        #     continue\n",
    "\n",
    "        acc = FuzzLOO(DS, capacity, sim=sim, choquet_version=choquet_version, p=p, q=q, time_counter=time_counter)\n",
    "\n",
    "        # negative accuracy for minimization\n",
    "        results.append(-acc)\n",
    "\n",
    "        if verbose: \n",
    "            print(f\"Processing capacity {i}/{len(capacities_list)}...\")\n",
    "            tmp = [capacity[j].mu for j in range(len(capacity))]\n",
    "            print(f\"Capacities {i}: {tmp}\")\n",
    "            print(f\"Accuracy: {acc:.4f}\\n\")\n",
    "\n",
    "    return np.array(results)"
   ]
  },
  {
   "cell_type": "code",
   "execution_count": 65,
   "id": "700d0276",
   "metadata": {},
   "outputs": [
    {
     "name": "stdout",
     "output_type": "stream",
     "text": [
      "Processing capacity 1/65...\n",
      "Capacities 1: [0.25813343270112754, 0.6567366645412922, 0.3251900642246949, 0.7734731256866006, 0.13087366071834983, 0.9698210450785447]\n",
      "Accuracy: 0.2900\n",
      "\n",
      "Processing capacity 2/65...\n",
      "Capacities 2: [0.45378954138363925, 0.23605046334646396, 0.07349674733001266, 0.16975790508754074, 0.5197739485560177, 0.3370031764312863]\n",
      "Accuracy: 0.2967\n",
      "\n",
      "Processing capacity 3/65...\n",
      "Capacities 3: [0.8288833658826095, 0.43088752366180594, 0.2487142725876299, 0.61714498660403, 0.7067772168854458, 0.16704190790094986]\n",
      "Accuracy: 0.3633\n",
      "\n",
      "Processing capacity 4/65...\n",
      "Capacities 4: [0.16761921628831766, 0.03667142693354297, 0.7364020150656405, 0.6638045276218051, 0.4746308757498139, 0.8441704489691971]\n",
      "Accuracy: 0.3667\n",
      "\n",
      "Processing capacity 5/65...\n",
      "Capacities 5: [0.8056701529500532, 0.5853543643967521, 0.8682712805132586, 0.20584121003676825, 0.11191961939772788, 0.2697496115169896]\n",
      "Accuracy: 0.3333\n",
      "\n",
      "Processing capacity 6/65...\n",
      "Capacities 6: [0.05708685608931485, 0.531169528001032, 0.9366056922949615, 0.03934354066850965, 0.1221099140100268, 0.4521990282834353]\n",
      "Accuracy: 0.3800\n",
      "\n",
      "Processing capacity 7/65...\n",
      "Capacities 7: [0.9338750175279049, 0.3161561049767505, 0.5072348086883924, 0.0415728590503921, 0.14834320096208886, 0.9866301229588469]\n",
      "Accuracy: 0.3633\n",
      "\n",
      "Processing capacity 8/65...\n",
      "Capacities 8: [0.9651186964360455, 0.004939980934409616, 0.951811785423239, 0.6391199378155004, 0.8679182945200221, 0.4547398556338591]\n",
      "Accuracy: 0.3033\n",
      "\n",
      "Processing capacity 9/65...\n",
      "Capacities 9: [0.5155960285792502, 0.4888465802569202, 0.6668642575461043, 0.1396512547563129, 0.029973589872677953, 0.3079299415911909]\n",
      "Accuracy: 0.3100\n",
      "\n",
      "Processing capacity 10/65...\n",
      "Capacities 10: [0.7046807627366467, 0.20185345212294836, 0.6734324333249173, 0.9699120461072704, 0.09390071578941839, 0.6726021182251263]\n",
      "Accuracy: 0.3200\n",
      "\n",
      "Processing capacity 11/65...\n",
      "Capacities 11: [np.float64(0.3317618835766286), np.float64(0.6952618549865252), 0.3251900642246949, 0.7734731256866006, np.float64(0.13030861352003528), np.float64(1.0)]\n",
      "Accuracy: 0.2867\n",
      "\n",
      "Processing capacity 12/65...\n",
      "Capacities 12: [np.float64(0.3598669533230066), 0.23605046334646396, np.float64(0.10879942448546195), np.float64(0.2015349991340722), np.float64(0.5500205439643161), np.float64(0.3685722373518935)]\n",
      "Accuracy: 0.2800\n",
      "\n",
      "Processing capacity 13/65...\n",
      "Capacities 13: [0.8288833658826095, np.float64(0.5263223605060694), np.float64(0.32286496265508174), np.float64(0.6305482388013636), np.float64(0.7824803291457154), np.float64(0.1324485402135976)]\n",
      "Accuracy: 0.3600\n",
      "\n",
      "Processing capacity 14/65...\n",
      "Capacities 14: [np.float64(0.22918840467656937), np.float64(0.09623415670526987), np.float64(0.7999688583006448), np.float64(0.672702347213975), np.float64(0.43954804172986794), np.float64(0.8234049872910482)]\n",
      "Accuracy: 0.3600\n",
      "\n",
      "Processing capacity 15/65...\n",
      "Capacities 15: [np.float64(0.7833817732041223), np.float64(0.5328631905716177), np.float64(0.8137252059658889), np.float64(0.22653092871304384), np.float64(0.13581768859965077), np.float64(0.24570676755283558)]\n",
      "Accuracy: 0.3200\n",
      "\n",
      "Processing capacity 16/65...\n",
      "Capacities 16: [0.05708685608931485, np.float64(0.5270059035269782), np.float64(0.9048552578201927), np.float64(0.019108096847889743), np.float64(0.12883042335540248), np.float64(0.5051756805918609)]\n",
      "Accuracy: 0.3733\n",
      "\n",
      "Processing capacity 17/65...\n",
      "Capacities 17: [0.9338750175279049, np.float64(0.40726084416773745), np.float64(0.44639040582510164), np.float64(0.0710678018813127), 0.14834320096208886, np.float64(1.0)]\n",
      "Accuracy: 0.2933\n",
      "\n",
      "Processing capacity 18/65...\n",
      "Capacities 18: [np.float64(1.0), np.float64(0.0), np.float64(0.9031670989673406), np.float64(0.6005779308007577), 0.8679182945200221, np.float64(0.4170013954650598)]\n",
      "Accuracy: 0.3533\n",
      "\n",
      "Processing capacity 19/65...\n",
      "Capacities 19: [np.float64(0.5588261634238889), np.float64(0.4715564005619905), np.float64(0.6030941274530404), np.float64(0.07593892429543829), np.float64(0.0717828422171645), np.float64(0.32139238551697163)]\n",
      "Accuracy: 0.2967\n",
      "\n",
      "Processing capacity 20/65...\n",
      "Capacities 20: [np.float64(0.7972661377841627), np.float64(0.26305196207798), np.float64(0.5821149398958811), np.float64(1.0), np.float64(0.15773848767477644), 0.6726021182251263]\n",
      "Accuracy: 0.3867\n",
      "\n",
      "Processing capacity 21/65...\n",
      "Capacities 21: [0.45378954138363925, 0.23605046334646396, 0.07349674733001266, 0.7734731256866006, 0.5197739485560177, 0.3370031764312863]\n",
      "Accuracy: 0.2967\n",
      "\n",
      "Processing capacity 22/65...\n",
      "Capacities 22: [0.25813343270112754, 0.43088752366180594, 0.2487142725876299, 0.61714498660403, 0.7067772168854458, 0.16704190790094986]\n",
      "Accuracy: 0.3633\n",
      "\n",
      "Processing capacity 23/65...\n",
      "Capacities 23: [0.25813343270112754, 0.6567366645412922, 0.7364020150656405, 0.7734731256866006, 0.13087366071834983, 0.9698210450785447]\n",
      "Accuracy: 0.3467\n",
      "\n",
      "Processing capacity 24/65...\n",
      "Capacities 24: [0.8056701529500532, 0.6567366645412922, 0.3251900642246949, 0.7734731256866006, 0.13087366071834983, 0.2697496115169896]\n",
      "Accuracy: 0.3500\n",
      "\n",
      "Processing capacity 25/65...\n",
      "Capacities 25: [0.25813343270112754, 0.6567366645412922, 0.9366056922949615, 0.03934354066850965, 0.13087366071834983, 0.4521990282834353]\n",
      "Accuracy: 0.3200\n",
      "\n",
      "Processing capacity 26/65...\n",
      "Capacities 26: [0.9338750175279049, 0.3161561049767505, 0.3251900642246949, 0.7734731256866006, 0.14834320096208886, 0.9698210450785447]\n",
      "Accuracy: 0.2867\n",
      "\n",
      "Processing capacity 27/65...\n",
      "Capacities 27: [0.25813343270112754, 0.6567366645412922, 0.3251900642246949, 0.7734731256866006, 0.13087366071834983, 0.9698210450785447]\n",
      "Accuracy: 0.2900\n",
      "\n",
      "Processing capacity 28/65...\n",
      "Capacities 28: [0.25813343270112754, 0.6567366645412922, 0.3251900642246949, 0.1396512547563129, 0.13087366071834983, 0.3079299415911909]\n",
      "Accuracy: 0.3500\n",
      "\n",
      "Processing capacity 29/65...\n",
      "Capacities 29: [0.25813343270112754, 0.20185345212294836, 0.3251900642246949, 0.7734731256866006, 0.09390071578941839, 0.6726021182251263]\n",
      "Accuracy: 0.3433\n",
      "\n",
      "Processing capacity 30/65...\n",
      "Capacities 30: [0.8288833658826095, 0.23605046334646396, 0.07349674733001266, 0.61714498660403, 0.5197739485560177, 0.3370031764312863]\n",
      "Accuracy: 0.2967\n",
      "\n",
      "Processing capacity 31/65...\n",
      "Capacities 31: [0.16761921628831766, 0.23605046334646396, 0.7364020150656405, 0.6638045276218051, 0.5197739485560177, 0.3370031764312863]\n",
      "Accuracy: 0.3567\n",
      "\n",
      "Processing capacity 32/65...\n",
      "Capacities 32: [0.8056701529500532, 0.5853543643967521, 0.07349674733001266, 0.16975790508754074, 0.5197739485560177, 0.3370031764312863]\n",
      "Accuracy: 0.3767\n",
      "\n",
      "Processing capacity 33/65...\n",
      "Capacities 33: [0.05708685608931485, 0.23605046334646396, 0.07349674733001266, 0.16975790508754074, 0.1221099140100268, 0.3370031764312863]\n",
      "Accuracy: 0.2967\n",
      "\n",
      "Processing capacity 34/65...\n",
      "Capacities 34: [0.45378954138363925, 0.23605046334646396, 0.5072348086883924, 0.16975790508754074, 0.5197739485560177, 0.9866301229588469]\n",
      "Accuracy: 0.3100\n",
      "\n",
      "Processing capacity 35/65...\n",
      "Capacities 35: [0.9651186964360455, 0.004939980934409616, 0.07349674733001266, 0.6391199378155004, 0.5197739485560177, 0.4547398556338591]\n",
      "Accuracy: 0.3400\n",
      "\n",
      "Processing capacity 36/65...\n",
      "Capacities 36: [0.5155960285792502, 0.4888465802569202, 0.07349674733001266, 0.1396512547563129, 0.5197739485560177, 0.3079299415911909]\n",
      "Accuracy: 0.3833\n",
      "\n",
      "Processing capacity 37/65...\n",
      "Capacities 37: [0.7046807627366467, 0.23605046334646396, 0.07349674733001266, 0.9699120461072704, 0.09390071578941839, 0.6726021182251263]\n",
      "Accuracy: 0.4000\n",
      "\n",
      "Processing capacity 38/65...\n",
      "Capacities 38: [0.8288833658826095, 0.43088752366180594, 0.2487142725876299, 0.61714498660403, 0.7067772168854458, 0.8441704489691971]\n",
      "Accuracy: 0.3733\n",
      "\n",
      "Processing capacity 39/65...\n",
      "Capacities 39: [0.8288833658826095, 0.5853543643967521, 0.8682712805132586, 0.20584121003676825, 0.7067772168854458, 0.16704190790094986]\n",
      "Accuracy: 0.3167\n",
      "\n",
      "Processing capacity 40/65...\n",
      "Capacities 40: [0.05708685608931485, 0.531169528001032, 0.9366056922949615, 0.03934354066850965, 0.1221099140100268, 0.4521990282834353]\n",
      "Accuracy: 0.3800\n",
      "\n",
      "Processing capacity 41/65...\n",
      "Capacities 41: [0.9338750175279049, 0.43088752366180594, 0.5072348086883924, 0.0415728590503921, 0.7067772168854458, 0.9866301229588469]\n",
      "Accuracy: 0.3700\n",
      "\n",
      "Processing capacity 42/65...\n",
      "Capacities 42: [0.9651186964360455, 0.004939980934409616, 0.951811785423239, 0.6391199378155004, 0.8679182945200221, 0.16704190790094986]\n",
      "Accuracy: 0.3067\n",
      "\n",
      "Processing capacity 43/65...\n",
      "Capacities 43: [0.8288833658826095, 0.43088752366180594, 0.6668642575461043, 0.61714498660403, 0.7067772168854458, 0.16704190790094986]\n",
      "Accuracy: 0.3233\n",
      "\n",
      "Processing capacity 44/65...\n",
      "Capacities 44: [0.7046807627366467, 0.20185345212294836, 0.2487142725876299, 0.61714498660403, 0.09390071578941839, 0.16704190790094986]\n",
      "Accuracy: 0.2967\n",
      "\n",
      "Processing capacity 45/65...\n",
      "Capacities 45: [0.16761921628831766, 0.03667142693354297, 0.8682712805132586, 0.20584121003676825, 0.4746308757498139, 0.8441704489691971]\n",
      "Accuracy: 0.3633\n",
      "\n",
      "Processing capacity 46/65...\n",
      "Capacities 46: [0.05708685608931485, 0.03667142693354297, 0.9366056922949615, 0.6638045276218051, 0.4746308757498139, 0.4521990282834353]\n",
      "Accuracy: 0.3600\n",
      "\n",
      "Processing capacity 47/65...\n",
      "Capacities 47: [0.9338750175279049, 0.3161561049767505, 0.7364020150656405, 0.6638045276218051, 0.14834320096208886, 0.9866301229588469]\n",
      "Accuracy: 0.3600\n",
      "\n",
      "Processing capacity 48/65...\n",
      "Capacities 48: [0.16761921628831766, 0.03667142693354297, 0.951811785423239, 0.6638045276218051, 0.4746308757498139, 0.8441704489691971]\n",
      "Accuracy: 0.3867\n",
      "\n",
      "Processing capacity 49/65...\n",
      "Capacities 49: [0.16761921628831766, 0.03667142693354297, 0.6668642575461043, 0.6638045276218051, 0.4746308757498139, 0.8441704489691971]\n",
      "Accuracy: 0.3667\n",
      "\n",
      "Processing capacity 50/65...\n",
      "Capacities 50: [0.16761921628831766, 0.20185345212294836, 0.6734324333249173, 0.9699120461072704, 0.09390071578941839, 0.6726021182251263]\n",
      "Accuracy: 0.3200\n",
      "\n",
      "Processing capacity 51/65...\n",
      "Capacities 51: [0.8056701529500532, 0.5853543643967521, 0.8682712805132586, 0.20584121003676825, 0.1221099140100268, 0.4521990282834353]\n",
      "Accuracy: 0.3267\n",
      "\n",
      "Processing capacity 52/65...\n",
      "Capacities 52: [0.9338750175279049, 0.3161561049767505, 0.8682712805132586, 0.20584121003676825, 0.14834320096208886, 0.9866301229588469]\n",
      "Accuracy: 0.4000\n",
      "\n",
      "Processing capacity 53/65...\n",
      "Capacities 53: [0.8056701529500532, 0.004939980934409616, 0.8682712805132586, 0.6391199378155004, 0.11191961939772788, 0.2697496115169896]\n",
      "Accuracy: 0.3200\n",
      "\n",
      "Processing capacity 54/65...\n",
      "Capacities 54: [0.5155960285792502, 0.4888465802569202, 0.8682712805132586, 0.1396512547563129, 0.029973589872677953, 0.3079299415911909]\n",
      "Accuracy: 0.3633\n",
      "\n",
      "Processing capacity 55/65...\n",
      "Capacities 55: [0.7046807627366467, 0.20185345212294836, 0.8682712805132586, 0.9699120461072704, 0.09390071578941839, 0.6726021182251263]\n",
      "Accuracy: 0.3333\n",
      "\n",
      "Processing capacity 56/65...\n",
      "Capacities 56: [0.05708685608931485, 0.3161561049767505, 0.9366056922949615, 0.0415728590503921, 0.1221099140100268, 0.9866301229588469]\n",
      "Accuracy: 0.3533\n",
      "\n",
      "Processing capacity 57/65...\n",
      "Capacities 57: [0.05708685608931485, 0.531169528001032, 0.951811785423239, 0.6391199378155004, 0.8679182945200221, 0.4521990282834353]\n",
      "Accuracy: 0.3767\n",
      "\n",
      "Processing capacity 58/65...\n",
      "Capacities 58: [0.5155960285792502, 0.531169528001032, 0.6668642575461043, 0.03934354066850965, 0.029973589872677953, 0.3079299415911909]\n",
      "Accuracy: 0.2867\n",
      "\n",
      "Processing capacity 59/65...\n",
      "Capacities 59: [0.05708685608931485, 0.531169528001032, 0.6734324333249173, 0.9699120461072704, 0.09390071578941839, 0.4521990282834353]\n",
      "Accuracy: 0.2933\n",
      "\n",
      "Processing capacity 60/65...\n",
      "Capacities 60: [0.9651186964360455, 0.3161561049767505, 0.5072348086883924, 0.6391199378155004, 0.14834320096208886, 0.9866301229588469]\n",
      "Accuracy: 0.3633\n",
      "\n",
      "Processing capacity 61/65...\n",
      "Capacities 61: [0.9338750175279049, 0.4888465802569202, 0.5072348086883924, 0.0415728590503921, 0.14834320096208886, 0.9866301229588469]\n",
      "Accuracy: 0.3500\n",
      "\n",
      "Processing capacity 62/65...\n",
      "Capacities 62: [0.7046807627366467, 0.3161561049767505, 0.5072348086883924, 0.0415728590503921, 0.14834320096208886, 0.6726021182251263]\n",
      "Accuracy: 0.3267\n",
      "\n",
      "Processing capacity 63/65...\n",
      "Capacities 63: [0.9651186964360455, 0.004939980934409616, 0.6668642575461043, 0.1396512547563129, 0.029973589872677953, 0.3079299415911909]\n",
      "Accuracy: 0.3200\n",
      "\n",
      "Processing capacity 64/65...\n",
      "Capacities 64: [0.7046807627366467, 0.20185345212294836, 0.951811785423239, 0.9699120461072704, 0.09390071578941839, 0.4547398556338591]\n",
      "Accuracy: 0.4067\n",
      "\n",
      "Processing capacity 65/65...\n",
      "Capacities 65: [0.5155960285792502, 0.4888465802569202, 0.6734324333249173, 0.9699120461072704, 0.029973589872677953, 0.6726021182251263]\n",
      "Accuracy: 0.3567\n",
      "\n"
     ]
    }
   ],
   "source": [
    "FF_res = fitness_function(\n",
    "    # C = C,\n",
    "    capacities_list=lst_mobius,\n",
    "    DS=(data, labels),\n",
    "    sim=S1,\n",
    "    choquet_version='linear',\n",
    "    p=1,\n",
    "    q=1,\n",
    "    time_counter=False, \n",
    "    verbose=True\n",
    ")"
   ]
  },
  {
   "cell_type": "code",
   "execution_count": 66,
   "id": "2966cf51",
   "metadata": {},
   "outputs": [
    {
     "name": "stdout",
     "output_type": "stream",
     "text": [
      "Best index: 63, Accuracy: 0.4067\n",
      "Best Möbius measure: ['[0]: 0.705', '[1]: 0.202', '[2]: 0.952', '[0, 1]: 0.970', '[0, 2]: 0.094', '[1, 2]: 0.455']\n"
     ]
    }
   ],
   "source": [
    "# Get the best capacity\n",
    "best_index = np.argmin(FF_res)\n",
    "# Print the best index and its accuracy\n",
    "print(f\"Best index: {best_index}, Accuracy: {-FF_res[best_index]:.4f}\")\n",
    "\n",
    "# get best mobius\n",
    "best_mobius = lst_mobius[best_index]\n",
    "print(f\"Best Möbius measure: {[f'{m.X}: {m.mu:.3f}' for m in best_mobius]}\")"
   ]
  },
  {
   "cell_type": "code",
   "execution_count": 67,
   "id": "160c5155",
   "metadata": {},
   "outputs": [
    {
     "name": "stdout",
     "output_type": "stream",
     "text": [
      "\n",
      "Best Capacity:\n",
      "Capacity of [] is 0.000\n",
      "Capacity of [0] is 0.209\n",
      "Capacity of [1] is 0.060\n",
      "Capacity of [2] is 0.282\n",
      "Capacity of [0, 1] is 0.556\n",
      "Capacity of [0, 2] is 0.518\n",
      "Capacity of [1, 2] is 0.476\n",
      "Capacity of [0, 1, 2] is 1.000\n",
      "Result in 5.8425 seconds.\n",
      "Best accuracy: 0.4067\n"
     ]
    }
   ],
   "source": [
    "# Convert mobius to capacity\n",
    "best_capacity = mobius_to_capacity(best_mobius, features)\n",
    "print(\"\\nBest Capacity:\")\n",
    "for c in best_capacity:\n",
    "    print(f\"Capacity of {c.X} is {c.mu:.3f}\")\n",
    "\n",
    "# Evaluate the best capacity\n",
    "best_accuracy = FuzzLOO(\n",
    "    DS=(data, labels),\n",
    "    mu=best_mobius,\n",
    "    sim=S1,\n",
    "    choquet_version='linear',\n",
    "    p=1,\n",
    "    q=1,\n",
    "    time_counter=True\n",
    ")\n",
    "print(f\"Best accuracy: {best_accuracy:.4f}\")"
   ]
  },
  {
   "cell_type": "code",
   "execution_count": 68,
   "id": "dffea57e",
   "metadata": {},
   "outputs": [
    {
     "name": "stdout",
     "output_type": "stream",
     "text": [
      "[] 0.0\n",
      "[0] 0.2086769081604657\n",
      "[1] 0.05977480373800887\n",
      "[2] 0.2818597456264643\n",
      "[0, 1] 0.5556714824272416\n",
      "[0, 2] 0.518343445289075\n",
      "[1, 2] 0.4762965298086221\n",
      "[0, 1, 2] 1.0\n"
     ]
    }
   ],
   "source": [
    "# get mobius\n",
    "for i in range(len(capacities_list[best_index])):\n",
    "    print(capacities_list[best_index][i].X, capacities_list[best_index][i].mu)"
   ]
  },
  {
   "cell_type": "code",
   "execution_count": 77,
   "id": "07b24724",
   "metadata": {},
   "outputs": [
    {
     "data": {
      "image/png": "[encoded data removed]",
      "text/plain": [
       "<Figure size 1000x600 with 1 Axes>"
      ]
     },
     "metadata": {},
     "output_type": "display_data"
    }
   ],
   "source": [
    "plt.figure(figsize=(10, 6))\n",
    "plt.plot(range(len(capacities_list)), FF_res, marker='o')\n",
    "plt.title('Fitness Function Values for Each Capacity')\n",
    "plt.xlabel('Capacity Index')\n",
    "plt.ylabel('Fitness Value (Negative LOO Accuracy)')\n",
    "plt.grid()\n",
    "plt.show()"
   ]
  },
  {
   "cell_type": "code",
   "execution_count": null,
   "id": "954846ca",
   "metadata": {},
   "outputs": [],
   "source": []
  }
 ],
 "metadata": {
  "kernelspec": {
   "display_name": "rl-env",
   "language": "python",
   "name": "python3"
  },
  "language_info": {
   "codemirror_mode": {
    "name": "ipython",
    "version": 3
   },
   "file_extension": ".py",
   "mimetype": "text/x-python",
   "name": "python",
   "nbconvert_exporter": "python",
   "pygments_lexer": "ipython3",
   "version": "3.10.16"
  }
 },
 "nbformat": 4,
 "nbformat_minor": 5
}
