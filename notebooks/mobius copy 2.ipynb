{
 "cells": [
  {
   "cell_type": "code",
   "execution_count": 1,
   "id": "cff2017d",
   "metadata": {},
   "outputs": [],
   "source": [
    "# Import basic libraries\n",
    "from palmerpenguins import load_penguins\n",
    "from sklearn.datasets import load_iris\n",
    "import numpy as np\n",
    "import pandas as pd\n",
    "import matplotlib.pyplot as plt\n",
    "import seaborn as sns\n",
    "sns.set_theme(style=\"darkgrid\")\n",
    "import time\n",
    "from sklearn.preprocessing import LabelEncoder\n",
    "import os\n",
    "os.chdir(\"/Users/hoangthuyduongvu/Desktop/FuzzSIM\")\n"
   ]
  },
  {
   "cell_type": "code",
   "execution_count": 2,
   "id": "b09079f9",
   "metadata": {},
   "outputs": [],
   "source": [
    "# Import personalized libraries\n",
    "from fuzz.src.capacity import *\n",
    "from fuzz.choquet.choquet import *\n",
    "from fuzz.src.norm import *\n",
    "from fuzz.src.knn import KNNFuzz\n",
    "from fuzz.src.sim import S1, S2, S3\n",
    "from fuzz.optim import *\n",
    "from fuzz.utils import *\n",
    "from fuzz.eval import leave_one_out\n",
    "from fuzz.dataloader import *\n",
    "from fuzz.choquet.d_choquet import *"
   ]
  },
  {
   "cell_type": "code",
   "execution_count": 3,
   "id": "99501d9c",
   "metadata": {},
   "outputs": [],
   "source": [
    "# Load data \n",
    "iris_data = load_iris()\n",
    "iris = pd.DataFrame(data=iris_data.data, columns=iris_data.feature_names)\n",
    "iris['target'] = iris_data.target\n",
    "data, labels = iris.iloc[:, :-1].values, iris.iloc[:, -1].values\n",
    "data = batch_norm(np.array(data, dtype=np.float32))"
   ]
  },
  {
   "cell_type": "code",
   "execution_count": 4,
   "id": "0d8dc355",
   "metadata": {},
   "outputs": [],
   "source": [
    "# features = data[0]\n",
    "\n",
    "# mobius = generate_mobius(features, 2)\n",
    "# mobius.pop(0)\n",
    "# print(len(mobius))\n",
    "# capacity = mobius_to_capacity(mobius, features)\n",
    "\n",
    "# print(\"Möbius:\")\n",
    "# for i in range(len(mobius)):\n",
    "#     print(f\"Mobius of {mobius[i].X} is {mobius[i].mu:.3f}\")\n",
    "\n",
    "# print(\"\\nDerived Capacity:\")\n",
    "# for c in capacity:\n",
    "#     print(f\"Capacity of {c.X} is {c.mu:.3f}\")\n"
   ]
  },
  {
   "cell_type": "code",
   "execution_count": 5,
   "id": "3b3bd312",
   "metadata": {},
   "outputs": [],
   "source": [
    "# mutated_mobius = mutate(mobius, mutation_rate=0.2)\n",
    "# print(\"\\nMutated Möbius:\")\n",
    "# for i in range(len(mutated_mobius)):\n",
    "#     print(f\"Mobius of {mutated_mobius[i].X} is {mutated_mobius[i].mu:.3f}\")"
   ]
  },
  {
   "cell_type": "code",
   "execution_count": 32,
   "id": "696f7f4c",
   "metadata": {},
   "outputs": [
    {
     "name": "stdout",
     "output_type": "stream",
     "text": [
      "Total number of Möbius measures: 135\n",
      "Test Möbius measures completed!\n",
      "Total number of capacities: 135\n"
     ]
    }
   ],
   "source": [
    "# Generate all possible mobius for training\n",
    "features = list(range(len(data[0])))    # encode features as integers\n",
    "\n",
    "nb_total = 15\n",
    "\n",
    "# Input Mobius (10 mobius currently)\n",
    "lst_mobius = []\n",
    "for i in range(nb_total):\n",
    "    mobius = generate_mobius(features, 2)\n",
    "    mobius.pop(0)\n",
    "    lst_mobius.append(mobius)\n",
    "\n",
    "# Mutate all mobius\n",
    "mutated = []\n",
    "for i in range(len(lst_mobius)):\n",
    "    mobius = lst_mobius[i]\n",
    "    mutated_mobius = mutate(mobius, mutation_rate=0.2)\n",
    "    mutated.append(mutated_mobius)\n",
    "\n",
    "# Add mutated mobius to the list\n",
    "lst_mobius.extend(mutated)\n",
    "\n",
    "# Cross over all mobius\n",
    "crossed_over = []\n",
    "for i in range(len(lst_mobius)):\n",
    "    for j in range(i + 1, len(lst_mobius) // 2):\n",
    "        crossed = crossover(lst_mobius[i], lst_mobius[j])\n",
    "        crossed_over.append(crossed)\n",
    "\n",
    "# Add crossed over mobius to the list\n",
    "lst_mobius.extend(crossed_over)\n",
    "print(f\"Total number of Möbius measures: {len(lst_mobius)}\")\n",
    "\n",
    "# Convert all Möbius measures to capacities\n",
    "capacities_list = []\n",
    "for i in range(len(lst_mobius)):\n",
    "    mobius = lst_mobius[i]\n",
    "    capacity = mobius_to_capacity(mobius, features)\n",
    "    capacities_list.append(capacity)    \n",
    "print('Test Möbius measures completed!')\n",
    "print(f\"Total number of capacities: {len(capacities_list)}\")"
   ]
  },
  {
   "cell_type": "code",
   "execution_count": 23,
   "id": "d479fbc6",
   "metadata": {},
   "outputs": [
    {
     "name": "stdout",
     "output_type": "stream",
     "text": [
      "Möbius:\n",
      "Mobius of [] is 0.000\n",
      "Mobius of [0] is 0.078\n",
      "Mobius of [1] is 0.194\n",
      "Mobius of [2] is 0.453\n",
      "Mobius of [3] is 0.019\n",
      "Mobius of [0, 1] is 0.543\n",
      "Mobius of [0, 2] is 0.740\n",
      "Mobius of [0, 3] is 0.272\n",
      "Mobius of [1, 2] is 0.739\n",
      "Mobius of [1, 3] is 0.546\n",
      "Mobius of [2, 3] is 0.317\n",
      "\n",
      "Derived Capacity:\n",
      "Capacity of [] is 0.000\n",
      "Capacity of [0] is 0.093\n",
      "Capacity of [1] is 0.057\n",
      "Capacity of [2] is 0.097\n",
      "Capacity of [3] is 0.118\n",
      "Capacity of [0, 1] is 0.223\n",
      "Capacity of [0, 2] is 0.349\n",
      "Capacity of [0, 3] is 0.339\n",
      "Capacity of [1, 2] is 0.235\n",
      "Capacity of [1, 3] is 0.298\n",
      "Capacity of [2, 3] is 0.289\n",
      "Capacity of [0, 1, 2] is 0.559\n",
      "Capacity of [0, 1, 3] is 0.591\n",
      "Capacity of [0, 2, 3] is 0.667\n",
      "Capacity of [1, 2, 3] is 0.548\n",
      "Capacity of [0, 1, 2, 3] is 1.000\n"
     ]
    }
   ],
   "source": [
    "mobius = generate_mobius(features, 2)\n",
    "print(\"Möbius:\")\n",
    "for i in range(len(mobius)):\n",
    "    print(f\"Mobius of {mobius[i].X} is {mobius[i].mu:.3f}\")\n",
    "\n",
    "capacity = capacities_list[0]\n",
    "print(\"\\nDerived Capacity:\")\n",
    "for c in capacity:\n",
    "    print(f\"Capacity of {c.X} is {c.mu:.3f}\")\n"
   ]
  },
  {
   "cell_type": "code",
   "execution_count": 24,
   "id": "373c3833",
   "metadata": {},
   "outputs": [],
   "source": [
    "import copy"
   ]
  },
  {
   "cell_type": "code",
   "execution_count": 25,
   "id": "08e8697b",
   "metadata": {},
   "outputs": [],
   "source": [
    "# Fuzzy verion\n",
    "def FuzzLOO(DS, mu, sim = S1, choquet_version='d_choquet', p=1, q=1, time_counter=False):\n",
    "    \"\"\" Classifieur * tuple[array, array] -> float\n",
    "    \"\"\"\n",
    "    ###################### A COMPLETER \n",
    "    pt = 0\n",
    "    Xm, Ym = DS\n",
    "\n",
    "    input_dimension= Xm[0].shape[0]\n",
    "\n",
    "    C = KNNFuzz(input_dimension = input_dimension, mu=mu, sim=sim, choquet_version=choquet_version, p=p, q=q)\n",
    "\n",
    "    if time_counter:\n",
    "        tic = time.time()\n",
    "    for i in range(len(Xm)):\n",
    "        Xtest, Ytest = Xm[i], Ym[i]\n",
    "        \n",
    "        Xapp, Yapp = np.array(list(Xm[:i])+list(Xm[i+1:])), np.array(list(Ym[:i])+list(Ym[i+1:]))\n",
    "\n",
    "        cl = copy.deepcopy(C)\n",
    "        cl.train(desc_set=Xapp, label_set=Yapp)\n",
    "\n",
    "        if cl.accuracy([Xtest], [Ytest]) == 1: pt += 1\n",
    "\n",
    "    if time_counter:\n",
    "        toc = time.time()\n",
    "        print(f'Result in {(toc-tic):0.4f} seconds.')\n",
    "    \n",
    "    return pt/len(Xm)"
   ]
  },
  {
   "cell_type": "code",
   "execution_count": 26,
   "id": "d38d8a82",
   "metadata": {},
   "outputs": [
    {
     "data": {
      "text/plain": [
       "0.6666666666666666"
      ]
     },
     "execution_count": 26,
     "metadata": {},
     "output_type": "execute_result"
    }
   ],
   "source": [
    "FuzzLOO(\n",
    "    DS=(data, labels),\n",
    "    mu=capacities_list[0],\n",
    ")"
   ]
  },
  {
   "cell_type": "code",
   "execution_count": 27,
   "id": "20bd22c7",
   "metadata": {},
   "outputs": [],
   "source": [
    "def fitness_function(capacities_list: np.ndarray, DS: Tuple[np.ndarray, np.ndarray], sim = S1, choquet_version='d_choquet', p=1, q=1, time_counter=False) -> np.ndarray:\n",
    "    \"\"\"\n",
    "    Objective function for optimizing Möbius measures:\n",
    "    - capacities_list: list of Möbius measures represented as capacities\n",
    "    - DS: Tuple (X_data, y_data)\n",
    "    - C: Choquet similarity function (e.g., Choquet_classic)\n",
    "    \n",
    "    Returns:\n",
    "    - 1D array of negative LOO accuracy (to minimize)\n",
    "    \"\"\"\n",
    "    results = []\n",
    "    i = 0\n",
    "    for capacity in capacities_list:\n",
    "        i += 1\n",
    "        print(f\"Processing capacity {i}/{len(capacities_list)}...\")\n",
    "        if not is_monotonic(capacity):\n",
    "            results.append(float('inf'))  # Penalize non-monotonic capacity\n",
    "            continue\n",
    "\n",
    "        acc = FuzzLOO(DS, capacity, sim=sim, choquet_version=choquet_version, p=p, q=q, time_counter=time_counter)\n",
    "\n",
    "        # negative accuracy for minimization\n",
    "        results.append(-acc)\n",
    "\n",
    "    return np.array(results)\n"
   ]
  },
  {
   "cell_type": "code",
   "execution_count": null,
   "id": "700d0276",
   "metadata": {},
   "outputs": [
    {
     "name": "stdout",
     "output_type": "stream",
     "text": [
      "Processing capacity 1/135...\n",
      "Processing capacity 2/135...\n",
      "Processing capacity 3/135...\n",
      "Processing capacity 4/135...\n",
      "Processing capacity 5/135...\n",
      "Processing capacity 6/135...\n",
      "Processing capacity 7/135...\n",
      "Processing capacity 8/135...\n",
      "Processing capacity 9/135...\n",
      "Processing capacity 10/135...\n",
      "Processing capacity 11/135...\n",
      "Processing capacity 12/135...\n",
      "Processing capacity 13/135...\n",
      "Processing capacity 14/135...\n",
      "Processing capacity 15/135...\n",
      "Processing capacity 16/135...\n",
      "Processing capacity 17/135...\n",
      "Processing capacity 18/135...\n",
      "Processing capacity 19/135...\n",
      "Processing capacity 20/135...\n",
      "Processing capacity 21/135...\n",
      "Monotonicity check failed between [3] and [0, 1]\n",
      "X: [3], mu: 0.21175794709392698\n",
      "Y: [0, 1], mu: 0.1936539895394809\n",
      "\n",
      "Processing capacity 22/135...\n",
      "Processing capacity 23/135...\n",
      "Processing capacity 24/135...\n",
      "Processing capacity 25/135...\n",
      "Processing capacity 26/135...\n",
      "Processing capacity 27/135...\n",
      "Processing capacity 28/135...\n",
      "Processing capacity 29/135...\n",
      "Processing capacity 30/135...\n",
      "Processing capacity 31/135...\n",
      "Processing capacity 32/135...\n",
      "Processing capacity 33/135...\n",
      "Processing capacity 34/135...\n",
      "Processing capacity 35/135...\n"
     ]
    }
   ],
   "source": [
    "FF_res = fitness_function(\n",
    "    capacities_list=capacities_list,\n",
    "    DS=(data, labels),\n",
    "    sim=S1,\n",
    "    choquet_version='d_choquet',\n",
    "    p=1,\n",
    "    q=1,\n",
    "    time_counter=False\n",
    ")"
   ]
  },
  {
   "cell_type": "code",
   "execution_count": null,
   "id": "2966cf51",
   "metadata": {},
   "outputs": [
    {
     "name": "stdout",
     "output_type": "stream",
     "text": [
      "Best capacity index: 4, Accuracy: -inf\n",
      "Best Möbius measure: ['[0]: 0.130', '[1]: 0.177', '[2]: 0.994', '[3]: 0.567', '[0, 1]: 0.042', '[0, 2]: 0.099', '[0, 3]: 0.075', '[1, 2]: 0.968', '[1, 3]: 0.669', '[2, 3]: 0.243']\n"
     ]
    }
   ],
   "source": [
    "# Get the best capacity\n",
    "best_index = np.argmax(FF_res)\n",
    "best_capacity = capacities_list[best_index]\n",
    "print(f\"Best capacity index: {best_index}, Accuracy: {-FF_res[best_index]:.4f}\")\n",
    "\n",
    "# get best mobius\n",
    "best_mobius = lst_mobius[best_index]\n",
    "print(f\"Best Möbius measure: {[f'{m.X}: {m.mu:.3f}' for m in best_mobius]}\")"
   ]
  },
  {
   "cell_type": "code",
   "execution_count": null,
   "id": "dffea57e",
   "metadata": {},
   "outputs": [
    {
     "name": "stdout",
     "output_type": "stream",
     "text": [
      "[] 0.0\n",
      "[0] 0.03289788487922227\n",
      "[1] 0.04467073296839017\n",
      "[2] 0.25070178166181845\n",
      "[3] 0.14306664399402433\n",
      "[0, 1] 0.08814274554946411\n",
      "[0, 2] 0.3086323587321\n",
      "[0, 3] 0.19487447751618261\n",
      "[1, 2] 0.5394944863991139\n",
      "[1, 3] 0.35650026244619926\n",
      "[2, 3] 0.4550297563638506\n",
      "[0, 1, 2] 0.607999191171247\n",
      "[0, 1, 3] 0.4188822236702092\n",
      "[0, 2, 3] 0.5318702820770682\n",
      "[1, 2, 3] 0.912585346584931\n",
      "[0, 1, 2, 3] 1.0\n"
     ]
    }
   ],
   "source": [
    "# get mobius\n",
    "for i in range(len(capacities_list[best_index])):\n",
    "    print(capacities_list[best_index][i].X, capacities_list[best_index][i].mu)"
   ]
  },
  {
   "cell_type": "code",
   "execution_count": null,
   "id": "07b24724",
   "metadata": {},
   "outputs": [
    {
     "data": {
      "image/png": "[encoded data removed]",
      "text/plain": [
       "<Figure size 1000x600 with 1 Axes>"
      ]
     },
     "metadata": {},
     "output_type": "display_data"
    }
   ],
   "source": [
    "plt.figure(figsize=(10, 6))\n",
    "plt.plot(range(len(capacities_list)), FF_res, marker='o')\n",
    "plt.title('Fitness Function Values for Each Capacity')\n",
    "plt.xlabel('Capacity Index')\n",
    "plt.ylabel('Fitness Value (Negative LOO Accuracy)')\n",
    "plt.grid()\n",
    "plt.show()"
   ]
  },
  {
   "cell_type": "code",
   "execution_count": null,
   "id": "954846ca",
   "metadata": {},
   "outputs": [],
   "source": []
  }
 ],
 "metadata": {
  "kernelspec": {
   "display_name": "rl-env",
   "language": "python",
   "name": "python3"
  },
  "language_info": {
   "codemirror_mode": {
    "name": "ipython",
    "version": 3
   },
   "file_extension": ".py",
   "mimetype": "text/x-python",
   "name": "python",
   "nbconvert_exporter": "python",
   "pygments_lexer": "ipython3",
   "version": "3.10.16"
  }
 },
 "nbformat": 4,
 "nbformat_minor": 5
}
