{
 "cells": [
  {
   "cell_type": "code",
   "execution_count": 1,
   "id": "cff2017d",
   "metadata": {},
   "outputs": [],
   "source": [
    "# Import basic libraries\n",
    "from palmerpenguins import load_penguins\n",
    "from sklearn.datasets import load_iris\n",
    "import numpy as np\n",
    "import pandas as pd\n",
    "import matplotlib.pyplot as plt\n",
    "import seaborn as sns\n",
    "sns.set_theme(style=\"darkgrid\")\n",
    "import time\n",
    "from sklearn.preprocessing import LabelEncoder\n",
    "import os\n",
    "os.chdir(\"/Users/hoangthuyduongvu/Desktop/FuzzSIM\")\n"
   ]
  },
  {
   "cell_type": "code",
   "execution_count": 2,
   "id": "b09079f9",
   "metadata": {},
   "outputs": [],
   "source": [
    "# Import personalized libraries\n",
    "from fuzz.src.capacity import *\n",
    "from fuzz.choquet.choquet import *\n",
    "from fuzz.src.norm import *\n",
    "from fuzz.src.knn import KNNFuzz\n",
    "from fuzz.src.sim import S1, S2, S3\n",
    "from fuzz.optim import *\n",
    "from fuzz.utils import *\n",
    "from fuzz.eval import leave_one_out\n",
    "from fuzz.dataloader import *\n",
    "from fuzz.choquet.d_choquet import *"
   ]
  },
  {
   "cell_type": "code",
   "execution_count": 3,
   "id": "99501d9c",
   "metadata": {},
   "outputs": [],
   "source": [
    "# Load data \n",
    "iris_data = load_iris()\n",
    "iris = pd.DataFrame(data=iris_data.data, columns=iris_data.feature_names)\n",
    "iris['target'] = iris_data.target\n",
    "data, labels = iris.iloc[:, :-1].values, iris.iloc[:, -1].values\n",
    "data = batch_norm(np.array(data, dtype=np.float32))"
   ]
  },
  {
   "cell_type": "code",
   "execution_count": 4,
   "id": "0d8dc355",
   "metadata": {},
   "outputs": [],
   "source": [
    "# features = data[0]\n",
    "\n",
    "# mobius = generate_mobius(features, 2)\n",
    "# mobius.pop(0)\n",
    "# print(len(mobius))\n",
    "# capacity = mobius_to_capacity(mobius, features)\n",
    "\n",
    "# print(\"Möbius:\")\n",
    "# for i in range(len(mobius)):\n",
    "#     print(f\"Mobius of {mobius[i].X} is {mobius[i].mu:.3f}\")\n",
    "\n",
    "# print(\"\\nDerived Capacity:\")\n",
    "# for c in capacity:\n",
    "#     print(f\"Capacity of {c.X} is {c.mu:.3f}\")\n"
   ]
  },
  {
   "cell_type": "code",
   "execution_count": 5,
   "id": "3b3bd312",
   "metadata": {},
   "outputs": [],
   "source": [
    "# mutated_mobius = mutate(mobius, mutation_rate=0.2)\n",
    "# print(\"\\nMutated Möbius:\")\n",
    "# for i in range(len(mutated_mobius)):\n",
    "#     print(f\"Mobius of {mutated_mobius[i].X} is {mutated_mobius[i].mu:.3f}\")"
   ]
  },
  {
   "cell_type": "code",
   "execution_count": 6,
   "id": "696f7f4c",
   "metadata": {},
   "outputs": [
    {
     "name": "stdout",
     "output_type": "stream",
     "text": [
      "Total number of Möbius measures: 20\n",
      "Test Möbius measures completed!\n",
      "Total number of capacities: 20\n"
     ]
    }
   ],
   "source": [
    "# Generate all possible mobius for training\n",
    "features = data[0]\n",
    "\n",
    "# Input Mobius (5 mobius currently)\n",
    "lst_mobius = []\n",
    "for i in range(5):\n",
    "    mobius = generate_mobius(features, 2)\n",
    "    mobius.pop(0)\n",
    "    lst_mobius.append(mobius)\n",
    "\n",
    "# Mutate all mobius\n",
    "mutated = []\n",
    "for i in range(len(lst_mobius)):\n",
    "    mobius = lst_mobius[i]\n",
    "    mutated_mobius = mutate(mobius, mutation_rate=0.2)\n",
    "    mutated.append(mutated_mobius)\n",
    "\n",
    "# Add mutated mobius to the list\n",
    "lst_mobius.extend(mutated)\n",
    "\n",
    "# Cross over all mobius\n",
    "crossed_over = []\n",
    "for i in range(len(lst_mobius)):\n",
    "    for j in range(i + 1, len(lst_mobius) // 2):\n",
    "        crossed = crossover(lst_mobius[i], lst_mobius[j])\n",
    "        crossed_over.append(crossed)\n",
    "\n",
    "# Add crossed over mobius to the list\n",
    "lst_mobius.extend(crossed_over)\n",
    "print(f\"Total number of Möbius measures: {len(lst_mobius)}\")\n",
    "\n",
    "# Convert all Möbius measures to capacities\n",
    "capacities_list = []\n",
    "for i in range(len(lst_mobius)):\n",
    "    mobius = lst_mobius[i]\n",
    "    capacity = mobius_to_capacity(mobius, features)\n",
    "    capacities_list.append(capacity)    \n",
    "print('Test Möbius measures completed!')\n",
    "print(f\"Total number of capacities: {len(capacities_list)}\")"
   ]
  },
  {
   "cell_type": "code",
   "execution_count": 14,
   "id": "373c3833",
   "metadata": {},
   "outputs": [],
   "source": [
    "import copy"
   ]
  },
  {
   "cell_type": "code",
   "execution_count": 15,
   "id": "08e8697b",
   "metadata": {},
   "outputs": [],
   "source": [
    "# Fuzzy verion\n",
    "def FuzzLOO(DS, mu, sim = S1, choquet_version='d_choquet', p=1, q=1, time_counter=False):\n",
    "    \"\"\" Classifieur * tuple[array, array] -> float\n",
    "    \"\"\"\n",
    "    ###################### A COMPLETER \n",
    "    pt = 0\n",
    "    Xm, Ym = DS\n",
    "\n",
    "    input_dimension= Xm[0].shape[0]\n",
    "\n",
    "    C = KNNFuzz(input_dimension = input_dimension, mu=mu, sim=sim, choquet_version=choquet_version, p=p, q=q)\n",
    "\n",
    "    if time_counter:\n",
    "        tic = time.time()\n",
    "    for i in range(len(Xm)):\n",
    "        Xtest, Ytest = Xm[i], Ym[i]\n",
    "        \n",
    "        Xapp, Yapp = np.array(list(Xm[:i])+list(Xm[i+1:])), np.array(list(Ym[:i])+list(Ym[i+1:]))\n",
    "\n",
    "        cl = copy.deepcopy(C)\n",
    "        cl.train(desc_set=Xapp, label_set=Yapp)\n",
    "\n",
    "        if cl.accuracy([Xtest], [Ytest]) == 1: pt += 1\n",
    "\n",
    "    if time_counter:\n",
    "        toc = time.time()\n",
    "        print(f'Result in {(toc-tic):0.4f} seconds.')\n",
    "    \n",
    "    return pt/len(Xm)"
   ]
  },
  {
   "cell_type": "code",
   "execution_count": 17,
   "id": "d38d8a82",
   "metadata": {},
   "outputs": [
    {
     "data": {
      "text/plain": [
       "0.6666666666666666"
      ]
     },
     "execution_count": 17,
     "metadata": {},
     "output_type": "execute_result"
    }
   ],
   "source": [
    "FuzzLOO(\n",
    "    DS=(data, labels),\n",
    "    mu=capacities_list[0],\n",
    ")"
   ]
  },
  {
   "cell_type": "code",
   "execution_count": 18,
   "id": "20bd22c7",
   "metadata": {},
   "outputs": [],
   "source": [
    "def fitness_function(capacities_list: np.ndarray, DS: Tuple[np.ndarray, np.ndarray], sim = S1, choquet_version='d_choquet', p=1, q=1, time_counter=False) -> np.ndarray:\n",
    "    \"\"\"\n",
    "    Objective function for optimizing Möbius measures:\n",
    "    - capacities_list: list of Möbius measures represented as capacities\n",
    "    - DS: Tuple (X_data, y_data)\n",
    "    - C: Choquet similarity function (e.g., Choquet_classic)\n",
    "    \n",
    "    Returns:\n",
    "    - 1D array of negative LOO accuracy (to minimize)\n",
    "    \"\"\"\n",
    "    results = []\n",
    "    for capacity in capacities_list:\n",
    "\n",
    "        if not is_monotonic(capacity):\n",
    "            results.append(float('inf'))  # Penalize non-monotonic capacity\n",
    "            continue\n",
    "\n",
    "        # Step 5: Evaluate using fuzzy KNN + LOO\n",
    "        acc = FuzzLOO(DS, capacity, sim=sim, choquet_version=choquet_version, p=p, q=q, time_counter=time_counter)\n",
    "\n",
    "        # Step 6: Use negative accuracy for minimization\n",
    "        results.append(-acc)\n",
    "\n",
    "    return np.array(results)\n"
   ]
  },
  {
   "cell_type": "code",
   "execution_count": null,
   "id": "700d0276",
   "metadata": {},
   "outputs": [
    {
     "name": "stdout",
     "output_type": "stream",
     "text": [
      "Result in 1.7009 seconds.\n",
      "Result in 1.4590 seconds.\n",
      "Result in 1.3832 seconds.\n",
      "Result in 2.5674 seconds.\n",
      "Result in 1.6879 seconds.\n"
     ]
    }
   ],
   "source": [
    "fitness_function(\n",
    "    capacities_list=capacities_list,\n",
    "    DS=(data, labels),\n",
    "    sim=S1,\n",
    "    choquet_version='d_choquet',\n",
    "    p=1,\n",
    "    q=1,\n",
    "    time_counter=True\n",
    ")"
   ]
  },
  {
   "cell_type": "code",
   "execution_count": null,
   "id": "07b24724",
   "metadata": {},
   "outputs": [],
   "source": []
  }
 ],
 "metadata": {
  "kernelspec": {
   "display_name": "rl-env",
   "language": "python",
   "name": "python3"
  },
  "language_info": {
   "codemirror_mode": {
    "name": "ipython",
    "version": 3
   },
   "file_extension": ".py",
   "mimetype": "text/x-python",
   "name": "python",
   "nbconvert_exporter": "python",
   "pygments_lexer": "ipython3",
   "version": "3.10.16"
  }
 },
 "nbformat": 4,
 "nbformat_minor": 5
}
