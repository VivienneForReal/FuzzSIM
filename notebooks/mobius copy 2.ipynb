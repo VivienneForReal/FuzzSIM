{
 "cells": [
  {
   "cell_type": "code",
   "execution_count": 1,
   "id": "cff2017d",
   "metadata": {},
   "outputs": [],
   "source": [
    "# Import basic libraries\n",
    "from palmerpenguins import load_penguins\n",
    "from sklearn.datasets import load_iris\n",
    "import numpy as np\n",
    "import pandas as pd\n",
    "import matplotlib.pyplot as plt\n",
    "import seaborn as sns\n",
    "sns.set_theme(style=\"darkgrid\")\n",
    "import time\n",
    "from sklearn.preprocessing import LabelEncoder\n",
    "import os\n",
    "os.chdir(\"/Users/hoangthuyduongvu/Desktop/FuzzSIM\")\n"
   ]
  },
  {
   "cell_type": "code",
   "execution_count": 2,
   "id": "b09079f9",
   "metadata": {},
   "outputs": [],
   "source": [
    "# Import personalized libraries\n",
    "from fuzz.src.capacity import *\n",
    "from fuzz.choquet.choquet import *\n",
    "from fuzz.src.norm import *\n",
    "from fuzz.src.knn import KNNFuzz\n",
    "from fuzz.src.sim import S1, S2, S3\n",
    "from fuzz.optim import *\n",
    "from fuzz.utils import *\n",
    "from fuzz.eval import leave_one_out\n",
    "from fuzz.dataloader import *\n",
    "from fuzz.choquet.d_choquet import *"
   ]
  },
  {
   "cell_type": "code",
   "execution_count": 4,
   "id": "99501d9c",
   "metadata": {},
   "outputs": [],
   "source": [
    "# Load data \n",
    "iris_data = load_iris()\n",
    "iris = pd.DataFrame(data=iris_data.data, columns=iris_data.feature_names)\n",
    "iris['target'] = iris_data.target\n",
    "data, labels = iris.iloc[:, :-1].values, iris.iloc[:, -1].values\n",
    "data = batch_norm(np.array(data, dtype=np.float32))"
   ]
  },
  {
   "cell_type": "code",
   "execution_count": null,
   "id": "03544b74",
   "metadata": {},
   "outputs": [],
   "source": [
    "def fitness_function(X: np.ndarray, DS: Tuple[np.ndarray, np.ndarray], C) -> np.ndarray:\n",
    "    \"\"\"\n",
    "    Objective function for optimizing Möbius measures:\n",
    "    - X: 2D array of shape (n_particles, n_mobius_features)\n",
    "    - DS: Tuple (X_data, y_data)\n",
    "    - C: Choquet similarity function (e.g., Choquet_classic)\n",
    "    \n",
    "    Returns:\n",
    "    - 1D array of negative LOO accuracy (to minimize)\n",
    "    \"\"\"\n",
    "    results = []\n",
    "    for mobius_vector in X:\n",
    "        # Step 1: Convert vector to Möbius measure\n",
    "        mobius_dict = vector_to_mobius_dict(mobius_vector)\n",
    "\n",
    "        # Step 2: Derive capacity from Möbius\n",
    "        capacity_dict = mobius_to_capacity(mobius_dict)\n",
    "\n",
    "        # Step 3: (Optional) Check monotonicity or normalize capacity\n",
    "        if not is_monotonic(capacity_dict):\n",
    "            results.append(float('inf'))  # Penalize non-monotonic capacity\n",
    "            continue\n",
    "\n",
    "        # Step 4: Convert capacity_dict to list of Capacity objects if needed\n",
    "        capacity_list = [\n",
    "            Capacity(list(k), v) for k, v in capacity_dict.items()\n",
    "        ]\n",
    "\n",
    "        # Step 5: Evaluate using fuzzy KNN + LOO\n",
    "        acc = FuzzLOO(C, DS, capacity_list)\n",
    "\n",
    "        # Step 6: Use negative accuracy for minimization\n",
    "        results.append(-acc)\n",
    "\n",
    "    return np.array(results)\n"
   ]
  }
 ],
 "metadata": {
  "kernelspec": {
   "display_name": "rl-env",
   "language": "python",
   "name": "python3"
  },
  "language_info": {
   "codemirror_mode": {
    "name": "ipython",
    "version": 3
   },
   "file_extension": ".py",
   "mimetype": "text/x-python",
   "name": "python",
   "nbconvert_exporter": "python",
   "pygments_lexer": "ipython3",
   "version": "3.10.16"
  }
 },
 "nbformat": 4,
 "nbformat_minor": 5
}
