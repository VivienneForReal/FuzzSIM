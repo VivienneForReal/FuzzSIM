{
 "cells": [
  {
   "cell_type": "code",
   "execution_count": 59,
   "id": "b221fc9f",
   "metadata": {},
   "outputs": [],
   "source": [
    "import numpy as np\n",
    "import pandas as pd "
   ]
  },
  {
   "cell_type": "code",
   "execution_count": 60,
   "id": "a3a986aa",
   "metadata": {},
   "outputs": [],
   "source": [
    "data = pd.read_csv(\"/Users/hoangthuyduongvu/Desktop/FuzzSIM/results/20250618-143315/choquet_mobius_results_dynamic_pos_gaussian.txt\")"
   ]
  },
  {
   "cell_type": "code",
   "execution_count": 61,
   "id": "6e99c078",
   "metadata": {},
   "outputs": [
    {
     "data": {
      "application/vnd.microsoft.datawrangler.viewer.v0+json": {
       "columns": [
        {
         "name": "index",
         "rawType": "int64",
         "type": "integer"
        },
        {
         "name": "index",
         "rawType": "int64",
         "type": "integer"
        },
        {
         "name": "mobius_value",
         "rawType": "float64",
         "type": "float"
        },
        {
         "name": "capacity_value",
         "rawType": "float64",
         "type": "float"
        },
        {
         "name": "label",
         "rawType": "int64",
         "type": "integer"
        }
       ],
       "ref": "648837bd-be97-4418-9fe8-bf0070c86573",
       "rows": [
        [
         "0",
         "0",
         "0.3097061243524209",
         "0.36293346",
         "0"
        ],
        [
         "1",
         "1",
         "0.0103826597912957",
         "0.3750564",
         "0"
        ],
        [
         "2",
         "2",
         "0.0467297911933737",
         "1.0978247",
         "0"
        ],
        [
         "3",
         "3",
         "0.0097380197828681",
         "0.21281284",
         "0"
        ],
        [
         "4",
         "4",
         "0.3182711653365596",
         "1.3434598",
         "0"
        ],
        [
         "5",
         "5",
         "0.3933070372876412",
         "0.6506564",
         "0"
        ],
        [
         "6",
         "6",
         "0.1610404492953563",
         "0.6083514",
         "0"
        ],
        [
         "7",
         "7",
         "0.1692492302432072",
         "0.5079962",
         "0"
        ],
        [
         "8",
         "8",
         "0.0007526812514966",
         "0.7709267",
         "0"
        ],
        [
         "9",
         "9",
         "0.5827653288143406",
         "1.260149",
         "0"
        ],
        [
         "10",
         "10",
         "0.3004532591482018",
         "0.36353707",
         "0"
        ],
        [
         "11",
         "11",
         "0.0116244261181357",
         "0.15972067",
         "0"
        ],
        [
         "12",
         "12",
         "0.0150117150119053",
         "0.72913766",
         "0"
        ],
        [
         "13",
         "13",
         "0.740685818631536",
         "1.3310591",
         "0"
        ],
        [
         "14",
         "14",
         "0.0151161883075978",
         "0.73526514",
         "0"
        ],
        [
         "15",
         "15",
         "0.2779086487709768",
         "0.47096524",
         "0"
        ],
        [
         "16",
         "16",
         "0.2798245162354962",
         "1.219181",
         "0"
        ],
        [
         "17",
         "17",
         "0.0114744121737352",
         "0.16371888",
         "0"
        ],
        [
         "18",
         "18",
         "0.2089338373506414",
         "0.9527336",
         "0"
        ],
        [
         "19",
         "19",
         "0.0107926912450756",
         "0.18897171",
         "0"
        ],
        [
         "20",
         "20",
         "0.0100360860616844",
         "0.2823779",
         "0"
        ],
        [
         "21",
         "21",
         "0.2623752998151669",
         "0.43828762",
         "0"
        ],
        [
         "22",
         "22",
         "0.165072549095874",
         "0.5349768",
         "0"
        ],
        [
         "23",
         "23",
         "0.1874516558848868",
         "1.2135842",
         "0"
        ],
        [
         "24",
         "24",
         "0.2160132799343563",
         "1.2422633",
         "0"
        ],
        [
         "25",
         "25",
         "0.0193177999059296",
         "1.0901464",
         "0"
        ],
        [
         "26",
         "26",
         "0.1131188202780038",
         "1.0465674",
         "0"
        ],
        [
         "27",
         "27",
         "0.0100363462575115",
         "0.28908098",
         "0"
        ],
        [
         "28",
         "28",
         "0.0004133232778534",
         "0.85431606",
         "0"
        ],
        [
         "29",
         "29",
         "0.0003921660463148",
         "0.860704",
         "0"
        ],
        [
         "30",
         "30",
         "0.0150267824868617",
         "0.73002344",
         "0"
        ],
        [
         "31",
         "31",
         "0.0009606932704847",
         "0.73103356",
         "0"
        ],
        [
         "32",
         "32",
         "0.160835847991374",
         "1.0687115",
         "0"
        ],
        [
         "33",
         "33",
         "0.0105082045500118",
         "0.2056335",
         "0"
        ],
        [
         "34",
         "34",
         "0.519179934195875",
         "1.2315283",
         "0"
        ],
        [
         "35",
         "35",
         "1.682560500312011e-05",
         "1.0636591",
         "0"
        ],
        [
         "36",
         "36",
         "0.3073159560549623",
         "1.1357177",
         "0"
        ],
        [
         "37",
         "37",
         "0.1843580293398923",
         "0.83250237",
         "0"
        ],
        [
         "38",
         "38",
         "0.0191257643088578",
         "0.13525896",
         "0"
        ],
        [
         "39",
         "39",
         "0.3793455481608625",
         "0.63143617",
         "0"
        ],
        [
         "40",
         "40",
         "0.0036931395237476",
         "0.4468204",
         "0"
        ],
        [
         "41",
         "41",
         "0.4073101862856316",
         "0.66956466",
         "0"
        ],
        [
         "42",
         "42",
         "0.254232813268172",
         "0.3122165",
         "0"
        ],
        [
         "43",
         "43",
         "0.0108033507569232",
         "0.18844765",
         "0"
        ],
        [
         "44",
         "44",
         "0.0109513788627151",
         "0.18171418",
         "0"
        ],
        [
         "45",
         "45",
         "0.8503570928192574",
         "1.1860498",
         "0"
        ],
        [
         "46",
         "46",
         "0.0104913262951297",
         "0.20683223",
         "0"
        ],
        [
         "47",
         "47",
         "0.161566588039356",
         "0.57963544",
         "0"
        ],
        [
         "48",
         "48",
         "0.0121201811189376",
         "0.1489748",
         "0"
        ],
        [
         "49",
         "49",
         "0.7444904503060232",
         "1.0707333",
         "0"
        ]
       ],
       "shape": {
        "columns": 4,
        "rows": 150
       }
      },
      "text/html": [
       "<div>\n",
       "<style scoped>\n",
       "    .dataframe tbody tr th:only-of-type {\n",
       "        vertical-align: middle;\n",
       "    }\n",
       "\n",
       "    .dataframe tbody tr th {\n",
       "        vertical-align: top;\n",
       "    }\n",
       "\n",
       "    .dataframe thead th {\n",
       "        text-align: right;\n",
       "    }\n",
       "</style>\n",
       "<table border=\"1\" class=\"dataframe\">\n",
       "  <thead>\n",
       "    <tr style=\"text-align: right;\">\n",
       "      <th></th>\n",
       "      <th>index</th>\n",
       "      <th>mobius_value</th>\n",
       "      <th>capacity_value</th>\n",
       "      <th>label</th>\n",
       "    </tr>\n",
       "  </thead>\n",
       "  <tbody>\n",
       "    <tr>\n",
       "      <th>0</th>\n",
       "      <td>0</td>\n",
       "      <td>0.309706</td>\n",
       "      <td>0.362933</td>\n",
       "      <td>0</td>\n",
       "    </tr>\n",
       "    <tr>\n",
       "      <th>1</th>\n",
       "      <td>1</td>\n",
       "      <td>0.010383</td>\n",
       "      <td>0.375056</td>\n",
       "      <td>0</td>\n",
       "    </tr>\n",
       "    <tr>\n",
       "      <th>2</th>\n",
       "      <td>2</td>\n",
       "      <td>0.046730</td>\n",
       "      <td>1.097825</td>\n",
       "      <td>0</td>\n",
       "    </tr>\n",
       "    <tr>\n",
       "      <th>3</th>\n",
       "      <td>3</td>\n",
       "      <td>0.009738</td>\n",
       "      <td>0.212813</td>\n",
       "      <td>0</td>\n",
       "    </tr>\n",
       "    <tr>\n",
       "      <th>4</th>\n",
       "      <td>4</td>\n",
       "      <td>0.318271</td>\n",
       "      <td>1.343460</td>\n",
       "      <td>0</td>\n",
       "    </tr>\n",
       "    <tr>\n",
       "      <th>...</th>\n",
       "      <td>...</td>\n",
       "      <td>...</td>\n",
       "      <td>...</td>\n",
       "      <td>...</td>\n",
       "    </tr>\n",
       "    <tr>\n",
       "      <th>145</th>\n",
       "      <td>145</td>\n",
       "      <td>0.393128</td>\n",
       "      <td>0.650412</td>\n",
       "      <td>2</td>\n",
       "    </tr>\n",
       "    <tr>\n",
       "      <th>146</th>\n",
       "      <td>146</td>\n",
       "      <td>0.433340</td>\n",
       "      <td>0.703879</td>\n",
       "      <td>2</td>\n",
       "    </tr>\n",
       "    <tr>\n",
       "      <th>147</th>\n",
       "      <td>147</td>\n",
       "      <td>0.466003</td>\n",
       "      <td>1.207554</td>\n",
       "      <td>2</td>\n",
       "    </tr>\n",
       "    <tr>\n",
       "      <th>148</th>\n",
       "      <td>148</td>\n",
       "      <td>0.000215</td>\n",
       "      <td>0.924467</td>\n",
       "      <td>2</td>\n",
       "    </tr>\n",
       "    <tr>\n",
       "      <th>149</th>\n",
       "      <td>149</td>\n",
       "      <td>0.014736</td>\n",
       "      <td>0.125210</td>\n",
       "      <td>2</td>\n",
       "    </tr>\n",
       "  </tbody>\n",
       "</table>\n",
       "<p>150 rows × 4 columns</p>\n",
       "</div>"
      ],
      "text/plain": [
       "     index  mobius_value  capacity_value  label\n",
       "0        0      0.309706        0.362933      0\n",
       "1        1      0.010383        0.375056      0\n",
       "2        2      0.046730        1.097825      0\n",
       "3        3      0.009738        0.212813      0\n",
       "4        4      0.318271        1.343460      0\n",
       "..     ...           ...             ...    ...\n",
       "145    145      0.393128        0.650412      2\n",
       "146    146      0.433340        0.703879      2\n",
       "147    147      0.466003        1.207554      2\n",
       "148    148      0.000215        0.924467      2\n",
       "149    149      0.014736        0.125210      2\n",
       "\n",
       "[150 rows x 4 columns]"
      ]
     },
     "execution_count": 61,
     "metadata": {},
     "output_type": "execute_result"
    }
   ],
   "source": [
    "data"
   ]
  },
  {
   "cell_type": "code",
   "execution_count": 62,
   "id": "58148d1f",
   "metadata": {},
   "outputs": [],
   "source": [
    "mobius = data['mobius_value'].values\n",
    "capacity = data['capacity_value'].values\n"
   ]
  },
  {
   "cell_type": "code",
   "execution_count": 63,
   "id": "48d51c37",
   "metadata": {},
   "outputs": [
    {
     "data": {
      "text/plain": [
       "<matplotlib.collections.PathCollection at 0x137dd4e20>"
      ]
     },
     "execution_count": 63,
     "metadata": {},
     "output_type": "execute_result"
    },
    {
     "data": {
      "image/png": "[encoded data removed]",
      "text/plain": [
       "<Figure size 640x480 with 1 Axes>"
      ]
     },
     "metadata": {},
     "output_type": "display_data"
    }
   ],
   "source": [
    "import matplotlib.pyplot as plt\n",
    "plt.scatter(mobius, capacity)"
   ]
  },
  {
   "cell_type": "code",
   "execution_count": null,
   "id": "6700a065",
   "metadata": {},
   "outputs": [],
   "source": []
  },
  {
   "cell_type": "code",
   "execution_count": null,
   "id": "2f6decb6",
   "metadata": {},
   "outputs": [],
   "source": []
  },
  {
   "cell_type": "code",
   "execution_count": null,
   "id": "457f6a86",
   "metadata": {},
   "outputs": [],
   "source": []
  },
  {
   "cell_type": "code",
   "execution_count": null,
   "id": "14e8e74c",
   "metadata": {},
   "outputs": [],
   "source": []
  },
  {
   "cell_type": "code",
   "execution_count": null,
   "id": "ae223ff6",
   "metadata": {},
   "outputs": [],
   "source": []
  },
  {
   "cell_type": "code",
   "execution_count": null,
   "id": "571f0e0c",
   "metadata": {},
   "outputs": [],
   "source": []
  },
  {
   "cell_type": "code",
   "execution_count": 64,
   "id": "cd755782",
   "metadata": {},
   "outputs": [],
   "source": [
    "# Import basic libraries\n",
    "from palmerpenguins import load_penguins\n",
    "from sklearn.datasets import load_iris\n",
    "import numpy as np\n",
    "import pandas as pd\n",
    "import matplotlib.pyplot as plt\n",
    "import seaborn as sns\n",
    "sns.set_theme(style=\"darkgrid\")\n",
    "import time\n",
    "from sklearn.preprocessing import LabelEncoder\n",
    "import os\n",
    "os.chdir(\"/Users/hoangthuyduongvu/Desktop/FuzzSIM\")\n"
   ]
  },
  {
   "cell_type": "code",
   "execution_count": 65,
   "id": "a52dba7d",
   "metadata": {},
   "outputs": [],
   "source": [
    "# Import personalized libraries\n",
    "from fuzz.src.capacity import *\n",
    "from fuzz.choquet.choquet import *\n",
    "from fuzz.src.norm import *\n",
    "from fuzz.src.knn import KNNFuzz\n",
    "from fuzz.src.sim import S1, S2, S3\n",
    "from fuzz.optim import *\n",
    "from fuzz.utils import *\n",
    "from fuzz.eval import leave_one_out\n",
    "from fuzz.dataloader import *\n",
    "from fuzz.choquet.d_choquet import *"
   ]
  },
  {
   "cell_type": "code",
   "execution_count": 66,
   "id": "53c5b3b2",
   "metadata": {},
   "outputs": [
    {
     "data": {
      "text/plain": [
       "array([[1.        , 0.67346936, 0.24489795, 0.        ],\n",
       "       [1.        , 0.59574461, 0.25531912, 0.        ],\n",
       "       [1.        , 0.66666669, 0.24444443, 0.        ],\n",
       "       [1.        , 0.65909088, 0.29545453, 0.        ],\n",
       "       [1.        , 0.70833325, 0.24999997, 0.        ]])"
      ]
     },
     "execution_count": 66,
     "metadata": {},
     "output_type": "execute_result"
    }
   ],
   "source": [
    "iris_data = load_iris()\n",
    "iris = pd.DataFrame(data=iris_data.data, columns=iris_data.feature_names)\n",
    "iris['target'] = iris_data.target\n",
    "data, labels = iris.iloc[:, :-1].values, iris.iloc[:, -1].values\n",
    "data = batch_norm(np.array(data, dtype=np.float32))\n",
    "data[:5]"
   ]
  },
  {
   "cell_type": "code",
   "execution_count": 67,
   "id": "366878b3",
   "metadata": {},
   "outputs": [
    {
     "name": "stdout",
     "output_type": "stream",
     "text": [
      "Choquet capacity for data point 0: 0.25816526652620986\n",
      "Choquet capacity for data point 1: 0.2484857355399544\n",
      "Choquet capacity for data point 2: 0.256610427963776\n",
      "Choquet capacity for data point 3: 0.28157416246676503\n",
      "Choquet capacity for data point 4: 0.26757328260533686\n"
     ]
    }
   ],
   "source": [
    "# To generate the choquet capacity from the enumerated data\n",
    "mu=generate_capacity(enumerate_permute_unit(data[0]))\n",
    "for i in range(5):\n",
    "    choquet = Choquet(X=data[i], mu=mu, version='classic', p=1, q=1)\n",
    "    print(f\"Choquet capacity for data point {i}: {choquet.choquet}\")"
   ]
  },
  {
   "cell_type": "code",
   "execution_count": 68,
   "id": "ed46425c",
   "metadata": {},
   "outputs": [],
   "source": [
    "# Generate all possible mobius for training\n",
    "features = list(range(len(data[0])))    # encode features as integers\n",
    "mobius = generate_mobius(features, 2)"
   ]
  },
  {
   "cell_type": "code",
   "execution_count": 69,
   "id": "ea3ffc15",
   "metadata": {},
   "outputs": [
    {
     "name": "stdout",
     "output_type": "stream",
     "text": [
      "Choquet capacity for data point 0: 1.787171604724255\n",
      "Choquet capacity for data point 1: 1.6844962719956027\n",
      "Choquet capacity for data point 2: 1.7768939128818764\n",
      "Choquet capacity for data point 3: 1.8141592211056572\n",
      "Choquet capacity for data point 4: 1.8424715630006276\n",
      "Choquet capacity for data point 5: 1.8398624538670774\n",
      "Choquet capacity for data point 6: 1.8662070340998576\n",
      "Choquet capacity for data point 7: 1.801846301633339\n",
      "Choquet capacity for data point 8: 1.7814460375102992\n",
      "Choquet capacity for data point 9: 1.7612210402660504\n",
      "Choquet capacity for data point 10: 1.7914276598528818\n",
      "Choquet capacity for data point 11: 1.875501467797613\n",
      "Choquet capacity for data point 12: 1.7354188921547138\n",
      "Choquet capacity for data point 13: 1.8053614950425865\n",
      "Choquet capacity for data point 14: 1.7318420726354917\n",
      "Choquet capacity for data point 15: 1.8694835768486913\n",
      "Choquet capacity for data point 16: 1.7642170141542468\n",
      "Choquet capacity for data point 17: 1.7624478308963454\n",
      "Choquet capacity for data point 18: 1.7640914178344995\n",
      "Choquet capacity for data point 19: 1.8726340905115495\n",
      "Choquet capacity for data point 20: 1.744269254642909\n",
      "Choquet capacity for data point 21: 1.8183984047836181\n",
      "Choquet capacity for data point 22: 1.871230169084222\n",
      "Choquet capacity for data point 23: 1.7084949949082064\n",
      "Choquet capacity for data point 24: 1.9371689095271667\n",
      "Choquet capacity for data point 25: 1.7008963568499875\n",
      "Choquet capacity for data point 26: 1.7714425319182816\n",
      "Choquet capacity for data point 27: 1.78195072615574\n",
      "Choquet capacity for data point 28: 1.7340835560869612\n",
      "Choquet capacity for data point 29: 1.8399317534774653\n",
      "Choquet capacity for data point 30: 1.7810802054300559\n",
      "Choquet capacity for data point 31: 1.657260607580238\n",
      "Choquet capacity for data point 32: 1.9756511976438635\n",
      "Choquet capacity for data point 33: 1.8873243478944328\n",
      "Choquet capacity for data point 34: 1.7354188058596032\n",
      "Choquet capacity for data point 35: 1.6824237395215644\n",
      "Choquet capacity for data point 36: 1.6782657369219374\n",
      "Choquet capacity for data point 37: 1.8923332836098778\n",
      "Choquet capacity for data point 38: 1.7934037090388313\n",
      "Choquet capacity for data point 39: 1.7769221533683628\n",
      "Choquet capacity for data point 40: 1.7674758427395059\n",
      "Choquet capacity for data point 41: 1.4951204897095884\n",
      "Choquet capacity for data point 42: 1.862346167387856\n",
      "Choquet capacity for data point 43: 1.749688789890739\n",
      "Choquet capacity for data point 44: 1.9296762421387519\n",
      "Choquet capacity for data point 45: 1.6803744711932422\n",
      "Choquet capacity for data point 46: 1.9144064656023874\n",
      "Choquet capacity for data point 47: 1.8255734512063915\n",
      "Choquet capacity for data point 48: 1.815170186392535\n",
      "Choquet capacity for data point 49: 1.7519846673191992\n",
      "Choquet capacity for data point 50: 1.4534263885746725\n",
      "Choquet capacity for data point 51: 1.5134950728629506\n",
      "Choquet capacity for data point 52: 1.4185932292748953\n",
      "Choquet capacity for data point 53: 1.3069163894965998\n",
      "Choquet capacity for data point 54: 1.342034322019416\n",
      "Choquet capacity for data point 55: 1.545872924390652\n",
      "Choquet capacity for data point 56: 1.5614212267378629\n",
      "Choquet capacity for data point 57: 1.5289462356249461\n",
      "Choquet capacity for data point 58: 1.427109624670329\n",
      "Choquet capacity for data point 59: 1.5214470674290481\n",
      "Choquet capacity for data point 60: 1.323900755563102\n",
      "Choquet capacity for data point 61: 1.5019333444583514\n",
      "Choquet capacity for data point 62: 1.2941671801307495\n",
      "Choquet capacity for data point 63: 1.4924842158121177\n",
      "Choquet capacity for data point 64: 1.5340588727234836\n",
      "Choquet capacity for data point 65: 1.4430848960356393\n",
      "Choquet capacity for data point 66: 1.5976436283459132\n",
      "Choquet capacity for data point 67: 1.5409867184898252\n",
      "Choquet capacity for data point 68: 1.1262386662676644\n",
      "Choquet capacity for data point 69: 1.4454578314914075\n",
      "Choquet capacity for data point 70: 1.5486999068695044\n",
      "Choquet capacity for data point 71: 1.4251522997926862\n",
      "Choquet capacity for data point 72: 1.2725108473695868\n",
      "Choquet capacity for data point 73: 1.5119979884692178\n",
      "Choquet capacity for data point 74: 1.437562510569233\n",
      "Choquet capacity for data point 75: 1.4210816958366475\n",
      "Choquet capacity for data point 76: 1.3442713460817712\n",
      "Choquet capacity for data point 77: 1.3575010006541341\n",
      "Choquet capacity for data point 78: 1.4626431051432907\n",
      "Choquet capacity for data point 79: 1.4693639577965696\n",
      "Choquet capacity for data point 80: 1.4107200969922067\n",
      "Choquet capacity for data point 81: 1.4368652843715908\n",
      "Choquet capacity for data point 82: 1.461873630980001\n",
      "Choquet capacity for data point 83: 1.3898099435667517\n",
      "Choquet capacity for data point 84: 1.6498016400187177\n",
      "Choquet capacity for data point 85: 1.6563290628297647\n",
      "Choquet capacity for data point 86: 1.4359534441849604\n",
      "Choquet capacity for data point 87: 1.2216328245993697\n",
      "Choquet capacity for data point 88: 1.625687348537019\n",
      "Choquet capacity for data point 89: 1.4024731477198307\n",
      "Choquet capacity for data point 90: 1.521654582921113\n",
      "Choquet capacity for data point 91: 1.5269527627006165\n",
      "Choquet capacity for data point 92: 1.4266556280976754\n",
      "Choquet capacity for data point 93: 1.4550692634731026\n",
      "Choquet capacity for data point 94: 1.4946778988781153\n",
      "Choquet capacity for data point 95: 1.6410156376420695\n",
      "Choquet capacity for data point 96: 1.5651159349717862\n",
      "Choquet capacity for data point 97: 1.4725422994668682\n",
      "Choquet capacity for data point 98: 1.4665698453337699\n",
      "Choquet capacity for data point 99: 1.5107213359446807\n",
      "Choquet capacity for data point 100: 1.3591630310477307\n",
      "Choquet capacity for data point 101: 1.3094553194211613\n",
      "Choquet capacity for data point 102: 1.2356324663910845\n",
      "Choquet capacity for data point 103: 1.3976045289240089\n",
      "Choquet capacity for data point 104: 1.2776201664215376\n",
      "Choquet capacity for data point 105: 1.2252926760357459\n",
      "Choquet capacity for data point 106: 1.420567559316727\n",
      "Choquet capacity for data point 107: 1.2982633158715198\n",
      "Choquet capacity for data point 108: 1.1828778329625411\n",
      "Choquet capacity for data point 109: 1.3463826989930419\n",
      "Choquet capacity for data point 110: 1.382049381345006\n",
      "Choquet capacity for data point 111: 1.2294546098138441\n",
      "Choquet capacity for data point 112: 1.2445376381199138\n",
      "Choquet capacity for data point 113: 1.165249354594839\n",
      "Choquet capacity for data point 114: 1.123701312903297\n",
      "Choquet capacity for data point 115: 1.3039813592915435\n",
      "Choquet capacity for data point 116: 1.3973053225631669\n",
      "Choquet capacity for data point 117: 1.4806897809017676\n",
      "Choquet capacity for data point 118: 1.0214268876837629\n",
      "Choquet capacity for data point 119: 1.1934540329981949\n",
      "Choquet capacity for data point 120: 1.2589718674624824\n",
      "Choquet capacity for data point 121: 1.3379742290253436\n",
      "Choquet capacity for data point 122: 1.1810326167245775\n",
      "Choquet capacity for data point 123: 1.248269942879652\n",
      "Choquet capacity for data point 124: 1.4066548114468156\n",
      "Choquet capacity for data point 125: 1.4015554674099668\n",
      "Choquet capacity for data point 126: 1.300263944843349\n",
      "Choquet capacity for data point 127: 1.4193278765450303\n",
      "Choquet capacity for data point 128: 1.2219606792916353\n",
      "Choquet capacity for data point 129: 1.3722341954381043\n",
      "Choquet capacity for data point 130: 1.2042016677735141\n",
      "Choquet capacity for data point 131: 1.481133848825471\n",
      "Choquet capacity for data point 132: 1.1802473237496787\n",
      "Choquet capacity for data point 133: 1.4140401936888778\n",
      "Choquet capacity for data point 134: 1.4384400806876292\n",
      "Choquet capacity for data point 135: 1.1127866891068958\n",
      "Choquet capacity for data point 136: 1.4123625377036344\n",
      "Choquet capacity for data point 137: 1.4586842080588136\n",
      "Choquet capacity for data point 138: 1.4300922529273794\n",
      "Choquet capacity for data point 139: 1.264455285580671\n",
      "Choquet capacity for data point 140: 1.1949838388835572\n",
      "Choquet capacity for data point 141: 1.1649132203004147\n",
      "Choquet capacity for data point 142: 1.3094553194211613\n",
      "Choquet capacity for data point 143: 1.2912329774991518\n",
      "Choquet capacity for data point 144: 1.2573914126543497\n",
      "Choquet capacity for data point 145: 1.1546561120598442\n",
      "Choquet capacity for data point 146: 1.126625199698505\n",
      "Choquet capacity for data point 147: 1.301455650691849\n",
      "Choquet capacity for data point 148: 1.4539017959987635\n",
      "Choquet capacity for data point 149: 1.4791051456891247\n"
     ]
    }
   ],
   "source": [
    "mob = []\n",
    "for i in range(len(data)):\n",
    "    choquet = Choquet(X=data[i], mu=mobius, version='linear', p=1, q=1)\n",
    "    print(f\"Choquet capacity for data point {i}: {choquet.choquet}\")\n",
    "    mob.append(choquet.choquet)"
   ]
  },
  {
   "cell_type": "code",
   "execution_count": 70,
   "id": "cb1c75cf",
   "metadata": {},
   "outputs": [
    {
     "name": "stdout",
     "output_type": "stream",
     "text": [
      "Choquet capacity for data point 0: 1.6425713300704956\n",
      "Choquet capacity for data point 1: 1.5574651956558228\n",
      "Choquet capacity for data point 2: 1.6355091333389282\n",
      "Choquet capacity for data point 3: 1.6130659580230713\n",
      "Choquet capacity for data point 4: 1.677979588508606\n",
      "Choquet capacity for data point 5: 1.6663411855697632\n",
      "Choquet capacity for data point 6: 1.6896497011184692\n",
      "Choquet capacity for data point 7: 1.6280412673950195\n",
      "Choquet capacity for data point 8: 1.5986628532409668\n",
      "Choquet capacity for data point 9: 1.578102946281433\n",
      "Choquet capacity for data point 10: 1.6407126188278198\n",
      "Choquet capacity for data point 11: 1.6491954326629639\n",
      "Choquet capacity for data point 12: 1.5739340782165527\n",
      "Choquet capacity for data point 13: 1.6624730825424194\n",
      "Choquet capacity for data point 14: 1.666733980178833\n",
      "Choquet capacity for data point 15: 1.7390220165252686\n",
      "Choquet capacity for data point 16: 1.6889803409576416\n",
      "Choquet capacity for data point 17: 1.639832615852356\n",
      "Choquet capacity for data point 18: 1.6117421388626099\n",
      "Choquet capacity for data point 19: 1.7000010013580322\n",
      "Choquet capacity for data point 20: 1.5688462257385254\n",
      "Choquet capacity for data point 21: 1.6759358644485474\n",
      "Choquet capacity for data point 22: 1.7653403282165527\n",
      "Choquet capacity for data point 23: 1.5695840120315552\n",
      "Choquet capacity for data point 24: 1.630739688873291\n",
      "Choquet capacity for data point 25: 1.5340602397918701\n",
      "Choquet capacity for data point 26: 1.615541696548462\n",
      "Choquet capacity for data point 27: 1.6240601539611816\n",
      "Choquet capacity for data point 28: 1.608579397201538\n",
      "Choquet capacity for data point 29: 1.6166431903839111\n",
      "Choquet capacity for data point 30: 1.5802589654922485\n",
      "Choquet capacity for data point 31: 1.5719581842422485\n",
      "Choquet capacity for data point 32: 1.7513569593429565\n",
      "Choquet capacity for data point 33: 1.733682632446289\n",
      "Choquet capacity for data point 34: 1.5739340782165527\n",
      "Choquet capacity for data point 35: 1.6016852855682373\n",
      "Choquet capacity for data point 36: 1.5994148254394531\n",
      "Choquet capacity for data point 37: 1.6941053867340088\n",
      "Choquet capacity for data point 38: 1.6305679082870483\n",
      "Choquet capacity for data point 39: 1.6152241230010986\n",
      "Choquet capacity for data point 40: 1.6594669818878174\n",
      "Choquet capacity for data point 41: 1.4359675645828247\n",
      "Choquet capacity for data point 42: 1.6809024810791016\n",
      "Choquet capacity for data point 43: 1.6323606967926025\n",
      "Choquet capacity for data point 44: 1.6743415594100952\n",
      "Choquet capacity for data point 45: 1.5650407075881958\n",
      "Choquet capacity for data point 46: 1.6957366466522217\n",
      "Choquet capacity for data point 47: 1.6435209512710571\n",
      "Choquet capacity for data point 48: 1.6532756090164185\n",
      "Choquet capacity for data point 49: 1.6119154691696167\n",
      "Choquet capacity for data point 50: 1.340050220489502\n",
      "Choquet capacity for data point 51: 1.3589270114898682\n",
      "Choquet capacity for data point 52: 1.3429030179977417\n",
      "Choquet capacity for data point 53: 1.3221871852874756\n",
      "Choquet capacity for data point 54: 1.3238929510116577\n",
      "Choquet capacity for data point 55: 1.3955011367797852\n",
      "Choquet capacity for data point 56: 1.3814488649368286\n",
      "Choquet capacity for data point 57: 1.3564770221710205\n",
      "Choquet capacity for data point 58: 1.3429449796676636\n",
      "Choquet capacity for data point 59: 1.3723841905593872\n",
      "Choquet capacity for data point 60: 1.3212627172470093\n",
      "Choquet capacity for data point 61: 1.356787919998169\n",
      "Choquet capacity for data point 62: 1.3084123134613037\n",
      "Choquet capacity for data point 63: 1.377504825592041\n",
      "Choquet capacity for data point 64: 1.3434728384017944\n",
      "Choquet capacity for data point 65: 1.3318381309509277\n",
      "Choquet capacity for data point 66: 1.4078218936920166\n",
      "Choquet capacity for data point 67: 1.3735020160675049\n",
      "Choquet capacity for data point 68: 1.2819958925247192\n",
      "Choquet capacity for data point 69: 1.346799612045288\n",
      "Choquet capacity for data point 70: 1.397252082824707\n",
      "Choquet capacity for data point 71: 1.3270556926727295\n",
      "Choquet capacity for data point 72: 1.3315956592559814\n",
      "Choquet capacity for data point 73: 1.3848457336425781\n",
      "Choquet capacity for data point 74: 1.33635413646698\n",
      "Choquet capacity for data point 75: 1.329885721206665\n",
      "Choquet capacity for data point 76: 1.326852560043335\n",
      "Choquet capacity for data point 77: 1.3375200033187866\n",
      "Choquet capacity for data point 78: 1.361940860748291\n",
      "Choquet capacity for data point 79: 1.3287378549575806\n",
      "Choquet capacity for data point 80: 1.3370896577835083\n",
      "Choquet capacity for data point 81: 1.3392291069030762\n",
      "Choquet capacity for data point 82: 1.3412754535675049\n",
      "Choquet capacity for data point 83: 1.379332423210144\n",
      "Choquet capacity for data point 84: 1.4287358522415161\n",
      "Choquet capacity for data point 85: 1.4018206596374512\n",
      "Choquet capacity for data point 86: 1.3429886102676392\n",
      "Choquet capacity for data point 87: 1.2978912591934204\n",
      "Choquet capacity for data point 88: 1.3931643962860107\n",
      "Choquet capacity for data point 89: 1.3428235054016113\n",
      "Choquet capacity for data point 90: 1.394620656967163\n",
      "Choquet capacity for data point 91: 1.37947678565979\n",
      "Choquet capacity for data point 92: 1.339260458946228\n",
      "Choquet capacity for data point 93: 1.3367310762405396\n",
      "Choquet capacity for data point 94: 1.3708525896072388\n",
      "Choquet capacity for data point 95: 1.4004617929458618\n",
      "Choquet capacity for data point 96: 1.3821223974227905\n",
      "Choquet capacity for data point 97: 1.3500828742980957\n",
      "Choquet capacity for data point 98: 1.313497543334961\n",
      "Choquet capacity for data point 99: 1.3645306825637817\n",
      "Choquet capacity for data point 100: 1.4050142765045166\n",
      "Choquet capacity for data point 101: 1.3684234619140625\n",
      "Choquet capacity for data point 102: 1.3369187116622925\n",
      "Choquet capacity for data point 103: 1.393614649772644\n",
      "Choquet capacity for data point 104: 1.365842342376709\n",
      "Choquet capacity for data point 105: 1.3496484756469727\n",
      "Choquet capacity for data point 106: 1.4064316749572754\n",
      "Choquet capacity for data point 107: 1.3654069900512695\n",
      "Choquet capacity for data point 108: 1.340011477470398\n",
      "Choquet capacity for data point 109: 1.3623682260513306\n",
      "Choquet capacity for data point 110: 1.3502508401870728\n",
      "Choquet capacity for data point 111: 1.3344415426254272\n",
      "Choquet capacity for data point 112: 1.3294304609298706\n",
      "Choquet capacity for data point 113: 1.3347859382629395\n",
      "Choquet capacity for data point 114: 1.3215203285217285\n",
      "Choquet capacity for data point 115: 1.3444031476974487\n",
      "Choquet capacity for data point 116: 1.3788371086120605\n",
      "Choquet capacity for data point 117: 1.4048035144805908\n",
      "Choquet capacity for data point 118: 1.3142809867858887\n",
      "Choquet capacity for data point 119: 1.3323818445205688\n",
      "Choquet capacity for data point 120: 1.3365919589996338\n",
      "Choquet capacity for data point 121: 1.3707358837127686\n",
      "Choquet capacity for data point 122: 1.3417307138442993\n",
      "Choquet capacity for data point 123: 1.3213601112365723\n",
      "Choquet capacity for data point 124: 1.3796666860580444\n",
      "Choquet capacity for data point 125: 1.377323031425476\n",
      "Choquet capacity for data point 126: 1.3307702541351318\n",
      "Choquet capacity for data point 127: 1.3665416240692139\n",
      "Choquet capacity for data point 128: 1.3478413820266724\n",
      "Choquet capacity for data point 129: 1.363847255706787\n",
      "Choquet capacity for data point 130: 1.3310661315917969\n",
      "Choquet capacity for data point 131: 1.386275291442871\n",
      "Choquet capacity for data point 132: 1.3376939296722412\n",
      "Choquet capacity for data point 133: 1.3728755712509155\n",
      "Choquet capacity for data point 134: 1.415079116821289\n",
      "Choquet capacity for data point 135: 1.2959113121032715\n",
      "Choquet capacity for data point 136: 1.3906471729278564\n",
      "Choquet capacity for data point 137: 1.3964935541152954\n",
      "Choquet capacity for data point 138: 1.3671574592590332\n",
      "Choquet capacity for data point 139: 1.3244982957839966\n",
      "Choquet capacity for data point 140: 1.324073314666748\n",
      "Choquet capacity for data point 141: 1.282734990119934\n",
      "Choquet capacity for data point 142: 1.3684234619140625\n",
      "Choquet capacity for data point 143: 1.359212875366211\n",
      "Choquet capacity for data point 144: 1.3421075344085693\n",
      "Choquet capacity for data point 145: 1.2934801578521729\n",
      "Choquet capacity for data point 146: 1.2991162538528442\n",
      "Choquet capacity for data point 147: 1.338560938835144\n",
      "Choquet capacity for data point 148: 1.3930238485336304\n",
      "Choquet capacity for data point 149: 1.401039958000183\n"
     ]
    }
   ],
   "source": [
    "mu = mobius_to_capacity(mobius, features, type_norm=\"basic\")\n",
    "cap = []\n",
    "for i in range(len(data)):\n",
    "    choquet = Choquet(X=data[i], mu=mu, version='d_choquet', p=1, q=1)\n",
    "    print(f\"Choquet capacity for data point {i}: {choquet.choquet}\")\n",
    "    cap.append(choquet.choquet)"
   ]
  },
  {
   "cell_type": "code",
   "execution_count": 71,
   "id": "a6753642",
   "metadata": {},
   "outputs": [],
   "source": [
    "mob = np.array(mob)\n",
    "cap = np.array(cap)"
   ]
  },
  {
   "cell_type": "code",
   "execution_count": 72,
   "id": "1277b0d5",
   "metadata": {},
   "outputs": [
    {
     "data": {
      "text/plain": [
       "<matplotlib.collections.PathCollection at 0x150141540>"
      ]
     },
     "execution_count": 72,
     "metadata": {},
     "output_type": "execute_result"
    },
    {
     "data": {
      "image/png": "[encoded data removed]",
      "text/plain": [
       "<Figure size 640x480 with 1 Axes>"
      ]
     },
     "metadata": {},
     "output_type": "display_data"
    }
   ],
   "source": [
    "plt.scatter(mob, cap)"
   ]
  },
  {
   "cell_type": "code",
   "execution_count": null,
   "id": "c6aed6b6",
   "metadata": {},
   "outputs": [],
   "source": []
  }
 ],
 "metadata": {
  "kernelspec": {
   "display_name": "rl-env",
   "language": "python",
   "name": "python3"
  },
  "language_info": {
   "codemirror_mode": {
    "name": "ipython",
    "version": 3
   },
   "file_extension": ".py",
   "mimetype": "text/x-python",
   "name": "python",
   "nbconvert_exporter": "python",
   "pygments_lexer": "ipython3",
   "version": "3.10.16"
  }
 },
 "nbformat": 4,
 "nbformat_minor": 5
}
