{
 "cells": [
  {
   "cell_type": "markdown",
   "id": "4e8d3a68",
   "metadata": {},
   "source": [
    "# KNNFuzz Wrap-up & How to use it"
   ]
  },
  {
   "cell_type": "markdown",
   "id": "6817df67",
   "metadata": {},
   "source": [
    "## Structure of the code\n",
    "```txt\n",
    "FuzzSIM/\n",
    "│── fuzz/            \n",
    "│   ├── choquet/\n",
    "│   │   ├── __init__.py\n",
    "│   │   ├── choquet.py\n",
    "│   │   ├── classic.py      \n",
    "│   │   ├── d_choquet.py  \n",
    "│   │   ├── linear_d_choquet.py  \n",
    "│   ├── src/     \n",
    "│   │   ├── __init__.py\n",
    "│   │   ├── base.py \n",
    "│   │   ├── knn.py              \n",
    "│   │   ├── norm.py              \n",
    "│   │   ├── sim.py              \n",
    "│   ├── __init__.py\n",
    "│   ├── set.py              \n",
    "│   ├── dataloader.py              \n",
    "│   ├── eval.py    \n",
    "│   ├── optim.py\n",
    "│   ├── utils.py \n",
    "│── scripts/                \n",
    "│   ├── setup_env.sh     \n",
    "│── __init__.py\n",
    "│── requirements.txt\n",
    "│── LICENSE\n",
    "│── README.md                      \n",
    "```\n",
    "### About Choquet Integral\n",
    "Currently, we've implemented 3 methods for computing the Choquet integral:\n",
    "- `classic.py`: Classic fuzzy measure.\n",
    "- `d_choquet.py`: d-Choquet integral. The formula is given by:\n",
    "    $$\n",
    "    \\mathbb{C}_{\\nu, \\delta}(X)=\\sum_{i=1}^{n} \\delta(X(\\sigma(i)), X(\\sigma(i-1))) \\cdot \\nu(\\{\\sigma(i), ..., \\sigma(n)\\})\n",
    "    $$\n",
    "- `linear_d_choquet.py`: Linear d-Choquet integral.\n",
    "    $$\n",
    "    \\mathbb{C}[X]=\\sum^n_{i=1}\\mu_i\\left[\\sum_{x_j\\leq x_i} \\delta(x_j, \\max\\{x_k:x_k\\leq x_j\\}_{j\\neq k})\\right]+\\sum_{i<j}\\mu_{ij}\\left[\\sum_{x_k\\leq\\min\\{x_i,x_j\\}}\\delta\\left(x_k, \\max\\{x_h: x_h\\leq x_k\\}_{h\\neq k}\\right)\\right]\n",
    "    $$\n",
    "\n",
    "The `choquet.py` file contains the Choquet integral class, which can be used to compute the Choquet integral using any of the above methods.\n",
    "\n",
    "### About FuzzSIM\n",
    "FuzzSIM is a class implementing different methods for computing the similarity between sets. We differ 3 levels of similarity, which are: \n",
    "\n",
    "- Similarity level 1: \n",
    "\n",
    "    $$\n",
    "    \\mathbf{S}_1^{\\nu, \\delta}(X, Y)=\\frac{\\mathbb{C}_{\\nu, \\delta}(X\\cap Y)}{\\mathbb{C}_{\\nu, \\delta}(X\\backslash Y) + \\mathbb{C}_{\\nu, \\delta}(Y\\backslash X) + \\mathbb{C}_{\\nu, \\delta}(X\\cap Y)}\n",
    "    $$\n",
    "\n",
    "### About KNNFuzz\n",
    "KNNFuzz is a variant of the KNN algorithm. The idea is instead of using the standard distance metric, we use the Choquet integral to compute the similarity between sets. Using similarity to explain the ressemblance between sets makes it easier to understand the results of the algorithm. The KNNFuzz algorithm is implemented in the `knn.py` file.\n",
    "\n",
    "---\n"
   ]
  },
  {
   "cell_type": "markdown",
   "id": "50674f1e",
   "metadata": {},
   "source": [
    "## Setup environment\n",
    "Simplest way to setup the environment is to run the `setup_env.sh` script, you will need to switch to the newly created kernel to use it. \n",
    "\n",
    "Otherwise, to be more safe, you can run the following commands to install the required packages:\n",
    "```bash\n",
    "# Create a conda environment with compatible python version (3.10)\n",
    "conda create -n fuzzsim python=3.10 -y\n",
    "\n",
    "# Activate the environment\n",
    "conda activate fuzzsim\n",
    "\n",
    "# Optional: upgrade pip\n",
    "pip install --upgrade pip\n",
    "\n",
    "# Install other dependencies\n",
    "pip install -r requirements.txt\n",
    "```"
   ]
  },
  {
   "cell_type": "code",
   "execution_count": null,
   "id": "72af8083",
   "metadata": {},
   "outputs": [],
   "source": [
    "# environment setup \n",
    "!chmod +x scripts/setup_env.sh\n",
    "!./scripts/setup_env.sh"
   ]
  },
  {
   "cell_type": "markdown",
   "id": "fa856150",
   "metadata": {},
   "source": [
    "---\n",
    "## Main demo\n",
    "\n",
    "### Import libraries"
   ]
  },
  {
   "cell_type": "code",
   "execution_count": 2,
   "id": "42d226b5",
   "metadata": {},
   "outputs": [],
   "source": [
    "# Import basic libraries\n",
    "from palmerpenguins import load_penguins\n",
    "from sklearn.datasets import load_iris\n",
    "import numpy as np\n",
    "import pandas as pd\n",
    "import matplotlib.pyplot as plt\n",
    "import seaborn as sns\n",
    "sns.set_theme(style=\"darkgrid\")\n",
    "import time\n",
    "from sklearn.preprocessing import LabelEncoder\n",
    "import os\n",
    "os.chdir(\"/Users/hoangthuyduongvu/Desktop/FuzzSIM\")\n"
   ]
  },
  {
   "cell_type": "code",
   "execution_count": 3,
   "id": "41fbc89d",
   "metadata": {},
   "outputs": [],
   "source": [
    "# Import personalized libraries\n",
    "from fuzz.src.capacity import *\n",
    "from fuzz.choquet.choquet import *\n",
    "from fuzz.src.norm import *\n",
    "from fuzz.src.knn import KNNFuzz\n",
    "from fuzz.src.sim import S1, S2, S3\n",
    "from fuzz.optim import *\n",
    "from fuzz.utils import *\n",
    "from fuzz.eval import leave_one_out\n",
    "from fuzz.dataloader import *\n",
    "from fuzz.choquet.d_choquet import *"
   ]
  },
  {
   "cell_type": "markdown",
   "id": "83f4cc44",
   "metadata": {},
   "source": [
    "### Dataloader\n",
    "\n",
    "There are 2 ways to prepare data for the KNNFuzz algorithm:\n",
    "1. Use `dynamic_generate_positive_gaussian_data` to dynamically generate a dataset of positive Gaussian data.\n",
    "2. Use specific datasets, such as `iris`, `penguins`, etc.\n",
    "\n",
    "The following cell with allow us to generate a complete positive Gaussian dataset, with 3 dimensions, 3 labels, and 100 points per class, using seed 42 for reproducibility. We use `batch_norm` to normalize the data to [0, 1] range."
   ]
  },
  {
   "cell_type": "code",
   "execution_count": 4,
   "id": "4bf12e6b",
   "metadata": {},
   "outputs": [
    {
     "data": {
      "text/plain": [
       "array([[0.        , 1.        , 0.01959192],\n",
       "       [1.        , 0.        , 0.4070175 ],\n",
       "       [0.        , 0.38090406, 1.        ],\n",
       "       [0.6965442 , 0.        , 1.        ],\n",
       "       [0.        , 1.        , 0.99405304]])"
      ]
     },
     "execution_count": 4,
     "metadata": {},
     "output_type": "execute_result"
    }
   ],
   "source": [
    "data, labels = dynamic_generate_positive_gaussian_data(\n",
    "    dim=3,\n",
    "    nb_classes=3,\n",
    "    nb_points_per_class=100,\n",
    "    seed=42\n",
    ")\n",
    "data = batch_norm(data)\n",
    "data[:5]"
   ]
  },
  {
   "cell_type": "markdown",
   "id": "38e94a9b",
   "metadata": {},
   "source": [
    "As we can see, our generated dataset is well normalized and ready to be used with the KNNFuzz algorithm. \n",
    "\n",
    "Or, to use the `iris` dataset, you can run the following cell: "
   ]
  },
  {
   "cell_type": "code",
   "execution_count": 5,
   "id": "c402e6ee",
   "metadata": {},
   "outputs": [
    {
     "data": {
      "text/plain": [
       "array([[1.        , 0.67346936, 0.24489795, 0.        ],\n",
       "       [1.        , 0.59574461, 0.25531912, 0.        ],\n",
       "       [1.        , 0.66666669, 0.24444443, 0.        ],\n",
       "       [1.        , 0.65909088, 0.29545453, 0.        ],\n",
       "       [1.        , 0.70833325, 0.24999997, 0.        ]])"
      ]
     },
     "execution_count": 5,
     "metadata": {},
     "output_type": "execute_result"
    }
   ],
   "source": [
    "iris_data = load_iris()\n",
    "iris = pd.DataFrame(data=iris_data.data, columns=iris_data.feature_names)\n",
    "iris['target'] = iris_data.target\n",
    "data, labels = iris.iloc[:, :-1].values, iris.iloc[:, -1].values\n",
    "data = batch_norm(np.array(data, dtype=np.float32))\n",
    "data[:5]"
   ]
  },
  {
   "cell_type": "markdown",
   "id": "c2d4b32c",
   "metadata": {},
   "source": [
    "To generated train-test dataset and labels for cross-validation, we can use the `dataloader` module. The following cell will generate a train-test split with 80% of the data for training and 20% for testing, using the `iris` dataset as an example.\n",
    "\n",
    "After the execution, we should obtain 80% of the data from each class for training and 20% for testing, with the labels corresponding to the classes of the data points."
   ]
  },
  {
   "cell_type": "code",
   "execution_count": 6,
   "id": "eb422a6a",
   "metadata": {},
   "outputs": [
    {
     "name": "stdout",
     "output_type": "stream",
     "text": [
      "Original data shape: (150, 4)\n",
      "Train data shape: (120, 4)\n",
      "Test data shape: (30, 4)\n"
     ]
    }
   ],
   "source": [
    "train_data, train_labels, test_data, test_labels = crossval((data, labels))\n",
    "print(\"Original data shape:\", data.shape)\n",
    "print(\"Train data shape:\", train_data.shape)\n",
    "print(\"Test data shape:\", test_data.shape)"
   ]
  },
  {
   "cell_type": "markdown",
   "id": "56c25e33",
   "metadata": {},
   "source": [
    "### Base functions"
   ]
  },
  {
   "cell_type": "code",
   "execution_count": 7,
   "id": "f4c67e7c",
   "metadata": {},
   "outputs": [
    {
     "name": "stdout",
     "output_type": "stream",
     "text": [
      "Enumerated data shape: 16\n",
      "Enumerated data: [[], [3], [2], [1], [0], [3, 2], [3, 1], [3, 0], [2, 1], [2, 0], [1, 0], [3, 2, 1], [3, 2, 0], [3, 1, 0], [2, 1, 0], [3, 2, 1, 0]]\n"
     ]
    }
   ],
   "source": [
    "# To enumerate all the possible combinations of the choquet capacity\n",
    "enumerated_data = enumerate_permute_unit(data[0])\n",
    "print(\"Enumerated data shape:\", len(enumerated_data))\n",
    "print(\"Enumerated data:\", enumerated_data)"
   ]
  },
  {
   "cell_type": "code",
   "execution_count": 8,
   "id": "df27f795",
   "metadata": {},
   "outputs": [
    {
     "name": "stdout",
     "output_type": "stream",
     "text": [
      "Generated capacity shape: 16\n",
      "mu[0]: 0\n",
      "mu[1]: 0.015966252220214194\n",
      "mu[2]: 0.17336465350777208\n",
      "mu[3]: 0.18223608778806233\n",
      "mu[4]: 0.20794166286818883\n",
      "mu[5]: 0.230893825622149\n",
      "mu[6]: 0.24102546602601171\n",
      "mu[7]: 0.3854165025399161\n",
      "mu[8]: 0.3910606075732408\n",
      "mu[9]: 0.4251558744912447\n",
      "mu[10]: 0.5677003278199915\n",
      "mu[11]: 0.6099966577826209\n",
      "mu[12]: 0.6832635188254582\n",
      "mu[13]: 0.7553614103176525\n",
      "mu[14]: 0.8331949117361643\n",
      "mu[15]: 1\n"
     ]
    }
   ],
   "source": [
    "# To generate the choquet capacity from the enumerated data\n",
    "mu=generate_capacity(enumerate_permute_unit(data[0]))\n",
    "print(\"Generated capacity shape:\", len(mu))\n",
    "for i in range(len(mu)):\n",
    "    print(f\"mu[{i}]: {mu[i].mu}\")"
   ]
  },
  {
   "cell_type": "markdown",
   "id": "de102571",
   "metadata": {},
   "source": [
    "### Choquet calculation"
   ]
  },
  {
   "cell_type": "code",
   "execution_count": 9,
   "id": "981d51ae",
   "metadata": {},
   "outputs": [
    {
     "name": "stdout",
     "output_type": "stream",
     "text": [
      "Choquet capacity for data point 0: 0.43371171536979775\n",
      "Choquet capacity for data point 1: 0.41682532077983125\n",
      "Choquet capacity for data point 2: 0.4317424845627137\n",
      "Choquet capacity for data point 3: 0.448082474257393\n",
      "Choquet capacity for data point 4: 0.4448033862878179\n"
     ]
    }
   ],
   "source": [
    "for i in range(5):\n",
    "    choquet = Choquet(X=data[i], mu=mu, version='classic', p=1, q=1)\n",
    "    print(f\"Choquet capacity for data point {i}: {choquet.choquet}\")"
   ]
  },
  {
   "cell_type": "code",
   "execution_count": 10,
   "id": "edd8b223",
   "metadata": {},
   "outputs": [
    {
     "name": "stdout",
     "output_type": "stream",
     "text": [
      "Choquet capacity for data point 0: 1.8553558588027954\n",
      "Choquet capacity for data point 1: 1.742722511291504\n",
      "Choquet capacity for data point 2: 1.8459892272949219\n",
      "Choquet capacity for data point 3: 1.8170249462127686\n",
      "Choquet capacity for data point 4: 1.9023610353469849\n"
     ]
    }
   ],
   "source": [
    "for i in range(5):\n",
    "    choquet = Choquet(X=data[i], mu=mu, version='d_choquet', p=1, q=1)\n",
    "    print(f\"Choquet capacity for data point {i}: {choquet.choquet}\")"
   ]
  },
  {
   "cell_type": "code",
   "execution_count": 11,
   "id": "4bc31b4c",
   "metadata": {},
   "outputs": [
    {
     "name": "stdout",
     "output_type": "stream",
     "text": [
      "Choquet capacity for data point 0: 0.6818413776822754\n",
      "Choquet capacity for data point 1: 0.6430559017197736\n",
      "Choquet capacity for data point 2: 0.677780510004403\n",
      "Choquet capacity for data point 3: 0.6983916228657666\n",
      "Choquet capacity for data point 4: 0.704008640957595\n"
     ]
    }
   ],
   "source": [
    "for i in range(5):\n",
    "    choquet = Choquet(X=data[i], mu=mu, version='linear', p=1, q=1)\n",
    "    print(f\"Choquet capacity for data point {i}: {choquet.choquet}\")"
   ]
  },
  {
   "cell_type": "markdown",
   "id": "1942fa95",
   "metadata": {},
   "source": [
    "### Similarity calculation"
   ]
  },
  {
   "cell_type": "code",
   "execution_count": 12,
   "id": "0f434b1d",
   "metadata": {},
   "outputs": [
    {
     "name": "stdout",
     "output_type": "stream",
     "text": [
      "Similarity score for data points 0 and 1: 0.5332819257721103\n",
      "Similarity score for data points 1 and 9: 0.5203327457868262\n",
      "Similarity score for data points 2 and 1: 0.5320840434223979\n",
      "Similarity score for data points 3 and 9: 0.5309091517276975\n",
      "Similarity score for data points 4 and 3: 0.551334223750841\n"
     ]
    }
   ],
   "source": [
    "for i in range(5):\n",
    "    y_idx = np.random.randint(0, 10)\n",
    "    sim = S1(X=data[i], Y=data[y_idx], mu=mu)\n",
    "    print(f\"Similarity score for data points {i} and {y_idx}: {sim.score()}\")"
   ]
  },
  {
   "cell_type": "code",
   "execution_count": 13,
   "id": "8142b95e",
   "metadata": {},
   "outputs": [
    {
     "name": "stdout",
     "output_type": "stream",
     "text": [
      "Similarity score for data points 0 and 7: 0.5174636984079782\n",
      "Similarity score for data points 1 and 6: 0.5143621941642659\n",
      "Similarity score for data points 2 and 8: 0.5140544272981115\n",
      "Similarity score for data points 3 and 7: 0.5136937061702225\n",
      "Similarity score for data points 4 and 4: 1.0\n"
     ]
    }
   ],
   "source": [
    "for i in range(5):\n",
    "    y_idx = np.random.randint(0, 10)\n",
    "    sim = S2(X=data[i], Y=data[y_idx], mu=mu)\n",
    "    print(f\"Similarity score for data points {i} and {y_idx}: {sim.score()}\")\n",
    "\n",
    "# S2 is the best similarity measure for the choquet capacity (as observed)"
   ]
  },
  {
   "cell_type": "code",
   "execution_count": 14,
   "id": "4b7428c0",
   "metadata": {},
   "outputs": [
    {
     "name": "stdout",
     "output_type": "stream",
     "text": [
      "Similarity score for data points 0 and 1: 0.6210029040617058\n",
      "Similarity score for data points 1 and 4: 0.6247215285754986\n",
      "Similarity score for data points 2 and 7: 0.6351805307188133\n",
      "Similarity score for data points 3 and 9: 0.6211183598405766\n",
      "Similarity score for data points 4 and 8: 0.6346993591555544\n"
     ]
    }
   ],
   "source": [
    "for i in range(5):\n",
    "    y_idx = np.random.randint(0, 10)\n",
    "    sim = S3(X=data[i], Y=data[y_idx], mu=mu)\n",
    "    print(f\"Similarity score for data points {i} and {y_idx}: {sim.score()}\")"
   ]
  },
  {
   "cell_type": "markdown",
   "id": "bc5c0e61",
   "metadata": {},
   "source": [
    "### KNNFuzz sample usage"
   ]
  },
  {
   "cell_type": "code",
   "execution_count": 15,
   "id": "ef58784a",
   "metadata": {},
   "outputs": [],
   "source": [
    "KNN = KNNFuzz(input_dimension=4, mu=mu, k=3, sim=S1, choquet_version='d_choquet', p=1, q=1)\n",
    "KNN.train(data, labels)"
   ]
  },
  {
   "cell_type": "code",
   "execution_count": 16,
   "id": "c7292554",
   "metadata": {},
   "outputs": [
    {
     "data": {
      "text/plain": [
       "<matplotlib.legend.Legend at 0x16c02f340>"
      ]
     },
     "execution_count": 16,
     "metadata": {},
     "output_type": "execute_result"
    },
    {
     "data": {
      "image/png": "[encoded data removed]",
      "text/plain": [
       "<Figure size 640x480 with 1 Axes>"
      ]
     },
     "metadata": {},
     "output_type": "display_data"
    }
   ],
   "source": [
    "# LOO evaluation\n",
    "# Define list for each sim level\n",
    "l1 = []\n",
    "l2 = []\n",
    "l3 = []\n",
    "k = 10\n",
    "\n",
    "for k in range(1, k+1): \n",
    "    tic = time.time()\n",
    "    mu = generate_capacity(enumerate_permute_unit(data[0]))\n",
    "\n",
    "    # print(f\"Leave one out avec k = {k}\")\n",
    "    \n",
    "    # SimLevel1\n",
    "    res = leave_one_out(\n",
    "            C = KNNFuzz(input_dimension=data.shape[1], mu=mu, k=3, sim=S1, choquet_version='d_choquet', p=1, q=1), \n",
    "            DS = (data, labels)\n",
    "        )\n",
    "    l1.append(res)\n",
    "    # print(f\"SimLevel1: {res}\")\n",
    "    # Sim level 2\n",
    "    res = leave_one_out(\n",
    "            C = KNNFuzz(input_dimension=data.shape[1],mu=mu, k=k, sim=S2, choquet_version='d_choquet', p=1, q=1), \n",
    "            DS = (data, labels)\n",
    "        )\n",
    "    l2.append(res)\n",
    "    # print(f\"SimLevel2: {res}\")\n",
    "\n",
    "    # Sim level 3\n",
    "    res = leave_one_out(\n",
    "            C = KNNFuzz(input_dimension=data.shape[1],mu=mu, k=k, sim=S3, choquet_version='d_choquet', p=1, q=1), \n",
    "            DS = (data, labels)\n",
    "        )\n",
    "    l3.append(res)\n",
    "    # print(f\"SimLevel3: {res}\\n\")\n",
    "\n",
    "    toc = time.time()\n",
    "    # print(f\"Result in {(toc-tic):0.4f} seconds.\")\n",
    "\n",
    "# Plot results\n",
    "plt.plot(l1, label=\"Sim level 1\", marker='o')\n",
    "plt.plot(l2, label=\"Sim level 2\", marker='o')\n",
    "plt.plot(l3, label=\"Sim level 3\", marker='o')\n",
    "\n",
    "# Config additional params\n",
    "plt.ylabel(\"LOO accuracy\")\n",
    "plt.xlabel(\"k\")\n",
    "plt.title(\"Leave-One-Out Evaluation Results on Iris Dataset\")\n",
    "plt.grid()\n",
    "plt.legend()"
   ]
  },
  {
   "cell_type": "markdown",
   "id": "4f39f88a",
   "metadata": {},
   "source": [
    "---"
   ]
  },
  {
   "cell_type": "markdown",
   "id": "a8dbf47a",
   "metadata": {},
   "source": [
    "## Mobïus approach\n",
    "The Mobïus approach is a method for computing the Choquet integral using the Mobïus transform. Instead of using directly the capacities, we use a Mobïus for LOO, and convert it to capacities in the end. "
   ]
  },
  {
   "cell_type": "code",
   "execution_count": null,
   "id": "0de703e9",
   "metadata": {},
   "outputs": [
    {
     "name": "stdout",
     "output_type": "stream",
     "text": [
      "Total number of Möbius measures: 65\n",
      "Test Möbius measures completed!\n",
      "Total number of capacities: 65\n"
     ]
    }
   ],
   "source": [
    "# Generate all possible mobius for training\n",
    "features = list(range(len(data[0])))    # encode features as integers\n",
    "\n",
    "nb_total = 10\n",
    "\n",
    "# Input Mobius (10 mobius currently)\n",
    "lst_mobius = []\n",
    "for i in range(nb_total):\n",
    "    mobius = generate_mobius(features, 2)\n",
    "    mobius.pop(0)\n",
    "    lst_mobius.append(mobius)\n",
    "\n",
    "# Mutate all mobius\n",
    "mutated = []\n",
    "for i in range(len(lst_mobius)):\n",
    "    mobius = lst_mobius[i]\n",
    "    mutated_mobius = mutate(mobius, mutation_rate=0.8)\n",
    "    mutated.append(mutated_mobius)\n",
    "\n",
    "# Add mutated mobius to the list\n",
    "lst_mobius.extend(mutated)\n",
    "\n",
    "# Cross over all mobius\n",
    "crossed_over = []\n",
    "for i in range(len(lst_mobius)):\n",
    "    for j in range(i + 1, len(lst_mobius) // 2):\n",
    "        crossed = crossover(lst_mobius[i], lst_mobius[j])\n",
    "        crossed_over.append(crossed)\n",
    "\n",
    "# Add crossed over mobius to the list\n",
    "lst_mobius.extend(crossed_over)\n",
    "print(f\"Total number of Möbius measures: {len(lst_mobius)}\")\n",
    "\n",
    "# Convert all Möbius measures to capacities\n",
    "capacities_list = []\n",
    "for i in range(len(lst_mobius)):\n",
    "    mobius = lst_mobius[i]\n",
    "    capacity = mobius_to_capacity(mobius, features)\n",
    "    capacities_list.append(capacity)    \n",
    "print('Test Möbius measures completed!')\n",
    "print(f\"Total number of capacities: {len(capacities_list)}\")"
   ]
  },
  {
   "cell_type": "code",
   "execution_count": 18,
   "id": "d8d19656",
   "metadata": {},
   "outputs": [
    {
     "name": "stdout",
     "output_type": "stream",
     "text": [
      "Mobius 1: [0.6064290596595899, 0.009197051616629648, 0.1014715428660321, 0.6635017691080558, 0.005061583846218687, 0.16080805141749865, 0.5487337893665861, 0.6918951976926933, 0.6519612595026005, 0.22426930946055978]\n",
      "Mobius 2: [0.7121792213475359, 0.23724908749680007, 0.3253996981592677, 0.7464914051180241, 0.6496328990472147, 0.8492234104941779, 0.6576128923003434, 0.5683086033354716, 0.09367476782809248, 0.3677158030594335]\n",
      "Mobius 3: [0.26520236768172545, 0.24398964337908358, 0.9730105547524456, 0.3930977246667604, 0.8920465551771133, 0.6311386259972629, 0.7948113035416484, 0.5026370931051921, 0.5769038846263591, 0.4925176938188639]\n",
      "Mobius 4: [0.1952429877980445, 0.7224521152615053, 0.2807723624408558, 0.02431596643145384, 0.6454722959071678, 0.17711067940704894, 0.9404585843529143, 0.9539285770025874, 0.9148643902204485, 0.3701587002554444]\n",
      "Mobius 5: [0.015456616528867428, 0.9283185625877254, 0.42818414831731433, 0.9666548190436696, 0.9636199770892528, 0.8530094554673601, 0.2944488920695857, 0.38509772860192526, 0.8511366715168569, 0.31692200515627766]\n"
     ]
    }
   ],
   "source": [
    "for i in range(5):\n",
    "    mobius = lst_mobius[i]\n",
    "    tmp = [mobius[j].mu for j in range(len(mobius))]\n",
    "    print(f\"Mobius {i + 1}: {tmp}\")"
   ]
  },
  {
   "cell_type": "code",
   "execution_count": 19,
   "id": "856541dd",
   "metadata": {},
   "outputs": [
    {
     "name": "stdout",
     "output_type": "stream",
     "text": [
      "Mobius 1: [np.float64(0.0), np.float64(0.1655404479011839), np.float64(0.00251057237402476), np.float64(0.027699273950849666), np.float64(0.18111991549849293), np.float64(0.16943271009307917), np.float64(0.23713642573477992), np.float64(0.4964513996690287), np.float64(0.21908048024703522), np.float64(0.3616001237156007), np.float64(0.2700392799895786), np.float64(0.429899321848836), np.float64(0.6783132977040071), np.float64(0.6292674680428607), np.float64(0.6393901221288472), np.float64(1.0)]\n",
      "Mobius 2: [np.float64(0.0), np.float64(0.1367606128550462), np.float64(0.04555922109601874), np.float64(0.062486886459429666), np.float64(0.1433496218294558), np.float64(0.30706960302800124), np.float64(0.3623248688708126), np.float64(0.4063924112442234), np.float64(0.21717907655150231), np.float64(0.2068973186815967), np.float64(0.27644940610376445), np.float64(0.6417668280398217), np.float64(0.5946898771733006), np.float64(0.7025695650748688), np.float64(0.4491300719519592), np.float64(1.0)]\n",
      "Mobius 3: [np.float64(0.0), np.float64(0.04599930917206264), np.float64(0.04231996546141375), np.float64(0.168768528452403), np.float64(0.06818273882637992), np.float64(0.24304461002984282), np.float64(0.3242387335348698), np.float64(0.25204194421528064), np.float64(0.2982708190536906), np.float64(0.21056659279477577), np.float64(0.322378384196059), np.float64(0.6084663595325238), np.float64(0.5491511335800429), np.float64(0.6157084854953639), np.float64(0.5519445633043286), np.float64(1.0)]\n",
      "Mobius 4: [np.float64(0.0), np.float64(0.03736867631630367), np.float64(0.13827425790657), np.float64(0.05373863434967022), np.float64(0.004653972412238433), np.float64(0.29918358256536903), np.float64(0.12500554038251857), np.float64(0.22202241632032454), np.float64(0.3745907590718948), np.float64(0.3180293781604052), np.float64(0.12923940546905235), np.float64(0.5693983134472387), np.float64(0.6589384704109867), np.float64(0.3805060790936831), np.float64(0.6251926780328738), np.float64(1.0)]\n",
      "Mobius 5: [np.float64(0.0), np.float64(0.002574880168929306), np.float64(0.15464633238405384), np.float64(0.07133015625334427), np.float64(0.161032676142731), np.float64(0.3177483217529316), np.float64(0.21600580774502764), np.float64(0.2126590813680781), np.float64(0.2901289829834213), np.float64(0.45746779732439613), np.float64(0.28515809872426207), np.float64(0.5953317436750531), np.float64(0.6696213117496917), np.float64(0.47888527527236324), np.float64(0.6457457142519505), np.float64(1.0)]\n"
     ]
    }
   ],
   "source": [
    "for i in range(5):\n",
    "    mobius = capacities_list[i]\n",
    "    tmp = [mobius[j].mu for j in range(len(mobius))]\n",
    "    print(f\"Mobius {i + 1}: {tmp}\")\n",
    "\n",
    "# All different capacities"
   ]
  },
  {
   "cell_type": "code",
   "execution_count": 20,
   "id": "4e945d78",
   "metadata": {},
   "outputs": [
    {
     "name": "stdout",
     "output_type": "stream",
     "text": [
      "Möbius:\n",
      "Mobius of [0] is 0.606\n",
      "Mobius of [1] is 0.009\n",
      "Mobius of [2] is 0.101\n",
      "Mobius of [3] is 0.664\n",
      "Mobius of [0, 1] is 0.005\n",
      "Mobius of [0, 2] is 0.161\n",
      "Mobius of [0, 3] is 0.549\n",
      "Mobius of [1, 2] is 0.692\n",
      "Mobius of [1, 3] is 0.652\n",
      "Mobius of [2, 3] is 0.224\n",
      "\n",
      "Derived Capacity:\n",
      "Capacity of [] is 0.000\n",
      "Capacity of [0] is 0.166\n",
      "Capacity of [1] is 0.003\n",
      "Capacity of [2] is 0.028\n",
      "Capacity of [3] is 0.181\n",
      "Capacity of [0, 1] is 0.169\n",
      "Capacity of [0, 2] is 0.237\n",
      "Capacity of [0, 3] is 0.496\n",
      "Capacity of [1, 2] is 0.219\n",
      "Capacity of [1, 3] is 0.362\n",
      "Capacity of [2, 3] is 0.270\n",
      "Capacity of [0, 1, 2] is 0.430\n",
      "Capacity of [0, 1, 3] is 0.678\n",
      "Capacity of [0, 2, 3] is 0.629\n",
      "Capacity of [1, 2, 3] is 0.639\n",
      "Capacity of [0, 1, 2, 3] is 1.000\n"
     ]
    }
   ],
   "source": [
    "mobius = lst_mobius[0]\n",
    "print(\"Möbius:\")\n",
    "for i in range(len(mobius)):\n",
    "    print(f\"Mobius of {mobius[i].X} is {mobius[i].mu:.3f}\")\n",
    "\n",
    "capacity = capacities_list[0]\n",
    "print(\"\\nDerived Capacity:\")\n",
    "for c in capacity:\n",
    "    print(f\"Capacity of {c.X} is {c.mu:.3f}\")\n"
   ]
  }
 ],
 "metadata": {
  "kernelspec": {
   "display_name": "rl-env",
   "language": "python",
   "name": "python3"
  },
  "language_info": {
   "codemirror_mode": {
    "name": "ipython",
    "version": 3
   },
   "file_extension": ".py",
   "mimetype": "text/x-python",
   "name": "python",
   "nbconvert_exporter": "python",
   "pygments_lexer": "ipython3",
   "version": "3.10.16"
  }
 },
 "nbformat": 4,
 "nbformat_minor": 5
}
