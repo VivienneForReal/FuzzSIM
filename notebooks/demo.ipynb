{
 "cells": [
  {
   "cell_type": "markdown",
   "id": "4e8d3a68",
   "metadata": {},
   "source": [
    "# KNNFuzz Wrap-up & How to use it"
   ]
  },
  {
   "cell_type": "markdown",
   "id": "6817df67",
   "metadata": {},
   "source": [
    "## Structure of the code\n",
    "```txt\n",
    "FuzzSIM/\n",
    "│── fuzz/            \n",
    "│   ├── choquet/\n",
    "│   │   ├── __init__.py\n",
    "│   │   ├── choquet.py\n",
    "│   │   ├── classic.py      \n",
    "│   │   ├── d_choquet.py  \n",
    "│   │   ├── linear_d_choquet.py  \n",
    "│   ├── src/     \n",
    "│   │   ├── __init__.py\n",
    "│   │   ├── base.py \n",
    "│   │   ├── knn.py              \n",
    "│   │   ├── norm.py              \n",
    "│   │   ├── sim.py              \n",
    "│   ├── __init__.py\n",
    "│   ├── set.py              \n",
    "│   ├── dataloader.py              \n",
    "│   ├── eval.py    \n",
    "│   ├── optim.py\n",
    "│   ├── utils.py \n",
    "│── scripts/                \n",
    "│   ├── setup_env.sh     \n",
    "│── __init__.py\n",
    "│── requirements.txt\n",
    "│── LICENSE\n",
    "│── README.md                      \n",
    "```\n",
    "### About Choquet Integral\n",
    "Currently, we've implemented 3 methods for computing the Choquet integral:\n",
    "- `classic.py`: Classic fuzzy measure.\n",
    "- `d_choquet.py`: d-Choquet integral. The formula is given by:\n",
    "    $$\n",
    "    \\mathbb{C}_{\\nu, \\delta}(X)=\\sum_{i=1}^{n} \\delta(X(\\sigma(i)), X(\\sigma(i-1))) \\cdot \\nu(\\{\\sigma(i), ..., \\sigma(n)\\})\n",
    "    $$\n",
    "- `linear_d_choquet.py`: Linear d-Choquet integral.\n",
    "    $$\n",
    "    \\mathbb{C}[X]=\\sum^n_{i=1}\\mu_i\\left[\\sum_{x_j\\leq x_i} \\delta(x_j, \\max\\{x_k:x_k\\leq x_j\\}_{j\\neq k})\\right]+\\sum_{i<j}\\mu_{ij}\\left[\\sum_{x_k\\leq\\min\\{x_i,x_j\\}}\\delta\\left(x_k, \\max\\{x_h: x_h\\leq x_k\\}_{h\\neq k}\\right)\\right]\n",
    "    $$\n",
    "\n",
    "The `choquet.py` file contains the Choquet integral class, which can be used to compute the Choquet integral using any of the above methods.\n",
    "\n",
    "### About FuzzSIM\n",
    "FuzzSIM is a class implementing different methods for computing the similarity between sets. We differ 3 levels of similarity, which are: \n",
    "\n",
    "- Similarity level 1: \n",
    "\n",
    "    $$\n",
    "    \\mathbf{S}_1^{\\nu, \\delta}(X, Y)=\\frac{\\mathbb{C}_{\\nu, \\delta}(X\\cap Y)}{\\mathbb{C}_{\\nu, \\delta}(X\\backslash Y) + \\mathbb{C}_{\\nu, \\delta}(Y\\backslash X) + \\mathbb{C}_{\\nu, \\delta}(X\\cap Y)}\n",
    "    $$\n",
    "\n",
    "### About KNNFuzz\n",
    "KNNFuzz is a variant of the KNN algorithm. The idea is instead of using the standard distance metric, we use the Choquet integral to compute the similarity between sets. Using similarity to explain the ressemblance between sets makes it easier to understand the results of the algorithm. The KNNFuzz algorithm is implemented in the `knn.py` file.\n",
    "\n",
    "---\n"
   ]
  },
  {
   "cell_type": "markdown",
   "id": "50674f1e",
   "metadata": {},
   "source": [
    "## Setup environment\n",
    "Simplest way to setup the environment is to run the `setup_env.sh` script, you will need to switch to the newly created kernel to use it. \n",
    "\n",
    "Otherwise, to be more safe, you can run the following commands to install the required packages:\n",
    "```bash\n",
    "# Create a conda environment with compatible python version (3.10)\n",
    "conda create -n fuzzsim python=3.10 -y\n",
    "\n",
    "# Activate the environment\n",
    "conda activate fuzzsim\n",
    "\n",
    "# Optional: upgrade pip\n",
    "pip install --upgrade pip\n",
    "\n",
    "# Install other dependencies\n",
    "pip install -r requirements.txt\n",
    "```"
   ]
  },
  {
   "cell_type": "code",
   "execution_count": null,
   "id": "72af8083",
   "metadata": {},
   "outputs": [],
   "source": [
    "# environment setup \n",
    "!chmod +x scripts/setup_env.sh\n",
    "!./scripts/setup_env.sh"
   ]
  },
  {
   "cell_type": "markdown",
   "id": "fa856150",
   "metadata": {},
   "source": [
    "---\n",
    "## Main demo\n",
    "\n",
    "### Import libraries"
   ]
  },
  {
   "cell_type": "code",
   "execution_count": 2,
   "id": "42d226b5",
   "metadata": {},
   "outputs": [],
   "source": [
    "# Import basic libraries\n",
    "from palmerpenguins import load_penguins\n",
    "from sklearn.datasets import load_iris\n",
    "import numpy as np\n",
    "import pandas as pd\n",
    "import matplotlib.pyplot as plt\n",
    "import seaborn as sns\n",
    "sns.set_theme(style=\"darkgrid\")\n",
    "import time\n",
    "from sklearn.preprocessing import LabelEncoder\n",
    "import os\n",
    "os.chdir(\"/Users/hoangthuyduongvu/Desktop/FuzzSIM\")\n"
   ]
  },
  {
   "cell_type": "code",
   "execution_count": 3,
   "id": "41fbc89d",
   "metadata": {},
   "outputs": [],
   "source": [
    "# Import personalized libraries\n",
    "from fuzz.src.capacity import *\n",
    "from fuzz.choquet.choquet import *\n",
    "from fuzz.src.norm import *\n",
    "from fuzz.src.knn import KNNFuzz\n",
    "from fuzz.src.sim import S1, S2, S3\n",
    "from fuzz.optim import *\n",
    "from fuzz.utils import *\n",
    "from fuzz.eval import leave_one_out\n",
    "from fuzz.dataloader import *\n",
    "from fuzz.choquet.d_choquet import *"
   ]
  },
  {
   "cell_type": "markdown",
   "id": "83f4cc44",
   "metadata": {},
   "source": [
    "### Dataloader\n",
    "\n",
    "There are 2 ways to prepare data for the KNNFuzz algorithm:\n",
    "1. Use `dynamic_generate_positive_gaussian_data` to dynamically generate a dataset of positive Gaussian data.\n",
    "2. Use specific datasets, such as `iris`, `penguins`, etc.\n",
    "\n",
    "The following cell with allow us to generate a complete positive Gaussian dataset, with 3 dimensions, 3 labels, and 100 points per class, using seed 42 for reproducibility. We use `batch_norm` to normalize the data to [0, 1] range."
   ]
  },
  {
   "cell_type": "code",
   "execution_count": 4,
   "id": "4bf12e6b",
   "metadata": {},
   "outputs": [
    {
     "data": {
      "text/plain": [
       "array([[0.        , 1.        , 0.01959192],\n",
       "       [1.        , 0.        , 0.4070175 ],\n",
       "       [0.        , 0.38090406, 1.        ],\n",
       "       [0.6965442 , 0.        , 1.        ],\n",
       "       [0.        , 1.        , 0.99405304]])"
      ]
     },
     "execution_count": 4,
     "metadata": {},
     "output_type": "execute_result"
    }
   ],
   "source": [
    "data, labels = dynamic_generate_positive_gaussian_data(\n",
    "    dim=3,\n",
    "    nb_classes=3,\n",
    "    nb_points_per_class=100,\n",
    "    seed=42\n",
    ")\n",
    "data = batch_norm(data)\n",
    "data[:5]"
   ]
  },
  {
   "cell_type": "markdown",
   "id": "38e94a9b",
   "metadata": {},
   "source": [
    "As we can see, our generated dataset is well normalized and ready to be used with the KNNFuzz algorithm. \n",
    "\n",
    "Or, to use the `iris` dataset, you can run the following cell: "
   ]
  },
  {
   "cell_type": "code",
   "execution_count": 5,
   "id": "c402e6ee",
   "metadata": {},
   "outputs": [
    {
     "data": {
      "text/plain": [
       "array([[1.        , 0.67346936, 0.24489795, 0.        ],\n",
       "       [1.        , 0.59574461, 0.25531912, 0.        ],\n",
       "       [1.        , 0.66666669, 0.24444443, 0.        ],\n",
       "       [1.        , 0.65909088, 0.29545453, 0.        ],\n",
       "       [1.        , 0.70833325, 0.24999997, 0.        ]])"
      ]
     },
     "execution_count": 5,
     "metadata": {},
     "output_type": "execute_result"
    }
   ],
   "source": [
    "iris_data = load_iris()\n",
    "iris = pd.DataFrame(data=iris_data.data, columns=iris_data.feature_names)\n",
    "iris['target'] = iris_data.target\n",
    "data, labels = iris.iloc[:, :-1].values, iris.iloc[:, -1].values\n",
    "data = batch_norm(np.array(data, dtype=np.float32))\n",
    "data[:5]"
   ]
  },
  {
   "cell_type": "markdown",
   "id": "c2d4b32c",
   "metadata": {},
   "source": [
    "To generated train-test dataset and labels for cross-validation, we can use the `dataloader` module. The following cell will generate a train-test split with 80% of the data for training and 20% for testing, using the `iris` dataset as an example.\n",
    "\n",
    "After the execution, we should obtain 80% of the data from each class for training and 20% for testing, with the labels corresponding to the classes of the data points."
   ]
  },
  {
   "cell_type": "code",
   "execution_count": 7,
   "id": "eb422a6a",
   "metadata": {},
   "outputs": [
    {
     "name": "stdout",
     "output_type": "stream",
     "text": [
      "Original data shape: (150, 4)\n",
      "Train data shape: (120, 4)\n",
      "Test data shape: (30, 4)\n"
     ]
    }
   ],
   "source": [
    "train_data, train_labels, test_data, test_labels = crossval((data, labels))\n",
    "print(\"Original data shape:\", data.shape)\n",
    "print(\"Train data shape:\", train_data.shape)\n",
    "print(\"Test data shape:\", test_data.shape)"
   ]
  },
  {
   "cell_type": "markdown",
   "id": "56c25e33",
   "metadata": {},
   "source": [
    "### Base functions"
   ]
  },
  {
   "cell_type": "code",
   "execution_count": 14,
   "id": "f4c67e7c",
   "metadata": {},
   "outputs": [
    {
     "name": "stdout",
     "output_type": "stream",
     "text": [
      "Enumerated data shape: 16\n",
      "Enumerated data: [[], [3], [2], [1], [0], [3, 2], [3, 1], [3, 0], [2, 1], [2, 0], [1, 0], [3, 2, 1], [3, 2, 0], [3, 1, 0], [2, 1, 0], [3, 2, 1, 0]]\n"
     ]
    }
   ],
   "source": [
    "# To enumerate all the possible combinations of the choquet capacity\n",
    "enumerated_data = enumerate_permute_unit(data[0])\n",
    "print(\"Enumerated data shape:\", len(enumerated_data))\n",
    "print(\"Enumerated data:\", enumerated_data)"
   ]
  },
  {
   "cell_type": "code",
   "execution_count": 19,
   "id": "df27f795",
   "metadata": {},
   "outputs": [
    {
     "name": "stdout",
     "output_type": "stream",
     "text": [
      "Generated capacity shape: 16\n",
      "mu[0]: 0\n",
      "mu[1]: 0.032315951109650465\n",
      "mu[2]: 0.07620037959916315\n",
      "mu[3]: 0.08274842003530614\n",
      "mu[4]: 0.1331851252237497\n",
      "mu[5]: 0.2599498628542627\n",
      "mu[6]: 0.2709576425151299\n",
      "mu[7]: 0.2797635071689457\n",
      "mu[8]: 0.41120672087218624\n",
      "mu[9]: 0.4166390577384792\n",
      "mu[10]: 0.45324084682883103\n",
      "mu[11]: 0.5811626211808263\n",
      "mu[12]: 0.6027818820232985\n",
      "mu[13]: 0.9191765518355596\n",
      "mu[14]: 0.9405318271353834\n",
      "mu[15]: 1\n"
     ]
    }
   ],
   "source": [
    "# To generate the choquet capacity from the enumerated data\n",
    "mu=generate_capacity(enumerate_permute_unit(data[0]))\n",
    "print(\"Generated capacity shape:\", len(mu))\n",
    "for i in range(len(mu)):\n",
    "    print(f\"mu[{i}]: {mu[i].mu}\")"
   ]
  },
  {
   "cell_type": "markdown",
   "id": "de102571",
   "metadata": {},
   "source": [
    "### Choquet calculation"
   ]
  },
  {
   "cell_type": "code",
   "execution_count": 23,
   "id": "981d51ae",
   "metadata": {},
   "outputs": [
    {
     "name": "stdout",
     "output_type": "stream",
     "text": [
      "Choquet capacity for data point 0: 0.46602470882356795\n",
      "Choquet capacity for data point 1: 0.4314854925133812\n",
      "Choquet capacity for data point 2: 0.46256467447972033\n",
      "Choquet capacity for data point 3: 0.4751991256353589\n",
      "Choquet capacity for data point 4: 0.4846464993848833\n"
     ]
    }
   ],
   "source": [
    "for i in range(5):\n",
    "    choquet = Choquet(X=data[i], mu=mu, version='classic', p=1, q=1)\n",
    "    print(f\"Choquet capacity for data point {i}: {choquet.choquet}\")"
   ]
  },
  {
   "cell_type": "code",
   "execution_count": 24,
   "id": "edd8b223",
   "metadata": {},
   "outputs": [
    {
     "name": "stdout",
     "output_type": "stream",
     "text": [
      "Choquet capacity for data point 0: 1.8602821826934814\n",
      "Choquet capacity for data point 1: 1.7486162185668945\n",
      "Choquet capacity for data point 2: 1.8509459495544434\n",
      "Choquet capacity for data point 3: 1.8240609169006348\n",
      "Choquet capacity for data point 4: 1.9072415828704834\n"
     ]
    }
   ],
   "source": [
    "for i in range(5):\n",
    "    choquet = Choquet(X=data[i], mu=mu, version='d_choquet', p=1, q=1)\n",
    "    print(f\"Choquet capacity for data point {i}: {choquet.choquet}\")"
   ]
  },
  {
   "cell_type": "code",
   "execution_count": 25,
   "id": "4bc31b4c",
   "metadata": {},
   "outputs": [
    {
     "name": "stdout",
     "output_type": "stream",
     "text": [
      "Choquet capacity for data point 0: 0.5489344383459226\n",
      "Choquet capacity for data point 1: 0.5169202893619437\n",
      "Choquet capacity for data point 2: 0.5453633334110348\n",
      "Choquet capacity for data point 3: 0.5704009158295766\n",
      "Choquet capacity for data point 4: 0.5688009248012695\n"
     ]
    }
   ],
   "source": [
    "for i in range(5):\n",
    "    choquet = Choquet(X=data[i], mu=mu, version='linear', p=1, q=1)\n",
    "    print(f\"Choquet capacity for data point {i}: {choquet.choquet}\")"
   ]
  },
  {
   "cell_type": "markdown",
   "id": "1942fa95",
   "metadata": {},
   "source": [
    "### Similarity calculation"
   ]
  },
  {
   "cell_type": "code",
   "execution_count": 30,
   "id": "0f434b1d",
   "metadata": {},
   "outputs": [
    {
     "name": "stdout",
     "output_type": "stream",
     "text": [
      "Similarity score for data points 0 and 1: 0.4417347026492251\n",
      "Similarity score for data points 1 and 8: 0.4302613016695984\n",
      "Similarity score for data points 2 and 2: 0.46854534723381636\n",
      "Similarity score for data points 3 and 0: 0.465395668196634\n",
      "Similarity score for data points 4 and 4: 0.5020115548336678\n"
     ]
    }
   ],
   "source": [
    "for i in range(5):\n",
    "    y_idx = np.random.randint(0, 10)\n",
    "    sim = S1(X=data[i], Y=data[y_idx], mu=mu)\n",
    "    print(f\"Similarity score for data points {i} and {y_idx}: {sim.score()}\")"
   ]
  },
  {
   "cell_type": "code",
   "execution_count": null,
   "id": "8142b95e",
   "metadata": {},
   "outputs": [
    {
     "name": "stdout",
     "output_type": "stream",
     "text": [
      "Similarity score for data points 0 and 6: 0.5144487486570971\n",
      "Similarity score for data points 1 and 5: 0.4889139405461944\n",
      "Similarity score for data points 2 and 0: 0.5041433540668973\n",
      "Similarity score for data points 3 and 4: 0.5021409067545958\n",
      "Similarity score for data points 4 and 4: 1.0\n"
     ]
    }
   ],
   "source": [
    "for i in range(5):\n",
    "    y_idx = np.random.randint(0, 10)\n",
    "    sim = S2(X=data[i], Y=data[y_idx], mu=mu)\n",
    "    print(f\"Similarity score for data points {i} and {y_idx}: {sim.score()}\")\n",
    "\n",
    "# S2 is the best similarity measure for the choquet capacity (as observed)"
   ]
  },
  {
   "cell_type": "code",
   "execution_count": 32,
   "id": "4b7428c0",
   "metadata": {},
   "outputs": [
    {
     "name": "stdout",
     "output_type": "stream",
     "text": [
      "Similarity score for data points 0 and 5: 0.6108751141872459\n",
      "Similarity score for data points 1 and 2: 0.57386317734446\n",
      "Similarity score for data points 2 and 4: 0.6126716139730615\n",
      "Similarity score for data points 3 and 6: 0.6048868367689412\n",
      "Similarity score for data points 4 and 4: 0.6261852828546677\n"
     ]
    }
   ],
   "source": [
    "for i in range(5):\n",
    "    y_idx = np.random.randint(0, 10)\n",
    "    sim = S3(X=data[i], Y=data[y_idx], mu=mu)\n",
    "    print(f\"Similarity score for data points {i} and {y_idx}: {sim.score()}\")"
   ]
  },
  {
   "cell_type": "markdown",
   "id": "bc5c0e61",
   "metadata": {},
   "source": [
    "### KNNFuzz sample usage"
   ]
  },
  {
   "cell_type": "code",
   "execution_count": 33,
   "id": "ef58784a",
   "metadata": {},
   "outputs": [],
   "source": [
    "KNN = KNNFuzz(input_dimension=4, mu=mu, k=3, sim=S1, choquet_version='d_choquet', p=1, q=1)\n",
    "KNN.train(data, labels)"
   ]
  },
  {
   "cell_type": "code",
   "execution_count": 36,
   "id": "c7292554",
   "metadata": {},
   "outputs": [
    {
     "data": {
      "text/plain": [
       "<matplotlib.legend.Legend at 0x14a9d5bd0>"
      ]
     },
     "execution_count": 36,
     "metadata": {},
     "output_type": "execute_result"
    },
    {
     "data": {
      "image/png": "[encoded data removed]",
      "text/plain": [
       "<Figure size 640x480 with 1 Axes>"
      ]
     },
     "metadata": {},
     "output_type": "display_data"
    }
   ],
   "source": [
    "# LOO evaluation\n",
    "# Define list for each sim level\n",
    "l1 = []\n",
    "l2 = []\n",
    "l3 = []\n",
    "k = 10\n",
    "\n",
    "for k in range(1, k+1): \n",
    "    tic = time.time()\n",
    "    mu = generate_capacity(enumerate_permute_unit(data[0]))\n",
    "\n",
    "    # print(f\"Leave one out avec k = {k}\")\n",
    "    \n",
    "    # SimLevel1\n",
    "    res = leave_one_out(\n",
    "            C = KNNFuzz(input_dimension=data.shape[1], mu=mu, k=3, sim=S1, choquet_version='d_choquet', p=1, q=1), \n",
    "            DS = (data, labels)\n",
    "        )\n",
    "    l1.append(res)\n",
    "    # print(f\"SimLevel1: {res}\")\n",
    "    # Sim level 2\n",
    "    res = leave_one_out(\n",
    "            C = KNNFuzz(input_dimension=data.shape[1],mu=mu, k=k, sim=S2, choquet_version='d_choquet', p=1, q=1), \n",
    "            DS = (data, labels)\n",
    "        )\n",
    "    l2.append(res)\n",
    "    # print(f\"SimLevel2: {res}\")\n",
    "\n",
    "    # Sim level 3\n",
    "    res = leave_one_out(\n",
    "            C = KNNFuzz(input_dimension=data.shape[1],mu=mu, k=k, sim=S3, choquet_version='d_choquet', p=1, q=1), \n",
    "            DS = (data, labels)\n",
    "        )\n",
    "    l3.append(res)\n",
    "    # print(f\"SimLevel3: {res}\\n\")\n",
    "\n",
    "    toc = time.time()\n",
    "    # print(f\"Result in {(toc-tic):0.4f} seconds.\")\n",
    "\n",
    "# Plot results\n",
    "plt.plot(l1, label=\"Sim level 1\", marker='o')\n",
    "plt.plot(l2, label=\"Sim level 2\", marker='o')\n",
    "plt.plot(l3, label=\"Sim level 3\", marker='o')\n",
    "\n",
    "# Config additional params\n",
    "plt.ylabel(\"LOO accuracy\")\n",
    "plt.xlabel(\"k\")\n",
    "plt.title(\"Leave-One-Out Evaluation Results on Iris Dataset\")\n",
    "plt.grid()\n",
    "plt.legend()"
   ]
  },
  {
   "cell_type": "markdown",
   "id": "4f39f88a",
   "metadata": {},
   "source": [
    "---"
   ]
  },
  {
   "cell_type": "code",
   "execution_count": null,
   "id": "0de703e9",
   "metadata": {},
   "outputs": [],
   "source": []
  }
 ],
 "metadata": {
  "kernelspec": {
   "display_name": "rl-env",
   "language": "python",
   "name": "python3"
  },
  "language_info": {
   "codemirror_mode": {
    "name": "ipython",
    "version": 3
   },
   "file_extension": ".py",
   "mimetype": "text/x-python",
   "name": "python",
   "nbconvert_exporter": "python",
   "pygments_lexer": "ipython3",
   "version": "3.10.16"
  }
 },
 "nbformat": 4,
 "nbformat_minor": 5
}
