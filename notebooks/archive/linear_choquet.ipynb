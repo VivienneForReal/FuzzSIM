{
 "cells": [
  {
   "cell_type": "markdown",
   "id": "82c4a150",
   "metadata": {},
   "source": [
    "# Linearization of the d-Choquet Integral"
   ]
  },
  {
   "cell_type": "code",
   "execution_count": 1,
   "id": "4fca03e7",
   "metadata": {},
   "outputs": [],
   "source": [
    "# Import basic libraries\n",
    "from palmerpenguins import load_penguins\n",
    "from sklearn.datasets import load_iris\n",
    "import numpy as np\n",
    "import pandas as pd\n",
    "import matplotlib.pyplot as plt\n",
    "import seaborn as sns\n",
    "sns.set_theme(style=\"darkgrid\")\n",
    "import time\n",
    "from sklearn.preprocessing import LabelEncoder\n",
    "import os\n",
    "os.chdir(\"/Users/hoangthuyduongvu/Desktop/FuzzSIM\")\n"
   ]
  },
  {
   "cell_type": "code",
   "execution_count": 2,
   "id": "c6788a9c",
   "metadata": {},
   "outputs": [],
   "source": [
    "# Import personalized libraries\n",
    "from fuzz.src.capacity import *\n",
    "from fuzz.choquet.choquet import *\n",
    "from fuzz.src.norm import *\n",
    "from fuzz.src.knn import KNNFuzz\n",
    "from fuzz.src.sim import S1, S2, S3\n",
    "from fuzz.optim import *\n",
    "from fuzz.utils import *\n",
    "from fuzz.eval import leave_one_out\n",
    "from fuzz.dataloader import *\n",
    "from fuzz.choquet.d_choquet import *"
   ]
  },
  {
   "cell_type": "code",
   "execution_count": 3,
   "id": "2d1544d4",
   "metadata": {},
   "outputs": [
    {
     "data": {
      "text/plain": [
       "array([[1.        , 0.67346936, 0.24489795, 0.        ],\n",
       "       [1.        , 0.59574461, 0.25531912, 0.        ],\n",
       "       [1.        , 0.66666669, 0.24444443, 0.        ],\n",
       "       [1.        , 0.65909088, 0.29545453, 0.        ],\n",
       "       [1.        , 0.70833325, 0.24999997, 0.        ]])"
      ]
     },
     "execution_count": 3,
     "metadata": {},
     "output_type": "execute_result"
    }
   ],
   "source": [
    "# Load data \n",
    "iris_data = load_iris()\n",
    "iris = pd.DataFrame(data=iris_data.data, columns=iris_data.feature_names)\n",
    "iris['target'] = iris_data.target\n",
    "data, labels = iris.iloc[:, :-1].values, iris.iloc[:, -1].values\n",
    "data = batch_norm(np.array(data, dtype=np.float32))\n",
    "\n",
    "data[:5]"
   ]
  },
  {
   "cell_type": "code",
   "execution_count": 4,
   "id": "b8df0b78",
   "metadata": {},
   "outputs": [
    {
     "name": "stdout",
     "output_type": "stream",
     "text": [
      "Total number of Möbius measures: 65\n",
      "Test Möbius measures completed!\n",
      "Total number of capacities: 65\n"
     ]
    }
   ],
   "source": [
    "# Generate all possible mobius for training\n",
    "features = list(range(len(data[0])))    # encode features as integers\n",
    "\n",
    "nb_total = 10\n",
    "\n",
    "# Input Mobius (10 mobius currently)\n",
    "lst_mobius = []\n",
    "for i in range(nb_total):\n",
    "    mobius = generate_mobius(features, 2)\n",
    "    mobius.pop(0)\n",
    "    lst_mobius.append(mobius)\n",
    "\n",
    "# Mutate all mobius\n",
    "mutated = []\n",
    "for i in range(len(lst_mobius)):\n",
    "    mobius = lst_mobius[i]\n",
    "    mutated_mobius = mutate(mobius, mutation_rate=0.2)\n",
    "    mutated.append(mutated_mobius)\n",
    "\n",
    "# Add mutated mobius to the list\n",
    "lst_mobius.extend(mutated)\n",
    "\n",
    "# Cross over all mobius\n",
    "crossed_over = []\n",
    "for i in range(len(lst_mobius)):\n",
    "    for j in range(i + 1, len(lst_mobius) // 2):\n",
    "        crossed = crossover(lst_mobius[i], lst_mobius[j])\n",
    "        crossed_over.append(crossed)\n",
    "\n",
    "# Add crossed over mobius to the list\n",
    "lst_mobius.extend(crossed_over)\n",
    "print(f\"Total number of Möbius measures: {len(lst_mobius)}\")\n",
    "\n",
    "# Convert all Möbius measures to capacities\n",
    "capacities_list = []\n",
    "for i in range(len(lst_mobius)):\n",
    "    mobius = lst_mobius[i]\n",
    "    capacity = mobius_to_capacity(mobius, features)\n",
    "    capacities_list.append(capacity)    \n",
    "print('Test Möbius measures completed!')\n",
    "print(f\"Total number of capacities: {len(capacities_list)}\")"
   ]
  },
  {
   "cell_type": "code",
   "execution_count": 5,
   "id": "de8df4f6",
   "metadata": {},
   "outputs": [
    {
     "name": "stdout",
     "output_type": "stream",
     "text": [
      "Möbius:\n",
      "Mobius of [0] is 0.736\n",
      "Mobius of [1] is 0.760\n",
      "Mobius of [2] is 0.617\n",
      "Mobius of [3] is 0.871\n",
      "Mobius of [0, 1] is 0.078\n",
      "Mobius of [0, 2] is 0.374\n",
      "Mobius of [0, 3] is 0.591\n",
      "Mobius of [1, 2] is 0.198\n",
      "Mobius of [1, 3] is 0.635\n",
      "Mobius of [2, 3] is 0.783\n",
      "\n",
      "Derived Capacity:\n",
      "Capacity of [] is 0.000\n",
      "Capacity of [0] is 0.130\n",
      "Capacity of [1] is 0.135\n",
      "Capacity of [2] is 0.109\n",
      "Capacity of [3] is 0.154\n",
      "Capacity of [0, 1] is 0.279\n",
      "Capacity of [0, 2] is 0.306\n",
      "Capacity of [0, 3] is 0.389\n",
      "Capacity of [1, 2] is 0.279\n",
      "Capacity of [1, 3] is 0.402\n",
      "Capacity of [2, 3] is 0.403\n",
      "Capacity of [0, 1, 2] is 0.490\n",
      "Capacity of [0, 1, 3] is 0.650\n",
      "Capacity of [0, 2, 3] is 0.704\n",
      "Capacity of [1, 2, 3] is 0.685\n",
      "Capacity of [0, 1, 2, 3] is 1.000\n"
     ]
    }
   ],
   "source": [
    "mobius = lst_mobius[0]\n",
    "print(\"Möbius:\")\n",
    "for i in range(len(mobius)):\n",
    "    print(f\"Mobius of {mobius[i].X} is {mobius[i].mu:.3f}\")\n",
    "\n",
    "capacity = capacities_list[0]\n",
    "print(\"\\nDerived Capacity:\")\n",
    "for c in capacity:\n",
    "    print(f\"Capacity of {c.X} is {c.mu:.3f}\")\n"
   ]
  },
  {
   "cell_type": "code",
   "execution_count": 9,
   "id": "dc453c52",
   "metadata": {},
   "outputs": [
    {
     "name": "stdout",
     "output_type": "stream",
     "text": [
      "0.04000000000000001\n",
      "0.009999999999999995\n",
      "0.04000000000000001\n"
     ]
    }
   ],
   "source": [
    "print(restricted_dissim(0.5, 0.3, 1, 0.5))\n",
    "print(restricted_dissim(0.3, 0.2, 1, 0.5))\n",
    "print(restricted_dissim(0.2, 0, 1, 0.5))"
   ]
  },
  {
   "cell_type": "code",
   "execution_count": 12,
   "id": "e2e1ca81",
   "metadata": {},
   "outputs": [
    {
     "data": {
      "text/plain": [
       "0.19835272256864278"
      ]
     },
     "execution_count": 12,
     "metadata": {},
     "output_type": "execute_result"
    }
   ],
   "source": [
    "locate_capacity([1, 2], lst_mobius[0])"
   ]
  },
  {
   "cell_type": "code",
   "execution_count": 121,
   "id": "e1c5161c",
   "metadata": {},
   "outputs": [],
   "source": [
    "def d_choquet_linear_f_x(X: np.ndarray, mobius: List[Capacity], p: float = 1.0, q: float = 1.0, verbose: bool = False):\n",
    "    \"\"\"\n",
    "    Compute the linear d-Choquet integral for a given input and a list of Möbius measures.\n",
    "    \"\"\"\n",
    "    def compute_diss(x: float, X: np.ndarray) -> float:\n",
    "        s = 0\n",
    "        X.append(0)\n",
    "        for i in range(len(X)):\n",
    "            if X[i] <= x: \n",
    "                tmp = [x_p for x_p in X if x_p < X[i]]\n",
    "                if len(tmp) > 0:\n",
    "                    s += restricted_dissim(X[i], max(tmp), p, q)\n",
    "                    # print(f\"Restricted dissimilarity between {X[i]} and {max(tmp)}: {restricted_dissim(X[i], max(tmp), p, q)}\")\n",
    "        return s\n",
    "    sum_result = 0\n",
    "    for i in range(len(X)):\n",
    "        sum_result += locate_capacity([i+1], mobius) * compute_diss(X[i], X)\n",
    "        if verbose:\n",
    "            print(f\"Mobius for {i+1} is {locate_capacity([i+1], mobius)}\")\n",
    "            print(f\"Computing dissimilarity for {X[i]} with respect to {X}\")\n",
    "            print(f\"Dissimilarity result: {compute_diss(X[i], X):.3f}\")\n",
    "            print(f\"Sum result after adding {X[i]}: {sum_result:.3f}\")\n",
    "    return sum_result"
   ]
  },
  {
   "cell_type": "code",
   "execution_count": 122,
   "id": "fd4c4137",
   "metadata": {},
   "outputs": [],
   "source": [
    "mobius = [\n",
    "    Capacity([], 0),\n",
    "    Capacity([1], 1/6),\n",
    "    Capacity([2], 1/6),\n",
    "    Capacity([3], 1/6),\n",
    "    Capacity([1, 2], 1/6),\n",
    "    Capacity([1, 3], 1/6),\n",
    "    Capacity([2, 3], 1/6),\n",
    "    Capacity([1, 2, 3], 0)]"
   ]
  },
  {
   "cell_type": "code",
   "execution_count": 123,
   "id": "6e6e758f",
   "metadata": {},
   "outputs": [
    {
     "data": {
      "text/plain": [
       "0.03"
      ]
     },
     "execution_count": 123,
     "metadata": {},
     "output_type": "execute_result"
    }
   ],
   "source": [
    "d_choquet_linear_f_x([0.5, 0.2, 0.3], mobius, 1, 0.5)"
   ]
  },
  {
   "cell_type": "code",
   "execution_count": 125,
   "id": "8e61fbec",
   "metadata": {},
   "outputs": [],
   "source": [
    "def d_choquet_linear_g_x(X: np.ndarray, mobius: List[Capacity], p: float = 1.0, q: float = 1.0, verbose: bool = False):\n",
    "    \"\"\"\n",
    "    Compute the linear d-Choquet integral for a given input and a list of Möbius measures.\n",
    "    \"\"\"\n",
    "    def compute_diss(x1: float, x2: float, X: np.ndarray) -> float:\n",
    "        s = 0\n",
    "        X.append(0)\n",
    "        for i in range(len(X)):\n",
    "            min_x = min(x1, x2)\n",
    "            if X[i] <= min_x: \n",
    "                tmp = [x_p for x_p in X if x_p < X[i]]\n",
    "                if len(tmp) > 0:\n",
    "                    s += restricted_dissim(X[i], max(tmp), p, q)\n",
    "\n",
    "        return s\n",
    "    sum_result = 0\n",
    "    for i in range(len(X)):\n",
    "        for j in range(len(X)):\n",
    "            if i < j:\n",
    "                sum_result += locate_capacity([i+1, j+1], mobius) * compute_diss(X[i], X[j], X)\n",
    "    return sum_result"
   ]
  },
  {
   "cell_type": "code",
   "execution_count": 126,
   "id": "f68e9fca",
   "metadata": {},
   "outputs": [
    {
     "data": {
      "text/plain": [
       "0.021666666666666667"
      ]
     },
     "execution_count": 126,
     "metadata": {},
     "output_type": "execute_result"
    }
   ],
   "source": [
    "d_choquet_linear_g_x([0.5, 0.2, 0.3], mobius, 1, 0.5)"
   ]
  },
  {
   "cell_type": "code",
   "execution_count": 135,
   "id": "71ddd856",
   "metadata": {},
   "outputs": [],
   "source": [
    "def d_choquet_linear(X: np.ndarray, mobius: List[Capacity], p: float = 1.0, q: float = 1.0, verbose: bool = False):\n",
    "    \"\"\"\n",
    "    Compute the linear d-Choquet integral for a given input and a list of Möbius measures.\n",
    "    \n",
    "    Parameters:\n",
    "    - X: Input tensor representing a point in [0,1]^N\n",
    "    - mobius: List of Möbius measures (capacities)\n",
    "    - p, q: Parameters for the dissimilarity measure δ_p,q in (0, +∞)\n",
    "    - verbose: Whether to print intermediate values for debugging\n",
    "    \n",
    "    Returns:\n",
    "    - Linear d-Choquet integral value as a scalar tensor\n",
    "    \"\"\"\n",
    "    if p <= 0 or q <= 0:\n",
    "        raise ValueError(\"Parameters p and q must be greater than 0.\")\n",
    "    \n",
    "    return d_choquet_linear_f_x(X, mobius, p, q, verbose) + d_choquet_linear_g_x(X, mobius, p, q, verbose)"
   ]
  },
  {
   "cell_type": "code",
   "execution_count": 136,
   "id": "ecef00b9",
   "metadata": {},
   "outputs": [
    {
     "data": {
      "text/plain": [
       "0.051666666666666666"
      ]
     },
     "execution_count": 136,
     "metadata": {},
     "output_type": "execute_result"
    }
   ],
   "source": [
    "d_choquet_linear([0.5, 0.2, 0.3], mobius, 1, 0.5)"
   ]
  },
  {
   "cell_type": "code",
   "execution_count": null,
   "id": "493aeb5d",
   "metadata": {},
   "outputs": [],
   "source": []
  }
 ],
 "metadata": {
  "kernelspec": {
   "display_name": "rl-env",
   "language": "python",
   "name": "python3"
  },
  "language_info": {
   "codemirror_mode": {
    "name": "ipython",
    "version": 3
   },
   "file_extension": ".py",
   "mimetype": "text/x-python",
   "name": "python",
   "nbconvert_exporter": "python",
   "pygments_lexer": "ipython3",
   "version": "3.10.16"
  }
 },
 "nbformat": 4,
 "nbformat_minor": 5
}
