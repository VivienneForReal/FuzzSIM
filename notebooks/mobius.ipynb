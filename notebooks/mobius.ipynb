{
 "cells": [
  {
   "cell_type": "code",
   "execution_count": 58,
   "id": "cff2017d",
   "metadata": {},
   "outputs": [],
   "source": [
    "# Import basic libraries\n",
    "from palmerpenguins import load_penguins\n",
    "from sklearn.datasets import load_iris\n",
    "import numpy as np\n",
    "import pandas as pd\n",
    "import matplotlib.pyplot as plt\n",
    "import seaborn as sns\n",
    "sns.set_theme(style=\"darkgrid\")\n",
    "import time\n",
    "from sklearn.preprocessing import LabelEncoder\n",
    "import os\n",
    "os.chdir(\"/Users/hoangthuyduongvu/Desktop/FuzzSIM\")\n"
   ]
  },
  {
   "cell_type": "code",
   "execution_count": 59,
   "id": "b09079f9",
   "metadata": {},
   "outputs": [],
   "source": [
    "# Import personalized libraries\n",
    "from fuzz.src.capacity import *\n",
    "from fuzz.choquet.choquet import *\n",
    "from fuzz.src.norm import *\n",
    "from fuzz.src.knn import KNNFuzz\n",
    "from fuzz.src.sim import S1, S2, S3\n",
    "from fuzz.optim import *\n",
    "from fuzz.utils import *\n",
    "from fuzz.eval import leave_one_out\n",
    "from fuzz.dataloader import *\n",
    "from fuzz.choquet.d_choquet import *"
   ]
  },
  {
   "cell_type": "code",
   "execution_count": 87,
   "id": "0d58d612",
   "metadata": {},
   "outputs": [],
   "source": [
    "def generate_mobius(feature_indices: List[int], n_additive: int = 2) -> List[Capacity]:\n",
    "    \"\"\"\n",
    "    Generate a random n-additive Möbius measure.\n",
    "    \n",
    "    :param feature_indices: List of feature indices (e.g., [0, 1, 2])\n",
    "    :param n_additive: Maximum size of subsets to include (k-additive)\n",
    "    :return: List of Capacity objects, where each is Capacity(subset: List[int], value: float)\n",
    "    \"\"\"\n",
    "    m = {frozenset(): 0.0}  # baseline\n",
    "    \n",
    "    # Include subsets of size 1 to n_additive\n",
    "    for k in range(1, n_additive + 1):\n",
    "        for comb in combinations(feature_indices, k):\n",
    "            m[frozenset(comb)] = np.random.rand()\n",
    "    \n",
    "    # Convert to list of Capacity objects\n",
    "    tmp = [Capacity(list(k), v) for k, v in m.items()]\n",
    "    return tmp\n",
    "\n",
    "def mobius_to_capacity(m: List[Capacity], feature_indices: List[int]) -> List[Capacity]:\n",
    "    \"\"\"\n",
    "    Convert Möbius transform to capacity.\n",
    "    m: mobius \n",
    "    \"\"\"\n",
    "    mu = []\n",
    "    for subset in powerset(feature_indices):\n",
    "        fs_subset = frozenset(subset)\n",
    "        total = 0.0\n",
    "        for B in powerset(subset):\n",
    "            fs_B = list(frozenset(B))\n",
    "            tmp = locate_capacity(X=fs_B, capacity=m)\n",
    "            # print(f\"fs_B: {fs_B}, tmp: {tmp}\")\n",
    "            # if fs_B in m:\n",
    "            total += tmp\n",
    "        mu.append(Capacity(list(fs_subset), total))\n",
    "\n",
    "    def norm_capacity(capacity: List[Capacity]) -> List[Capacity]:\n",
    "        \"\"\"Normalize the capacity.\"\"\"\n",
    "        lst = [c.mu for c in capacity if c.mu is not None]\n",
    "        min_lst = min(lst)\n",
    "        max_lst = max(lst)\n",
    "        # Normalize to [0, 1]\n",
    "        lst = norm(lst)\n",
    "        tmp = []\n",
    "        for i in range(len(lst)):\n",
    "            tmp.append(Capacity(capacity[i].X, lst[i]))\n",
    "        return tmp\n",
    "    return norm_capacity(mu)"
   ]
  },
  {
   "cell_type": "code",
   "execution_count": 92,
   "id": "9d2457de",
   "metadata": {},
   "outputs": [
    {
     "name": "stdout",
     "output_type": "stream",
     "text": [
      "Möbius:\n",
      "Mobius of [] is 0.000\n",
      "Mobius of [0] is 0.008\n",
      "Mobius of [1] is 0.885\n",
      "Mobius of [2] is 0.308\n",
      "Mobius of [3] is 0.471\n",
      "Mobius of [0, 1] is 0.332\n",
      "Mobius of [0, 2] is 0.840\n",
      "Mobius of [0, 3] is 0.640\n",
      "Mobius of [1, 2] is 0.097\n",
      "Mobius of [1, 3] is 0.997\n",
      "Mobius of [2, 3] is 0.646\n",
      "\n",
      "Derived Capacity:\n",
      "Capacity of [] is 0.000\n",
      "Capacity of [0] is 0.001\n",
      "Capacity of [1] is 0.169\n",
      "Capacity of [2] is 0.059\n",
      "Capacity of [3] is 0.090\n",
      "Capacity of [0, 1] is 0.234\n",
      "Capacity of [0, 2] is 0.221\n",
      "Capacity of [0, 3] is 0.214\n",
      "Capacity of [1, 2] is 0.247\n",
      "Capacity of [1, 3] is 0.450\n",
      "Capacity of [2, 3] is 0.273\n",
      "Capacity of [0, 1, 2] is 0.473\n",
      "Capacity of [0, 1, 3] is 0.638\n",
      "Capacity of [0, 2, 3] is 0.558\n",
      "Capacity of [1, 2, 3] is 0.652\n",
      "Capacity of [0, 1, 2, 3] is 1.000\n"
     ]
    }
   ],
   "source": [
    "features = [0, 1, 2, 3]\n",
    "\n",
    "mobius = generate_mobius(features, 2)\n",
    "capacity = mobius_to_capacity(mobius, features)\n",
    "\n",
    "print(\"Möbius:\")\n",
    "for i in range(len(mobius)):\n",
    "    print(f\"Mobius of {mobius[i].X} is {mobius[i].mu:.3f}\")\n",
    "\n",
    "print(\"\\nDerived Capacity:\")\n",
    "for c in capacity:\n",
    "    print(f\"Capacity of {c.X} is {c.mu:.3f}\")\n"
   ]
  },
  {
   "cell_type": "code",
   "execution_count": 62,
   "id": "898e41cc",
   "metadata": {},
   "outputs": [
    {
     "name": "stdout",
     "output_type": "stream",
     "text": [
      "Subset: set()\n",
      "Subset: {0}\n",
      "Subset: {1}\n",
      "Subset: {2}\n",
      "Subset: {3}\n",
      "Subset: {0, 1}\n",
      "Subset: {0, 2}\n",
      "Subset: {0, 3}\n",
      "Subset: {1, 2}\n",
      "Subset: {1, 3}\n",
      "Subset: {2, 3}\n",
      "Subset: {0, 1, 2}\n",
      "Subset: {0, 1, 3}\n",
      "Subset: {0, 2, 3}\n",
      "Subset: {1, 2, 3}\n",
      "Subset: {0, 1, 2, 3}\n"
     ]
    }
   ],
   "source": [
    "for subset in powerset(features):\n",
    "    print(f\"Subset: {set(subset)}\")"
   ]
  },
  {
   "cell_type": "code",
   "execution_count": 63,
   "id": "1d6ec39f",
   "metadata": {},
   "outputs": [
    {
     "name": "stdout",
     "output_type": "stream",
     "text": [
      "val_check: [0, 1, 2] - capacity_observation_i: 0.5734637127299701 - val_check2: [1, 2] - capacity_observation_i_1: 0.3352012128308853\n",
      "val_check: [1, 2] - capacity_observation_i: 0.3352012128308853 - val_check2: [2] - capacity_observation_i_1: 0.12021227521843539\n",
      "val_check: [2] - capacity_observation_i: 0.12021227521843539 - val_check2: [] - capacity_observation_i_1: 0.0\n",
      "Choquet integral: 0.25131678896079024\n"
     ]
    }
   ],
   "source": [
    "X = np.array([0.2, 0.5, 0.8])\n",
    "choquet_value = Choquet_classic(X, capacity, verbose=True)\n",
    "print(\"Choquet integral:\", choquet_value)\n"
   ]
  },
  {
   "cell_type": "code",
   "execution_count": 64,
   "id": "ec2978d6",
   "metadata": {},
   "outputs": [],
   "source": [
    "iris_data = load_iris()\n",
    "iris = pd.DataFrame(data=iris_data.data, columns=iris_data.feature_names)\n",
    "iris['target'] = iris_data.target\n",
    "data, labels = iris.iloc[:, :-1].values, iris.iloc[:, -1].values\n",
    "data = batch_norm(np.array(data, dtype=np.float32))"
   ]
  },
  {
   "cell_type": "code",
   "execution_count": 65,
   "id": "ff73eda5",
   "metadata": {},
   "outputs": [
    {
     "name": "stdout",
     "output_type": "stream",
     "text": [
      "0.6661736219939064\n"
     ]
    }
   ],
   "source": [
    "choquet = Choquet(X=data[0], mu=capacity, version='classic', p=1, q=1)\n",
    "print(choquet.choquet)\n",
    "# choquet.Choquet_classic(verbose=True)"
   ]
  },
  {
   "cell_type": "code",
   "execution_count": 66,
   "id": "2a6976a9",
   "metadata": {},
   "outputs": [
    {
     "name": "stdout",
     "output_type": "stream",
     "text": [
      "val_check: [3, 2, 1, 0] - capacity_observation_i: 1.0 - val_check2: [2, 1, 0] - capacity_observation_i_1: 0.5734637127299701\n",
      "val_check: [2, 1, 0] - capacity_observation_i: 0.5734637127299701 - val_check2: [1, 0] - capacity_observation_i_1: 0.24496674346542033\n",
      "val_check: [1, 0] - capacity_observation_i: 0.24496674346542033 - val_check2: [0] - capacity_observation_i_1: 0.16981425732600364\n",
      "val_check: [0] - capacity_observation_i: 0.16981425732600364 - val_check2: [] - capacity_observation_i_1: 0.0\n",
      "Choquet integral: 0.6661736219939064\n"
     ]
    }
   ],
   "source": [
    "X = data[0]\n",
    "choquet_value = Choquet_classic(X, capacity, verbose=True)\n",
    "print(\"Choquet integral:\", choquet_value)\n"
   ]
  },
  {
   "cell_type": "code",
   "execution_count": 67,
   "id": "37a7d047",
   "metadata": {},
   "outputs": [],
   "source": [
    "# Each individual is a dictionary of Möbius values\n",
    "def mutate(mobius, mutation_rate=0.1):\n",
    "    new_mobius = mobius.copy()\n",
    "    for i in range(len(mobius)):\n",
    "        if np.random.rand() < mutation_rate:\n",
    "            new_mobius[i] = Capacity(mobius[i].X, np.clip(mobius[i].mu + np.random.uniform(-0.1, 0.1), 0, 1))\n",
    "    return new_mobius"
   ]
  },
  {
   "cell_type": "code",
   "execution_count": 68,
   "id": "26508255",
   "metadata": {},
   "outputs": [],
   "source": [
    "def crossover(parent1, parent2):\n",
    "    \"\"\"Suppose that 2 parents have the same structure with different capacities.\"\"\"\n",
    "    child = []\n",
    "    # Get len parents \n",
    "    if len(parent1) != len(parent2):\n",
    "        raise ValueError(\"Parents must have the same length\")\n",
    "    len_parents = len(parent1)\n",
    "    for i in range(len_parents):\n",
    "        c_1 = parent1[i].mu\n",
    "        c_2 = parent2[i].mu\n",
    "        c_c = random.choice([c_1, c_2])\n",
    "        if c_c == c_1:\n",
    "            child.append(Capacity(parent1[i].X, c_1))\n",
    "        else:\n",
    "            child.append(Capacity(parent2[i].X, c_2))\n",
    "    return child"
   ]
  },
  {
   "cell_type": "code",
   "execution_count": 69,
   "id": "f4519c90",
   "metadata": {},
   "outputs": [
    {
     "name": "stdout",
     "output_type": "stream",
     "text": [
      "\n",
      "Crossed Capacity:\n",
      "Capacity of [] is 0.000\n",
      "Capacity of [3] is 0.058\n",
      "Capacity of [2] is 0.118\n",
      "Capacity of [1] is 0.232\n",
      "Capacity of [0] is 0.287\n",
      "Capacity of [3, 2] is 0.413\n",
      "Capacity of [3, 1] is 0.479\n",
      "Capacity of [3, 0] is 0.352\n",
      "Capacity of [2, 1] is 0.624\n",
      "Capacity of [2, 0] is 0.668\n",
      "Capacity of [1, 0] is 0.672\n",
      "Capacity of [3, 2, 1] is 0.811\n",
      "Capacity of [3, 2, 0] is 0.784\n",
      "Capacity of [3, 1, 0] is 0.846\n",
      "Capacity of [2, 1, 0] is 0.882\n",
      "Capacity of [3, 2, 1, 0] is 1.000\n"
     ]
    }
   ],
   "source": [
    "cross = crossover(\n",
    "    parent1=generate_capacity(enumerate_permute_unit(data[0])), \n",
    "    parent2=generate_capacity(enumerate_permute_unit(data[0]))\n",
    ")\n",
    "print(\"\\nCrossed Capacity:\")\n",
    "for c in cross:\n",
    "    print(f\"Capacity of {c.X} is {c.mu:.3f}\")"
   ]
  },
  {
   "cell_type": "code",
   "execution_count": 72,
   "id": "abbb2e10",
   "metadata": {},
   "outputs": [
    {
     "name": "stdout",
     "output_type": "stream",
     "text": [
      "\n",
      "Mutated Möbius:\n",
      "Mobius of [] is 0.000\n",
      "Mobius of [0] is 0.200\n",
      "Mobius of [1] is 0.052\n",
      "Mobius of [2] is 0.120\n",
      "Mobius of [3] is 0.100\n",
      "Mobius of [0, 1] is 0.245\n",
      "Mobius of [0, 2] is 0.335\n",
      "Mobius of [0, 3] is 0.437\n",
      "Mobius of [1, 2] is 0.279\n",
      "Mobius of [1, 3] is 0.180\n",
      "Mobius of [2, 3] is 0.351\n",
      "Mobius of [0, 1, 2] is 0.671\n",
      "Mobius of [0, 1, 3] is 0.541\n",
      "Mobius of [0, 2, 3] is 0.734\n",
      "Mobius of [1, 2, 3] is 0.594\n",
      "Mobius of [0, 1, 2, 3] is 1.000\n"
     ]
    }
   ],
   "source": [
    "mutated_mobius = mutate(capacity, mutation_rate=0.2)\n",
    "print(\"\\nMutated Möbius:\")\n",
    "for i in range(len(mutated_mobius)):\n",
    "    print(f\"Mobius of {mutated_mobius[i].X} is {mutated_mobius[i].mu:.3f}\")"
   ]
  },
  {
   "cell_type": "code",
   "execution_count": 73,
   "id": "43df45b5",
   "metadata": {},
   "outputs": [
    {
     "name": "stdout",
     "output_type": "stream",
     "text": [
      "\n",
      "Mutated Möbius:\n",
      "Mobius of [] is 0.000\n",
      "Mobius of [0] is 0.087\n",
      "Mobius of [1] is 0.052\n",
      "Mobius of [2] is 0.120\n",
      "Mobius of [3] is 0.100\n",
      "Mobius of [0, 1] is 0.245\n",
      "Mobius of [0, 2] is 0.335\n",
      "Mobius of [0, 3] is 0.437\n",
      "Mobius of [1, 2] is 0.335\n",
      "Mobius of [1, 3] is 0.180\n",
      "Mobius of [2, 3] is 0.351\n",
      "Mobius of [0, 1, 2] is 0.573\n",
      "Mobius of [0, 1, 3] is 0.568\n",
      "Mobius of [0, 2, 3] is 0.799\n",
      "Mobius of [1, 2, 3] is 0.557\n",
      "Mobius of [0, 1, 2, 3] is 1.000\n"
     ]
    }
   ],
   "source": [
    "mutated_mu = mutate(capacity, mutation_rate=0.2)\n",
    "print(\"\\nMutated Möbius:\")\n",
    "for i in range(len(mutated_mu)):\n",
    "    print(f\"Mobius of {mutated_mu[i].X} is {mutated_mu[i].mu:.3f}\")"
   ]
  },
  {
   "cell_type": "code",
   "execution_count": 75,
   "id": "0417f3e2",
   "metadata": {},
   "outputs": [
    {
     "name": "stdout",
     "output_type": "stream",
     "text": [
      "Leave one out avec k = 1\n",
      "SimLevel1: 0.6666666666666666\n",
      "SimLevel2: 0.3933333333333333\n",
      "SimLevel3: 0.8733333333333333\n",
      "\n",
      "Result in 4.6165 seconds.\n",
      "Leave one out avec k = 2\n",
      "SimLevel1: 0.6666666666666666\n",
      "SimLevel2: 0.26666666666666666\n",
      "SimLevel3: 0.92\n",
      "\n",
      "Result in 5.2757 seconds.\n",
      "Leave one out avec k = 3\n",
      "SimLevel1: 0.6666666666666666\n",
      "SimLevel2: 0.4\n",
      "SimLevel3: 0.9333333333333333\n",
      "\n",
      "Result in 4.7413 seconds.\n",
      "Leave one out avec k = 4\n",
      "SimLevel1: 0.6666666666666666\n",
      "SimLevel2: 0.36\n",
      "SimLevel3: 0.92\n",
      "\n",
      "Result in 4.4426 seconds.\n",
      "Leave one out avec k = 5\n",
      "SimLevel1: 0.6666666666666666\n",
      "SimLevel2: 0.48\n",
      "SimLevel3: 0.94\n",
      "\n",
      "Result in 4.9256 seconds.\n",
      "Leave one out avec k = 6\n",
      "SimLevel1: 0.6666666666666666\n",
      "SimLevel2: 0.3333333333333333\n",
      "SimLevel3: 0.9266666666666666\n",
      "\n",
      "Result in 4.6908 seconds.\n",
      "Leave one out avec k = 7\n",
      "SimLevel1: 0.66\n",
      "SimLevel2: 0.34\n",
      "SimLevel3: 0.9466666666666667\n",
      "\n",
      "Result in 4.7815 seconds.\n",
      "Leave one out avec k = 8\n",
      "SimLevel1: 0.6666666666666666\n",
      "SimLevel2: 0.49333333333333335\n",
      "SimLevel3: 0.9533333333333334\n",
      "\n",
      "Result in 4.7202 seconds.\n",
      "Leave one out avec k = 9\n",
      "SimLevel1: 0.6666666666666666\n",
      "SimLevel2: 0.35333333333333333\n",
      "SimLevel3: 0.96\n",
      "\n",
      "Result in 5.0976 seconds.\n",
      "Leave one out avec k = 10\n",
      "SimLevel1: 0.6666666666666666\n",
      "SimLevel2: 0.29333333333333333\n",
      "SimLevel3: 0.9333333333333333\n",
      "\n",
      "Result in 5.1536 seconds.\n"
     ]
    },
    {
     "data": {
      "text/plain": [
       "<matplotlib.legend.Legend at 0x137e8b610>"
      ]
     },
     "execution_count": 75,
     "metadata": {},
     "output_type": "execute_result"
    },
    {
     "data": {
      "image/png": "[encoded data removed]",
      "text/plain": [
       "<Figure size 640x480 with 1 Axes>"
      ]
     },
     "metadata": {},
     "output_type": "display_data"
    }
   ],
   "source": [
    "# LOO evaluation\n",
    "# Define list for each sim level\n",
    "l1 = []\n",
    "l2 = []\n",
    "l3 = []\n",
    "k = 10\n",
    "\n",
    "for k in range(1, k+1): \n",
    "    tic = time.time()\n",
    "    mobius = generate_mobius(features)\n",
    "    mu = mobius_to_capacity(mobius, features)\n",
    "\n",
    "    print(f\"Leave one out avec k = {k}\")\n",
    "    \n",
    "    # SimLevel1\n",
    "    res = leave_one_out(\n",
    "            C = KNNFuzz(input_dimension=data.shape[1], mu=mu, k=3, sim=S1, choquet_version='d_choquet', p=1, q=1), \n",
    "            DS = (data, labels)\n",
    "        )\n",
    "    l1.append(res)\n",
    "    print(f\"SimLevel1: {res}\")\n",
    "    # Sim level 2\n",
    "    res = leave_one_out(\n",
    "            C = KNNFuzz(input_dimension=data.shape[1],mu=mu, k=k, sim=S2, choquet_version='d_choquet', p=1, q=1), \n",
    "            DS = (data, labels)\n",
    "        )\n",
    "    l2.append(res)\n",
    "    print(f\"SimLevel2: {res}\")\n",
    "\n",
    "    # Sim level 3\n",
    "    res = leave_one_out(\n",
    "            C = KNNFuzz(input_dimension=data.shape[1],mu=mu, k=k, sim=S3, choquet_version='d_choquet', p=1, q=1), \n",
    "            DS = (data, labels)\n",
    "        )\n",
    "    l3.append(res)\n",
    "    print(f\"SimLevel3: {res}\\n\")\n",
    "\n",
    "    toc = time.time()\n",
    "    print(f\"Result in {(toc-tic):0.4f} seconds.\")\n",
    "\n",
    "# Plot results\n",
    "plt.plot(l1, label=\"Sim level 1\", marker='o')\n",
    "plt.plot(l2, label=\"Sim level 2\", marker='o')\n",
    "plt.plot(l3, label=\"Sim level 3\", marker='o')\n",
    "\n",
    "# Config additional params\n",
    "plt.ylabel(\"LOO accuracy\")\n",
    "plt.xlabel(\"k\")\n",
    "plt.title(\"Leave-One-Out Evaluation Results\")\n",
    "plt.grid()\n",
    "plt.legend()"
   ]
  },
  {
   "cell_type": "code",
   "execution_count": null,
   "id": "03544b74",
   "metadata": {},
   "outputs": [],
   "source": []
  }
 ],
 "metadata": {
  "kernelspec": {
   "display_name": "rl-env",
   "language": "python",
   "name": "python3"
  },
  "language_info": {
   "codemirror_mode": {
    "name": "ipython",
    "version": 3
   },
   "file_extension": ".py",
   "mimetype": "text/x-python",
   "name": "python",
   "nbconvert_exporter": "python",
   "pygments_lexer": "ipython3",
   "version": "3.10.16"
  }
 },
 "nbformat": 4,
 "nbformat_minor": 5
}
