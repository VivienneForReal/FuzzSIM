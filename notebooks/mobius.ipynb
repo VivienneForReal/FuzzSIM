{
 "cells": [
  {
   "cell_type": "code",
   "execution_count": 1,
   "id": "cff2017d",
   "metadata": {},
   "outputs": [],
   "source": [
    "# Import basic libraries\n",
    "from palmerpenguins import load_penguins\n",
    "from sklearn.datasets import load_iris\n",
    "import numpy as np\n",
    "import pandas as pd\n",
    "import matplotlib.pyplot as plt\n",
    "import seaborn as sns\n",
    "sns.set_theme(style=\"darkgrid\")\n",
    "import time\n",
    "from sklearn.preprocessing import LabelEncoder\n",
    "import os\n",
    "os.chdir(\"/Users/hoangthuyduongvu/Desktop/FuzzSIM\")\n"
   ]
  },
  {
   "cell_type": "code",
   "execution_count": 2,
   "id": "b09079f9",
   "metadata": {},
   "outputs": [],
   "source": [
    "# Import personalized libraries\n",
    "from fuzz.src.capacity import *\n",
    "from fuzz.choquet.choquet import *\n",
    "from fuzz.src.norm import *\n",
    "from fuzz.src.knn import KNNFuzz\n",
    "from fuzz.src.sim import S1, S2, S3\n",
    "from fuzz.optim import *\n",
    "from fuzz.utils import *\n",
    "from fuzz.eval import leave_one_out\n",
    "from fuzz.dataloader import *\n",
    "from fuzz.choquet.d_choquet import *"
   ]
  },
  {
   "cell_type": "code",
   "execution_count": null,
   "id": "9d2457de",
   "metadata": {},
   "outputs": [
    {
     "name": "stdout",
     "output_type": "stream",
     "text": [
      "Möbius:\n",
      "Mobius of [] is 0.000\n",
      "Mobius of [0] is 0.466\n",
      "Mobius of [1] is 0.216\n",
      "Mobius of [2] is 0.115\n",
      "Mobius of [3] is 0.854\n",
      "Mobius of [0, 1] is 0.768\n",
      "Mobius of [0, 2] is 0.423\n",
      "Mobius of [0, 3] is 0.146\n",
      "Mobius of [1, 2] is 0.655\n",
      "Mobius of [1, 3] is 0.908\n",
      "Mobius of [2, 3] is 0.774\n",
      "\n",
      "Derived Capacity:\n",
      "Capacity of [] is 0.000\n",
      "Capacity of [0] is 0.088\n",
      "Capacity of [1] is 0.041\n",
      "Capacity of [2] is 0.022\n",
      "Capacity of [3] is 0.160\n",
      "Capacity of [0, 1] is 0.272\n",
      "Capacity of [0, 2] is 0.189\n",
      "Capacity of [0, 3] is 0.275\n",
      "Capacity of [1, 2] is 0.185\n",
      "Capacity of [1, 3] is 0.371\n",
      "Capacity of [2, 3] is 0.327\n",
      "Capacity of [0, 1, 2] is 0.496\n",
      "Capacity of [0, 1, 3] is 0.631\n",
      "Capacity of [0, 2, 3] is 0.522\n",
      "Capacity of [1, 2, 3] is 0.661\n",
      "Capacity of [0, 1, 2, 3] is 1.000\n"
     ]
    }
   ],
   "source": [
    "features = [0, 1, 2, 3]\n",
    "\n",
    "mobius = generate_mobius(features, 2)\n",
    "capacity = mobius_to_capacity(mobius, features)\n",
    "\n",
    "print(\"Möbius:\")\n",
    "for i in range(len(mobius)):\n",
    "    print(f\"Mobius of {mobius[i].X} is {mobius[i].mu:.3f}\")\n",
    "\n",
    "print(\"\\nDerived Capacity:\")\n",
    "for c in capacity:\n",
    "    print(f\"Capacity of {c.X} is {c.mu:.3f}\")\n"
   ]
  },
  {
   "cell_type": "code",
   "execution_count": 4,
   "id": "898e41cc",
   "metadata": {},
   "outputs": [
    {
     "name": "stdout",
     "output_type": "stream",
     "text": [
      "Subset: set()\n",
      "Subset: {0}\n",
      "Subset: {1}\n",
      "Subset: {2}\n",
      "Subset: {3}\n",
      "Subset: {0, 1}\n",
      "Subset: {0, 2}\n",
      "Subset: {0, 3}\n",
      "Subset: {1, 2}\n",
      "Subset: {1, 3}\n",
      "Subset: {2, 3}\n",
      "Subset: {0, 1, 2}\n",
      "Subset: {0, 1, 3}\n",
      "Subset: {0, 2, 3}\n",
      "Subset: {1, 2, 3}\n",
      "Subset: {0, 1, 2, 3}\n"
     ]
    }
   ],
   "source": [
    "for subset in powerset(features):\n",
    "    print(f\"Subset: {set(subset)}\")"
   ]
  },
  {
   "cell_type": "code",
   "execution_count": 5,
   "id": "1d6ec39f",
   "metadata": {},
   "outputs": [
    {
     "name": "stdout",
     "output_type": "stream",
     "text": [
      "val_check: [0, 1, 2] - capacity_observation_i: 0.4963852454028652 - val_check2: [1, 2] - capacity_observation_i_1: 0.18519380032368069\n",
      "val_check: [1, 2] - capacity_observation_i: 0.18519380032368069 - val_check2: [2] - capacity_observation_i_1: 0.021549387444901282\n",
      "val_check: [2] - capacity_observation_i: 0.021549387444901282 - val_check2: [] - capacity_observation_i_1: 0.0\n",
      "Choquet integral: 0.1613000054111476\n"
     ]
    }
   ],
   "source": [
    "X = np.array([0.2, 0.5, 0.8])\n",
    "choquet_value = Choquet_classic(X, capacity, verbose=True)\n",
    "print(\"Choquet integral:\", choquet_value)\n"
   ]
  },
  {
   "cell_type": "code",
   "execution_count": 6,
   "id": "ec2978d6",
   "metadata": {},
   "outputs": [],
   "source": [
    "iris_data = load_iris()\n",
    "iris = pd.DataFrame(data=iris_data.data, columns=iris_data.feature_names)\n",
    "iris['target'] = iris_data.target\n",
    "data, labels = iris.iloc[:, :-1].values, iris.iloc[:, -1].values\n",
    "data = batch_norm(np.array(data, dtype=np.float32))"
   ]
  },
  {
   "cell_type": "code",
   "execution_count": 7,
   "id": "ff73eda5",
   "metadata": {},
   "outputs": [
    {
     "name": "stdout",
     "output_type": "stream",
     "text": [
      "0.6997046493186498\n"
     ]
    }
   ],
   "source": [
    "choquet = Choquet(X=data[0], mu=capacity, version='classic', p=1, q=1)\n",
    "print(choquet.choquet)\n",
    "# choquet.Choquet_classic(verbose=True)"
   ]
  },
  {
   "cell_type": "code",
   "execution_count": 8,
   "id": "2a6976a9",
   "metadata": {},
   "outputs": [
    {
     "name": "stdout",
     "output_type": "stream",
     "text": [
      "val_check: [3, 2, 1, 0] - capacity_observation_i: 1.0 - val_check2: [2, 1, 0] - capacity_observation_i_1: 0.4963852454028652\n",
      "val_check: [2, 1, 0] - capacity_observation_i: 0.4963852454028652 - val_check2: [1, 0] - capacity_observation_i_1: 0.27242425829520156\n",
      "val_check: [1, 0] - capacity_observation_i: 0.27242425829520156 - val_check2: [0] - capacity_observation_i_1: 0.08761653885000532\n",
      "val_check: [0] - capacity_observation_i: 0.08761653885000532 - val_check2: [] - capacity_observation_i_1: 0.0\n",
      "Choquet integral: 0.6997046493186498\n"
     ]
    }
   ],
   "source": [
    "X = data[0]\n",
    "choquet_value = Choquet_classic(X, capacity, verbose=True)\n",
    "print(\"Choquet integral:\", choquet_value)\n"
   ]
  },
  {
   "cell_type": "code",
   "execution_count": 9,
   "id": "f4519c90",
   "metadata": {},
   "outputs": [
    {
     "name": "stdout",
     "output_type": "stream",
     "text": [
      "\n",
      "Crossed Capacity:\n",
      "Capacity of [] is 0.000\n",
      "Capacity of [3] is 0.049\n",
      "Capacity of [2] is 0.169\n",
      "Capacity of [1] is 0.135\n",
      "Capacity of [0] is 0.135\n",
      "Capacity of [3, 2] is 0.259\n",
      "Capacity of [3, 1] is 0.268\n",
      "Capacity of [3, 0] is 0.349\n",
      "Capacity of [2, 1] is 0.803\n",
      "Capacity of [2, 0] is 0.426\n",
      "Capacity of [1, 0] is 0.430\n",
      "Capacity of [3, 2, 1] is 0.457\n",
      "Capacity of [3, 2, 0] is 0.471\n",
      "Capacity of [3, 1, 0] is 0.718\n",
      "Capacity of [2, 1, 0] is 0.745\n",
      "Capacity of [3, 2, 1, 0] is 1.000\n"
     ]
    }
   ],
   "source": [
    "cross = crossover(\n",
    "    parent1=generate_capacity(enumerate_permute_unit(data[0])), \n",
    "    parent2=generate_capacity(enumerate_permute_unit(data[0]))\n",
    ")\n",
    "print(\"\\nCrossed Capacity:\")\n",
    "for c in cross:\n",
    "    print(f\"Capacity of {c.X} is {c.mu:.3f}\")"
   ]
  },
  {
   "cell_type": "code",
   "execution_count": 10,
   "id": "abbb2e10",
   "metadata": {},
   "outputs": [
    {
     "name": "stdout",
     "output_type": "stream",
     "text": [
      "\n",
      "Mutated Möbius:\n",
      "Mobius of [] is 0.000\n",
      "Mobius of [0] is 0.088\n",
      "Mobius of [1] is 0.000\n",
      "Mobius of [2] is 0.022\n",
      "Mobius of [3] is 0.160\n",
      "Mobius of [0, 1] is 0.191\n",
      "Mobius of [0, 2] is 0.110\n",
      "Mobius of [0, 3] is 0.275\n",
      "Mobius of [1, 2] is 0.185\n",
      "Mobius of [1, 3] is 0.371\n",
      "Mobius of [2, 3] is 0.303\n",
      "Mobius of [0, 1, 2] is 0.496\n",
      "Mobius of [0, 1, 3] is 0.631\n",
      "Mobius of [0, 2, 3] is 0.522\n",
      "Mobius of [1, 2, 3] is 0.656\n",
      "Mobius of [0, 1, 2, 3] is 1.000\n"
     ]
    }
   ],
   "source": [
    "mutated_mobius = mutate(capacity, mutation_rate=0.2)\n",
    "print(\"\\nMutated Möbius:\")\n",
    "for i in range(len(mutated_mobius)):\n",
    "    print(f\"Mobius of {mutated_mobius[i].X} is {mutated_mobius[i].mu:.3f}\")"
   ]
  },
  {
   "cell_type": "code",
   "execution_count": 11,
   "id": "43df45b5",
   "metadata": {},
   "outputs": [
    {
     "name": "stdout",
     "output_type": "stream",
     "text": [
      "\n",
      "Mutated Möbius:\n",
      "Mobius of [] is 0.000\n",
      "Mobius of [0] is 0.088\n",
      "Mobius of [1] is 0.041\n",
      "Mobius of [2] is 0.022\n",
      "Mobius of [3] is 0.075\n",
      "Mobius of [0, 1] is 0.272\n",
      "Mobius of [0, 2] is 0.189\n",
      "Mobius of [0, 3] is 0.363\n",
      "Mobius of [1, 2] is 0.185\n",
      "Mobius of [1, 3] is 0.463\n",
      "Mobius of [2, 3] is 0.327\n",
      "Mobius of [0, 1, 2] is 0.496\n",
      "Mobius of [0, 1, 3] is 0.631\n",
      "Mobius of [0, 2, 3] is 0.522\n",
      "Mobius of [1, 2, 3] is 0.661\n",
      "Mobius of [0, 1, 2, 3] is 1.000\n"
     ]
    }
   ],
   "source": [
    "mutated_mu = mutate(capacity, mutation_rate=0.2)\n",
    "print(\"\\nMutated Möbius:\")\n",
    "for i in range(len(mutated_mu)):\n",
    "    print(f\"Mobius of {mutated_mu[i].X} is {mutated_mu[i].mu:.3f}\")"
   ]
  },
  {
   "cell_type": "code",
   "execution_count": 12,
   "id": "0417f3e2",
   "metadata": {},
   "outputs": [
    {
     "name": "stdout",
     "output_type": "stream",
     "text": [
      "Leave one out avec k = 1\n",
      "SimLevel1: 0.66\n",
      "SimLevel2: 0.36\n",
      "SimLevel3: 0.7866666666666666\n",
      "\n",
      "Result in 5.4779 seconds.\n",
      "Leave one out avec k = 2\n",
      "SimLevel1: 0.6666666666666666\n",
      "SimLevel2: 0.54\n",
      "SimLevel3: 0.9533333333333334\n",
      "\n",
      "Result in 5.1070 seconds.\n",
      "Leave one out avec k = 3\n",
      "SimLevel1: 0.6666666666666666\n",
      "SimLevel2: 0.36666666666666664\n",
      "SimLevel3: 0.9266666666666666\n",
      "\n",
      "Result in 6.5736 seconds.\n",
      "Leave one out avec k = 4\n",
      "SimLevel1: 0.6666666666666666\n",
      "SimLevel2: 0.28\n",
      "SimLevel3: 0.9533333333333334\n",
      "\n",
      "Result in 4.8101 seconds.\n",
      "Leave one out avec k = 5\n",
      "SimLevel1: 0.6666666666666666\n",
      "SimLevel2: 0.36666666666666664\n",
      "SimLevel3: 0.9066666666666666\n",
      "\n",
      "Result in 5.1048 seconds.\n",
      "Leave one out avec k = 6\n",
      "SimLevel1: 0.6666666666666666\n",
      "SimLevel2: 0.32666666666666666\n",
      "SimLevel3: 0.9266666666666666\n",
      "\n",
      "Result in 4.5571 seconds.\n",
      "Leave one out avec k = 7\n",
      "SimLevel1: 0.6666666666666666\n",
      "SimLevel2: 0.34\n",
      "SimLevel3: 0.9333333333333333\n",
      "\n",
      "Result in 4.9887 seconds.\n",
      "Leave one out avec k = 8\n",
      "SimLevel1: 0.6666666666666666\n",
      "SimLevel2: 0.30666666666666664\n",
      "SimLevel3: 0.9333333333333333\n",
      "\n",
      "Result in 5.1576 seconds.\n",
      "Leave one out avec k = 9\n",
      "SimLevel1: 0.6666666666666666\n",
      "SimLevel2: 0.54\n",
      "SimLevel3: 0.9533333333333334\n",
      "\n",
      "Result in 5.2393 seconds.\n",
      "Leave one out avec k = 10\n",
      "SimLevel1: 0.6666666666666666\n",
      "SimLevel2: 0.41333333333333333\n",
      "SimLevel3: 0.9466666666666667\n",
      "\n",
      "Result in 4.7134 seconds.\n"
     ]
    },
    {
     "data": {
      "text/plain": [
       "<matplotlib.legend.Legend at 0x15edb1960>"
      ]
     },
     "execution_count": 12,
     "metadata": {},
     "output_type": "execute_result"
    },
    {
     "data": {
      "image/png": "[encoded data removed]",
      "text/plain": [
       "<Figure size 640x480 with 1 Axes>"
      ]
     },
     "metadata": {},
     "output_type": "display_data"
    }
   ],
   "source": [
    "# LOO evaluation\n",
    "# Define list for each sim level\n",
    "l1 = []\n",
    "l2 = []\n",
    "l3 = []\n",
    "k = 10\n",
    "\n",
    "for k in range(1, k+1): \n",
    "    tic = time.time()\n",
    "    mobius = generate_mobius(features)\n",
    "    mu = mobius_to_capacity(mobius, features)\n",
    "\n",
    "    print(f\"Leave one out avec k = {k}\")\n",
    "    \n",
    "    # SimLevel1\n",
    "    res = leave_one_out(\n",
    "            C = KNNFuzz(input_dimension=data.shape[1], mu=mu, k=3, sim=S1, choquet_version='d_choquet', p=1, q=1), \n",
    "            DS = (data, labels)\n",
    "        )\n",
    "    l1.append(res)\n",
    "    print(f\"SimLevel1: {res}\")\n",
    "    # Sim level 2\n",
    "    res = leave_one_out(\n",
    "            C = KNNFuzz(input_dimension=data.shape[1],mu=mu, k=k, sim=S2, choquet_version='d_choquet', p=1, q=1), \n",
    "            DS = (data, labels)\n",
    "        )\n",
    "    l2.append(res)\n",
    "    print(f\"SimLevel2: {res}\")\n",
    "\n",
    "    # Sim level 3\n",
    "    res = leave_one_out(\n",
    "            C = KNNFuzz(input_dimension=data.shape[1],mu=mu, k=k, sim=S3, choquet_version='d_choquet', p=1, q=1), \n",
    "            DS = (data, labels)\n",
    "        )\n",
    "    l3.append(res)\n",
    "    print(f\"SimLevel3: {res}\\n\")\n",
    "\n",
    "    toc = time.time()\n",
    "    print(f\"Result in {(toc-tic):0.4f} seconds.\")\n",
    "\n",
    "# Plot results\n",
    "plt.plot(l1, label=\"Sim level 1\", marker='o')\n",
    "plt.plot(l2, label=\"Sim level 2\", marker='o')\n",
    "plt.plot(l3, label=\"Sim level 3\", marker='o')\n",
    "\n",
    "# Config additional params\n",
    "plt.ylabel(\"LOO accuracy\")\n",
    "plt.xlabel(\"k\")\n",
    "plt.title(\"Leave-One-Out Evaluation Results\")\n",
    "plt.grid()\n",
    "plt.legend()"
   ]
  },
  {
   "cell_type": "code",
   "execution_count": null,
   "id": "03544b74",
   "metadata": {},
   "outputs": [],
   "source": []
  }
 ],
 "metadata": {
  "kernelspec": {
   "display_name": "rl-env",
   "language": "python",
   "name": "python3"
  },
  "language_info": {
   "codemirror_mode": {
    "name": "ipython",
    "version": 3
   },
   "file_extension": ".py",
   "mimetype": "text/x-python",
   "name": "python",
   "nbconvert_exporter": "python",
   "pygments_lexer": "ipython3",
   "version": "3.10.16"
  }
 },
 "nbformat": 4,
 "nbformat_minor": 5
}
