{
 "cells": [
  {
   "cell_type": "code",
   "execution_count": 1,
   "id": "cff2017d",
   "metadata": {},
   "outputs": [],
   "source": [
    "# Import basic libraries\n",
    "from palmerpenguins import load_penguins\n",
    "from sklearn.datasets import load_iris\n",
    "import numpy as np\n",
    "import pandas as pd\n",
    "import matplotlib.pyplot as plt\n",
    "import seaborn as sns\n",
    "sns.set_theme(style=\"darkgrid\")\n",
    "import time\n",
    "from sklearn.preprocessing import LabelEncoder\n",
    "import os\n",
    "os.chdir(\"/Users/hoangthuyduongvu/Desktop/FuzzSIM\")\n"
   ]
  },
  {
   "cell_type": "code",
   "execution_count": 2,
   "id": "b09079f9",
   "metadata": {},
   "outputs": [],
   "source": [
    "# Import personalized libraries\n",
    "from fuzz.src.capacity import *\n",
    "from fuzz.choquet.choquet import *\n",
    "from fuzz.src.norm import *\n",
    "from fuzz.src.knn import KNNFuzz\n",
    "from fuzz.src.sim import S1, S2, S3\n",
    "from fuzz.optim import *\n",
    "from fuzz.utils import *\n",
    "from fuzz.eval import leave_one_out\n",
    "from fuzz.dataloader import *\n",
    "from fuzz.choquet.d_choquet import *"
   ]
  },
  {
   "cell_type": "code",
   "execution_count": 43,
   "id": "0d58d612",
   "metadata": {},
   "outputs": [],
   "source": [
    "def generate_mobius(feature_indices: List[int]) -> List[Capacity]:\n",
    "    \"\"\"Generate a random 2-additive Möbius measure.\"\"\"\n",
    "    m = {}\n",
    "    # Singleton terms\n",
    "    for i in feature_indices:\n",
    "        m[frozenset([i])] = np.random.rand()\n",
    "    \n",
    "    # Pairwise interaction terms (2-additive)\n",
    "    for i, j in combinations(feature_indices, 2):\n",
    "        m[frozenset([i, j])] = np.random.rand()\n",
    "\n",
    "    m[frozenset()] = 0.0\n",
    "\n",
    "    tmp = []\n",
    "    # Convert to fit with Capacity implementation\n",
    "    for k, v in m.items():\n",
    "        tmp.append(Capacity(list(k), v))\n",
    "    return tmp\n",
    "\n",
    "def mobius_to_capacity(m: List[Capacity], feature_indices: List[int]) -> List[Capacity]:\n",
    "    \"\"\"\n",
    "    Convert Möbius transform to capacity.\n",
    "    m: mobius \n",
    "    \"\"\"\n",
    "    mu = []\n",
    "    for subset in powerset(feature_indices):\n",
    "        fs_subset = frozenset(subset)\n",
    "        total = 0.0\n",
    "        for B in powerset(subset):\n",
    "            fs_B = list(frozenset(B))\n",
    "            tmp = locate_capacity(X=fs_B, capacity=m)\n",
    "            # print(f\"fs_B: {fs_B}, tmp: {tmp}\")\n",
    "            # if fs_B in m:\n",
    "            total += tmp\n",
    "        mu.append(Capacity(list(fs_subset), total))\n",
    "\n",
    "    def norm_capacity(capacity: List[Capacity]) -> List[Capacity]:\n",
    "        \"\"\"Normalize the capacity.\"\"\"\n",
    "        lst = [c.mu for c in capacity if c.mu is not None]\n",
    "        min_lst = min(lst)\n",
    "        max_lst = max(lst)\n",
    "        # Normalize to [0, 1]\n",
    "        lst = norm(lst)\n",
    "        tmp = []\n",
    "        for i in range(len(lst)):\n",
    "            tmp.append(Capacity(capacity[i].X, lst[i]))\n",
    "        return tmp\n",
    "    return norm_capacity(mu)"
   ]
  },
  {
   "cell_type": "code",
   "execution_count": 44,
   "id": "9d2457de",
   "metadata": {},
   "outputs": [
    {
     "name": "stdout",
     "output_type": "stream",
     "text": [
      "Möbius:\n",
      "Mobius of [0] is 0.878\n",
      "Mobius of [1] is 0.899\n",
      "Mobius of [2] is 0.624\n",
      "Mobius of [3] is 0.999\n",
      "Mobius of [0, 1] is 0.938\n",
      "Mobius of [0, 2] is 0.875\n",
      "Mobius of [0, 3] is 0.444\n",
      "Mobius of [1, 2] is 0.316\n",
      "Mobius of [1, 3] is 0.974\n",
      "Mobius of [2, 3] is 0.682\n",
      "Mobius of [] is 0.000\n",
      "\n",
      "Derived Capacity:\n",
      "Capacity of [] is 0.000\n",
      "Capacity of [0] is 0.115\n",
      "Capacity of [1] is 0.118\n",
      "Capacity of [2] is 0.082\n",
      "Capacity of [3] is 0.131\n",
      "Capacity of [0, 1] is 0.356\n",
      "Capacity of [0, 2] is 0.312\n",
      "Capacity of [0, 3] is 0.304\n",
      "Capacity of [1, 2] is 0.241\n",
      "Capacity of [1, 3] is 0.377\n",
      "Capacity of [2, 3] is 0.302\n",
      "Capacity of [0, 1, 2] is 0.594\n",
      "Capacity of [0, 1, 3] is 0.673\n",
      "Capacity of [0, 2, 3] is 0.590\n",
      "Capacity of [1, 2, 3] is 0.589\n",
      "Capacity of [0, 1, 2, 3] is 1.000\n"
     ]
    }
   ],
   "source": [
    "features = [0, 1, 2, 3]\n",
    "\n",
    "mobius = generate_mobius(features)\n",
    "capacity = mobius_to_capacity(mobius, features)\n",
    "\n",
    "print(\"Möbius:\")\n",
    "for i in range(len(mobius)):\n",
    "    print(f\"Mobius of {mobius[i].X} is {mobius[i].mu:.3f}\")\n",
    "\n",
    "print(\"\\nDerived Capacity:\")\n",
    "for c in capacity:\n",
    "    print(f\"Capacity of {c.X} is {c.mu:.3f}\")\n"
   ]
  },
  {
   "cell_type": "code",
   "execution_count": 18,
   "id": "898e41cc",
   "metadata": {},
   "outputs": [
    {
     "name": "stdout",
     "output_type": "stream",
     "text": [
      "Subset: set()\n",
      "Subset: {0}\n",
      "Subset: {1}\n",
      "Subset: {2}\n",
      "Subset: {3}\n",
      "Subset: {0, 1}\n",
      "Subset: {0, 2}\n",
      "Subset: {0, 3}\n",
      "Subset: {1, 2}\n",
      "Subset: {1, 3}\n",
      "Subset: {2, 3}\n",
      "Subset: {0, 1, 2}\n",
      "Subset: {0, 1, 3}\n",
      "Subset: {0, 2, 3}\n",
      "Subset: {1, 2, 3}\n",
      "Subset: {0, 1, 2, 3}\n"
     ]
    }
   ],
   "source": [
    "for subset in powerset(features):\n",
    "    print(f\"Subset: {set(subset)}\")"
   ]
  },
  {
   "cell_type": "code",
   "execution_count": 19,
   "id": "1d6ec39f",
   "metadata": {},
   "outputs": [
    {
     "name": "stdout",
     "output_type": "stream",
     "text": [
      "val_check: [0, 1, 2] - capacity_observation_i: 3.0477897080985366 - val_check2: [1, 2] - capacity_observation_i_1: 1.1313811569511114\n",
      "val_check: [1, 2] - capacity_observation_i: 1.1313811569511114 - val_check2: [2] - capacity_observation_i_1: 0.47940945914150856\n",
      "val_check: [2] - capacity_observation_i: 0.47940945914150856 - val_check2: [] - capacity_observation_i_1: 0.0\n",
      "Choquet integral: 1.0927951264474933\n"
     ]
    }
   ],
   "source": [
    "X = np.array([0.2, 0.5, 0.8])\n",
    "choquet_value = Choquet_classic(X, capacity, verbose=True)\n",
    "print(\"Choquet integral:\", choquet_value)\n"
   ]
  },
  {
   "cell_type": "code",
   "execution_count": 20,
   "id": "ec2978d6",
   "metadata": {},
   "outputs": [],
   "source": [
    "iris_data = load_iris()\n",
    "iris = pd.DataFrame(data=iris_data.data, columns=iris_data.feature_names)\n",
    "iris['target'] = iris_data.target\n",
    "data, labels = iris.iloc[:, :-1].values, iris.iloc[:, -1].values\n",
    "data = batch_norm(np.array(data, dtype=np.float32))"
   ]
  },
  {
   "cell_type": "code",
   "execution_count": 23,
   "id": "ff73eda5",
   "metadata": {},
   "outputs": [
    {
     "name": "stdout",
     "output_type": "stream",
     "text": [
      "3.7917923366899426\n"
     ]
    }
   ],
   "source": [
    "choquet = Choquet(X=data[0], mu=capacity, version='classic', p=1, q=1)\n",
    "print(choquet.choquet)\n",
    "# choquet.Choquet_classic(verbose=True)"
   ]
  },
  {
   "cell_type": "code",
   "execution_count": 24,
   "id": "2a6976a9",
   "metadata": {},
   "outputs": [
    {
     "name": "stdout",
     "output_type": "stream",
     "text": [
      "val_check: [3, 2, 1, 0] - capacity_observation_i: 5.635291663509719 - val_check2: [2, 1, 0] - capacity_observation_i_1: 3.0477897080985366\n",
      "val_check: [2, 1, 0] - capacity_observation_i: 3.0477897080985366 - val_check2: [1, 0] - capacity_observation_i_1: 1.64441463677246\n",
      "val_check: [1, 0] - capacity_observation_i: 1.64441463677246 - val_check2: [0] - capacity_observation_i_1: 0.58617683971143\n",
      "val_check: [0] - capacity_observation_i: 0.58617683971143 - val_check2: [] - capacity_observation_i_1: 0.0\n",
      "Choquet integral: 3.7917923366899426\n"
     ]
    }
   ],
   "source": [
    "X = data[0]\n",
    "choquet_value = Choquet_classic(X, capacity, verbose=True)\n",
    "print(\"Choquet integral:\", choquet_value)\n"
   ]
  },
  {
   "cell_type": "code",
   "execution_count": 25,
   "id": "37a7d047",
   "metadata": {},
   "outputs": [],
   "source": [
    "# Each individual is a dictionary of Möbius values\n",
    "def mutate(mobius, mutation_rate=0.1):\n",
    "    new_mobius = mobius.copy()\n",
    "    for i in range(len(mobius)):\n",
    "        if np.random.rand() < mutation_rate:\n",
    "            new_mobius[i] = Capacity(mobius[i].X, np.clip(mobius[i].mu + np.random.uniform(-0.1, 0.1), 0, 1))\n",
    "    return new_mobius"
   ]
  },
  {
   "cell_type": "code",
   "execution_count": 28,
   "id": "26508255",
   "metadata": {},
   "outputs": [],
   "source": [
    "def crossover(parent1, parent2):\n",
    "    \"\"\"Suppose that 2 parents have the same structure with different capacities.\"\"\"\n",
    "    child = []\n",
    "    # Get len parents \n",
    "    if len(parent1) != len(parent2):\n",
    "        raise ValueError(\"Parents must have the same length\")\n",
    "    len_parents = len(parent1)\n",
    "    for i in range(len_parents):\n",
    "        c_1 = parent1[i].mu\n",
    "        c_2 = parent2[i].mu\n",
    "        c_c = random.choice([c_1, c_2])\n",
    "        if c_c == c_1:\n",
    "            child.append(Capacity(parent1[i].X, c_1))\n",
    "        else:\n",
    "            child.append(Capacity(parent2[i].X, c_2))\n",
    "    return child"
   ]
  },
  {
   "cell_type": "code",
   "execution_count": 36,
   "id": "f4519c90",
   "metadata": {},
   "outputs": [
    {
     "name": "stdout",
     "output_type": "stream",
     "text": [
      "\n",
      "Crossed Capacity:\n",
      "Capacity of [] is 0.000\n",
      "Capacity of [3] is 0.024\n",
      "Capacity of [2] is 0.130\n",
      "Capacity of [1] is 0.145\n",
      "Capacity of [0] is 0.167\n",
      "Capacity of [3, 2] is 0.355\n",
      "Capacity of [3, 1] is 0.501\n",
      "Capacity of [3, 0] is 0.519\n",
      "Capacity of [2, 1] is 0.568\n",
      "Capacity of [2, 0] is 0.735\n",
      "Capacity of [1, 0] is 0.832\n",
      "Capacity of [3, 2, 1] is 0.834\n",
      "Capacity of [3, 2, 0] is 0.872\n",
      "Capacity of [3, 1, 0] is 0.919\n",
      "Capacity of [2, 1, 0] is 0.948\n",
      "Capacity of [3, 2, 1, 0] is 1.000\n"
     ]
    }
   ],
   "source": [
    "cross = crossover(\n",
    "    parent1=generate_capacity(enumerate_permute_unit(data[0])), \n",
    "    parent2=generate_capacity(enumerate_permute_unit(data[0]))\n",
    ")\n",
    "print(\"\\nCrossed Capacity:\")\n",
    "for c in cross:\n",
    "    print(f\"Capacity of {c.X} is {c.mu:.3f}\")"
   ]
  },
  {
   "cell_type": "code",
   "execution_count": 27,
   "id": "43df45b5",
   "metadata": {},
   "outputs": [
    {
     "name": "stdout",
     "output_type": "stream",
     "text": [
      "\n",
      "Mutated Möbius:\n",
      "Mobius of [0] is 0.573\n",
      "Mobius of [1] is 0.169\n",
      "Mobius of [2] is 0.479\n",
      "Mobius of [3] is 0.974\n",
      "Mobius of [0, 1] is 0.926\n",
      "Mobius of [0, 2] is 0.404\n",
      "Mobius of [0, 3] is 0.639\n",
      "Mobius of [1, 2] is 0.520\n",
      "Mobius of [1, 3] is 0.279\n",
      "Mobius of [2, 3] is 0.695\n",
      "Mobius of [] is 0.000\n"
     ]
    }
   ],
   "source": [
    "mutated_mobius = mutate(mobius, mutation_rate=0.2)\n",
    "print(\"\\nMutated Möbius:\")\n",
    "for i in range(len(mutated_mobius)):\n",
    "    print(f\"Mobius of {mutated_mobius[i].X} is {mutated_mobius[i].mu:.3f}\")"
   ]
  },
  {
   "cell_type": "code",
   "execution_count": null,
   "id": "0417f3e2",
   "metadata": {},
   "outputs": [],
   "source": []
  }
 ],
 "metadata": {
  "kernelspec": {
   "display_name": "rl-env",
   "language": "python",
   "name": "python3"
  },
  "language_info": {
   "codemirror_mode": {
    "name": "ipython",
    "version": 3
   },
   "file_extension": ".py",
   "mimetype": "text/x-python",
   "name": "python",
   "nbconvert_exporter": "python",
   "pygments_lexer": "ipython3",
   "version": "3.10.16"
  }
 },
 "nbformat": 4,
 "nbformat_minor": 5
}
