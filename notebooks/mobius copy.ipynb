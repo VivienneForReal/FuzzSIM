{
 "cells": [
  {
   "cell_type": "code",
   "execution_count": 1,
   "id": "cff2017d",
   "metadata": {},
   "outputs": [],
   "source": [
    "# Import basic libraries\n",
    "from palmerpenguins import load_penguins\n",
    "from sklearn.datasets import load_iris\n",
    "import numpy as np\n",
    "import pandas as pd\n",
    "import matplotlib.pyplot as plt\n",
    "import seaborn as sns\n",
    "sns.set_theme(style=\"darkgrid\")\n",
    "import time\n",
    "from sklearn.preprocessing import LabelEncoder\n",
    "import os\n",
    "os.chdir(\"/Users/hoangthuyduongvu/Desktop/FuzzSIM\")\n"
   ]
  },
  {
   "cell_type": "code",
   "execution_count": 2,
   "id": "b09079f9",
   "metadata": {},
   "outputs": [],
   "source": [
    "# Import personalized libraries\n",
    "from fuzz.src.capacity import *\n",
    "from fuzz.choquet.choquet import *\n",
    "from fuzz.src.norm import *\n",
    "from fuzz.src.knn import KNNFuzz\n",
    "from fuzz.src.sim import S1, S2, S3\n",
    "from fuzz.optim import *\n",
    "from fuzz.utils import *\n",
    "from fuzz.eval import leave_one_out\n",
    "from fuzz.dataloader import *\n",
    "from fuzz.choquet.d_choquet import *"
   ]
  },
  {
   "cell_type": "markdown",
   "id": "c6275daa",
   "metadata": {},
   "source": [
    "# BASIC"
   ]
  },
  {
   "cell_type": "code",
   "execution_count": 3,
   "id": "b26bb9ca",
   "metadata": {},
   "outputs": [],
   "source": [
    "# Load data \n",
    "iris_data = load_iris()\n",
    "iris = pd.DataFrame(data=iris_data.data, columns=iris_data.feature_names)\n",
    "iris['target'] = iris_data.target\n",
    "data, labels = iris.iloc[:, :-1].values, iris.iloc[:, -1].values\n",
    "data = batch_norm(np.array(data, dtype=np.float32))"
   ]
  },
  {
   "cell_type": "code",
   "execution_count": 7,
   "id": "18446eaa",
   "metadata": {},
   "outputs": [
    {
     "name": "stdout",
     "output_type": "stream",
     "text": [
      "True\n",
      "False\n",
      "True\n"
     ]
    }
   ],
   "source": [
    "print(monotonic_check_unit(\n",
    "    X = Capacity(X=[1,2,3], mu=0.4),\n",
    "    Y = Capacity(X=[2,3], mu=0.1)\n",
    "))  # -> True\n",
    "print(monotonic_check_unit(\n",
    "    X = Capacity(X=[1,2,3], mu=0.04),\n",
    "    Y = Capacity(X=[2,3], mu=0.1)\n",
    "))  # -> False\n",
    "print(monotonic_check_unit(\n",
    "    X = Capacity(X=[1,3], mu=0.04),\n",
    "    Y = Capacity(X=[2,3], mu=0.1)\n",
    "))  # -> True"
   ]
  },
  {
   "cell_type": "code",
   "execution_count": 12,
   "id": "ca386c20",
   "metadata": {},
   "outputs": [
    {
     "name": "stdout",
     "output_type": "stream",
     "text": [
      "Capaicity of [] is 0\n",
      "Capaicity of [3] is 0.027537024529366128\n",
      "Capaicity of [2] is 0.10154185134699456\n",
      "Capaicity of [1] is 0.10709754140919547\n",
      "Capaicity of [0] is 0.17624043600849904\n",
      "Capaicity of [3, 2] is 0.1894521068673024\n",
      "Capaicity of [3, 1] is 0.19809721233273314\n",
      "Capaicity of [3, 0] is 0.36116704633526087\n",
      "Capaicity of [2, 1] is 0.4307516159361944\n",
      "Capaicity of [2, 0] is 0.5391636122574057\n",
      "Capaicity of [1, 0] is 0.6572586003972716\n",
      "Capaicity of [3, 2, 1] is 0.7080812490800965\n",
      "Capaicity of [3, 2, 0] is 0.9238727546009731\n",
      "Capaicity of [3, 1, 0] is 0.9355529448509242\n",
      "Capaicity of [2, 1, 0] is 0.9675076441460724\n",
      "Capaicity of [3, 2, 1, 0] is 1\n",
      "\n",
      "Monotonicity check: True\n"
     ]
    }
   ],
   "source": [
    "mu=generate_capacity(enumerate_permute_unit(data[0]))\n",
    "for i in range(len(mu)):\n",
    "    print(f\"Capaicity of {mu[i].X} is {mu[i].mu}\")\n",
    "print()\n",
    "print(\"Monotonicity check:\", monotonic_check(mu))   # -> True"
   ]
  },
  {
   "cell_type": "code",
   "execution_count": 13,
   "id": "20780a1b",
   "metadata": {},
   "outputs": [
    {
     "name": "stdout",
     "output_type": "stream",
     "text": [
      "Möbius:\n",
      "Mobius of [] is 0.000\n",
      "Mobius of [np.float64(1.0)] is 0.898\n",
      "Mobius of [np.float64(0.6734693646430969)] is 0.163\n",
      "Mobius of [np.float64(0.24489794671535492)] is 0.144\n",
      "Mobius of [np.float64(0.0)] is 0.589\n",
      "Mobius of [np.float64(0.6734693646430969), np.float64(1.0)] is 0.665\n",
      "Mobius of [np.float64(0.24489794671535492), np.float64(1.0)] is 0.651\n",
      "Mobius of [np.float64(0.0), np.float64(1.0)] is 0.289\n",
      "Mobius of [np.float64(0.6734693646430969), np.float64(0.24489794671535492)] is 0.969\n",
      "Mobius of [np.float64(0.6734693646430969), np.float64(0.0)] is 0.969\n",
      "Mobius of [np.float64(0.24489794671535492), np.float64(0.0)] is 0.329\n",
      "\n",
      "Derived Capacity:\n",
      "Capacity of [] is 0.000\n",
      "Capacity of [np.float64(1.0)] is 0.158\n",
      "Capacity of [np.float64(0.6734693646430969)] is 0.029\n",
      "Capacity of [np.float64(0.24489794671535492)] is 0.025\n",
      "Capacity of [np.float64(0.0)] is 0.104\n",
      "Capacity of [np.float64(0.6734693646430969), np.float64(1.0)] is 0.305\n",
      "Capacity of [np.float64(0.24489794671535492), np.float64(1.0)] is 0.299\n",
      "Capacity of [np.float64(0.0), np.float64(1.0)] is 0.313\n",
      "Capacity of [np.float64(0.6734693646430969), np.float64(0.24489794671535492)] is 0.225\n",
      "Capacity of [np.float64(0.6734693646430969), np.float64(0.0)] is 0.304\n",
      "Capacity of [np.float64(0.24489794671535492), np.float64(0.0)] is 0.187\n",
      "Capacity of [np.float64(0.6734693646430969), np.float64(1.0), np.float64(0.24489794671535492)] is 0.616\n",
      "Capacity of [np.float64(0.6734693646430969), np.float64(1.0), np.float64(0.0)] is 0.631\n",
      "Capacity of [np.float64(0.24489794671535492), np.float64(1.0), np.float64(0.0)] is 0.512\n",
      "Capacity of [np.float64(0.6734693646430969), np.float64(0.24489794671535492), np.float64(0.0)] is 0.558\n",
      "Capacity of [np.float64(0.6734693646430969), np.float64(1.0), np.float64(0.24489794671535492), np.float64(0.0)] is 1.000\n"
     ]
    }
   ],
   "source": [
    "features = data[0]\n",
    "\n",
    "mobius = generate_mobius(features, 2)\n",
    "capacity = mobius_to_capacity(mobius, features)\n",
    "\n",
    "print(\"Möbius:\")\n",
    "for i in range(len(mobius)):\n",
    "    print(f\"Mobius of {mobius[i].X} is {mobius[i].mu:.3f}\")\n",
    "\n",
    "print(\"\\nDerived Capacity:\")\n",
    "for c in capacity:\n",
    "    print(f\"Capacity of {c.X} is {c.mu:.3f}\")\n"
   ]
  },
  {
   "cell_type": "code",
   "execution_count": null,
   "id": "644208a0",
   "metadata": {},
   "outputs": [],
   "source": []
  }
 ],
 "metadata": {
  "kernelspec": {
   "display_name": "rl-env",
   "language": "python",
   "name": "python3"
  },
  "language_info": {
   "codemirror_mode": {
    "name": "ipython",
    "version": 3
   },
   "file_extension": ".py",
   "mimetype": "text/x-python",
   "name": "python",
   "nbconvert_exporter": "python",
   "pygments_lexer": "ipython3",
   "version": "3.10.16"
  }
 },
 "nbformat": 4,
 "nbformat_minor": 5
}
