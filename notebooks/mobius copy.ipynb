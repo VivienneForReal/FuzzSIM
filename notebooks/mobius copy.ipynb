{
 "cells": [
  {
   "cell_type": "code",
   "execution_count": 1,
   "id": "cff2017d",
   "metadata": {},
   "outputs": [],
   "source": [
    "# Import basic libraries\n",
    "from palmerpenguins import load_penguins\n",
    "from sklearn.datasets import load_iris\n",
    "import numpy as np\n",
    "import pandas as pd\n",
    "import matplotlib.pyplot as plt\n",
    "import seaborn as sns\n",
    "sns.set_theme(style=\"darkgrid\")\n",
    "import time\n",
    "from sklearn.preprocessing import LabelEncoder\n",
    "import os\n",
    "os.chdir(\"/Users/hoangthuyduongvu/Desktop/FuzzSIM\")\n"
   ]
  },
  {
   "cell_type": "code",
   "execution_count": 2,
   "id": "b09079f9",
   "metadata": {},
   "outputs": [],
   "source": [
    "# Import personalized libraries\n",
    "from fuzz.src.capacity import *\n",
    "from fuzz.choquet.choquet import *\n",
    "from fuzz.src.norm import *\n",
    "from fuzz.src.knn import KNNFuzz\n",
    "from fuzz.src.sim import S1, S2, S3\n",
    "from fuzz.optim import *\n",
    "from fuzz.utils import *\n",
    "from fuzz.eval import leave_one_out\n",
    "from fuzz.dataloader import *\n",
    "from fuzz.choquet.d_choquet import *"
   ]
  },
  {
   "cell_type": "markdown",
   "id": "c6275daa",
   "metadata": {},
   "source": [
    "# BASIC"
   ]
  },
  {
   "cell_type": "code",
   "execution_count": 3,
   "id": "b26bb9ca",
   "metadata": {},
   "outputs": [],
   "source": [
    "# Load data \n",
    "iris_data = load_iris()\n",
    "iris = pd.DataFrame(data=iris_data.data, columns=iris_data.feature_names)\n",
    "iris['target'] = iris_data.target\n",
    "data, labels = iris.iloc[:, :-1].values, iris.iloc[:, -1].values\n",
    "data = batch_norm(np.array(data, dtype=np.float32))"
   ]
  },
  {
   "cell_type": "code",
   "execution_count": 4,
   "id": "18446eaa",
   "metadata": {},
   "outputs": [
    {
     "name": "stdout",
     "output_type": "stream",
     "text": [
      "True\n",
      "False\n",
      "True\n"
     ]
    }
   ],
   "source": [
    "print(monotonic_check_unit(\n",
    "    X = Capacity(X=[1,2,3], mu=0.4),\n",
    "    Y = Capacity(X=[2,3], mu=0.1)\n",
    "))  # -> True\n",
    "print(monotonic_check_unit(\n",
    "    X = Capacity(X=[1,2,3], mu=0.04),\n",
    "    Y = Capacity(X=[2,3], mu=0.1)\n",
    "))  # -> False\n",
    "print(monotonic_check_unit(\n",
    "    X = Capacity(X=[1,3], mu=0.04),\n",
    "    Y = Capacity(X=[2,3], mu=0.1)\n",
    "))  # -> True"
   ]
  },
  {
   "cell_type": "code",
   "execution_count": 5,
   "id": "ca386c20",
   "metadata": {},
   "outputs": [
    {
     "name": "stdout",
     "output_type": "stream",
     "text": [
      "Capaicity of [] is 0\n",
      "Capaicity of [3] is 0.137139089203676\n",
      "Capaicity of [2] is 0.1710202591347042\n",
      "Capaicity of [1] is 0.1726825353849043\n",
      "Capaicity of [0] is 0.2594524995694957\n",
      "Capaicity of [3, 2] is 0.30578416930366814\n",
      "Capaicity of [3, 1] is 0.4275607686625058\n",
      "Capaicity of [3, 0] is 0.4764465312979016\n",
      "Capaicity of [2, 1] is 0.535031472575219\n",
      "Capaicity of [2, 0] is 0.6205086468325617\n",
      "Capaicity of [1, 0] is 0.6411042753483698\n",
      "Capaicity of [3, 2, 1] is 0.650726126766266\n",
      "Capaicity of [3, 2, 0] is 0.7010349450820148\n",
      "Capaicity of [3, 1, 0] is 0.9215490025457924\n",
      "Capaicity of [2, 1, 0] is 0.9978869726182438\n",
      "Capaicity of [3, 2, 1, 0] is 1\n",
      "\n",
      "Monotonicity check: True\n"
     ]
    }
   ],
   "source": [
    "mu=generate_capacity(enumerate_permute_unit(data[0]))\n",
    "for i in range(len(mu)):\n",
    "    print(f\"Capaicity of {mu[i].X} is {mu[i].mu}\")\n",
    "print()\n",
    "print(\"Monotonicity check:\", monotonic_check(mu))   # -> True"
   ]
  },
  {
   "cell_type": "code",
   "execution_count": 6,
   "id": "20780a1b",
   "metadata": {},
   "outputs": [
    {
     "name": "stdout",
     "output_type": "stream",
     "text": [
      "Möbius:\n",
      "Mobius of [np.float64(1.0)] is 0.823\n",
      "Mobius of [np.float64(0.6734693646430969)] is 0.365\n",
      "Mobius of [np.float64(0.24489794671535492)] is 0.643\n",
      "Mobius of [np.float64(0.0)] is 0.677\n",
      "Mobius of [np.float64(0.6734693646430969), np.float64(1.0)] is 0.301\n",
      "Mobius of [np.float64(0.24489794671535492), np.float64(1.0)] is 0.881\n",
      "Mobius of [np.float64(0.0), np.float64(1.0)] is 0.119\n",
      "Mobius of [np.float64(0.6734693646430969), np.float64(0.24489794671535492)] is 0.065\n",
      "Mobius of [np.float64(0.6734693646430969), np.float64(0.0)] is 0.225\n",
      "Mobius of [np.float64(0.24489794671535492), np.float64(0.0)] is 0.064\n",
      "\n",
      "Derived Capacity:\n",
      "Capacity of [] is 0.000\n",
      "Capacity of [np.float64(1.0)] is 0.198\n",
      "Capacity of [np.float64(0.6734693646430969)] is 0.088\n",
      "Capacity of [np.float64(0.24489794671535492)] is 0.154\n",
      "Capacity of [np.float64(0.0)] is 0.163\n",
      "Capacity of [np.float64(0.6734693646430969), np.float64(1.0)] is 0.358\n",
      "Capacity of [np.float64(0.24489794671535492), np.float64(1.0)] is 0.564\n",
      "Capacity of [np.float64(0.0), np.float64(1.0)] is 0.389\n",
      "Capacity of [np.float64(0.6734693646430969), np.float64(0.24489794671535492)] is 0.258\n",
      "Capacity of [np.float64(0.6734693646430969), np.float64(0.0)] is 0.304\n",
      "Capacity of [np.float64(0.24489794671535492), np.float64(0.0)] is 0.332\n",
      "Capacity of [np.float64(0.6734693646430969), np.float64(1.0), np.float64(0.24489794671535492)] is 0.739\n",
      "Capacity of [np.float64(0.6734693646430969), np.float64(1.0), np.float64(0.0)] is 0.603\n",
      "Capacity of [np.float64(0.24489794671535492), np.float64(1.0), np.float64(0.0)] is 0.770\n",
      "Capacity of [np.float64(0.6734693646430969), np.float64(0.24489794671535492), np.float64(0.0)] is 0.490\n",
      "Capacity of [np.float64(0.6734693646430969), np.float64(1.0), np.float64(0.24489794671535492), np.float64(0.0)] is 1.000\n"
     ]
    }
   ],
   "source": [
    "features = data[0]\n",
    "\n",
    "mobius = generate_mobius(features, 2)\n",
    "mobius.pop(0)           # Include ø in mobius to generate capacity from it easier\n",
    "capacity = mobius_to_capacity(mobius, features)\n",
    "\n",
    "print(\"Möbius:\")\n",
    "for i in range(len(mobius)):\n",
    "    print(f\"Mobius of {mobius[i].X} is {mobius[i].mu:.3f}\")\n",
    "\n",
    "print(\"\\nDerived Capacity:\")\n",
    "for c in capacity:\n",
    "    print(f\"Capacity of {c.X} is {c.mu:.3f}\")\n"
   ]
  },
  {
   "cell_type": "code",
   "execution_count": null,
   "id": "9a9e4c2d",
   "metadata": {},
   "outputs": [],
   "source": [
    "def check_fit_mobius(mobius, len_features):\n",
    "    \"\"\"\n",
    "    Notice: We need to pop the empty set (ø) from the mobius list to check the fit of the mobius before using this function.\n",
    "    \"\"\"\n",
    "    return True if len(mobius) == len_features + len_features * (len_features - 1) / 2 else False"
   ]
  },
  {
   "cell_type": "code",
   "execution_count": 8,
   "id": "8b58c575",
   "metadata": {},
   "outputs": [
    {
     "data": {
      "text/plain": [
       "10"
      ]
     },
     "execution_count": 8,
     "metadata": {},
     "output_type": "execute_result"
    }
   ],
   "source": [
    "len(mobius)"
   ]
  },
  {
   "cell_type": "code",
   "execution_count": 9,
   "id": "644208a0",
   "metadata": {},
   "outputs": [
    {
     "data": {
      "text/plain": [
       "True"
      ]
     },
     "execution_count": 9,
     "metadata": {},
     "output_type": "execute_result"
    }
   ],
   "source": [
    "check_fit_mobius(mobius, len(data[0]))  # -> True"
   ]
  },
  {
   "cell_type": "code",
   "execution_count": null,
   "id": "754377ea",
   "metadata": {},
   "outputs": [],
   "source": []
  }
 ],
 "metadata": {
  "kernelspec": {
   "display_name": "rl-env",
   "language": "python",
   "name": "python3"
  },
  "language_info": {
   "codemirror_mode": {
    "name": "ipython",
    "version": 3
   },
   "file_extension": ".py",
   "mimetype": "text/x-python",
   "name": "python",
   "nbconvert_exporter": "python",
   "pygments_lexer": "ipython3",
   "version": "3.10.16"
  }
 },
 "nbformat": 4,
 "nbformat_minor": 5
}
