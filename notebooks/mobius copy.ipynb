{
 "cells": [
  {
   "cell_type": "code",
   "execution_count": 13,
   "id": "cff2017d",
   "metadata": {},
   "outputs": [],
   "source": [
    "# Import basic libraries\n",
    "from palmerpenguins import load_penguins\n",
    "from sklearn.datasets import load_iris\n",
    "import numpy as np\n",
    "import pandas as pd\n",
    "import matplotlib.pyplot as plt\n",
    "import seaborn as sns\n",
    "sns.set_theme(style=\"darkgrid\")\n",
    "import time\n",
    "from sklearn.preprocessing import LabelEncoder\n",
    "import os\n",
    "os.chdir(\"/Users/hoangthuyduongvu/Desktop/FuzzSIM\")\n"
   ]
  },
  {
   "cell_type": "code",
   "execution_count": 14,
   "id": "b09079f9",
   "metadata": {},
   "outputs": [],
   "source": [
    "# Import personalized libraries\n",
    "from fuzz.src.capacity import *\n",
    "from fuzz.choquet.choquet import *\n",
    "from fuzz.src.norm import *\n",
    "from fuzz.src.knn import KNNFuzz\n",
    "from fuzz.src.sim import S1, S2, S3\n",
    "from fuzz.optim import *\n",
    "from fuzz.utils import *\n",
    "from fuzz.eval import leave_one_out\n",
    "from fuzz.dataloader import *\n",
    "from fuzz.choquet.d_choquet import *"
   ]
  },
  {
   "cell_type": "markdown",
   "id": "c6275daa",
   "metadata": {},
   "source": [
    "# BASIC"
   ]
  },
  {
   "cell_type": "code",
   "execution_count": 32,
   "id": "03544b74",
   "metadata": {},
   "outputs": [],
   "source": [
    "def monotonic_check_unit(X: Capacity, Y: Capacity) -> bool: \n",
    "    # Check if set X is in set Y\n",
    "    x_keys = X.X\n",
    "    y_keys = Y.X\n",
    "\n",
    "    if set(x_keys).issubset(set(y_keys)):\n",
    "        # print(f\"Set {x_keys} is a subset of set {y_keys}.\")\n",
    "        # Check if the values of X are less than or equal to the values of Y\n",
    "        if len(x_keys) == len(y_keys):\n",
    "            return True \n",
    "        elif len(x_keys) < len(y_keys):\n",
    "            if X.mu <= Y.mu:\n",
    "                return True\n",
    "    elif set(y_keys).issubset(set(x_keys)):\n",
    "        # print(f\"Set {y_keys} is a subset of set {x_keys}.\")\n",
    "        # Check if the values of Y are less than or equal to the values of X\n",
    "        if len(x_keys) == len(y_keys):\n",
    "            return True \n",
    "        elif len(x_keys) > len(y_keys):\n",
    "            if Y.mu <= X.mu:\n",
    "                return True\n",
    "    return False"
   ]
  },
  {
   "cell_type": "code",
   "execution_count": 35,
   "id": "18446eaa",
   "metadata": {},
   "outputs": [
    {
     "name": "stdout",
     "output_type": "stream",
     "text": [
      "True\n",
      "False\n",
      "False\n"
     ]
    }
   ],
   "source": [
    "print(monotonic_check_unit(\n",
    "    X = Capacity(X=[1,2,3], mu=0.4),\n",
    "    Y = Capacity(X=[2,3], mu=0.1)\n",
    "))\n",
    "print(monotonic_check_unit(\n",
    "    X = Capacity(X=[1,2,3], mu=0.04),\n",
    "    Y = Capacity(X=[2,3], mu=0.1)\n",
    "))\n",
    "print(monotonic_check_unit(\n",
    "    X = Capacity(X=[1,3], mu=0.04),\n",
    "    Y = Capacity(X=[2,3], mu=0.1)\n",
    "))"
   ]
  },
  {
   "cell_type": "code",
   "execution_count": null,
   "id": "8c2b3c42",
   "metadata": {},
   "outputs": [],
   "source": []
  }
 ],
 "metadata": {
  "kernelspec": {
   "display_name": "rl-env",
   "language": "python",
   "name": "python3"
  },
  "language_info": {
   "codemirror_mode": {
    "name": "ipython",
    "version": 3
   },
   "file_extension": ".py",
   "mimetype": "text/x-python",
   "name": "python",
   "nbconvert_exporter": "python",
   "pygments_lexer": "ipython3",
   "version": "3.10.16"
  }
 },
 "nbformat": 4,
 "nbformat_minor": 5
}
