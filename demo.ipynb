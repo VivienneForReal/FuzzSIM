{
 "cells": [
  {
   "cell_type": "markdown",
   "id": "b5510dea",
   "metadata": {},
   "source": [
    "# Demo notebook"
   ]
  },
  {
   "cell_type": "code",
   "execution_count": 1,
   "id": "da74b3f6",
   "metadata": {},
   "outputs": [],
   "source": [
    "# Import basic libraries\n",
    "from palmerpenguins import load_penguins\n",
    "from sklearn.datasets import load_iris\n",
    "import numpy as np\n",
    "import pandas as pd\n",
    "import matplotlib.pyplot as plt\n",
    "import seaborn as sns\n",
    "sns.set_theme(style=\"darkgrid\")\n",
    "import time\n",
    "from sklearn.preprocessing import LabelEncoder\n"
   ]
  },
  {
   "cell_type": "code",
   "execution_count": 2,
   "id": "6fcc15b3",
   "metadata": {},
   "outputs": [],
   "source": [
    "# Import personalized libraries\n",
    "from fuzz.src.capacity import *\n",
    "from fuzz.src.choquet import *\n",
    "from fuzz.src.norm import *\n",
    "from fuzz.src.knn import KNNFuzz\n",
    "from fuzz.src.sim import S1, S2, S3\n",
    "from fuzz.optim import *\n",
    "from fuzz.utils import *\n",
    "from fuzz.eval import leave_one_out\n",
    "from fuzz.dataloader import *"
   ]
  },
  {
   "cell_type": "markdown",
   "id": "435d308f",
   "metadata": {},
   "source": [
    "## Random test"
   ]
  },
  {
   "cell_type": "code",
   "execution_count": 3,
   "id": "d490fe13",
   "metadata": {},
   "outputs": [
    {
     "data": {
      "text/plain": [
       "array([[0.        , 1.        , 0.01959192],\n",
       "       [1.        , 0.        , 0.4070175 ],\n",
       "       [0.        , 0.38090406, 1.        ],\n",
       "       [0.6965442 , 0.        , 1.        ],\n",
       "       [0.        , 1.        , 0.99405304]])"
      ]
     },
     "execution_count": 3,
     "metadata": {},
     "output_type": "execute_result"
    }
   ],
   "source": [
    "data, labels = dynamic_generate_positive_gaussian_data(\n",
    "    dim=3,\n",
    "    nb_classes=3,\n",
    "    nb_points_per_class=100,\n",
    "    seed=42\n",
    ")\n",
    "data = batch_norm(data)\n",
    "data[:5]"
   ]
  },
  {
   "cell_type": "code",
   "execution_count": 4,
   "id": "b142bc57",
   "metadata": {},
   "outputs": [
    {
     "name": "stdout",
     "output_type": "stream",
     "text": [
      "0.6829577134340568\n"
     ]
    }
   ],
   "source": [
    "choquet = Choquet(X=data[0], mu=generate_capacity(enumerate_permute_unit(data[0])))\n",
    "print(choquet.choquet)\n",
    "# choquet.Choquet_classic(verbose=True)"
   ]
  },
  {
   "cell_type": "code",
   "execution_count": 5,
   "id": "bdc8e8a8",
   "metadata": {},
   "outputs": [
    {
     "name": "stdout",
     "output_type": "stream",
     "text": [
      "0.95928034189108\n"
     ]
    }
   ],
   "source": [
    "mu=generate_capacity(enumerate_permute_unit(data[0]))\n",
    "sim = S1(X=data[0], Y=data[10], mu=mu)\n",
    "print(sim.score())"
   ]
  },
  {
   "cell_type": "code",
   "execution_count": 6,
   "id": "9a77badc",
   "metadata": {},
   "outputs": [
    {
     "name": "stdout",
     "output_type": "stream",
     "text": [
      "0.970149791413415\n",
      "0.004193889097170564\n",
      "0.2201897569032835\n",
      "0.00792523817669903\n",
      "0.5653215515204979\n",
      "1.1796096389681858\n",
      "0.7151298063857441\n",
      "0.7623166444143178\n",
      "0.00816066349829479\n",
      "0.6974358830025682\n"
     ]
    }
   ],
   "source": [
    "for i in range(10):\n",
    "    sim = S1(X=data[0], Y=data[i], mu=mu)\n",
    "    print(sim.score())"
   ]
  },
  {
   "cell_type": "code",
   "execution_count": 7,
   "id": "4e47171d",
   "metadata": {},
   "outputs": [],
   "source": [
    "knn = KNNFuzz(input_dimension=4, mu=mu)\n",
    "knn.train(data, labels)"
   ]
  },
  {
   "cell_type": "code",
   "execution_count": 8,
   "id": "b11e3d02",
   "metadata": {},
   "outputs": [
    {
     "name": "stdout",
     "output_type": "stream",
     "text": [
      "Leave one out avec k = 1\n",
      "SimLevel1: 0.3\n",
      "SimLevel2: 0.32666666666666666\n",
      "SimLevel3: 0.32\n",
      "\n",
      "Result in 12.9336 seconds.\n",
      "Leave one out avec k = 2\n",
      "SimLevel1: 0.33666666666666667\n",
      "SimLevel2: 0.36\n",
      "SimLevel3: 0.33\n",
      "\n",
      "Result in 10.9285 seconds.\n",
      "Leave one out avec k = 3\n",
      "SimLevel1: 0.34\n",
      "SimLevel2: 0.30333333333333334\n",
      "SimLevel3: 0.3566666666666667\n",
      "\n",
      "Result in 9.1753 seconds.\n",
      "Leave one out avec k = 4\n",
      "SimLevel1: 0.27\n",
      "SimLevel2: 0.3433333333333333\n",
      "SimLevel3: 0.2866666666666667\n",
      "\n",
      "Result in 9.4472 seconds.\n",
      "Leave one out avec k = 5\n",
      "SimLevel1: 0.30333333333333334\n",
      "SimLevel2: 0.27666666666666667\n",
      "SimLevel3: 0.30333333333333334\n",
      "\n",
      "Result in 9.2709 seconds.\n",
      "Leave one out avec k = 6\n",
      "SimLevel1: 0.28\n",
      "SimLevel2: 0.2833333333333333\n",
      "SimLevel3: 0.31\n",
      "\n",
      "Result in 9.1675 seconds.\n",
      "Leave one out avec k = 7\n",
      "SimLevel1: 0.28\n",
      "SimLevel2: 0.3566666666666667\n",
      "SimLevel3: 0.3\n",
      "\n",
      "Result in 9.8567 seconds.\n",
      "Leave one out avec k = 8\n",
      "SimLevel1: 0.32\n",
      "SimLevel2: 0.27666666666666667\n",
      "SimLevel3: 0.2866666666666667\n",
      "\n",
      "Result in 9.0549 seconds.\n",
      "Leave one out avec k = 9\n",
      "SimLevel1: 0.31\n",
      "SimLevel2: 0.3\n",
      "SimLevel3: 0.33\n",
      "\n",
      "Result in 9.7423 seconds.\n",
      "Leave one out avec k = 10\n",
      "SimLevel1: 0.31666666666666665\n",
      "SimLevel2: 0.31333333333333335\n",
      "SimLevel3: 0.32\n",
      "\n",
      "Result in 9.7576 seconds.\n"
     ]
    },
    {
     "data": {
      "text/plain": [
       "<matplotlib.legend.Legend at 0x11e71d600>"
      ]
     },
     "execution_count": 8,
     "metadata": {},
     "output_type": "execute_result"
    },
    {
     "data": {
      "image/png": "[encoded data removed]",
      "text/plain": [
       "<Figure size 640x480 with 1 Axes>"
      ]
     },
     "metadata": {},
     "output_type": "display_data"
    }
   ],
   "source": [
    "# LOO evaluation\n",
    "# Define list for each sim level\n",
    "l1 = []\n",
    "l2 = []\n",
    "l3 = []\n",
    "k = 10\n",
    "\n",
    "for k in range(1, k+1): \n",
    "    tic = time.time()\n",
    "    mu = generate_capacity(enumerate_permute_unit(data[0]))\n",
    "\n",
    "    print(f\"Leave one out avec k = {k}\")\n",
    "    \n",
    "    # SimLevel1\n",
    "    res = leave_one_out(\n",
    "            C = KNNFuzz(input_dimension=data.shape[1],mu=mu, k=k, sim=S1), \n",
    "            DS = (data, labels)\n",
    "        )\n",
    "    l1.append(res)\n",
    "    print(f\"SimLevel1: {res}\")\n",
    "    # Sim level 2\n",
    "    res = leave_one_out(\n",
    "            C = KNNFuzz(input_dimension=data.shape[1],mu=mu, k=k, sim=S2), \n",
    "            DS = (data, labels)\n",
    "        )\n",
    "    l2.append(res)\n",
    "    print(f\"SimLevel2: {res}\")\n",
    "\n",
    "    # Sim level 3\n",
    "    res = leave_one_out(\n",
    "            C = KNNFuzz(input_dimension=data.shape[1],mu=mu, k=k, sim=S3), \n",
    "            DS = (data, labels)\n",
    "        )\n",
    "    l3.append(res)\n",
    "    print(f\"SimLevel3: {res}\\n\")\n",
    "\n",
    "    toc = time.time()\n",
    "    print(f\"Result in {(toc-tic):0.4f} seconds.\")\n",
    "\n",
    "# Plot results\n",
    "plt.plot(l1, label=\"Sim level 1\", marker='o')\n",
    "plt.plot(l2, label=\"Sim level 2\", marker='o')\n",
    "plt.plot(l3, label=\"Sim level 3\", marker='o')\n",
    "\n",
    "# Config additional params\n",
    "plt.ylabel(\"LOO accuracy\")\n",
    "plt.xlabel(\"k\")\n",
    "plt.title(\"Leave-One-Out Evaluation Results\")\n",
    "plt.grid()\n",
    "plt.legend()"
   ]
  },
  {
   "cell_type": "markdown",
   "id": "a5ae64b8",
   "metadata": {},
   "source": [
    "## Test on iris"
   ]
  },
  {
   "cell_type": "code",
   "execution_count": 9,
   "id": "27dc00de",
   "metadata": {},
   "outputs": [],
   "source": [
    "iris = load_iris(as_frame=True)  # returns a dict-like object\n",
    "df = iris.frame  # get as pandas DataFrame\n",
    "\n",
    "X = df.drop(columns='target')  # features\n",
    "y = df['target']  # target\n",
    "\n",
    "# Turn into array\n",
    "X = np.array(X)\n",
    "y = np.array(y)"
   ]
  },
  {
   "cell_type": "code",
   "execution_count": 10,
   "id": "07462183",
   "metadata": {},
   "outputs": [
    {
     "name": "stdout",
     "output_type": "stream",
     "text": [
      "Normalized data: 150 samples in 4D space.\n"
     ]
    }
   ],
   "source": [
    "# Hyperparameters\n",
    "dim = X.shape[1]  # number of features\n",
    "nb_classes = len(np.unique(y))  # number of classes\n",
    "\n",
    "# Normalize data\n",
    "data_norm = batch_norm(X)\n",
    "data_labels = sync_lst_to_float_lst(y)\n",
    "print(f\"Normalized data: {data_norm.shape[0]} samples in {data_norm.shape[1]}D space.\")"
   ]
  },
  {
   "cell_type": "code",
   "execution_count": 11,
   "id": "b6ff6ef2",
   "metadata": {},
   "outputs": [
    {
     "name": "stdout",
     "output_type": "stream",
     "text": [
      "Leave one out avec k = 1\n",
      "SimLevel1: 0.6666666666666666\n",
      "SimLevel2: 0.5933333333333334\n",
      "SimLevel3: 0.6666666666666666\n",
      "\n",
      "Result in 4.2133 seconds.\n",
      "Leave one out avec k = 2\n",
      "SimLevel1: 0.6666666666666666\n",
      "SimLevel2: 0.6\n",
      "SimLevel3: 0.7666666666666667\n",
      "\n",
      "Result in 4.4744 seconds.\n",
      "Leave one out avec k = 3\n",
      "SimLevel1: 0.6666666666666666\n",
      "SimLevel2: 0.66\n",
      "SimLevel3: 0.6666666666666666\n",
      "\n",
      "Result in 4.3545 seconds.\n",
      "Leave one out avec k = 4\n",
      "SimLevel1: 0.6666666666666666\n",
      "SimLevel2: 0.6733333333333333\n",
      "SimLevel3: 0.6666666666666666\n",
      "\n",
      "Result in 4.4851 seconds.\n",
      "Leave one out avec k = 5\n",
      "SimLevel1: 0.6666666666666666\n",
      "SimLevel2: 0.6733333333333333\n",
      "SimLevel3: 0.6666666666666666\n",
      "\n",
      "Result in 4.2145 seconds.\n",
      "Leave one out avec k = 6\n",
      "SimLevel1: 0.6666666666666666\n",
      "SimLevel2: 0.6666666666666666\n",
      "SimLevel3: 0.6666666666666666\n",
      "\n",
      "Result in 4.7386 seconds.\n",
      "Leave one out avec k = 7\n",
      "SimLevel1: 0.6666666666666666\n",
      "SimLevel2: 0.6666666666666666\n",
      "SimLevel3: 0.6733333333333333\n",
      "\n",
      "Result in 4.3616 seconds.\n",
      "Leave one out avec k = 8\n",
      "SimLevel1: 0.6666666666666666\n",
      "SimLevel2: 0.6666666666666666\n",
      "SimLevel3: 0.6666666666666666\n",
      "\n",
      "Result in 4.1585 seconds.\n",
      "Leave one out avec k = 9\n",
      "SimLevel1: 0.6666666666666666\n",
      "SimLevel2: 0.6666666666666666\n",
      "SimLevel3: 0.6666666666666666\n",
      "\n",
      "Result in 4.2732 seconds.\n",
      "Leave one out avec k = 10\n",
      "SimLevel1: 0.6666666666666666\n",
      "SimLevel2: 0.6666666666666666\n",
      "SimLevel3: 0.6666666666666666\n",
      "\n",
      "Result in 4.3187 seconds.\n"
     ]
    },
    {
     "data": {
      "text/plain": [
       "<matplotlib.legend.Legend at 0x1064d9fc0>"
      ]
     },
     "execution_count": 11,
     "metadata": {},
     "output_type": "execute_result"
    },
    {
     "data": {
      "image/png": "[encoded data removed]",
      "text/plain": [
       "<Figure size 640x480 with 1 Axes>"
      ]
     },
     "metadata": {},
     "output_type": "display_data"
    }
   ],
   "source": [
    "# LOO evaluation\n",
    "# Define list for each sim level\n",
    "l1 = []\n",
    "l2 = []\n",
    "l3 = []\n",
    "k = 10\n",
    "\n",
    "for k in range(1, k+1): \n",
    "    tic = time.time()\n",
    "    mu = generate_capacity(enumerate_permute_unit(data_norm[0]))\n",
    "\n",
    "    print(f\"Leave one out avec k = {k}\")\n",
    "    \n",
    "    # SimLevel1\n",
    "    res = leave_one_out(\n",
    "            C = KNNFuzz(input_dimension=data_norm.shape[1],mu=mu, k=k, sim=S1), \n",
    "            DS = (data_norm, data_labels)\n",
    "        )\n",
    "    l1.append(res)\n",
    "    print(f\"SimLevel1: {res}\")\n",
    "    # Sim level 2\n",
    "    res = leave_one_out(\n",
    "            C = KNNFuzz(input_dimension=data_norm.shape[1],mu=mu, k=k, sim=S2), \n",
    "            DS = (data_norm, data_labels)\n",
    "        )\n",
    "    l2.append(res)\n",
    "    print(f\"SimLevel2: {res}\")\n",
    "\n",
    "    # Sim level 3\n",
    "    res = leave_one_out(\n",
    "            C = KNNFuzz(input_dimension=data_norm.shape[1],mu=mu, k=k, sim=S3), \n",
    "            DS = (data_norm, data_labels)\n",
    "        )\n",
    "    l3.append(res)\n",
    "    print(f\"SimLevel3: {res}\\n\")\n",
    "\n",
    "    toc = time.time()\n",
    "    print(f\"Result in {(toc-tic):0.4f} seconds.\")\n",
    "\n",
    "# Plot results\n",
    "plt.plot(l1, label=\"Sim level 1\", marker='o')\n",
    "plt.plot(l2, label=\"Sim level 2\", marker='o')\n",
    "plt.plot(l3, label=\"Sim level 3\", marker='o')\n",
    "\n",
    "# Config additional params\n",
    "plt.ylabel(\"LOO accuracy\")\n",
    "plt.xlabel(\"k\")\n",
    "plt.title(\"Leave-One-Out Evaluation Results\")\n",
    "plt.grid()\n",
    "plt.legend()"
   ]
  },
  {
   "cell_type": "markdown",
   "id": "20cf5f79",
   "metadata": {},
   "source": [
    "## Test penguins"
   ]
  },
  {
   "cell_type": "code",
   "execution_count": 12,
   "id": "b1a6ab1e",
   "metadata": {},
   "outputs": [],
   "source": [
    "penguins = load_penguins()\n",
    "penguins\n",
    "\n",
    "# Encode\n",
    "le = LabelEncoder()\n",
    "le.fit(penguins['island'])\n",
    "penguins['island'] = le.transform(penguins['island'])\n",
    "\n",
    "le.fit(penguins['sex'])\n",
    "penguins['sex'] = le.transform(penguins['sex'])\n",
    "\n",
    "le.fit(penguins['species'])\n",
    "penguins['species'] = le.transform(penguins['species'])\n",
    "\n",
    "# Remove missing values\n",
    "penguins = penguins.dropna()  # remove rows with missing values\n",
    "X = penguins.drop(columns='species')  # features\n",
    "y = penguins['species']  # target\n",
    "\n",
    "# Turn into array\n",
    "X = np.array(X)\n",
    "y = np.array(y)"
   ]
  },
  {
   "cell_type": "code",
   "execution_count": 13,
   "id": "e5afbb00",
   "metadata": {},
   "outputs": [
    {
     "name": "stdout",
     "output_type": "stream",
     "text": [
      "Normalized data: 342 samples in 7D space.\n"
     ]
    }
   ],
   "source": [
    "# Hyperparameters\n",
    "dim = X.shape[1]  # number of features\n",
    "nb_classes = len(np.unique(y))  # number of classes\n",
    "\n",
    "# Normalize data\n",
    "data_norm = batch_norm(X)\n",
    "data_labels = sync_lst_to_float_lst(y)\n",
    "print(f\"Normalized data: {data_norm.shape[0]} samples in {data_norm.shape[1]}D space.\")"
   ]
  },
  {
   "cell_type": "code",
   "execution_count": null,
   "id": "df1489fb",
   "metadata": {},
   "outputs": [
    {
     "name": "stdout",
     "output_type": "stream",
     "text": [
      "Leave one out avec k = 1\n",
      "SimLevel1: 0.5321637426900585\n",
      "SimLevel2: 0.5818713450292398\n",
      "SimLevel3: 0.4824561403508772\n",
      "Result in 221.0498 seconds.\n",
      "\n",
      "Leave one out avec k = 2\n",
      "SimLevel1: 0.6695906432748538\n",
      "SimLevel2: 0.5964912280701754\n",
      "SimLevel3: 0.695906432748538\n",
      "Result in 215.7454 seconds.\n",
      "\n",
      "Leave one out avec k = 3\n",
      "SimLevel1: 0.4327485380116959\n",
      "SimLevel2: 0.52046783625731\n",
      "SimLevel3: 0.5058479532163743\n",
      "Result in 216.6631 seconds.\n",
      "\n",
      "Leave one out avec k = 4\n",
      "SimLevel1: 0.5175438596491229\n",
      "SimLevel2: 0.4678362573099415\n",
      "SimLevel3: 0.6140350877192983\n",
      "Result in 212.4999 seconds.\n",
      "\n",
      "Leave one out avec k = 5\n",
      "SimLevel1: 0.5672514619883041\n",
      "SimLevel2: 0.4327485380116959\n",
      "SimLevel3: 0.6432748538011696\n",
      "Result in 213.0915 seconds.\n",
      "\n",
      "Leave one out avec k = 6\n",
      "SimLevel1: 0.6140350877192983\n",
      "SimLevel2: 0.41228070175438597\n",
      "SimLevel3: 0.6842105263157895\n",
      "Result in 225.5965 seconds.\n",
      "\n",
      "Leave one out avec k = 7\n",
      "SimLevel1: 0.4678362573099415\n",
      "SimLevel2: 0.39473684210526316\n",
      "SimLevel3: 0.4766081871345029\n",
      "Result in 221.6927 seconds.\n",
      "\n",
      "Leave one out avec k = 8\n",
      "SimLevel1: 0.39766081871345027\n",
      "SimLevel2: 0.3654970760233918\n",
      "SimLevel3: 0.40350877192982454\n",
      "Result in 229.5707 seconds.\n",
      "\n",
      "Leave one out avec k = 9\n",
      "SimLevel1: 0.5730994152046783\n",
      "SimLevel2: 0.3654970760233918\n",
      "SimLevel3: 0.6403508771929824\n",
      "Result in 227.3530 seconds.\n",
      "\n",
      "Leave one out avec k = 10\n"
     ]
    }
   ],
   "source": [
    "# LOO evaluation\n",
    "# Define list for each sim level\n",
    "l1 = []\n",
    "l2 = []\n",
    "l3 = []\n",
    "k = 10\n",
    "\n",
    "for k in range(1, k+1): \n",
    "    tic = time.time()\n",
    "    mu = generate_capacity(enumerate_permute_unit(data_norm[0]))\n",
    "\n",
    "    print(f\"Leave one out avec k = {k}\")\n",
    "    \n",
    "    # SimLevel1\n",
    "    res = leave_one_out(\n",
    "            C = KNNFuzz(input_dimension=data_norm.shape[1],mu=mu, k=k, sim=S1), \n",
    "            DS = (data_norm, data_labels)\n",
    "        )\n",
    "    l1.append(res)\n",
    "    print(f\"SimLevel1: {res}\")\n",
    "    # Sim level 2\n",
    "    res = leave_one_out(\n",
    "            C = KNNFuzz(input_dimension=data_norm.shape[1],mu=mu, k=k, sim=S2), \n",
    "            DS = (data_norm, data_labels)\n",
    "        )\n",
    "    l2.append(res)\n",
    "    print(f\"SimLevel2: {res}\")\n",
    "\n",
    "    # Sim level 3\n",
    "    res = leave_one_out(\n",
    "            C = KNNFuzz(input_dimension=data_norm.shape[1],mu=mu, k=k, sim=S3), \n",
    "            DS = (data_norm, data_labels)\n",
    "        )\n",
    "    l3.append(res)\n",
    "    print(f\"SimLevel3: {res}\")\n",
    "\n",
    "    toc = time.time()\n",
    "    print(f\"Result in {(toc-tic):0.4f} seconds.\\n\")\n",
    "\n",
    "# Plot results\n",
    "plt.plot(l1, label=\"Sim level 1\", marker='o')\n",
    "plt.plot(l2, label=\"Sim level 2\", marker='o')\n",
    "plt.plot(l3, label=\"Sim level 3\", marker='o')\n",
    "\n",
    "# Config additional params\n",
    "plt.ylabel(\"LOO accuracy\")\n",
    "plt.xlabel(\"k\")\n",
    "plt.title(\"Leave-One-Out Evaluation Results\")\n",
    "plt.grid()\n",
    "plt.legend()"
   ]
  },
  {
   "cell_type": "markdown",
   "id": "47661eb0",
   "metadata": {},
   "source": [
    "## PySwarms"
   ]
  },
  {
   "cell_type": "code",
   "execution_count": null,
   "id": "7629deda",
   "metadata": {},
   "outputs": [
    {
     "name": "stderr",
     "output_type": "stream",
     "text": [
      "2025-05-05 14:42:01,004 - pyswarms.single.global_best - INFO - Optimize for 100 iters with {'c1': 0.5, 'c2': 0.3, 'w': 0.9}\n",
      "pyswarms.single.global_best:  35%|███▌      |35/100, best_cost=-0.31"
     ]
    }
   ],
   "source": [
    "# Example parameters\n",
    "n_particles = 30\n",
    "dimensions = data.shape[1]  # number of features\n",
    "options = {\n",
    "    'c1': 0.5,    # cognitive parameter\n",
    "    'c2': 0.3,    # social parameter\n",
    "    'w': 0.9      # inertia parameter\n",
    "}\n",
    "pso_type = \"global\"  # or \"local\" for local best PSO\n",
    "\n",
    "# Load your data and labels here\n",
    "# Example:\n",
    "# data = np.load('your_data.npy')\n",
    "# labels = np.load('your_labels.npy')\n",
    "\n",
    "knn = KNNFuzz(input_dimension=dimensions, mu=generate_capacity(enumerate_permute_unit(data[0])), k=5, sim=S1)\n",
    "\n",
    "# Create PSO optimizer\n",
    "pso = PSO(n_particles, dimensions, options, (data, labels), knn, pso_type)\n",
    "\n",
    "# Run optimization\n",
    "best_cost, best_mu = pso.optimize(fitness_function, n_iters=100)\n",
    "\n",
    "# Apply softmax to the best result to get the final capacity values\n",
    "final_capacity = softmax(best_mu)\n",
    "\n",
    "print(f\"Best cost: {-best_cost}\")  # Convert back to accuracy\n",
    "print(f\"Best capacity parameters: {final_capacity}\")\n",
    "\n",
    "# Generate final capacity from the optimized parameters\n",
    "final_capacity_obj = generate_capacity(enumerate_permute_unit(final_capacity))\n",
    "\n",
    "tmp = []\n",
    "for i in range(len(final_capacity_obj)):\n",
    "    print(f\"Class {i}: {final_capacity_obj[i].mu}\")\n",
    "    tmp.append(final_capacity_obj[i].mu)\n",
    "\n",
    "print(f\"Final capacity: {tmp}\")"
   ]
  },
  {
   "cell_type": "code",
   "execution_count": null,
   "id": "496e0f5b",
   "metadata": {},
   "outputs": [],
   "source": []
  }
 ],
 "metadata": {
  "kernelspec": {
   "display_name": "fuzzsim",
   "language": "python",
   "name": "python3"
  },
  "language_info": {
   "codemirror_mode": {
    "name": "ipython",
    "version": 3
   },
   "file_extension": ".py",
   "mimetype": "text/x-python",
   "name": "python",
   "nbconvert_exporter": "python",
   "pygments_lexer": "ipython3",
   "version": "3.10.16"
  }
 },
 "nbformat": 4,
 "nbformat_minor": 5
}
