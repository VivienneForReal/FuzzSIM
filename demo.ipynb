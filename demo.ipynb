{
 "cells": [
  {
   "cell_type": "markdown",
   "id": "b5510dea",
   "metadata": {},
   "source": [
    "# Demo notebook"
   ]
  },
  {
   "cell_type": "code",
   "execution_count": 1,
   "id": "da74b3f6",
   "metadata": {},
   "outputs": [],
   "source": [
    "# Import basic libraries\n",
    "from palmerpenguins import load_penguins\n",
    "from sklearn.datasets import load_iris\n",
    "import numpy as np\n",
    "import pandas as pd\n",
    "import matplotlib.pyplot as plt\n",
    "import seaborn as sns\n",
    "sns.set_theme(style=\"darkgrid\")\n",
    "import time\n",
    "from sklearn.preprocessing import LabelEncoder\n"
   ]
  },
  {
   "cell_type": "code",
   "execution_count": 2,
   "id": "6fcc15b3",
   "metadata": {},
   "outputs": [],
   "source": [
    "# Import personalized libraries\n",
    "from fuzz.src.capacity import *\n",
    "from fuzz.choquet.choquet import *\n",
    "from fuzz.src.norm import *\n",
    "from fuzz.src.knn import KNNFuzz\n",
    "from fuzz.src.sim import S1, S2, S3\n",
    "from fuzz.optim import *\n",
    "from fuzz.utils import *\n",
    "from fuzz.eval import leave_one_out\n",
    "from fuzz.dataloader import *"
   ]
  },
  {
   "cell_type": "markdown",
   "id": "435d308f",
   "metadata": {},
   "source": [
    "## Random test"
   ]
  },
  {
   "cell_type": "code",
   "execution_count": 3,
   "id": "d490fe13",
   "metadata": {},
   "outputs": [
    {
     "data": {
      "text/plain": [
       "array([[0.        , 1.        , 0.01959192],\n",
       "       [1.        , 0.        , 0.4070175 ],\n",
       "       [0.        , 0.38090406, 1.        ],\n",
       "       [0.6965442 , 0.        , 1.        ],\n",
       "       [0.        , 1.        , 0.99405304]])"
      ]
     },
     "execution_count": 3,
     "metadata": {},
     "output_type": "execute_result"
    }
   ],
   "source": [
    "data, labels = dynamic_generate_positive_gaussian_data(\n",
    "    dim=3,\n",
    "    nb_classes=3,\n",
    "    nb_points_per_class=100,\n",
    "    seed=42\n",
    ")\n",
    "data = batch_norm(data)\n",
    "data[:5]"
   ]
  },
  {
   "cell_type": "code",
   "execution_count": 4,
   "id": "b142bc57",
   "metadata": {},
   "outputs": [
    {
     "name": "stdout",
     "output_type": "stream",
     "text": [
      "0.6829577134340572\n"
     ]
    }
   ],
   "source": [
    "choquet = Choquet(X=data[0], mu=generate_capacity(enumerate_permute_unit(data[0])))\n",
    "print(choquet.choquet)\n",
    "# choquet.Choquet_classic(verbose=True)"
   ]
  },
  {
   "cell_type": "code",
   "execution_count": 5,
   "id": "bdc8e8a8",
   "metadata": {},
   "outputs": [
    {
     "name": "stdout",
     "output_type": "stream",
     "text": [
      "0.9592803418910769\n"
     ]
    }
   ],
   "source": [
    "mu=generate_capacity(enumerate_permute_unit(data[0]))\n",
    "sim = S1(X=data[0], Y=data[10], mu=mu)\n",
    "print(sim.score())"
   ]
  },
  {
   "cell_type": "code",
   "execution_count": 6,
   "id": "9a77badc",
   "metadata": {},
   "outputs": [
    {
     "name": "stdout",
     "output_type": "stream",
     "text": [
      "0.9701497914134124\n",
      "0.004193889097170932\n",
      "0.22018975690328277\n",
      "0.007925238176699767\n",
      "0.5653215515204979\n",
      "1.1796096389681863\n",
      "0.7151298063857431\n",
      "0.7623166444143146\n",
      "0.008160663498295547\n",
      "0.6974358830025694\n"
     ]
    }
   ],
   "source": [
    "for i in range(10):\n",
    "    sim = S1(X=data[0], Y=data[i], mu=mu)\n",
    "    print(sim.score())"
   ]
  },
  {
   "cell_type": "code",
   "execution_count": 7,
   "id": "4e47171d",
   "metadata": {},
   "outputs": [],
   "source": [
    "knn = KNNFuzz(input_dimension=4, mu=mu)\n",
    "knn.train(data, labels)"
   ]
  },
  {
   "cell_type": "code",
   "execution_count": null,
   "id": "b11e3d02",
   "metadata": {},
   "outputs": [
    {
     "name": "stdout",
     "output_type": "stream",
     "text": [
      "Leave one out avec k = 1\n",
      "SimLevel1: 0.2833333333333333\n",
      "SimLevel2: 0.3233333333333333\n",
      "SimLevel3: 0.2966666666666667\n",
      "\n",
      "Result in 9.6674 seconds.\n",
      "Leave one out avec k = 2\n",
      "SimLevel1: 0.33\n",
      "SimLevel2: 0.32666666666666666\n",
      "SimLevel3: 0.34\n",
      "\n",
      "Result in 9.9663 seconds.\n",
      "Leave one out avec k = 3\n"
     ]
    }
   ],
   "source": [
    "# LOO evaluation\n",
    "# Define list for each sim level\n",
    "l1 = []\n",
    "l2 = []\n",
    "l3 = []\n",
    "k = 10\n",
    "\n",
    "for k in range(1, k+1): \n",
    "    tic = time.time()\n",
    "    mu = generate_capacity(enumerate_permute_unit(data[0]))\n",
    "\n",
    "    print(f\"Leave one out avec k = {k}\")\n",
    "    \n",
    "    # SimLevel1\n",
    "    res = leave_one_out(\n",
    "            C = KNNFuzz(input_dimension=data.shape[1],mu=mu, k=k, sim=S1), \n",
    "            DS = (data, labels)\n",
    "        )\n",
    "    l1.append(res)\n",
    "    print(f\"SimLevel1: {res}\")\n",
    "    # Sim level 2\n",
    "    res = leave_one_out(\n",
    "            C = KNNFuzz(input_dimension=data.shape[1],mu=mu, k=k, sim=S2), \n",
    "            DS = (data, labels)\n",
    "        )\n",
    "    l2.append(res)\n",
    "    print(f\"SimLevel2: {res}\")\n",
    "\n",
    "    # Sim level 3\n",
    "    res = leave_one_out(\n",
    "            C = KNNFuzz(input_dimension=data.shape[1],mu=mu, k=k, sim=S3), \n",
    "            DS = (data, labels)\n",
    "        )\n",
    "    l3.append(res)\n",
    "    print(f\"SimLevel3: {res}\\n\")\n",
    "\n",
    "    toc = time.time()\n",
    "    print(f\"Result in {(toc-tic):0.4f} seconds.\")\n",
    "\n",
    "# Plot results\n",
    "plt.plot(l1, label=\"Sim level 1\", marker='o')\n",
    "plt.plot(l2, label=\"Sim level 2\", marker='o')\n",
    "plt.plot(l3, label=\"Sim level 3\", marker='o')\n",
    "\n",
    "# Config additional params\n",
    "plt.ylabel(\"LOO accuracy\")\n",
    "plt.xlabel(\"k\")\n",
    "plt.title(\"Leave-One-Out Evaluation Results\")\n",
    "plt.grid()\n",
    "plt.legend()"
   ]
  },
  {
   "cell_type": "markdown",
   "id": "a5ae64b8",
   "metadata": {},
   "source": [
    "## Test on iris"
   ]
  },
  {
   "cell_type": "code",
   "execution_count": null,
   "id": "27dc00de",
   "metadata": {},
   "outputs": [],
   "source": [
    "iris = load_iris(as_frame=True)  # returns a dict-like object\n",
    "df = iris.frame  # get as pandas DataFrame\n",
    "\n",
    "X = df.drop(columns='target')  # features\n",
    "y = df['target']  # target\n",
    "\n",
    "# Turn into array\n",
    "X = np.array(X)\n",
    "y = np.array(y)"
   ]
  },
  {
   "cell_type": "code",
   "execution_count": null,
   "id": "07462183",
   "metadata": {},
   "outputs": [],
   "source": [
    "# Hyperparameters\n",
    "dim = X.shape[1]  # number of features\n",
    "nb_classes = len(np.unique(y))  # number of classes\n",
    "\n",
    "# Normalize data\n",
    "data_norm = batch_norm(X)\n",
    "data_labels = sync_lst_to_float_lst(y)\n",
    "print(f\"Normalized data: {data_norm.shape[0]} samples in {data_norm.shape[1]}D space.\")"
   ]
  },
  {
   "cell_type": "code",
   "execution_count": null,
   "id": "b6ff6ef2",
   "metadata": {},
   "outputs": [],
   "source": [
    "# LOO evaluation\n",
    "# Define list for each sim level\n",
    "l1 = []\n",
    "l2 = []\n",
    "l3 = []\n",
    "k = 10\n",
    "\n",
    "for k in range(1, k+1): \n",
    "    tic = time.time()\n",
    "    mu = generate_capacity(enumerate_permute_unit(data_norm[0]))\n",
    "\n",
    "    print(f\"Leave one out avec k = {k}\")\n",
    "    \n",
    "    # SimLevel1\n",
    "    res = leave_one_out(\n",
    "            C = KNNFuzz(input_dimension=data_norm.shape[1],mu=mu, k=k, sim=S1), \n",
    "            DS = (data_norm, data_labels)\n",
    "        )\n",
    "    l1.append(res)\n",
    "    print(f\"SimLevel1: {res}\")\n",
    "    # Sim level 2\n",
    "    res = leave_one_out(\n",
    "            C = KNNFuzz(input_dimension=data_norm.shape[1],mu=mu, k=k, sim=S2), \n",
    "            DS = (data_norm, data_labels)\n",
    "        )\n",
    "    l2.append(res)\n",
    "    print(f\"SimLevel2: {res}\")\n",
    "\n",
    "    # Sim level 3\n",
    "    res = leave_one_out(\n",
    "            C = KNNFuzz(input_dimension=data_norm.shape[1],mu=mu, k=k, sim=S3), \n",
    "            DS = (data_norm, data_labels)\n",
    "        )\n",
    "    l3.append(res)\n",
    "    print(f\"SimLevel3: {res}\\n\")\n",
    "\n",
    "    toc = time.time()\n",
    "    print(f\"Result in {(toc-tic):0.4f} seconds.\")\n",
    "\n",
    "# Plot results\n",
    "plt.plot(l1, label=\"Sim level 1\", marker='o')\n",
    "plt.plot(l2, label=\"Sim level 2\", marker='o')\n",
    "plt.plot(l3, label=\"Sim level 3\", marker='o')\n",
    "\n",
    "# Config additional params\n",
    "plt.ylabel(\"LOO accuracy\")\n",
    "plt.xlabel(\"k\")\n",
    "plt.title(\"Leave-One-Out Evaluation Results\")\n",
    "plt.grid()\n",
    "plt.legend()"
   ]
  },
  {
   "cell_type": "markdown",
   "id": "20cf5f79",
   "metadata": {},
   "source": [
    "## Test penguins"
   ]
  },
  {
   "cell_type": "code",
   "execution_count": null,
   "id": "b1a6ab1e",
   "metadata": {},
   "outputs": [],
   "source": [
    "penguins = load_penguins()\n",
    "penguins\n",
    "\n",
    "# Encode\n",
    "le = LabelEncoder()\n",
    "le.fit(penguins['island'])\n",
    "penguins['island'] = le.transform(penguins['island'])\n",
    "\n",
    "le.fit(penguins['sex'])\n",
    "penguins['sex'] = le.transform(penguins['sex'])\n",
    "\n",
    "le.fit(penguins['species'])\n",
    "penguins['species'] = le.transform(penguins['species'])\n",
    "\n",
    "# Remove missing values\n",
    "penguins = penguins.dropna()  # remove rows with missing values\n",
    "X = penguins.drop(columns='species')  # features\n",
    "y = penguins['species']  # target\n",
    "\n",
    "# Turn into array\n",
    "X = np.array(X)\n",
    "y = np.array(y)"
   ]
  },
  {
   "cell_type": "code",
   "execution_count": null,
   "id": "e5afbb00",
   "metadata": {},
   "outputs": [],
   "source": [
    "# Hyperparameters\n",
    "dim = X.shape[1]  # number of features\n",
    "nb_classes = len(np.unique(y))  # number of classes\n",
    "\n",
    "# Normalize data\n",
    "data_norm = batch_norm(X)\n",
    "data_labels = sync_lst_to_float_lst(y)\n",
    "print(f\"Normalized data: {data_norm.shape[0]} samples in {data_norm.shape[1]}D space.\")"
   ]
  },
  {
   "cell_type": "code",
   "execution_count": null,
   "id": "df1489fb",
   "metadata": {},
   "outputs": [],
   "source": [
    "# # LOO evaluation\n",
    "# # Define list for each sim level\n",
    "# l1 = []\n",
    "# l2 = []\n",
    "# l3 = []\n",
    "# k = 10\n",
    "\n",
    "# for k in range(1, k+1): \n",
    "#     tic = time.time()\n",
    "#     mu = generate_capacity(enumerate_permute_unit(data_norm[0]))\n",
    "\n",
    "#     print(f\"Leave one out avec k = {k}\")\n",
    "    \n",
    "#     # SimLevel1\n",
    "#     res = leave_one_out(\n",
    "#             C = KNNFuzz(input_dimension=data_norm.shape[1],mu=mu, k=k, sim=S1), \n",
    "#             DS = (data_norm, data_labels)\n",
    "#         )\n",
    "#     l1.append(res)\n",
    "#     print(f\"SimLevel1: {res}\")\n",
    "#     # Sim level 2\n",
    "#     res = leave_one_out(\n",
    "#             C = KNNFuzz(input_dimension=data_norm.shape[1],mu=mu, k=k, sim=S2), \n",
    "#             DS = (data_norm, data_labels)\n",
    "#         )\n",
    "#     l2.append(res)\n",
    "#     print(f\"SimLevel2: {res}\")\n",
    "\n",
    "#     # Sim level 3\n",
    "#     res = leave_one_out(\n",
    "#             C = KNNFuzz(input_dimension=data_norm.shape[1],mu=mu, k=k, sim=S3), \n",
    "#             DS = (data_norm, data_labels)\n",
    "#         )\n",
    "#     l3.append(res)\n",
    "#     print(f\"SimLevel3: {res}\")\n",
    "\n",
    "#     toc = time.time()\n",
    "#     print(f\"Result in {(toc-tic):0.4f} seconds.\\n\")\n",
    "\n",
    "# # Plot results\n",
    "# plt.plot(l1, label=\"Sim level 1\", marker='o')\n",
    "# plt.plot(l2, label=\"Sim level 2\", marker='o')\n",
    "# plt.plot(l3, label=\"Sim level 3\", marker='o')\n",
    "\n",
    "# # Config additional params\n",
    "# plt.ylabel(\"LOO accuracy\")\n",
    "# plt.xlabel(\"k\")\n",
    "# plt.title(\"Leave-One-Out Evaluation Results\")\n",
    "# plt.grid()\n",
    "# plt.legend()"
   ]
  },
  {
   "cell_type": "code",
   "execution_count": null,
   "id": "496e0f5b",
   "metadata": {},
   "outputs": [],
   "source": []
  }
 ],
 "metadata": {
  "kernelspec": {
   "display_name": "rl-env",
   "language": "python",
   "name": "python3"
  },
  "language_info": {
   "codemirror_mode": {
    "name": "ipython",
    "version": 3
   },
   "file_extension": ".py",
   "mimetype": "text/x-python",
   "name": "python",
   "nbconvert_exporter": "python",
   "pygments_lexer": "ipython3",
   "version": "3.10.16"
  }
 },
 "nbformat": 4,
 "nbformat_minor": 5
}
