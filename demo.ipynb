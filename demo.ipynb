{
 "cells": [
  {
   "cell_type": "markdown",
   "id": "b5510dea",
   "metadata": {},
   "source": [
    "# Demo notebook"
   ]
  },
  {
   "cell_type": "code",
   "execution_count": 1,
   "id": "da74b3f6",
   "metadata": {},
   "outputs": [],
   "source": [
    "# Import basic libraries\n",
    "from palmerpenguins import load_penguins\n",
    "from sklearn.datasets import load_iris\n",
    "import numpy as np\n",
    "import pandas as pd\n",
    "import matplotlib.pyplot as plt\n",
    "import seaborn as sns\n",
    "sns.set_theme(style=\"darkgrid\")\n",
    "import time\n",
    "from sklearn.preprocessing import LabelEncoder\n"
   ]
  },
  {
   "cell_type": "code",
   "execution_count": 2,
   "id": "6fcc15b3",
   "metadata": {},
   "outputs": [],
   "source": [
    "# Import personalized libraries\n",
    "from fuzz.src.capacity import *\n",
    "from fuzz.choquet.choquet import *\n",
    "from fuzz.src.norm import *\n",
    "from fuzz.src.knn import KNNFuzz\n",
    "from fuzz.src.sim import S1, S2, S3\n",
    "from fuzz.optim import *\n",
    "from fuzz.utils import *\n",
    "from fuzz.eval import leave_one_out\n",
    "from fuzz.dataloader import *\n",
    "from fuzz.choquet.d_choquet import *"
   ]
  },
  {
   "cell_type": "markdown",
   "id": "435d308f",
   "metadata": {},
   "source": [
    "## Random test"
   ]
  },
  {
   "cell_type": "code",
   "execution_count": 3,
   "id": "d490fe13",
   "metadata": {},
   "outputs": [
    {
     "data": {
      "text/plain": [
       "array([[0.        , 1.        , 0.01959192],\n",
       "       [1.        , 0.        , 0.4070175 ],\n",
       "       [0.        , 0.38090406, 1.        ],\n",
       "       [0.6965442 , 0.        , 1.        ],\n",
       "       [0.        , 1.        , 0.99405304]])"
      ]
     },
     "execution_count": 3,
     "metadata": {},
     "output_type": "execute_result"
    }
   ],
   "source": [
    "data, labels = dynamic_generate_positive_gaussian_data(\n",
    "    dim=3,\n",
    "    nb_classes=3,\n",
    "    nb_points_per_class=100,\n",
    "    seed=42\n",
    ")\n",
    "data = batch_norm(data)\n",
    "data[:5]"
   ]
  },
  {
   "cell_type": "code",
   "execution_count": 8,
   "id": "b142bc57",
   "metadata": {},
   "outputs": [
    {
     "name": "stdout",
     "output_type": "stream",
     "text": [
      "1.6440331\n"
     ]
    }
   ],
   "source": [
    "choquet = Choquet(X=data[0], mu=generate_capacity(enumerate_permute_unit(data[0])), version='d_choquet', p=1, q=1)\n",
    "print(choquet.choquet)\n",
    "# choquet.Choquet_classic(verbose=True)"
   ]
  },
  {
   "cell_type": "code",
   "execution_count": 9,
   "id": "bdc8e8a8",
   "metadata": {},
   "outputs": [
    {
     "name": "stdout",
     "output_type": "stream",
     "text": [
      "0.9030872735009823\n"
     ]
    }
   ],
   "source": [
    "mu=generate_capacity(enumerate_permute_unit(data[0]))\n",
    "sim = S1(X=data[0], Y=data[10], mu=mu)\n",
    "print(sim.score())"
   ]
  },
  {
   "cell_type": "code",
   "execution_count": 10,
   "id": "9a77badc",
   "metadata": {},
   "outputs": [
    {
     "name": "stdout",
     "output_type": "stream",
     "text": [
      "0.9278036287908223\n",
      "0.0016314543610998764\n",
      "0.13894959805729454\n",
      "0.0026346202681365397\n",
      "0.34473282698216257\n",
      "0.9682687957805132\n",
      "0.5010011012203993\n",
      "0.5612713360476715\n",
      "0.0027466412757665873\n",
      "0.6026896527498947\n"
     ]
    }
   ],
   "source": [
    "for i in range(10):\n",
    "    sim = S1(X=data[0], Y=data[i], mu=mu)\n",
    "    print(sim.score())"
   ]
  },
  {
   "cell_type": "code",
   "execution_count": 12,
   "id": "4e47171d",
   "metadata": {},
   "outputs": [],
   "source": [
    "knn = KNNFuzz(input_dimension=4, mu=mu, k=3, sim=S1, choquet_version='d_choquet', p=1, q=1)\n",
    "knn.train(data, labels)"
   ]
  },
  {
   "cell_type": "code",
   "execution_count": 14,
   "id": "b11e3d02",
   "metadata": {},
   "outputs": [
    {
     "name": "stdout",
     "output_type": "stream",
     "text": [
      "Leave one out avec k = 1\n",
      "SimLevel1: 0.33\n",
      "SimLevel2: 0.2833333333333333\n",
      "SimLevel3: 0.33666666666666667\n",
      "\n",
      "Result in 11.5091 seconds.\n",
      "Leave one out avec k = 2\n",
      "SimLevel1: 0.36333333333333334\n",
      "SimLevel2: 0.29333333333333333\n",
      "SimLevel3: 0.3233333333333333\n",
      "\n",
      "Result in 11.3609 seconds.\n",
      "Leave one out avec k = 3\n",
      "SimLevel1: 0.3233333333333333\n",
      "SimLevel2: 0.27666666666666667\n",
      "SimLevel3: 0.32\n",
      "\n",
      "Result in 11.1610 seconds.\n",
      "Leave one out avec k = 4\n",
      "SimLevel1: 0.35333333333333333\n",
      "SimLevel2: 0.29333333333333333\n",
      "SimLevel3: 0.32\n",
      "\n",
      "Result in 11.3698 seconds.\n",
      "Leave one out avec k = 5\n",
      "SimLevel1: 0.3466666666666667\n",
      "SimLevel2: 0.31\n",
      "SimLevel3: 0.3433333333333333\n",
      "\n",
      "Result in 11.3409 seconds.\n",
      "Leave one out avec k = 6\n",
      "SimLevel1: 0.3566666666666667\n",
      "SimLevel2: 0.31\n",
      "SimLevel3: 0.3\n",
      "\n",
      "Result in 11.3686 seconds.\n",
      "Leave one out avec k = 7\n",
      "SimLevel1: 0.33666666666666667\n",
      "SimLevel2: 0.2966666666666667\n",
      "SimLevel3: 0.29333333333333333\n",
      "\n",
      "Result in 11.2336 seconds.\n",
      "Leave one out avec k = 8\n",
      "SimLevel1: 0.3433333333333333\n",
      "SimLevel2: 0.34\n",
      "SimLevel3: 0.31333333333333335\n",
      "\n",
      "Result in 11.2264 seconds.\n",
      "Leave one out avec k = 9\n",
      "SimLevel1: 0.32\n",
      "SimLevel2: 0.2733333333333333\n",
      "SimLevel3: 0.3233333333333333\n",
      "\n",
      "Result in 11.3485 seconds.\n",
      "Leave one out avec k = 10\n",
      "SimLevel1: 0.31666666666666665\n",
      "SimLevel2: 0.3233333333333333\n",
      "SimLevel3: 0.3433333333333333\n",
      "\n",
      "Result in 11.3217 seconds.\n"
     ]
    },
    {
     "data": {
      "text/plain": [
       "<matplotlib.legend.Legend at 0x14bcaa770>"
      ]
     },
     "execution_count": 14,
     "metadata": {},
     "output_type": "execute_result"
    },
    {
     "data": {
      "image/png": "[encoded data removed]",
      "text/plain": [
       "<Figure size 640x480 with 1 Axes>"
      ]
     },
     "metadata": {},
     "output_type": "display_data"
    }
   ],
   "source": [
    "# LOO evaluation\n",
    "# Define list for each sim level\n",
    "l1 = []\n",
    "l2 = []\n",
    "l3 = []\n",
    "k = 10\n",
    "\n",
    "for k in range(1, k+1): \n",
    "    tic = time.time()\n",
    "    mu = generate_capacity(enumerate_permute_unit(data[0]))\n",
    "\n",
    "    print(f\"Leave one out avec k = {k}\")\n",
    "    \n",
    "    # SimLevel1\n",
    "    res = leave_one_out(\n",
    "            C = KNNFuzz(input_dimension=data.shape[1], mu=mu, k=3, sim=S1, choquet_version='d_choquet', p=1, q=1), \n",
    "            DS = (data, labels)\n",
    "        )\n",
    "    l1.append(res)\n",
    "    print(f\"SimLevel1: {res}\")\n",
    "    # Sim level 2\n",
    "    res = leave_one_out(\n",
    "            C = KNNFuzz(input_dimension=data.shape[1],mu=mu, k=k, sim=S2, choquet_version='d_choquet', p=1, q=1), \n",
    "            DS = (data, labels)\n",
    "        )\n",
    "    l2.append(res)\n",
    "    print(f\"SimLevel2: {res}\")\n",
    "\n",
    "    # Sim level 3\n",
    "    res = leave_one_out(\n",
    "            C = KNNFuzz(input_dimension=data.shape[1],mu=mu, k=k, sim=S3, choquet_version='d_choquet', p=1, q=1), \n",
    "            DS = (data, labels)\n",
    "        )\n",
    "    l3.append(res)\n",
    "    print(f\"SimLevel3: {res}\\n\")\n",
    "\n",
    "    toc = time.time()\n",
    "    print(f\"Result in {(toc-tic):0.4f} seconds.\")\n",
    "\n",
    "# Plot results\n",
    "plt.plot(l1, label=\"Sim level 1\", marker='o')\n",
    "plt.plot(l2, label=\"Sim level 2\", marker='o')\n",
    "plt.plot(l3, label=\"Sim level 3\", marker='o')\n",
    "\n",
    "# Config additional params\n",
    "plt.ylabel(\"LOO accuracy\")\n",
    "plt.xlabel(\"k\")\n",
    "plt.title(\"Leave-One-Out Evaluation Results\")\n",
    "plt.grid()\n",
    "plt.legend()"
   ]
  },
  {
   "cell_type": "markdown",
   "id": "a5ae64b8",
   "metadata": {},
   "source": [
    "## Test on iris"
   ]
  },
  {
   "cell_type": "code",
   "execution_count": 15,
   "id": "27dc00de",
   "metadata": {},
   "outputs": [],
   "source": [
    "iris = load_iris(as_frame=True)  # returns a dict-like object\n",
    "df = iris.frame  # get as pandas DataFrame\n",
    "\n",
    "X = df.drop(columns='target')  # features\n",
    "y = df['target']  # target\n",
    "\n",
    "# Turn into array\n",
    "X = np.array(X)\n",
    "y = np.array(y)"
   ]
  },
  {
   "cell_type": "code",
   "execution_count": 16,
   "id": "07462183",
   "metadata": {},
   "outputs": [
    {
     "name": "stdout",
     "output_type": "stream",
     "text": [
      "Normalized data: 150 samples in 4D space.\n"
     ]
    }
   ],
   "source": [
    "# Hyperparameters\n",
    "dim = X.shape[1]  # number of features\n",
    "nb_classes = len(np.unique(y))  # number of classes\n",
    "\n",
    "# Normalize data\n",
    "data_norm = batch_norm(X)\n",
    "data_labels = sync_lst_to_float_lst(y)\n",
    "print(f\"Normalized data: {data_norm.shape[0]} samples in {data_norm.shape[1]}D space.\")"
   ]
  },
  {
   "cell_type": "code",
   "execution_count": 19,
   "id": "b6ff6ef2",
   "metadata": {},
   "outputs": [
    {
     "name": "stdout",
     "output_type": "stream",
     "text": [
      "Leave one out avec k = 1\n",
      "SimLevel1: 0.6666666666666666\n",
      "SimLevel2: 0.38\n",
      "SimLevel3: 0.9533333333333334\n",
      "\n",
      "Result in 4.6734 seconds.\n",
      "Leave one out avec k = 2\n",
      "SimLevel1: 0.6666666666666666\n",
      "SimLevel2: 0.46\n",
      "SimLevel3: 0.9533333333333334\n",
      "\n",
      "Result in 4.6618 seconds.\n",
      "Leave one out avec k = 3\n",
      "SimLevel1: 0.6666666666666666\n",
      "SimLevel2: 0.6133333333333333\n",
      "SimLevel3: 0.94\n",
      "\n",
      "Result in 4.6474 seconds.\n",
      "Leave one out avec k = 4\n",
      "SimLevel1: 0.6666666666666666\n",
      "SimLevel2: 0.41333333333333333\n",
      "SimLevel3: 0.9333333333333333\n",
      "\n",
      "Result in 4.6540 seconds.\n",
      "Leave one out avec k = 5\n",
      "SimLevel1: 0.6666666666666666\n",
      "SimLevel2: 0.44\n",
      "SimLevel3: 0.9466666666666667\n",
      "\n",
      "Result in 4.5143 seconds.\n",
      "Leave one out avec k = 6\n",
      "SimLevel1: 0.6666666666666666\n",
      "SimLevel2: 0.4066666666666667\n",
      "SimLevel3: 0.9666666666666667\n",
      "\n",
      "Result in 4.6761 seconds.\n",
      "Leave one out avec k = 7\n",
      "SimLevel1: 0.6666666666666666\n",
      "SimLevel2: 0.4533333333333333\n",
      "SimLevel3: 0.9466666666666667\n",
      "\n",
      "Result in 4.6923 seconds.\n",
      "Leave one out avec k = 8\n",
      "SimLevel1: 0.6666666666666666\n",
      "SimLevel2: 0.43333333333333335\n",
      "SimLevel3: 0.96\n",
      "\n",
      "Result in 4.5644 seconds.\n",
      "Leave one out avec k = 9\n",
      "SimLevel1: 0.6666666666666666\n",
      "SimLevel2: 0.41333333333333333\n",
      "SimLevel3: 0.9666666666666667\n",
      "\n",
      "Result in 4.6976 seconds.\n",
      "Leave one out avec k = 10\n",
      "SimLevel1: 0.6666666666666666\n",
      "SimLevel2: 0.4533333333333333\n",
      "SimLevel3: 0.94\n",
      "\n",
      "Result in 4.5893 seconds.\n"
     ]
    },
    {
     "data": {
      "text/plain": [
       "<matplotlib.legend.Legend at 0x14be5d360>"
      ]
     },
     "execution_count": 19,
     "metadata": {},
     "output_type": "execute_result"
    },
    {
     "data": {
      "image/png": "[encoded data removed]",
      "text/plain": [
       "<Figure size 640x480 with 1 Axes>"
      ]
     },
     "metadata": {},
     "output_type": "display_data"
    }
   ],
   "source": [
    "# LOO evaluation\n",
    "# Define list for each sim level\n",
    "l1 = []\n",
    "l2 = []\n",
    "l3 = []\n",
    "k = 10\n",
    "\n",
    "for k in range(1, k+1): \n",
    "    tic = time.time()\n",
    "    mu = generate_capacity(enumerate_permute_unit(data_norm[0]))\n",
    "\n",
    "    print(f\"Leave one out avec k = {k}\")\n",
    "    \n",
    "    # SimLevel1\n",
    "    res = leave_one_out(\n",
    "            C = KNNFuzz(input_dimension=data_norm.shape[1], mu=mu, k=3, sim=S1, choquet_version='d_choquet', p=1, q=1), \n",
    "            DS = (data_norm, data_labels)\n",
    "        )\n",
    "    l1.append(res)\n",
    "    print(f\"SimLevel1: {res}\")\n",
    "    # Sim level 2\n",
    "    res = leave_one_out(\n",
    "            C = KNNFuzz(input_dimension=data_norm.shape[1], mu=mu, k=3, sim=S2, choquet_version='d_choquet', p=1, q=1), \n",
    "            DS = (data_norm, data_labels)\n",
    "        )\n",
    "    l2.append(res)\n",
    "    print(f\"SimLevel2: {res}\")\n",
    "\n",
    "    # Sim level 3\n",
    "    res = leave_one_out(\n",
    "            C = KNNFuzz(input_dimension=data_norm.shape[1], mu=mu, k=k, sim=S3, choquet_version='d_choquet', p=1, q=1), \n",
    "            DS = (data_norm, data_labels)\n",
    "        )\n",
    "    l3.append(res)\n",
    "    print(f\"SimLevel3: {res}\\n\")\n",
    "\n",
    "    toc = time.time()\n",
    "    print(f\"Result in {(toc-tic):0.4f} seconds.\")\n",
    "\n",
    "# Plot results\n",
    "plt.plot(l1, label=\"Sim level 1\", marker='o')\n",
    "plt.plot(l2, label=\"Sim level 2\", marker='o')\n",
    "plt.plot(l3, label=\"Sim level 3\", marker='o')\n",
    "\n",
    "# Config additional params\n",
    "plt.ylabel(\"LOO accuracy\")\n",
    "plt.xlabel(\"k\")\n",
    "plt.title(\"Leave-One-Out Evaluation Results\")\n",
    "plt.grid()\n",
    "plt.legend()"
   ]
  },
  {
   "cell_type": "markdown",
   "id": "20cf5f79",
   "metadata": {},
   "source": [
    "## Test penguins"
   ]
  },
  {
   "cell_type": "code",
   "execution_count": 12,
   "id": "b1a6ab1e",
   "metadata": {},
   "outputs": [],
   "source": [
    "penguins = load_penguins()\n",
    "penguins\n",
    "\n",
    "# Encode\n",
    "le = LabelEncoder()\n",
    "le.fit(penguins['island'])\n",
    "penguins['island'] = le.transform(penguins['island'])\n",
    "\n",
    "le.fit(penguins['sex'])\n",
    "penguins['sex'] = le.transform(penguins['sex'])\n",
    "\n",
    "le.fit(penguins['species'])\n",
    "penguins['species'] = le.transform(penguins['species'])\n",
    "\n",
    "# Remove missing values\n",
    "penguins = penguins.dropna()  # remove rows with missing values\n",
    "X = penguins.drop(columns='species')  # features\n",
    "y = penguins['species']  # target\n",
    "\n",
    "# Turn into array\n",
    "X = np.array(X)\n",
    "y = np.array(y)"
   ]
  },
  {
   "cell_type": "code",
   "execution_count": 13,
   "id": "e5afbb00",
   "metadata": {},
   "outputs": [
    {
     "name": "stdout",
     "output_type": "stream",
     "text": [
      "Normalized data: 342 samples in 7D space.\n"
     ]
    }
   ],
   "source": [
    "# Hyperparameters\n",
    "dim = X.shape[1]  # number of features\n",
    "nb_classes = len(np.unique(y))  # number of classes\n",
    "\n",
    "# Normalize data\n",
    "data_norm = batch_norm(X)\n",
    "data_labels = sync_lst_to_float_lst(y)\n",
    "print(f\"Normalized data: {data_norm.shape[0]} samples in {data_norm.shape[1]}D space.\")"
   ]
  },
  {
   "cell_type": "code",
   "execution_count": 14,
   "id": "df1489fb",
   "metadata": {},
   "outputs": [],
   "source": [
    "# # LOO evaluation\n",
    "# # Define list for each sim level\n",
    "# l1 = []\n",
    "# l2 = []\n",
    "# l3 = []\n",
    "# k = 10\n",
    "\n",
    "# for k in range(1, k+1): \n",
    "#     tic = time.time()\n",
    "#     mu = generate_capacity(enumerate_permute_unit(data_norm[0]))\n",
    "\n",
    "#     print(f\"Leave one out avec k = {k}\")\n",
    "    \n",
    "#     # SimLevel1\n",
    "#     res = leave_one_out(\n",
    "#             C = KNNFuzz(input_dimension=data_norm.shape[1],mu=mu, k=k, sim=S1), \n",
    "#             DS = (data_norm, data_labels)\n",
    "#         )\n",
    "#     l1.append(res)\n",
    "#     print(f\"SimLevel1: {res}\")\n",
    "#     # Sim level 2\n",
    "#     res = leave_one_out(\n",
    "#             C = KNNFuzz(input_dimension=data_norm.shape[1],mu=mu, k=k, sim=S2), \n",
    "#             DS = (data_norm, data_labels)\n",
    "#         )\n",
    "#     l2.append(res)\n",
    "#     print(f\"SimLevel2: {res}\")\n",
    "\n",
    "#     # Sim level 3\n",
    "#     res = leave_one_out(\n",
    "#             C = KNNFuzz(input_dimension=data_norm.shape[1],mu=mu, k=k, sim=S3), \n",
    "#             DS = (data_norm, data_labels)\n",
    "#         )\n",
    "#     l3.append(res)\n",
    "#     print(f\"SimLevel3: {res}\")\n",
    "\n",
    "#     toc = time.time()\n",
    "#     print(f\"Result in {(toc-tic):0.4f} seconds.\\n\")\n",
    "\n",
    "# # Plot results\n",
    "# plt.plot(l1, label=\"Sim level 1\", marker='o')\n",
    "# plt.plot(l2, label=\"Sim level 2\", marker='o')\n",
    "# plt.plot(l3, label=\"Sim level 3\", marker='o')\n",
    "\n",
    "# # Config additional params\n",
    "# plt.ylabel(\"LOO accuracy\")\n",
    "# plt.xlabel(\"k\")\n",
    "# plt.title(\"Leave-One-Out Evaluation Results\")\n",
    "# plt.grid()\n",
    "# plt.legend()"
   ]
  },
  {
   "cell_type": "code",
   "execution_count": null,
   "id": "496e0f5b",
   "metadata": {},
   "outputs": [],
   "source": []
  },
  {
   "cell_type": "code",
   "execution_count": null,
   "id": "35e6da7a",
   "metadata": {},
   "outputs": [],
   "source": []
  },
  {
   "cell_type": "code",
   "execution_count": null,
   "id": "f67c2942",
   "metadata": {},
   "outputs": [],
   "source": []
  },
  {
   "cell_type": "code",
   "execution_count": null,
   "id": "94e4b789",
   "metadata": {},
   "outputs": [],
   "source": []
  },
  {
   "cell_type": "code",
   "execution_count": null,
   "id": "ee54b78e",
   "metadata": {},
   "outputs": [],
   "source": []
  },
  {
   "cell_type": "code",
   "execution_count": null,
   "id": "766bd9db",
   "metadata": {},
   "outputs": [],
   "source": []
  },
  {
   "cell_type": "code",
   "execution_count": null,
   "id": "48ce9abd",
   "metadata": {},
   "outputs": [],
   "source": []
  },
  {
   "cell_type": "code",
   "execution_count": null,
   "id": "fdd43f37",
   "metadata": {},
   "outputs": [],
   "source": []
  },
  {
   "cell_type": "code",
   "execution_count": null,
   "id": "5a19c7cf",
   "metadata": {},
   "outputs": [],
   "source": []
  },
  {
   "cell_type": "code",
   "execution_count": null,
   "id": "85af8832",
   "metadata": {},
   "outputs": [],
   "source": []
  },
  {
   "cell_type": "code",
   "execution_count": null,
   "id": "330a4f7a",
   "metadata": {},
   "outputs": [],
   "source": []
  },
  {
   "cell_type": "code",
   "execution_count": 15,
   "id": "d90361c8",
   "metadata": {},
   "outputs": [
    {
     "data": {
      "text/plain": [
       "np.float64(0.8944271909999159)"
      ]
     },
     "execution_count": 15,
     "metadata": {},
     "output_type": "execute_result"
    }
   ],
   "source": [
    "restricted_dissim(1, 0.2, p=1, q=2)  # Should return 1"
   ]
  },
  {
   "cell_type": "code",
   "execution_count": 16,
   "id": "b75c1c1e",
   "metadata": {},
   "outputs": [
    {
     "name": "stdout",
     "output_type": "stream",
     "text": [
      "0.5122874\n",
      "0.6082897\n",
      "1.183232\n",
      "0.33874217\n",
      "1.433209\n",
      "1.1653045\n",
      "0.9673966\n",
      "0.85961044\n",
      "0.8349121\n",
      "1.447497\n",
      "0.526643\n",
      "0.33692893\n",
      "0.8491338\n",
      "1.506527\n",
      "0.8525515\n",
      "0.9925179\n",
      "1.372129\n",
      "0.3458757\n",
      "1.223994\n",
      "0.39420214\n"
     ]
    }
   ],
   "source": [
    "for i in range(20):\n",
    "    print(d_Choquet_integral(X=data[i], mu=mu))"
   ]
  },
  {
   "cell_type": "code",
   "execution_count": 17,
   "id": "67625487",
   "metadata": {},
   "outputs": [
    {
     "data": {
      "text/plain": [
       "array(0.5122874, dtype=float32)"
      ]
     },
     "execution_count": 17,
     "metadata": {},
     "output_type": "execute_result"
    }
   ],
   "source": [
    "d_Choquet_integral(X=data[0], mu=mu)"
   ]
  },
  {
   "cell_type": "code",
   "execution_count": null,
   "id": "6323996e",
   "metadata": {},
   "outputs": [],
   "source": []
  },
  {
   "cell_type": "code",
   "execution_count": null,
   "id": "734cb2a5",
   "metadata": {},
   "outputs": [],
   "source": []
  }
 ],
 "metadata": {
  "kernelspec": {
   "display_name": "rl-env",
   "language": "python",
   "name": "python3"
  },
  "language_info": {
   "codemirror_mode": {
    "name": "ipython",
    "version": 3
   },
   "file_extension": ".py",
   "mimetype": "text/x-python",
   "name": "python",
   "nbconvert_exporter": "python",
   "pygments_lexer": "ipython3",
   "version": "3.10.16"
  }
 },
 "nbformat": 4,
 "nbformat_minor": 5
}
