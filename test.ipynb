{
 "cells": [
  {
   "cell_type": "markdown",
   "id": "b2699aff",
   "metadata": {},
   "source": [
    "# Test notebook"
   ]
  },
  {
   "cell_type": "code",
   "execution_count": 2,
   "id": "1248f0e2",
   "metadata": {},
   "outputs": [],
   "source": [
    "import numpy as np\n",
    "import matplotlib.pyplot as plt"
   ]
  },
  {
   "cell_type": "code",
   "execution_count": 3,
   "id": "1693987b",
   "metadata": {},
   "outputs": [],
   "source": [
    "import src.utils as ut\n",
    "import src.fuzz as fz\n",
    "import src.classif as cl"
   ]
  },
  {
   "cell_type": "markdown",
   "id": "ce599408",
   "metadata": {},
   "source": [
    "## Visualize testing function"
   ]
  },
  {
   "cell_type": "code",
   "execution_count": 22,
   "id": "094272a0",
   "metadata": {},
   "outputs": [
    {
     "name": "stdout",
     "output_type": "stream",
     "text": [
      "Generated 300 all-positive samples in 4D space.\n"
     ]
    }
   ],
   "source": [
    "# Number of dimensions\n",
    "dim = 4\n",
    "nb_classes = 3\n",
    "nb_points_per_class = 100\n",
    "\n",
    "# Create 16D centers with increasingly positive values\n",
    "centers = [\n",
    "    np.full(dim, 5.0),   # Center for class 0\n",
    "    np.full(dim, 10.0),  # Center for class 1\n",
    "    np.full(dim, 15.0),  # Center for class 2\n",
    "]\n",
    "\n",
    "# Create small positive definite covariance matrices for each class\n",
    "sigmas = []\n",
    "for _ in range(nb_classes):\n",
    "    A = np.random.rand(dim, dim) * 0.2  # keep values small\n",
    "    sigma = np.dot(A, A.T) + np.eye(dim) * 0.5  # ensure positive definite and symmetric\n",
    "    sigmas.append(sigma)\n",
    "\n",
    "# Labels for each class\n",
    "labels = list(range(nb_classes))\n",
    "\n",
    "# Generate data\n",
    "data, data_labels = ut.generate_gaussian_dataset(centers, sigmas, labels, nb_points_per_class)\n",
    "\n",
    "# Keep only samples with all positive values\n",
    "positive_mask = np.all(data > 0, axis=1)\n",
    "data = data[positive_mask]\n",
    "data_labels = data_labels[positive_mask]\n",
    "\n",
    "print(f\"Generated {data.shape[0]} all-positive samples in {dim}D space.\")"
   ]
  },
  {
   "cell_type": "code",
   "execution_count": 23,
   "id": "1e86ce0c",
   "metadata": {},
   "outputs": [
    {
     "data": {
      "text/plain": [
       "array([[1.        , 0.77615266, 0.92417533, 0.        ],\n",
       "       [0.        , 1.        , 0.55595211, 0.72383331],\n",
       "       [0.        , 0.87670134, 1.        , 0.64343751],\n",
       "       ...,\n",
       "       [0.94611278, 0.93711303, 1.        , 0.        ],\n",
       "       [0.        , 1.        , 0.31300353, 0.37676655],\n",
       "       [0.        , 0.09258487, 1.        , 0.19947334]], shape=(300, 4))"
      ]
     },
     "execution_count": 23,
     "metadata": {},
     "output_type": "execute_result"
    }
   ],
   "source": [
    "# Normalize data\n",
    "data_norm = fz.batch_norm(data)\n",
    "data_norm"
   ]
  },
  {
   "cell_type": "markdown",
   "id": "674d848f",
   "metadata": {},
   "source": [
    "### Sim Level 1"
   ]
  },
  {
   "cell_type": "code",
   "execution_count": 24,
   "id": "dbc87d8d",
   "metadata": {},
   "outputs": [
    {
     "data": {
      "text/plain": [
       "76"
      ]
     },
     "execution_count": 24,
     "metadata": {},
     "output_type": "execute_result"
    }
   ],
   "source": [
    "np.random.randint(100)"
   ]
  },
  {
   "cell_type": "code",
   "execution_count": 25,
   "id": "97a166d7",
   "metadata": {},
   "outputs": [
    {
     "name": "stdout",
     "output_type": "stream",
     "text": [
      "SimLevel1: 0.0914600659568992\n",
      "SimLevel1: 0.14776078353017644\n",
      "SimLevel1: 0.4252335121742213\n",
      "SimLevel1: 0.04269940592812617\n",
      "SimLevel1: 0.18749420534274958\n",
      "SimLevel1: 0.33994045848890847\n",
      "SimLevel1: 0.08591750627042839\n",
      "SimLevel1: 0.2765813534016185\n",
      "SimLevel1: 0.2341343413219335\n",
      "SimLevel1: 0.6479039052449957\n",
      "SimLevel1: 0.6296425406396547\n",
      "SimLevel1: 0.7277629807723403\n",
      "SimLevel1: 0.4470819316354164\n",
      "SimLevel1: 0.7710562040237771\n",
      "SimLevel1: 0.36266432672980276\n",
      "SimLevel1: 0.6134021568717215\n",
      "SimLevel1: 0.6079063239883022\n",
      "SimLevel1: 0.02742725425035695\n",
      "SimLevel1: 0.19818251132409895\n",
      "SimLevel1: 0.4826988100483082\n"
     ]
    }
   ],
   "source": [
    "# Loop to see\n",
    "for i in range(20):\n",
    "    X = data_norm[np.random.randint(data_norm.shape[0])]\n",
    "    Y = data_norm[np.random.randint(data_norm.shape[0])]\n",
    "\n",
    "    sim1 = fz.SimLevel1(\n",
    "        X = X,\n",
    "        Y = Y,\n",
    "    )\n",
    "    print(f\"SimLevel1: {sim1.score()}\")\n"
   ]
  },
  {
   "cell_type": "code",
   "execution_count": 54,
   "id": "3feae3d9",
   "metadata": {},
   "outputs": [],
   "source": [
    "class KFuzz(cl.KNN):\n",
    "    def __init__(self, input_dimension, k=3, sim=fz.SimLevel1):\n",
    "        \"\"\" KNN avec une distance de type fuzz\n",
    "            k: le nombre de voisins à prendre en compte\n",
    "            sim: la fonction de similarité à utiliser\n",
    "        \"\"\"\n",
    "        super().__init__(input_dimension=input_dimension, k=k)\n",
    "        self.sim = sim\n",
    "\n",
    "    def score(self, x):\n",
    "        from collections import Counter\n",
    "        \"\"\" Rend la proportion des labels parmi les k ppv de x (valeur réelle)\n",
    "            x: une description : un ndarray\n",
    "        \"\"\"\n",
    "        # Compute similarity between x and all points in desc_set\n",
    "        similarity = np.array([self.sim(x, desc).score() for desc in self.desc_set])\n",
    "        # print(f\"Similarity: {similarity}\")\n",
    "\n",
    "        # distances = np.sqrt(np.sum((self.desc_set - x) ** 2, axis=1))\n",
    "        nearest_indices = np.argsort(similarity)[:self.k]\n",
    "        # print(f\"Nearest indices: {nearest_indices}\")\n",
    "        nearest_labels = self.label_set[nearest_indices]\n",
    "        # print(f\"Nearest labels: {nearest_labels}\")\n",
    "        \n",
    "        label_counts = Counter(nearest_labels)\n",
    "        # print(f\"Label counts: {label_counts}\")\n",
    "        return max(label_counts.items(), key=lambda item: (item[1], -item[0]))[0]\n",
    "\n",
    "    def predict(self, x):\n",
    "        \"\"\" Rend la prédiction sur x (label de 0 à 9)\n",
    "            x: une description : un ndarray\n",
    "        \"\"\"\n",
    "        return int(self.score(x))\n",
    "\n",
    "    def train(self, desc_set, label_set):\n",
    "        \"\"\" Permet d'entraîner le modèle sur l'ensemble donné\n",
    "            desc_set: ndarray avec des descriptions\n",
    "            label_set: ndarray avec les labels correspondants\n",
    "            Hypothèse: desc_set et label_set ont le même nombre de lignes\n",
    "        \"\"\"\n",
    "        self.desc_set = desc_set\n",
    "        self.label_set = label_set"
   ]
  },
  {
   "cell_type": "code",
   "execution_count": 55,
   "id": "2d77dcf8",
   "metadata": {},
   "outputs": [],
   "source": [
    "kf = KFuzz(input_dimension=data_norm.shape[1], k=3, sim=fz.SimLevel1)"
   ]
  },
  {
   "cell_type": "code",
   "execution_count": 56,
   "id": "79cef053",
   "metadata": {},
   "outputs": [],
   "source": [
    "kf.train(data_norm, data_labels)"
   ]
  },
  {
   "cell_type": "code",
   "execution_count": 57,
   "id": "18d5ae95",
   "metadata": {},
   "outputs": [
    {
     "data": {
      "text/plain": [
       "0"
      ]
     },
     "execution_count": 57,
     "metadata": {},
     "output_type": "execute_result"
    }
   ],
   "source": [
    "kf.predict(data_norm[0])"
   ]
  },
  {
   "cell_type": "code",
   "execution_count": 58,
   "id": "b3f20c78",
   "metadata": {},
   "outputs": [
    {
     "data": {
      "text/plain": [
       "np.int64(0)"
      ]
     },
     "execution_count": 58,
     "metadata": {},
     "output_type": "execute_result"
    }
   ],
   "source": [
    "data_labels[0]"
   ]
  },
  {
   "cell_type": "code",
   "execution_count": 72,
   "id": "cde90c1e",
   "metadata": {},
   "outputs": [],
   "source": [
    "import copy\n",
    "import numpy as np\n",
    "import time\n",
    "\n",
    "def leave_one_out(C, DS, time_counter=False):\n",
    "    \"\"\" Classifieur * tuple[array, array] -> float\n",
    "    \"\"\"\n",
    "    ###################### A COMPLETER \n",
    "    pt = 0\n",
    "    Xm, Ym = DS\n",
    "\n",
    "    if time_counter:\n",
    "        tic = time.time()\n",
    "    for i in range(len(Xm)):\n",
    "        Xtest, Ytest = Xm[i], Ym[i]\n",
    "        \n",
    "        Xapp, Yapp = np.array(list(Xm[:i])+list(Xm[i+1:])), np.array(list(Ym[:i])+list(Ym[i+1:]))\n",
    "\n",
    "        cl = copy.deepcopy(C)\n",
    "        cl.train(Xapp,Yapp)\n",
    "\n",
    "        if cl.accuracy([Xtest], [Ytest]) == 1 : pt+=1\n",
    "\n",
    "    if time_counter:\n",
    "        toc = time.time()\n",
    "        print(f'Result in {(toc-tic):0.4f} seconds.')\n",
    "    \n",
    "    return pt/len(Xm)\n",
    "\n",
    "    #################################\n"
   ]
  },
  {
   "cell_type": "code",
   "execution_count": 75,
   "id": "16f5af12",
   "metadata": {},
   "outputs": [
    {
     "name": "stdout",
     "output_type": "stream",
     "text": [
      "Result in 13.0212 seconds.\n"
     ]
    },
    {
     "data": {
      "text/plain": [
       "0.3466666666666667"
      ]
     },
     "execution_count": 75,
     "metadata": {},
     "output_type": "execute_result"
    }
   ],
   "source": [
    "leave_one_out(\n",
    "    C = kf, \n",
    "    DS = (data_norm, data_labels), time_counter=True\n",
    ")"
   ]
  },
  {
   "cell_type": "code",
   "execution_count": 76,
   "id": "21e59cde",
   "metadata": {},
   "outputs": [
    {
     "name": "stdout",
     "output_type": "stream",
     "text": [
      "Leave one out avec k = 1\n",
      "Leave one out avec k = 2\n",
      "Leave one out avec k = 3\n",
      "Leave one out avec k = 4\n",
      "Leave one out avec k = 5\n",
      "Leave one out avec k = 6\n",
      "Leave one out avec k = 7\n",
      "Leave one out avec k = 8\n",
      "Leave one out avec k = 9\n",
      "Leave one out avec k = 10\n",
      "Result in 120.8726 seconds.\n",
      "Result: [0.33666666666666667, 0.35, 0.31333333333333335, 0.31666666666666665, 0.32666666666666666, 0.34, 0.32666666666666666, 0.3433333333333333, 0.30333333333333334, 0.30333333333333334]\n"
     ]
    },
    {
     "data": {
      "text/plain": [
       "<matplotlib.legend.Legend at 0x703255726d50>"
      ]
     },
     "execution_count": 76,
     "metadata": {},
     "output_type": "execute_result"
    },
    {
     "data": {
      "image/png": "[encoded data removed]",
      "text/plain": [
       "<Figure size 640x480 with 1 Axes>"
      ]
     },
     "metadata": {},
     "output_type": "display_data"
    }
   ],
   "source": [
    "l = []\n",
    "\n",
    "tic = time.time()\n",
    "for k in range(1,11): \n",
    "  print(f\"Leave one out avec k = {k}\")\n",
    "  \n",
    "  res = leave_one_out(\n",
    "        C = KFuzz(input_dimension=data_norm.shape[1], k=k, sim=fz.SimLevel1), \n",
    "        DS = (data_norm, data_labels)\n",
    "    )\n",
    "  l.append(res)\n",
    "\n",
    "toc = time.time()\n",
    "print(f\"Result in {(toc-tic):0.4f} seconds.\")\n",
    "print(f\"Result: {l}\")\n",
    "plt.plot(l, label=\"Accuracy en fonction de k\")\n",
    "plt.ylabel(\"Accuracy\")\n",
    "plt.xlabel(\"k\")\n",
    "plt.grid()\n",
    "plt.legend()"
   ]
  },
  {
   "cell_type": "code",
   "execution_count": null,
   "id": "df68f8b1",
   "metadata": {},
   "outputs": [],
   "source": []
  },
  {
   "cell_type": "code",
   "execution_count": 77,
   "id": "7adc8a06",
   "metadata": {},
   "outputs": [
    {
     "data": {
      "text/plain": [
       "{89}"
      ]
     },
     "execution_count": 77,
     "metadata": {},
     "output_type": "execute_result"
    }
   ],
   "source": [
    "s = {1,2,3,4,5,6,7,89}\n",
    "s2 = {1,2,3,4,5,6,7,8}\n",
    "\n",
    "s.difference(s2)"
   ]
  },
  {
   "cell_type": "code",
   "execution_count": null,
   "metadata": {},
   "outputs": [],
   "source": []
  },
  {
   "cell_type": "code",
   "execution_count": null,
   "id": "8218bc3f",
   "metadata": {},
   "outputs": [],
   "source": []
  },
  {
   "cell_type": "code",
   "execution_count": null,
   "metadata": {},
   "outputs": [],
   "source": []
  },
  {
   "cell_type": "code",
   "execution_count": null,
   "id": "c7f5afee",
   "metadata": {},
   "outputs": [],
   "source": []
  },
  {
   "cell_type": "code",
   "execution_count": null,
   "metadata": {},
   "outputs": [],
   "source": []
  },
  {
   "cell_type": "code",
   "execution_count": null,
   "metadata": {},
   "outputs": [],
   "source": []
  },
  {
   "cell_type": "code",
   "execution_count": null,
   "id": "bfe14d74",
   "metadata": {},
   "outputs": [],
   "source": []
  }
 ],
 "metadata": {
  "kernelspec": {
   "display_name": "fuzzsim",
   "language": "python",
   "name": "python3"
  },
  "language_info": {
   "codemirror_mode": {
    "name": "ipython",
    "version": 3
   },
   "file_extension": ".py",
   "mimetype": "text/x-python",
   "name": "python",
   "nbconvert_exporter": "python",
   "pygments_lexer": "ipython3",
   "version": "3.13.2"
  }
 },
 "nbformat": 4,
 "nbformat_minor": 5
}
