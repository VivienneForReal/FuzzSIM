{
 "cells": [
  {
   "cell_type": "code",
   "execution_count": 1,
   "id": "35f56abc",
   "metadata": {},
   "outputs": [],
   "source": [
    "import torch\n",
    "from itertools import combinations\n",
    "import numpy as np\n",
    "import torch.nn.functional as F\n",
    "from typing import List, Tuple, Dict, Any\n",
    "import matplotlib.pyplot as plt"
   ]
  },
  {
   "cell_type": "code",
   "execution_count": 2,
   "id": "bc2d3404",
   "metadata": {},
   "outputs": [],
   "source": [
    "from fuzz.utils import enumerate_permute, gap_count\n",
    "from fuzz.src.capacity import *\n",
    "from fuzz.src.norm import *\n",
    "from fuzz.src.choquet.choquet import *\n",
    "from fuzz.src.choquet.utils import *\n",
    "from fuzz.src.sim import *\n",
    "from fuzz.src.knn import *\n",
    "from fuzz.eval import FuzzLOO"
   ]
  },
  {
   "cell_type": "markdown",
   "id": "e90c09e7",
   "metadata": {},
   "source": [
    "### utils.py"
   ]
  },
  {
   "cell_type": "code",
   "execution_count": 3,
   "id": "b5f58597",
   "metadata": {},
   "outputs": [
    {
     "name": "stdout",
     "output_type": "stream",
     "text": [
      "done\n",
      "tensor([[[-1, -1, -1, -1],\n",
      "         [ 1, -1, -1, -1],\n",
      "         [ 2, -1, -1, -1],\n",
      "         [ 0, -1, -1, -1],\n",
      "         [ 3, -1, -1, -1],\n",
      "         [ 1,  2, -1, -1],\n",
      "         [ 1,  0, -1, -1],\n",
      "         [ 1,  3, -1, -1],\n",
      "         [ 2,  0, -1, -1],\n",
      "         [ 2,  3, -1, -1],\n",
      "         [ 0,  3, -1, -1],\n",
      "         [ 1,  2,  0, -1],\n",
      "         [ 1,  2,  3, -1],\n",
      "         [ 1,  0,  3, -1],\n",
      "         [ 2,  0,  3, -1],\n",
      "         [ 1,  2,  0,  3]]])\n",
      "shape torch.Size([1, 16, 4])\n"
     ]
    },
    {
     "data": {
      "text/plain": [
       "4"
      ]
     },
     "execution_count": 3,
     "metadata": {},
     "output_type": "execute_result"
    }
   ],
   "source": [
    "x = torch.rand(300, 4)\n",
    "print(\"done\")\n",
    "enum = enumerate_permute(x[1].unsqueeze(0))\n",
    "print(enum)\n",
    "print(\"shape\", enum.shape)\n",
    "gap_count(enum[0][0])"
   ]
  },
  {
   "cell_type": "markdown",
   "id": "3d9af02c",
   "metadata": {},
   "source": [
    "### capacity.py"
   ]
  },
  {
   "cell_type": "code",
   "execution_count": 4,
   "id": "af2416c9",
   "metadata": {},
   "outputs": [
    {
     "name": "stdout",
     "output_type": "stream",
     "text": [
      "0\n",
      "0.018278539180755615\n",
      "0.23042798042297363\n",
      "0.2890784740447998\n",
      "0.29427945613861084\n",
      "0.30455321073532104\n",
      "0.32746708393096924\n",
      "0.45462852716445923\n",
      "0.47011882066726685\n",
      "0.5352305173873901\n",
      "0.7589643001556396\n",
      "0.8414394855499268\n",
      "0.8701643347740173\n",
      "0.9690427184104919\n",
      "0.9793176651000977\n",
      "1\n",
      "Capacity locator for tensor([ 3, -1, -1, -1]): 0.29427945613861084\n"
     ]
    }
   ],
   "source": [
    "mu = generate_capacity(enum[0])\n",
    "for i in range(len(mu)):\n",
    "    print(mu[i].get_capacity())\n",
    "\n",
    "print(f\"Capacity locator for {enum[0][4]}:\", locate_capacity(enum[0][4], mu))"
   ]
  },
  {
   "cell_type": "markdown",
   "id": "6c4deee6",
   "metadata": {},
   "source": [
    "### norm.py"
   ]
  },
  {
   "cell_type": "code",
   "execution_count": 5,
   "id": "57db98e4",
   "metadata": {},
   "outputs": [
    {
     "name": "stdout",
     "output_type": "stream",
     "text": [
      "Normalized x:\n",
      " tensor([[0.6561, 0.0000, 0.2513, 1.0000],\n",
      "        [0.7168, 0.0000, 0.5245, 1.0000],\n",
      "        [1.0000, 0.8301, 0.5730, 0.0000],\n",
      "        ...,\n",
      "        [0.0000, 0.1835, 1.0000, 0.8386],\n",
      "        [0.9158, 1.0000, 0.0000, 0.5131],\n",
      "        [0.4989, 1.0000, 0.0000, 0.2628]])\n"
     ]
    }
   ],
   "source": [
    "x = normalize(x)\n",
    "print(\"Normalized x:\\n\", x)"
   ]
  },
  {
   "cell_type": "code",
   "execution_count": 6,
   "id": "5d88258e",
   "metadata": {},
   "outputs": [
    {
     "data": {
      "text/plain": [
       "tensor([[0.8225, 0.7629, 0.0000, 1.0000],\n",
       "        [0.1195, 0.0000, 1.0000, 0.2769],\n",
       "        [1.0000, 0.7784, 0.0000, 0.1117],\n",
       "        ...,\n",
       "        [0.6559, 0.0000, 1.0000, 0.1558],\n",
       "        [1.0000, 0.8557, 0.2585, 0.0000],\n",
       "        [0.3959, 0.0000, 0.6103, 1.0000]])"
      ]
     },
     "execution_count": 6,
     "metadata": {},
     "output_type": "execute_result"
    }
   ],
   "source": [
    "x2 = torch.rand(300,4)\n",
    "x2 = normalize(x2)\n",
    "x2"
   ]
  },
  {
   "cell_type": "code",
   "execution_count": 7,
   "id": "71e5014a",
   "metadata": {},
   "outputs": [
    {
     "data": {
      "text/plain": [
       "tensor([[1.0000, 0.7629, 0.2513, 1.0000],\n",
       "        [0.8363, 0.0000, 1.0000, 1.0000],\n",
       "        [1.0000, 1.0000, 0.5730, 0.1117],\n",
       "        ...,\n",
       "        [0.6559, 0.1835, 1.0000, 0.9943],\n",
       "        [1.0000, 1.0000, 0.2585, 0.5131],\n",
       "        [0.8948, 1.0000, 0.6103, 1.0000]])"
      ]
     },
     "execution_count": 7,
     "metadata": {},
     "output_type": "execute_result"
    }
   ],
   "source": [
    "T_norm_result = T_conorm(x, x2, mode='L')\n",
    "T_norm_result"
   ]
  },
  {
   "cell_type": "markdown",
   "id": "5425e3c6",
   "metadata": {},
   "source": [
    "### choquet.py"
   ]
  },
  {
   "cell_type": "code",
   "execution_count": 8,
   "id": "04d67357",
   "metadata": {},
   "outputs": [
    {
     "data": {
      "text/plain": [
       "tensor([[0.3439, 0.7629, 0.2513, 0.0000],\n",
       "        [0.7168, 0.0000, 0.4755, 0.7231],\n",
       "        [0.0000, 0.2216, 0.5730, 0.1117],\n",
       "        ...,\n",
       "        [0.6559, 0.1835, 0.0000, 0.8386],\n",
       "        [0.0842, 0.1443, 0.2585, 0.5131],\n",
       "        [0.4989, 1.0000, 0.6103, 0.7372]])"
      ]
     },
     "execution_count": 8,
     "metadata": {},
     "output_type": "execute_result"
    }
   ],
   "source": [
    "s_union_result = s_triangle(x, x2, mode='M')\n",
    "s_union_result"
   ]
  },
  {
   "cell_type": "code",
   "execution_count": 9,
   "id": "1d646021",
   "metadata": {},
   "outputs": [
    {
     "data": {
      "text/plain": [
       "tensor([0.6561, 0.0000, 0.2513, 1.0000])"
      ]
     },
     "execution_count": 9,
     "metadata": {},
     "output_type": "execute_result"
    }
   ],
   "source": [
    "x[0]"
   ]
  },
  {
   "cell_type": "code",
   "execution_count": 10,
   "id": "687130da",
   "metadata": {},
   "outputs": [
    {
     "data": {
      "text/plain": [
       "tensor([[[-1, -1, -1, -1],\n",
       "         [ 1, -1, -1, -1],\n",
       "         [ 2, -1, -1, -1],\n",
       "         [ 0, -1, -1, -1],\n",
       "         [ 3, -1, -1, -1],\n",
       "         [ 1,  2, -1, -1],\n",
       "         [ 1,  0, -1, -1],\n",
       "         [ 1,  3, -1, -1],\n",
       "         [ 2,  0, -1, -1],\n",
       "         [ 2,  3, -1, -1],\n",
       "         [ 0,  3, -1, -1],\n",
       "         [ 1,  2,  0, -1],\n",
       "         [ 1,  2,  3, -1],\n",
       "         [ 1,  0,  3, -1],\n",
       "         [ 2,  0,  3, -1],\n",
       "         [ 1,  2,  0,  3]]])"
      ]
     },
     "execution_count": 10,
     "metadata": {},
     "output_type": "execute_result"
    }
   ],
   "source": [
    "enumerate_permute(x[0].unsqueeze(0))"
   ]
  },
  {
   "cell_type": "code",
   "execution_count": null,
   "id": "609e9d6e",
   "metadata": {},
   "outputs": [],
   "source": [
    "choquet = Choquet(X=x[0].unsqueeze(0), mu=mu)"
   ]
  },
  {
   "cell_type": "code",
   "execution_count": null,
   "id": "251f7d81",
   "metadata": {},
   "outputs": [],
   "source": [
    "choquet.choquet"
   ]
  },
  {
   "cell_type": "markdown",
   "id": "dd1e17a1",
   "metadata": {},
   "source": [
    "### sim.py"
   ]
  },
  {
   "cell_type": "code",
   "execution_count": null,
   "id": "1803e947",
   "metadata": {},
   "outputs": [],
   "source": [
    "s_union_result = s_triangle(x, x2, mode='M')\n",
    "s_union_result[0].unsqueeze(0)"
   ]
  },
  {
   "cell_type": "code",
   "execution_count": null,
   "id": "51bdb0b2",
   "metadata": {},
   "outputs": [],
   "source": [
    "choquet2 = Choquet(X=s_union_result[0].unsqueeze(0), mu=mu)\n",
    "choquet2.choquet"
   ]
  },
  {
   "cell_type": "code",
   "execution_count": null,
   "id": "446bef92",
   "metadata": {},
   "outputs": [],
   "source": [
    "for i in range(5):\n",
    "    sim = S1(X=x[0].unsqueeze(0), Y=x2[i].unsqueeze(0), mu=mu)\n",
    "    print(\"Sim1:\", sim.score())\n",
    "    sim = S2(X=x[0].unsqueeze(0), Y=x2[i].unsqueeze(0), mu=mu)\n",
    "    print(\"Sim2:\", sim.score())\n",
    "    sim = S3(X=x[0].unsqueeze(0), Y=x2[i].unsqueeze(0), mu=mu)\n",
    "    print(\"Sim3:\", sim.score())\n",
    "    print()"
   ]
  },
  {
   "cell_type": "markdown",
   "id": "4b29338c",
   "metadata": {},
   "source": [
    "### knn.py"
   ]
  },
  {
   "cell_type": "code",
   "execution_count": null,
   "id": "08133e86",
   "metadata": {},
   "outputs": [],
   "source": [
    "label = torch.randint(0, 2, (300, ))"
   ]
  },
  {
   "cell_type": "code",
   "execution_count": null,
   "id": "6f714848",
   "metadata": {},
   "outputs": [],
   "source": [
    "knn = KNNFuzz(input_dimension=x.size(1), mu=mu, k=3, sim=S1)\n",
    "knn.fit(desc_set=x, label_set=label)\n",
    "knn.accuracy(desc_set=x, label_set=label)"
   ]
  },
  {
   "cell_type": "code",
   "execution_count": null,
   "id": "2d7b05b4",
   "metadata": {},
   "outputs": [],
   "source": [
    "import time \n",
    "import copy"
   ]
  },
  {
   "cell_type": "code",
   "execution_count": null,
   "id": "e27b23bd",
   "metadata": {},
   "outputs": [],
   "source": [
    "X = x \n",
    "Y = label"
   ]
  },
  {
   "cell_type": "code",
   "execution_count": null,
   "id": "c2c08f57",
   "metadata": {},
   "outputs": [],
   "source": [
    "C = KNNFuzz(input_dimension=4, mu=mu, k=3, sim=S1)"
   ]
  },
  {
   "cell_type": "code",
   "execution_count": null,
   "id": "f91dea39",
   "metadata": {},
   "outputs": [],
   "source": [
    "FuzzLOO(\n",
    "    C = C,\n",
    "    DS = (x, label),\n",
    "    mu = mu,\n",
    "    time_counter=True\n",
    ")"
   ]
  },
  {
   "cell_type": "markdown",
   "id": "419d968e",
   "metadata": {},
   "source": [
    "### eval.py"
   ]
  },
  {
   "cell_type": "code",
   "execution_count": null,
   "id": "3e5e3e65",
   "metadata": {},
   "outputs": [],
   "source": [
    "# LOO evaluation\n",
    "# Define list for each sim level\n",
    "l1 = []\n",
    "l2 = []\n",
    "l3 = []\n",
    "k = 10\n",
    "\n",
    "for k in range(1, k+1): \n",
    "    tic = time.time()\n",
    "    mu = generate_capacity(enumerate_permute(x[0].unsqueeze(0))[0])\n",
    "\n",
    "    print(f\"Leave one out avec k = {k}\")\n",
    "    \n",
    "    # SimLevel1\n",
    "    res = FuzzLOO(\n",
    "            C = KNNFuzz(input_dimension=x.size(1),mu=mu, k=k, sim=S1), \n",
    "            DS = (x, label),\n",
    "            mu=mu\n",
    "        )\n",
    "    l1.append(res)\n",
    "    print(f\"SimLevel1: {res}\")\n",
    "    # Sim level 2\n",
    "    res = FuzzLOO(\n",
    "            C = KNNFuzz(input_dimension=x.size(1),mu=mu, k=k, sim=S2), \n",
    "            DS = (x, label),\n",
    "            mu=mu\n",
    "        )\n",
    "    l2.append(res)\n",
    "    print(f\"SimLevel2: {res}\")\n",
    "\n",
    "    # Sim level 3\n",
    "    res = FuzzLOO(\n",
    "            C = KNNFuzz(input_dimension=x.size(1),mu=mu, k=k, sim=S3), \n",
    "            DS = (x, label),\n",
    "            mu=mu\n",
    "        )\n",
    "    l3.append(res)\n",
    "    print(f\"SimLevel3: {res}\\n\")\n",
    "\n",
    "    toc = time.time()\n",
    "    print(f\"Result in {(toc-tic):0.4f} seconds.\")\n",
    "\n",
    "# Plot results\n",
    "plt.plot(l1, label=\"Sim level 1\", marker='o')\n",
    "plt.plot(l2, label=\"Sim level 2\", marker='o')\n",
    "plt.plot(l3, label=\"Sim level 3\", marker='o')\n",
    "\n",
    "# Config additional params\n",
    "plt.ylabel(\"LOO accuracy\")\n",
    "plt.xlabel(\"k\")\n",
    "plt.title(\"Leave-One-Out Evaluation Results\")\n",
    "plt.grid()\n",
    "plt.legend()"
   ]
  },
  {
   "cell_type": "code",
   "execution_count": 11,
   "id": "43888b5e",
   "metadata": {},
   "outputs": [
    {
     "name": "stdout",
     "output_type": "stream",
     "text": [
      "torch.Size([300, 3])\n"
     ]
    }
   ],
   "source": [
    "nca = NCAFuzzKNN(\n",
    "    input_dimension=x.size(1),\n",
    "    mu = mu,\n",
    "    k = 3,\n",
    "    sim = S1,\n",
    "    output_dimension=3\n",
    ")\n",
    "transformed_x = nca.transform(x)\n",
    "print(transformed_x.size())\n",
    "transformed_x = normalize(transformed_x)\n",
    "\n",
    "# Regenrate mu for transformed data\n",
    "mu_transformed = generate_capacity(enumerate_permute(transformed_x[0].unsqueeze(0))[0])"
   ]
  },
  {
   "cell_type": "code",
   "execution_count": 12,
   "id": "74feb640",
   "metadata": {},
   "outputs": [],
   "source": [
    "label = torch.randint(0, 2, (300, ))"
   ]
  },
  {
   "cell_type": "code",
   "execution_count": 13,
   "id": "ad83f43e",
   "metadata": {},
   "outputs": [
    {
     "ename": "KeyboardInterrupt",
     "evalue": "",
     "output_type": "error",
     "traceback": [
      "\u001b[0;31m---------------------------------------------------------------------------\u001b[0m",
      "\u001b[0;31mKeyboardInterrupt\u001b[0m                         Traceback (most recent call last)",
      "Cell \u001b[0;32mIn[13], line 2\u001b[0m\n\u001b[1;32m      1\u001b[0m \u001b[38;5;66;03m# loss pretesting\u001b[39;00m\n\u001b[0;32m----> 2\u001b[0m loss \u001b[38;5;241m=\u001b[39m \u001b[43mnca\u001b[49m\u001b[38;5;241;43m.\u001b[39;49m\u001b[43mloss\u001b[49m\u001b[43m(\u001b[49m\u001b[43mx\u001b[49m\u001b[43m,\u001b[49m\u001b[43m \u001b[49m\u001b[43mlabel\u001b[49m\u001b[43m)\u001b[49m\n\u001b[1;32m      3\u001b[0m \u001b[38;5;28mprint\u001b[39m(loss)\n\u001b[1;32m      4\u001b[0m \u001b[38;5;28mprint\u001b[39m(\u001b[38;5;124mf\u001b[39m\u001b[38;5;124m\"\u001b[39m\u001b[38;5;124mloss.grad_fn: \u001b[39m\u001b[38;5;132;01m{\u001b[39;00mloss\u001b[38;5;241m.\u001b[39mgrad_fn\u001b[38;5;132;01m}\u001b[39;00m\u001b[38;5;124m\"\u001b[39m)\n",
      "File \u001b[0;32m~/Desktop/FuzzSIM/fuzz/src/knn.py:214\u001b[0m, in \u001b[0;36mNCAFuzzKNN.loss\u001b[0;34m(self, x, labels)\u001b[0m\n\u001b[1;32m    189\u001b[0m \u001b[38;5;250m\u001b[39m\u001b[38;5;124;03m\"\"\"\u001b[39;00m\n\u001b[1;32m    190\u001b[0m \u001b[38;5;124;03mCompute the loss function for the NCA Fuzz KNN classifier.\u001b[39;00m\n\u001b[1;32m    191\u001b[0m \n\u001b[0;32m   (...)\u001b[0m\n\u001b[1;32m    202\u001b[0m \u001b[38;5;124;03m    Loss value.\u001b[39;00m\n\u001b[1;32m    203\u001b[0m \u001b[38;5;124;03m\"\"\"\u001b[39;00m\n\u001b[1;32m    204\u001b[0m \u001b[38;5;66;03m# # Transform the input data\u001b[39;00m\n\u001b[1;32m    205\u001b[0m \u001b[38;5;66;03m# transformed_x = self.transform(x)\u001b[39;00m\n\u001b[1;32m    206\u001b[0m \n\u001b[0;32m   (...)\u001b[0m\n\u001b[1;32m    212\u001b[0m \n\u001b[1;32m    213\u001b[0m \u001b[38;5;66;03m# Compute the stochastic neighbor probabilities p_ij\u001b[39;00m\n\u001b[0;32m--> 214\u001b[0m pij \u001b[38;5;241m=\u001b[39m \u001b[38;5;28;43mself\u001b[39;49m\u001b[38;5;241;43m.\u001b[39;49m\u001b[43mcompute_pij\u001b[49m\u001b[43m(\u001b[49m\u001b[43mx\u001b[49m\u001b[43m,\u001b[49m\u001b[43m \u001b[49m\u001b[38;5;28;43mself\u001b[39;49m\u001b[38;5;241;43m.\u001b[39;49m\u001b[43mmu\u001b[49m\u001b[43m)\u001b[49m\n\u001b[1;32m    216\u001b[0m \u001b[38;5;66;03m# Create a mask for same-class examples\u001b[39;00m\n\u001b[1;32m    217\u001b[0m n \u001b[38;5;241m=\u001b[39m x\u001b[38;5;241m.\u001b[39msize(\u001b[38;5;241m0\u001b[39m)\n",
      "File \u001b[0;32m~/Desktop/FuzzSIM/fuzz/src/knn.py:173\u001b[0m, in \u001b[0;36mNCAFuzzKNN.compute_pij\u001b[0;34m(self, transformed_x, mu_transformed)\u001b[0m\n\u001b[1;32m    171\u001b[0m     \u001b[38;5;28;01mfor\u001b[39;00m j \u001b[38;5;129;01min\u001b[39;00m \u001b[38;5;28mrange\u001b[39m(n):\n\u001b[1;32m    172\u001b[0m         \u001b[38;5;28;01mif\u001b[39;00m i \u001b[38;5;241m!=\u001b[39m j:  \u001b[38;5;66;03m# Exclude self-similarity\u001b[39;00m\n\u001b[0;32m--> 173\u001b[0m             sim_matrix[i, j] \u001b[38;5;241m=\u001b[39m \u001b[43mS1\u001b[49m\u001b[43m(\u001b[49m\u001b[43mtransformed_x\u001b[49m\u001b[43m[\u001b[49m\u001b[43mi\u001b[49m\u001b[43m]\u001b[49m\u001b[38;5;241;43m.\u001b[39;49m\u001b[43munsqueeze\u001b[49m\u001b[43m(\u001b[49m\u001b[38;5;241;43m0\u001b[39;49m\u001b[43m)\u001b[49m\u001b[43m,\u001b[49m\u001b[43m \u001b[49m\u001b[43mtransformed_x\u001b[49m\u001b[43m[\u001b[49m\u001b[43mj\u001b[49m\u001b[43m]\u001b[49m\u001b[38;5;241;43m.\u001b[39;49m\u001b[43munsqueeze\u001b[49m\u001b[43m(\u001b[49m\u001b[38;5;241;43m0\u001b[39;49m\u001b[43m)\u001b[49m\u001b[43m,\u001b[49m\u001b[43m \u001b[49m\u001b[43mmu_transformed\u001b[49m\u001b[43m)\u001b[49m\u001b[38;5;241;43m.\u001b[39;49m\u001b[43mscore\u001b[49m\u001b[43m(\u001b[49m\u001b[43m)\u001b[49m\n\u001b[1;32m    175\u001b[0m \u001b[38;5;66;03m# # Convert to torch tensor\u001b[39;00m\n\u001b[1;32m    176\u001b[0m \u001b[38;5;66;03m# sim_tensor = torch.tensor(sim_matrix, dtype=torch.float32)\u001b[39;00m\n\u001b[1;32m    177\u001b[0m \n\u001b[1;32m    178\u001b[0m \u001b[38;5;66;03m# Apply softmax to get probabilities\u001b[39;00m\n\u001b[1;32m    179\u001b[0m \u001b[38;5;66;03m# We need to handle the diagonal separately (set to 0)\u001b[39;00m\n\u001b[1;32m    180\u001b[0m mask \u001b[38;5;241m=\u001b[39m torch\u001b[38;5;241m.\u001b[39meye(n, dtype\u001b[38;5;241m=\u001b[39mtorch\u001b[38;5;241m.\u001b[39mbool)\n",
      "File \u001b[0;32m~/Desktop/FuzzSIM/fuzz/src/sim.py:58\u001b[0m, in \u001b[0;36mS1.score\u001b[0;34m(self, verbose)\u001b[0m\n\u001b[1;32m     57\u001b[0m \u001b[38;5;28;01mdef\u001b[39;00m\u001b[38;5;250m \u001b[39m\u001b[38;5;21mscore\u001b[39m(\u001b[38;5;28mself\u001b[39m, verbose\u001b[38;5;241m=\u001b[39m\u001b[38;5;28;01mFalse\u001b[39;00m):\n\u001b[0;32m---> 58\u001b[0m     intersection \u001b[38;5;241m=\u001b[39m \u001b[43mChoquet\u001b[49m\u001b[43m(\u001b[49m\u001b[43ms_intersection\u001b[49m\u001b[43m(\u001b[49m\u001b[38;5;28;43mself\u001b[39;49m\u001b[38;5;241;43m.\u001b[39;49m\u001b[43mX\u001b[49m\u001b[43m,\u001b[49m\u001b[43m \u001b[49m\u001b[38;5;28;43mself\u001b[39;49m\u001b[38;5;241;43m.\u001b[39;49m\u001b[43mY\u001b[49m\u001b[43m,\u001b[49m\u001b[43m \u001b[49m\u001b[43mmode\u001b[49m\u001b[38;5;241;43m=\u001b[39;49m\u001b[38;5;28;43mself\u001b[39;49m\u001b[38;5;241;43m.\u001b[39;49m\u001b[43mmode\u001b[49m\u001b[43m)\u001b[49m\u001b[43m,\u001b[49m\u001b[43m \u001b[49m\u001b[43mmu\u001b[49m\u001b[38;5;241;43m=\u001b[39;49m\u001b[38;5;28;43mself\u001b[39;49m\u001b[38;5;241;43m.\u001b[39;49m\u001b[43mcapacity\u001b[49m\u001b[43m,\u001b[49m\u001b[43m \u001b[49m\u001b[43mversion\u001b[49m\u001b[38;5;241;43m=\u001b[39;49m\u001b[38;5;28;43mself\u001b[39;49m\u001b[38;5;241;43m.\u001b[39;49m\u001b[43mchoquet_version\u001b[49m\u001b[43m)\u001b[49m\u001b[38;5;241m.\u001b[39mchoquet\n\u001b[1;32m     59\u001b[0m     union \u001b[38;5;241m=\u001b[39m Choquet(s_union(\u001b[38;5;28mself\u001b[39m\u001b[38;5;241m.\u001b[39mX, \u001b[38;5;28mself\u001b[39m\u001b[38;5;241m.\u001b[39mY, mode\u001b[38;5;241m=\u001b[39m\u001b[38;5;28mself\u001b[39m\u001b[38;5;241m.\u001b[39mmode), mu\u001b[38;5;241m=\u001b[39m\u001b[38;5;28mself\u001b[39m\u001b[38;5;241m.\u001b[39mcapacity, version\u001b[38;5;241m=\u001b[39m\u001b[38;5;28mself\u001b[39m\u001b[38;5;241m.\u001b[39mchoquet_version)\u001b[38;5;241m.\u001b[39mchoquet\n\u001b[1;32m     61\u001b[0m     \u001b[38;5;66;03m# Avoid division by zero\u001b[39;00m\n",
      "File \u001b[0;32m~/Desktop/FuzzSIM/fuzz/src/choquet/choquet.py:33\u001b[0m, in \u001b[0;36mChoquet.__init__\u001b[0;34m(self, X, mu, version)\u001b[0m\n\u001b[1;32m     31\u001b[0m \u001b[38;5;28mself\u001b[39m\u001b[38;5;241m.\u001b[39mcapacity \u001b[38;5;241m=\u001b[39m mu\n\u001b[1;32m     32\u001b[0m \u001b[38;5;28;01mif\u001b[39;00m version \u001b[38;5;241m==\u001b[39m \u001b[38;5;124m\"\u001b[39m\u001b[38;5;124mclassic\u001b[39m\u001b[38;5;124m\"\u001b[39m:\n\u001b[0;32m---> 33\u001b[0m     \u001b[38;5;28mself\u001b[39m\u001b[38;5;241m.\u001b[39mchoquet \u001b[38;5;241m=\u001b[39m \u001b[38;5;28;43mself\u001b[39;49m\u001b[38;5;241;43m.\u001b[39;49m\u001b[43m_get_classic\u001b[49m\u001b[43m(\u001b[49m\u001b[38;5;28;43mself\u001b[39;49m\u001b[38;5;241;43m.\u001b[39;49m\u001b[43mX\u001b[49m\u001b[43m,\u001b[49m\u001b[43m \u001b[49m\u001b[38;5;28;43mself\u001b[39;49m\u001b[38;5;241;43m.\u001b[39;49m\u001b[43mcapacity\u001b[49m\u001b[43m)\u001b[49m\n\u001b[1;32m     34\u001b[0m \u001b[38;5;28;01melse\u001b[39;00m:\n\u001b[1;32m     35\u001b[0m     \u001b[38;5;28;01mraise\u001b[39;00m \u001b[38;5;167;01mValueError\u001b[39;00m(\u001b[38;5;124m\"\u001b[39m\u001b[38;5;124mUnsupported Choquet version provided.\u001b[39m\u001b[38;5;124m\"\u001b[39m)\n",
      "File \u001b[0;32m~/Desktop/FuzzSIM/fuzz/src/choquet/choquet.py:43\u001b[0m, in \u001b[0;36mChoquet._get_classic\u001b[0;34m(self, X, mu, verbose)\u001b[0m\n\u001b[1;32m     37\u001b[0m \u001b[38;5;28;01mdef\u001b[39;00m\u001b[38;5;250m \u001b[39m\u001b[38;5;21m_get_classic\u001b[39m(\u001b[38;5;28mself\u001b[39m, X, mu, verbose: \u001b[38;5;28mbool\u001b[39m \u001b[38;5;241m=\u001b[39m \u001b[38;5;28;01mFalse\u001b[39;00m) \u001b[38;5;241m-\u001b[39m\u001b[38;5;241m>\u001b[39m torch\u001b[38;5;241m.\u001b[39mfloat: \n\u001b[1;32m     38\u001b[0m \u001b[38;5;250m    \u001b[39m\u001b[38;5;124;03m\"\"\"\u001b[39;00m\n\u001b[1;32m     39\u001b[0m \u001b[38;5;124;03m    Compute the Choquet integral of the dataset\u001b[39;00m\n\u001b[1;32m     40\u001b[0m \u001b[38;5;124;03m    Note: well implemented + tested\u001b[39;00m\n\u001b[1;32m     41\u001b[0m \u001b[38;5;124;03m    :return: Choquet integral of the dataset\u001b[39;00m\n\u001b[1;32m     42\u001b[0m \u001b[38;5;124;03m    \"\"\"\u001b[39;00m\n\u001b[0;32m---> 43\u001b[0m     \u001b[38;5;28;01mreturn\u001b[39;00m \u001b[43mChoquet_classic\u001b[49m\u001b[43m(\u001b[49m\u001b[43mX\u001b[49m\u001b[43m,\u001b[49m\u001b[43m \u001b[49m\u001b[43mmu\u001b[49m\u001b[43m,\u001b[49m\u001b[43m \u001b[49m\u001b[43mverbose\u001b[49m\u001b[38;5;241;43m=\u001b[39;49m\u001b[43mverbose\u001b[49m\u001b[43m)\u001b[49m\n",
      "File \u001b[0;32m~/Desktop/FuzzSIM/fuzz/src/choquet/classic.py:33\u001b[0m, in \u001b[0;36mChoquet_classic\u001b[0;34m(X, mu, verbose)\u001b[0m\n\u001b[1;32m     30\u001b[0m val_check \u001b[38;5;241m=\u001b[39m F\u001b[38;5;241m.\u001b[39mpad(perm_max[i:], (\u001b[38;5;241m0\u001b[39m, \u001b[38;5;28mlen\u001b[39m(observation) \u001b[38;5;241m-\u001b[39m \u001b[38;5;28mlen\u001b[39m(perm_max[i:])), value\u001b[38;5;241m=\u001b[39m\u001b[38;5;241m-\u001b[39m\u001b[38;5;241m1\u001b[39m)\n\u001b[1;32m     31\u001b[0m \u001b[38;5;66;03m# print(f\"val_check: {val_check}\")\u001b[39;00m\n\u001b[1;32m     32\u001b[0m \u001b[38;5;66;03m# Compute the capacity of the observation\u001b[39;00m\n\u001b[0;32m---> 33\u001b[0m capacity_observation_i \u001b[38;5;241m=\u001b[39m \u001b[43mlocate_capacity\u001b[49m\u001b[43m(\u001b[49m\u001b[43mval_check\u001b[49m\u001b[43m,\u001b[49m\u001b[43m \u001b[49m\u001b[43mmu\u001b[49m\u001b[43m)\u001b[49m\n\u001b[1;32m     35\u001b[0m val_check2 \u001b[38;5;241m=\u001b[39m F\u001b[38;5;241m.\u001b[39mpad(perm_max[i\u001b[38;5;241m+\u001b[39m\u001b[38;5;241m1\u001b[39m:], (\u001b[38;5;241m0\u001b[39m, \u001b[38;5;28mlen\u001b[39m(observation) \u001b[38;5;241m-\u001b[39m \u001b[38;5;28mlen\u001b[39m(perm_max[i\u001b[38;5;241m+\u001b[39m\u001b[38;5;241m1\u001b[39m:])), value\u001b[38;5;241m=\u001b[39m\u001b[38;5;241m-\u001b[39m\u001b[38;5;241m1\u001b[39m)\n\u001b[1;32m     36\u001b[0m capacity_observation_i_1 \u001b[38;5;241m=\u001b[39m locate_capacity(val_check2, mu)\n",
      "File \u001b[0;32m~/Desktop/FuzzSIM/fuzz/src/capacity.py:43\u001b[0m, in \u001b[0;36mlocate_capacity\u001b[0;34m(X, capacity)\u001b[0m\n\u001b[1;32m     41\u001b[0m X_sorted \u001b[38;5;241m=\u001b[39m torch\u001b[38;5;241m.\u001b[39msort(X)[\u001b[38;5;241m0\u001b[39m]\n\u001b[1;32m     42\u001b[0m \u001b[38;5;28;01mfor\u001b[39;00m cap \u001b[38;5;129;01min\u001b[39;00m capacity:\n\u001b[0;32m---> 43\u001b[0m     \u001b[38;5;28;01mif\u001b[39;00m torch\u001b[38;5;241m.\u001b[39misin(X_sorted, \u001b[43mtorch\u001b[49m\u001b[38;5;241;43m.\u001b[39;49m\u001b[43msort\u001b[49m\u001b[43m(\u001b[49m\u001b[43mcap\u001b[49m\u001b[38;5;241;43m.\u001b[39;49m\u001b[43mX\u001b[49m\u001b[43m)\u001b[49m[\u001b[38;5;241m0\u001b[39m])\u001b[38;5;241m.\u001b[39mall():\n\u001b[1;32m     44\u001b[0m         \u001b[38;5;28;01mreturn\u001b[39;00m cap\u001b[38;5;241m.\u001b[39mget_capacity()\n\u001b[1;32m     46\u001b[0m \u001b[38;5;28;01mraise\u001b[39;00m \u001b[38;5;167;01mValueError\u001b[39;00m(\u001b[38;5;124m\"\u001b[39m\u001b[38;5;124mCapacity not found for the given values.\u001b[39m\u001b[38;5;124m\"\u001b[39m)\n",
      "\u001b[0;31mKeyboardInterrupt\u001b[0m: "
     ]
    }
   ],
   "source": [
    "# loss pretesting\n",
    "loss = nca.loss(x, label)\n",
    "print(loss)\n",
    "print(f\"loss.grad_fn: {loss.grad_fn}\")\n"
   ]
  },
  {
   "cell_type": "code",
   "execution_count": 14,
   "id": "3fbba7bd",
   "metadata": {},
   "outputs": [
    {
     "name": "stdout",
     "output_type": "stream",
     "text": [
      "A requires_grad = True\n"
     ]
    }
   ],
   "source": [
    "for name, param in nca.nca.named_parameters():\n",
    "    print(f\"{name} requires_grad = {param.requires_grad}\")"
   ]
  },
  {
   "cell_type": "code",
   "execution_count": 15,
   "id": "3d50b72e",
   "metadata": {},
   "outputs": [
    {
     "name": "stdout",
     "output_type": "stream",
     "text": [
      "loss: -15.567789077758789\n",
      "loss: -18.255142211914062\n",
      "loss: -15.595266342163086\n",
      "loss: -16.093446731567383\n",
      "loss: -16.050168991088867\n",
      "loss: -17.19662857055664\n",
      "loss: -15.629596710205078\n",
      "loss: -15.489431381225586\n",
      "loss: -15.52365493774414\n",
      "loss: -7.129511833190918\n",
      "loss: -15.493743896484375\n",
      "loss: -15.551420211791992\n",
      "loss: -15.44131851196289\n",
      "loss: -15.460970878601074\n",
      "loss: -15.509842872619629\n",
      "loss: -18.713180541992188\n",
      "loss: -16.459930419921875\n",
      "loss: -16.611608505249023\n",
      "loss: -15.752582550048828\n",
      "loss: -5.9661736488342285\n",
      "loss: -15.447214126586914\n",
      "loss: -16.05492401123047\n",
      "loss: -17.13758087158203\n",
      "loss: -16.086931228637695\n",
      "loss: -15.428831100463867\n",
      "loss: -16.22800064086914\n",
      "loss: -15.351184844970703\n",
      "loss: -15.724462509155273\n",
      "loss: -16.40548324584961\n",
      "loss: -8.340005874633789\n",
      "loss: -15.552774429321289\n",
      "loss: -16.900108337402344\n",
      "loss: -15.489665985107422\n",
      "loss: -15.600521087646484\n",
      "loss: -15.37868881225586\n",
      "loss: -15.51361083984375\n",
      "loss: -15.252984046936035\n",
      "loss: -16.06177520751953\n",
      "loss: -15.497243881225586\n",
      "loss: -5.709002494812012\n",
      "loss: -15.433916091918945\n",
      "loss: -15.95600700378418\n",
      "loss: -15.522428512573242\n",
      "loss: -17.234771728515625\n",
      "loss: -16.388931274414062\n",
      "loss: -15.686029434204102\n",
      "loss: -16.665740966796875\n",
      "loss: -15.819196701049805\n",
      "loss: -15.498902320861816\n",
      "loss: -6.260815620422363\n",
      "loss: -15.559633255004883\n",
      "loss: -17.866918563842773\n",
      "loss: -16.094072341918945\n",
      "loss: -15.644998550415039\n",
      "loss: -15.514060020446777\n",
      "loss: -15.698589324951172\n",
      "loss: -15.659626960754395\n",
      "loss: -15.451237678527832\n",
      "loss: -16.074092864990234\n",
      "loss: -5.446232795715332\n",
      "loss: -17.762277603149414\n",
      "loss: -15.823128700256348\n",
      "loss: -15.50876522064209\n",
      "loss: -15.774417877197266\n",
      "loss: -15.490571022033691\n",
      "loss: -17.133037567138672\n",
      "loss: -15.413034439086914\n",
      "loss: -15.606127738952637\n",
      "loss: -15.50146198272705\n",
      "loss: -6.184166431427002\n",
      "loss: -16.0864200592041\n",
      "loss: -15.606668472290039\n",
      "loss: -15.553962707519531\n",
      "loss: -15.494099617004395\n",
      "loss: -15.59834098815918\n",
      "loss: -15.553535461425781\n",
      "loss: -17.725509643554688\n",
      "loss: -15.668499946594238\n",
      "loss: -15.701704025268555\n",
      "loss: -5.608343124389648\n",
      "loss: -16.476688385009766\n",
      "loss: -16.568885803222656\n",
      "loss: -15.50484561920166\n",
      "loss: -15.5363130569458\n",
      "loss: -15.454490661621094\n",
      "loss: -15.754352569580078\n",
      "loss: -15.508040428161621\n",
      "loss: -15.317031860351562\n",
      "loss: -16.103078842163086\n",
      "loss: -5.441443920135498\n",
      "loss: -15.731986999511719\n",
      "loss: -17.146713256835938\n",
      "loss: -16.489824295043945\n",
      "loss: -15.454732894897461\n",
      "loss: -15.857461929321289\n",
      "loss: -15.465428352355957\n",
      "loss: -15.446772575378418\n",
      "loss: -15.711884498596191\n",
      "loss: -15.773951530456543\n",
      "loss: -6.148327350616455\n",
      "Epoch 10/100, Loss: -15.5077\n",
      "loss: -16.92290496826172\n",
      "loss: -16.201168060302734\n",
      "loss: -16.074317932128906\n",
      "loss: -16.13616180419922\n",
      "loss: -15.530340194702148\n",
      "loss: -16.583093643188477\n",
      "loss: -16.536409378051758\n",
      "loss: -15.731704711914062\n",
      "loss: -15.748144149780273\n",
      "loss: -5.604236602783203\n",
      "loss: -15.715072631835938\n",
      "loss: -16.574623107910156\n",
      "loss: -16.563037872314453\n",
      "loss: -15.761704444885254\n",
      "loss: -17.151817321777344\n",
      "loss: -16.53754997253418\n",
      "loss: -15.49184799194336\n",
      "loss: -15.761298179626465\n",
      "loss: -17.069555282592773\n",
      "loss: -5.631898880004883\n",
      "loss: -15.69510555267334\n",
      "loss: -17.150732040405273\n",
      "loss: -15.483877182006836\n",
      "loss: -16.09487533569336\n",
      "loss: -15.719744682312012\n",
      "loss: -15.67990493774414\n",
      "loss: -15.969470024108887\n",
      "loss: -15.800884246826172\n",
      "loss: -15.556073188781738\n",
      "loss: -6.257972240447998\n",
      "loss: -18.85022735595703\n",
      "loss: -15.74204158782959\n",
      "loss: -15.934398651123047\n",
      "loss: -15.475356101989746\n",
      "loss: -16.531818389892578\n",
      "loss: -15.596871376037598\n",
      "loss: -16.051483154296875\n",
      "loss: -16.040773391723633\n",
      "loss: -16.06607437133789\n",
      "loss: -6.161890983581543\n",
      "loss: -15.706659317016602\n",
      "loss: -18.03521156311035\n",
      "loss: -15.384955406188965\n",
      "loss: -16.169614791870117\n",
      "loss: -15.658750534057617\n",
      "loss: -15.527412414550781\n",
      "loss: -16.009963989257812\n",
      "loss: -15.497149467468262\n",
      "loss: -15.724393844604492\n",
      "loss: -6.048556327819824\n",
      "loss: -15.58575439453125\n",
      "loss: -15.534676551818848\n",
      "loss: -16.509761810302734\n",
      "loss: -17.018264770507812\n",
      "loss: -15.701010704040527\n",
      "loss: -15.523573875427246\n",
      "loss: -16.50069236755371\n",
      "loss: -15.438726425170898\n",
      "loss: -15.475172996520996\n",
      "loss: -6.254631519317627\n",
      "loss: -15.417390823364258\n",
      "loss: -17.049057006835938\n",
      "loss: -17.97069549560547\n",
      "loss: -15.727941513061523\n",
      "loss: -15.439735412597656\n",
      "loss: -15.663744926452637\n",
      "loss: -15.570205688476562\n",
      "loss: -15.417003631591797\n",
      "loss: -15.990944862365723\n",
      "loss: -6.189178466796875\n",
      "loss: -16.533109664916992\n",
      "loss: -16.515100479125977\n",
      "loss: -15.768321990966797\n",
      "loss: -15.632823944091797\n",
      "loss: -15.483501434326172\n",
      "loss: -15.64975357055664\n",
      "loss: -15.730599403381348\n",
      "loss: -15.515644073486328\n",
      "loss: -15.437761306762695\n",
      "loss: -5.527523994445801\n",
      "loss: -15.500948905944824\n",
      "loss: -17.03371810913086\n",
      "loss: -15.455647468566895\n",
      "loss: -15.542807579040527\n",
      "loss: -15.39014720916748\n",
      "loss: -15.55397891998291\n",
      "loss: -15.466997146606445\n",
      "loss: -15.52017593383789\n",
      "loss: -16.49169921875\n",
      "loss: -6.133846282958984\n",
      "loss: -15.523704528808594\n",
      "loss: -15.447717666625977\n",
      "loss: -15.411473274230957\n",
      "loss: -15.461773872375488\n",
      "loss: -15.495792388916016\n",
      "loss: -15.497631072998047\n",
      "loss: -15.543142318725586\n",
      "loss: -15.540992736816406\n",
      "loss: -16.192825317382812\n",
      "loss: -7.058067798614502\n",
      "Epoch 20/100, Loss: -15.2279\n",
      "loss: -15.52347183227539\n",
      "loss: -15.49705982208252\n",
      "loss: -15.501195907592773\n",
      "loss: -17.060565948486328\n",
      "loss: -15.718385696411133\n",
      "loss: -15.49496078491211\n",
      "loss: -15.919994354248047\n",
      "loss: -15.70833683013916\n",
      "loss: -15.761653900146484\n",
      "loss: -6.154826641082764\n",
      "loss: -16.048580169677734\n",
      "loss: -15.745748519897461\n",
      "loss: -15.511553764343262\n",
      "loss: -17.38808822631836\n",
      "loss: -18.621089935302734\n",
      "loss: -16.57907485961914\n",
      "loss: -16.032451629638672\n",
      "loss: -15.618124961853027\n",
      "loss: -15.668148040771484\n",
      "loss: -5.607929706573486\n",
      "loss: -16.05797576904297\n",
      "loss: -15.578253746032715\n",
      "loss: -15.384191513061523\n",
      "loss: -16.037843704223633\n",
      "loss: -17.063190460205078\n",
      "loss: -15.515555381774902\n",
      "loss: -15.823362350463867\n",
      "loss: -15.774141311645508\n",
      "loss: -15.543963432312012\n",
      "loss: -5.640434265136719\n",
      "loss: -15.981019973754883\n",
      "loss: -15.439163208007812\n",
      "loss: -15.579821586608887\n",
      "loss: -16.565099716186523\n",
      "loss: -16.40603256225586\n",
      "loss: -15.520147323608398\n",
      "loss: -15.661017417907715\n",
      "loss: -15.632978439331055\n",
      "loss: -15.845393180847168\n",
      "loss: -7.187899589538574\n",
      "loss: -15.404123306274414\n",
      "loss: -15.698962211608887\n",
      "loss: -15.514935493469238\n",
      "loss: -17.158296585083008\n",
      "loss: -16.052391052246094\n",
      "loss: -15.422171592712402\n",
      "loss: -16.820547103881836\n",
      "loss: -16.10370635986328\n"
     ]
    },
    {
     "ename": "KeyboardInterrupt",
     "evalue": "",
     "output_type": "error",
     "traceback": [
      "\u001b[0;31m---------------------------------------------------------------------------\u001b[0m",
      "\u001b[0;31mKeyboardInterrupt\u001b[0m                         Traceback (most recent call last)",
      "Cell \u001b[0;32mIn[15], line 1\u001b[0m\n\u001b[0;32m----> 1\u001b[0m losses \u001b[38;5;241m=\u001b[39m \u001b[43mnca\u001b[49m\u001b[38;5;241;43m.\u001b[39;49m\u001b[43mfit\u001b[49m\u001b[43m(\u001b[49m\n\u001b[1;32m      2\u001b[0m \u001b[43m    \u001b[49m\u001b[43mdesc_set\u001b[49m\u001b[38;5;241;43m=\u001b[39;49m\u001b[43mx\u001b[49m\u001b[43m,\u001b[49m\u001b[43m \u001b[49m\n\u001b[1;32m      3\u001b[0m \u001b[43m    \u001b[49m\u001b[43mlabel_set\u001b[49m\u001b[38;5;241;43m=\u001b[39;49m\u001b[43mlabel\u001b[49m\u001b[43m,\u001b[49m\n\u001b[1;32m      4\u001b[0m \u001b[43m    \u001b[49m\u001b[43mnum_epochs\u001b[49m\u001b[38;5;241;43m=\u001b[39;49m\u001b[38;5;241;43m100\u001b[39;49m\u001b[43m,\u001b[49m\n\u001b[1;32m      5\u001b[0m \u001b[43m    \u001b[49m\u001b[43mlearning_rate\u001b[49m\u001b[38;5;241;43m=\u001b[39;49m\u001b[38;5;241;43m0.01\u001b[39;49m\u001b[43m,\u001b[49m\n\u001b[1;32m      6\u001b[0m \u001b[43m    \u001b[49m\u001b[43mbatch_size\u001b[49m\u001b[38;5;241;43m=\u001b[39;49m\u001b[38;5;241;43m32\u001b[39;49m\u001b[43m,\u001b[49m\n\u001b[1;32m      7\u001b[0m \u001b[43m)\u001b[49m\n",
      "File \u001b[0;32m~/Desktop/FuzzSIM/fuzz/src/knn.py:297\u001b[0m, in \u001b[0;36mNCAFuzzKNN.fit\u001b[0;34m(self, desc_set, label_set, num_epochs, learning_rate, batch_size)\u001b[0m\n\u001b[1;32m    291\u001b[0m batch_y \u001b[38;5;241m=\u001b[39m label_set[batch_indices]\n\u001b[1;32m    293\u001b[0m \u001b[38;5;66;03m# # Regenerate the mu list for the batch\u001b[39;00m\n\u001b[1;32m    294\u001b[0m \u001b[38;5;66;03m# mu_transformed = generate_capacity(enumerate_permute(batch_x[0].unsqueeze(0))[0])\u001b[39;00m\n\u001b[1;32m    295\u001b[0m \n\u001b[1;32m    296\u001b[0m \u001b[38;5;66;03m# Compute loss\u001b[39;00m\n\u001b[0;32m--> 297\u001b[0m loss \u001b[38;5;241m=\u001b[39m \u001b[38;5;28;43mself\u001b[39;49m\u001b[38;5;241;43m.\u001b[39;49m\u001b[43mloss\u001b[49m\u001b[43m(\u001b[49m\u001b[43mx\u001b[49m\u001b[38;5;241;43m=\u001b[39;49m\u001b[43mbatch_x\u001b[49m\u001b[43m,\u001b[49m\u001b[43m \u001b[49m\u001b[43mlabels\u001b[49m\u001b[38;5;241;43m=\u001b[39;49m\u001b[43mbatch_y\u001b[49m\u001b[43m)\u001b[49m\n\u001b[1;32m    298\u001b[0m \u001b[38;5;28mprint\u001b[39m(\u001b[38;5;124mf\u001b[39m\u001b[38;5;124m\"\u001b[39m\u001b[38;5;124mloss: \u001b[39m\u001b[38;5;132;01m{\u001b[39;00mloss\u001b[38;5;132;01m}\u001b[39;00m\u001b[38;5;124m\"\u001b[39m)\n\u001b[1;32m    300\u001b[0m \u001b[38;5;66;03m# Zero the gradients\u001b[39;00m\n",
      "File \u001b[0;32m~/Desktop/FuzzSIM/fuzz/src/knn.py:214\u001b[0m, in \u001b[0;36mNCAFuzzKNN.loss\u001b[0;34m(self, x, labels)\u001b[0m\n\u001b[1;32m    189\u001b[0m \u001b[38;5;250m\u001b[39m\u001b[38;5;124;03m\"\"\"\u001b[39;00m\n\u001b[1;32m    190\u001b[0m \u001b[38;5;124;03mCompute the loss function for the NCA Fuzz KNN classifier.\u001b[39;00m\n\u001b[1;32m    191\u001b[0m \n\u001b[0;32m   (...)\u001b[0m\n\u001b[1;32m    202\u001b[0m \u001b[38;5;124;03m    Loss value.\u001b[39;00m\n\u001b[1;32m    203\u001b[0m \u001b[38;5;124;03m\"\"\"\u001b[39;00m\n\u001b[1;32m    204\u001b[0m \u001b[38;5;66;03m# # Transform the input data\u001b[39;00m\n\u001b[1;32m    205\u001b[0m \u001b[38;5;66;03m# transformed_x = self.transform(x)\u001b[39;00m\n\u001b[1;32m    206\u001b[0m \n\u001b[0;32m   (...)\u001b[0m\n\u001b[1;32m    212\u001b[0m \n\u001b[1;32m    213\u001b[0m \u001b[38;5;66;03m# Compute the stochastic neighbor probabilities p_ij\u001b[39;00m\n\u001b[0;32m--> 214\u001b[0m pij \u001b[38;5;241m=\u001b[39m \u001b[38;5;28;43mself\u001b[39;49m\u001b[38;5;241;43m.\u001b[39;49m\u001b[43mcompute_pij\u001b[49m\u001b[43m(\u001b[49m\u001b[43mx\u001b[49m\u001b[43m,\u001b[49m\u001b[43m \u001b[49m\u001b[38;5;28;43mself\u001b[39;49m\u001b[38;5;241;43m.\u001b[39;49m\u001b[43mmu\u001b[49m\u001b[43m)\u001b[49m\n\u001b[1;32m    216\u001b[0m \u001b[38;5;66;03m# Create a mask for same-class examples\u001b[39;00m\n\u001b[1;32m    217\u001b[0m n \u001b[38;5;241m=\u001b[39m x\u001b[38;5;241m.\u001b[39msize(\u001b[38;5;241m0\u001b[39m)\n",
      "File \u001b[0;32m~/Desktop/FuzzSIM/fuzz/src/knn.py:173\u001b[0m, in \u001b[0;36mNCAFuzzKNN.compute_pij\u001b[0;34m(self, transformed_x, mu_transformed)\u001b[0m\n\u001b[1;32m    171\u001b[0m     \u001b[38;5;28;01mfor\u001b[39;00m j \u001b[38;5;129;01min\u001b[39;00m \u001b[38;5;28mrange\u001b[39m(n):\n\u001b[1;32m    172\u001b[0m         \u001b[38;5;28;01mif\u001b[39;00m i \u001b[38;5;241m!=\u001b[39m j:  \u001b[38;5;66;03m# Exclude self-similarity\u001b[39;00m\n\u001b[0;32m--> 173\u001b[0m             sim_matrix[i, j] \u001b[38;5;241m=\u001b[39m \u001b[43mS1\u001b[49m\u001b[43m(\u001b[49m\u001b[43mtransformed_x\u001b[49m\u001b[43m[\u001b[49m\u001b[43mi\u001b[49m\u001b[43m]\u001b[49m\u001b[38;5;241;43m.\u001b[39;49m\u001b[43munsqueeze\u001b[49m\u001b[43m(\u001b[49m\u001b[38;5;241;43m0\u001b[39;49m\u001b[43m)\u001b[49m\u001b[43m,\u001b[49m\u001b[43m \u001b[49m\u001b[43mtransformed_x\u001b[49m\u001b[43m[\u001b[49m\u001b[43mj\u001b[49m\u001b[43m]\u001b[49m\u001b[38;5;241;43m.\u001b[39;49m\u001b[43munsqueeze\u001b[49m\u001b[43m(\u001b[49m\u001b[38;5;241;43m0\u001b[39;49m\u001b[43m)\u001b[49m\u001b[43m,\u001b[49m\u001b[43m \u001b[49m\u001b[43mmu_transformed\u001b[49m\u001b[43m)\u001b[49m\u001b[38;5;241;43m.\u001b[39;49m\u001b[43mscore\u001b[49m\u001b[43m(\u001b[49m\u001b[43m)\u001b[49m\n\u001b[1;32m    175\u001b[0m \u001b[38;5;66;03m# # Convert to torch tensor\u001b[39;00m\n\u001b[1;32m    176\u001b[0m \u001b[38;5;66;03m# sim_tensor = torch.tensor(sim_matrix, dtype=torch.float32)\u001b[39;00m\n\u001b[1;32m    177\u001b[0m \n\u001b[1;32m    178\u001b[0m \u001b[38;5;66;03m# Apply softmax to get probabilities\u001b[39;00m\n\u001b[1;32m    179\u001b[0m \u001b[38;5;66;03m# We need to handle the diagonal separately (set to 0)\u001b[39;00m\n\u001b[1;32m    180\u001b[0m mask \u001b[38;5;241m=\u001b[39m torch\u001b[38;5;241m.\u001b[39meye(n, dtype\u001b[38;5;241m=\u001b[39mtorch\u001b[38;5;241m.\u001b[39mbool)\n",
      "File \u001b[0;32m~/Desktop/FuzzSIM/fuzz/src/sim.py:58\u001b[0m, in \u001b[0;36mS1.score\u001b[0;34m(self, verbose)\u001b[0m\n\u001b[1;32m     57\u001b[0m \u001b[38;5;28;01mdef\u001b[39;00m\u001b[38;5;250m \u001b[39m\u001b[38;5;21mscore\u001b[39m(\u001b[38;5;28mself\u001b[39m, verbose\u001b[38;5;241m=\u001b[39m\u001b[38;5;28;01mFalse\u001b[39;00m):\n\u001b[0;32m---> 58\u001b[0m     intersection \u001b[38;5;241m=\u001b[39m \u001b[43mChoquet\u001b[49m\u001b[43m(\u001b[49m\u001b[43ms_intersection\u001b[49m\u001b[43m(\u001b[49m\u001b[38;5;28;43mself\u001b[39;49m\u001b[38;5;241;43m.\u001b[39;49m\u001b[43mX\u001b[49m\u001b[43m,\u001b[49m\u001b[43m \u001b[49m\u001b[38;5;28;43mself\u001b[39;49m\u001b[38;5;241;43m.\u001b[39;49m\u001b[43mY\u001b[49m\u001b[43m,\u001b[49m\u001b[43m \u001b[49m\u001b[43mmode\u001b[49m\u001b[38;5;241;43m=\u001b[39;49m\u001b[38;5;28;43mself\u001b[39;49m\u001b[38;5;241;43m.\u001b[39;49m\u001b[43mmode\u001b[49m\u001b[43m)\u001b[49m\u001b[43m,\u001b[49m\u001b[43m \u001b[49m\u001b[43mmu\u001b[49m\u001b[38;5;241;43m=\u001b[39;49m\u001b[38;5;28;43mself\u001b[39;49m\u001b[38;5;241;43m.\u001b[39;49m\u001b[43mcapacity\u001b[49m\u001b[43m,\u001b[49m\u001b[43m \u001b[49m\u001b[43mversion\u001b[49m\u001b[38;5;241;43m=\u001b[39;49m\u001b[38;5;28;43mself\u001b[39;49m\u001b[38;5;241;43m.\u001b[39;49m\u001b[43mchoquet_version\u001b[49m\u001b[43m)\u001b[49m\u001b[38;5;241m.\u001b[39mchoquet\n\u001b[1;32m     59\u001b[0m     union \u001b[38;5;241m=\u001b[39m Choquet(s_union(\u001b[38;5;28mself\u001b[39m\u001b[38;5;241m.\u001b[39mX, \u001b[38;5;28mself\u001b[39m\u001b[38;5;241m.\u001b[39mY, mode\u001b[38;5;241m=\u001b[39m\u001b[38;5;28mself\u001b[39m\u001b[38;5;241m.\u001b[39mmode), mu\u001b[38;5;241m=\u001b[39m\u001b[38;5;28mself\u001b[39m\u001b[38;5;241m.\u001b[39mcapacity, version\u001b[38;5;241m=\u001b[39m\u001b[38;5;28mself\u001b[39m\u001b[38;5;241m.\u001b[39mchoquet_version)\u001b[38;5;241m.\u001b[39mchoquet\n\u001b[1;32m     61\u001b[0m     \u001b[38;5;66;03m# Avoid division by zero\u001b[39;00m\n",
      "File \u001b[0;32m~/Desktop/FuzzSIM/fuzz/src/choquet/choquet.py:33\u001b[0m, in \u001b[0;36mChoquet.__init__\u001b[0;34m(self, X, mu, version)\u001b[0m\n\u001b[1;32m     31\u001b[0m \u001b[38;5;28mself\u001b[39m\u001b[38;5;241m.\u001b[39mcapacity \u001b[38;5;241m=\u001b[39m mu\n\u001b[1;32m     32\u001b[0m \u001b[38;5;28;01mif\u001b[39;00m version \u001b[38;5;241m==\u001b[39m \u001b[38;5;124m\"\u001b[39m\u001b[38;5;124mclassic\u001b[39m\u001b[38;5;124m\"\u001b[39m:\n\u001b[0;32m---> 33\u001b[0m     \u001b[38;5;28mself\u001b[39m\u001b[38;5;241m.\u001b[39mchoquet \u001b[38;5;241m=\u001b[39m \u001b[38;5;28;43mself\u001b[39;49m\u001b[38;5;241;43m.\u001b[39;49m\u001b[43m_get_classic\u001b[49m\u001b[43m(\u001b[49m\u001b[38;5;28;43mself\u001b[39;49m\u001b[38;5;241;43m.\u001b[39;49m\u001b[43mX\u001b[49m\u001b[43m,\u001b[49m\u001b[43m \u001b[49m\u001b[38;5;28;43mself\u001b[39;49m\u001b[38;5;241;43m.\u001b[39;49m\u001b[43mcapacity\u001b[49m\u001b[43m)\u001b[49m\n\u001b[1;32m     34\u001b[0m \u001b[38;5;28;01melse\u001b[39;00m:\n\u001b[1;32m     35\u001b[0m     \u001b[38;5;28;01mraise\u001b[39;00m \u001b[38;5;167;01mValueError\u001b[39;00m(\u001b[38;5;124m\"\u001b[39m\u001b[38;5;124mUnsupported Choquet version provided.\u001b[39m\u001b[38;5;124m\"\u001b[39m)\n",
      "File \u001b[0;32m~/Desktop/FuzzSIM/fuzz/src/choquet/choquet.py:43\u001b[0m, in \u001b[0;36mChoquet._get_classic\u001b[0;34m(self, X, mu, verbose)\u001b[0m\n\u001b[1;32m     37\u001b[0m \u001b[38;5;28;01mdef\u001b[39;00m\u001b[38;5;250m \u001b[39m\u001b[38;5;21m_get_classic\u001b[39m(\u001b[38;5;28mself\u001b[39m, X, mu, verbose: \u001b[38;5;28mbool\u001b[39m \u001b[38;5;241m=\u001b[39m \u001b[38;5;28;01mFalse\u001b[39;00m) \u001b[38;5;241m-\u001b[39m\u001b[38;5;241m>\u001b[39m torch\u001b[38;5;241m.\u001b[39mfloat: \n\u001b[1;32m     38\u001b[0m \u001b[38;5;250m    \u001b[39m\u001b[38;5;124;03m\"\"\"\u001b[39;00m\n\u001b[1;32m     39\u001b[0m \u001b[38;5;124;03m    Compute the Choquet integral of the dataset\u001b[39;00m\n\u001b[1;32m     40\u001b[0m \u001b[38;5;124;03m    Note: well implemented + tested\u001b[39;00m\n\u001b[1;32m     41\u001b[0m \u001b[38;5;124;03m    :return: Choquet integral of the dataset\u001b[39;00m\n\u001b[1;32m     42\u001b[0m \u001b[38;5;124;03m    \"\"\"\u001b[39;00m\n\u001b[0;32m---> 43\u001b[0m     \u001b[38;5;28;01mreturn\u001b[39;00m \u001b[43mChoquet_classic\u001b[49m\u001b[43m(\u001b[49m\u001b[43mX\u001b[49m\u001b[43m,\u001b[49m\u001b[43m \u001b[49m\u001b[43mmu\u001b[49m\u001b[43m,\u001b[49m\u001b[43m \u001b[49m\u001b[43mverbose\u001b[49m\u001b[38;5;241;43m=\u001b[39;49m\u001b[43mverbose\u001b[49m\u001b[43m)\u001b[49m\n",
      "File \u001b[0;32m~/Desktop/FuzzSIM/fuzz/src/choquet/classic.py:35\u001b[0m, in \u001b[0;36mChoquet_classic\u001b[0;34m(X, mu, verbose)\u001b[0m\n\u001b[1;32m     31\u001b[0m \u001b[38;5;66;03m# print(f\"val_check: {val_check}\")\u001b[39;00m\n\u001b[1;32m     32\u001b[0m \u001b[38;5;66;03m# Compute the capacity of the observation\u001b[39;00m\n\u001b[1;32m     33\u001b[0m capacity_observation_i \u001b[38;5;241m=\u001b[39m locate_capacity(val_check, mu)\n\u001b[0;32m---> 35\u001b[0m val_check2 \u001b[38;5;241m=\u001b[39m F\u001b[38;5;241m.\u001b[39mpad(perm_max[i\u001b[38;5;241m+\u001b[39m\u001b[38;5;241m1\u001b[39m:], (\u001b[38;5;241m0\u001b[39m, \u001b[38;5;28mlen\u001b[39m(observation) \u001b[38;5;241m-\u001b[39m \u001b[38;5;28;43mlen\u001b[39;49m\u001b[43m(\u001b[49m\u001b[43mperm_max\u001b[49m\u001b[43m[\u001b[49m\u001b[43mi\u001b[49m\u001b[38;5;241;43m+\u001b[39;49m\u001b[38;5;241;43m1\u001b[39;49m\u001b[43m:\u001b[49m\u001b[43m]\u001b[49m\u001b[43m)\u001b[49m), value\u001b[38;5;241m=\u001b[39m\u001b[38;5;241m-\u001b[39m\u001b[38;5;241m1\u001b[39m)\n\u001b[1;32m     36\u001b[0m capacity_observation_i_1 \u001b[38;5;241m=\u001b[39m locate_capacity(val_check2, mu)\n\u001b[1;32m     38\u001b[0m \u001b[38;5;28;01mif\u001b[39;00m i \u001b[38;5;241m==\u001b[39m \u001b[38;5;28mlen\u001b[39m(observation):\n",
      "File \u001b[0;32m~/miniconda3/envs/fuzzsim/lib/python3.10/site-packages/torch/_tensor.py:1164\u001b[0m, in \u001b[0;36mTensor.__len__\u001b[0;34m(self)\u001b[0m\n\u001b[1;32m   1162\u001b[0m \u001b[38;5;28;01mif\u001b[39;00m \u001b[38;5;28mself\u001b[39m\u001b[38;5;241m.\u001b[39mdim() \u001b[38;5;241m==\u001b[39m \u001b[38;5;241m0\u001b[39m:\n\u001b[1;32m   1163\u001b[0m     \u001b[38;5;28;01mraise\u001b[39;00m \u001b[38;5;167;01mTypeError\u001b[39;00m(\u001b[38;5;124m\"\u001b[39m\u001b[38;5;124mlen() of a 0-d tensor\u001b[39m\u001b[38;5;124m\"\u001b[39m)\n\u001b[0;32m-> 1164\u001b[0m \u001b[38;5;28;01mif\u001b[39;00m \u001b[43mtorch\u001b[49m\u001b[38;5;241;43m.\u001b[39;49m\u001b[43m_C\u001b[49m\u001b[38;5;241;43m.\u001b[39;49m\u001b[43m_get_tracing_state\u001b[49m\u001b[43m(\u001b[49m\u001b[43m)\u001b[49m:\n\u001b[1;32m   1165\u001b[0m     warnings\u001b[38;5;241m.\u001b[39mwarn(\n\u001b[1;32m   1166\u001b[0m         \u001b[38;5;124m\"\u001b[39m\u001b[38;5;124mUsing len to get tensor shape might cause the trace to be incorrect. \u001b[39m\u001b[38;5;124m\"\u001b[39m\n\u001b[1;32m   1167\u001b[0m         \u001b[38;5;124m\"\u001b[39m\u001b[38;5;124mRecommended usage would be tensor.shape[0]. \u001b[39m\u001b[38;5;124m\"\u001b[39m\n\u001b[0;32m   (...)\u001b[0m\n\u001b[1;32m   1171\u001b[0m         stacklevel\u001b[38;5;241m=\u001b[39m\u001b[38;5;241m2\u001b[39m,\n\u001b[1;32m   1172\u001b[0m     )\n\u001b[1;32m   1173\u001b[0m \u001b[38;5;28;01mreturn\u001b[39;00m \u001b[38;5;28mself\u001b[39m\u001b[38;5;241m.\u001b[39mshape[\u001b[38;5;241m0\u001b[39m]\n",
      "\u001b[0;31mKeyboardInterrupt\u001b[0m: "
     ]
    }
   ],
   "source": [
    "losses = nca.fit(\n",
    "    desc_set=x, \n",
    "    label_set=label,\n",
    "    num_epochs=100,\n",
    "    learning_rate=0.01,\n",
    "    batch_size=32,\n",
    ")\n"
   ]
  },
  {
   "cell_type": "code",
   "execution_count": null,
   "id": "d561b2a8",
   "metadata": {},
   "outputs": [],
   "source": [
    "plt.figure(figsize=(10, 5))\n",
    "plt.plot(losses, label=\"Training Loss\", marker='o')\n",
    "plt.xlabel(\"Epoch\")\n",
    "plt.ylabel(\"Loss\")\n",
    "plt.title(\"Training Loss Over Epochs\")\n",
    "plt.grid()"
   ]
  },
  {
   "cell_type": "code",
   "execution_count": null,
   "id": "4eef84a4",
   "metadata": {},
   "outputs": [],
   "source": []
  },
  {
   "cell_type": "markdown",
   "id": "488b43f0",
   "metadata": {},
   "source": [
    "#### Test compute pij"
   ]
  },
  {
   "cell_type": "code",
   "execution_count": null,
   "id": "2148b353",
   "metadata": {},
   "outputs": [],
   "source": [
    "pij = nca.compute_pij(transformed_x, mu_transformed)"
   ]
  },
  {
   "cell_type": "code",
   "execution_count": null,
   "id": "62082450",
   "metadata": {},
   "outputs": [],
   "source": [
    "test = pij.numpy()\n",
    "import seaborn as sns\n",
    "sns.set(style=\"white\")\n",
    "plt.figure(figsize=(10, 8))\n",
    "sns.heatmap(test, fmt=\".2f\", cmap='coolwarm')"
   ]
  },
  {
   "cell_type": "markdown",
   "id": "2dccba65",
   "metadata": {},
   "source": [
    "#### NCA loss"
   ]
  },
  {
   "cell_type": "code",
   "execution_count": null,
   "id": "7bdfe4d8",
   "metadata": {},
   "outputs": [],
   "source": [
    "optimizer = torch.optim.Adam([nca.nca.A], lr=1e-3)"
   ]
  },
  {
   "cell_type": "code",
   "execution_count": null,
   "id": "c318c272",
   "metadata": {},
   "outputs": [],
   "source": [
    "for i in range(5):\n",
    "    print(\"Epoch\", i)\n",
    "    epoch_loss = 0\n",
    "    # Shuffle the data for mini-batch training\n",
    "    indices = torch.randperm(10)\n",
    "\n",
    "    # Mini-batch training\n",
    "    for start_idx in range(0, 10, 21):\n",
    "        # Get mini-batch indices\n",
    "        batch_indices = indices[start_idx:min(start_idx + 21, 10)]\n",
    "\n",
    "        # Get batch data\n",
    "        batch_x = x[batch_indices]\n",
    "        batch_y = label[batch_indices]\n",
    "\n",
    "        # Regenerate mu for transformed data\n",
    "        mu_transformed = generate_capacity(enumerate_permute(batch_x[0].unsqueeze(0))[0])\n",
    "\n",
    "        # Zero the gradients\n",
    "        # optimizer.zero_grad()\n",
    "\n",
    "        # Compute loss\n",
    "        loss = nca.loss(x=batch_x, labels=batch_y)\n",
    "        print(\"Loss:\", loss.item())\n",
    "\n",
    "        # Backward pass and optimization\n",
    "        # loss.backward()\n",
    "        # optimizer.step()\n",
    "        \n",
    "        epoch_loss += loss.item() * len(batch_indices)\n",
    "    "
   ]
  },
  {
   "cell_type": "code",
   "execution_count": null,
   "id": "d2f8b535",
   "metadata": {},
   "outputs": [],
   "source": []
  },
  {
   "cell_type": "code",
   "execution_count": null,
   "id": "30efb70d",
   "metadata": {},
   "outputs": [],
   "source": []
  },
  {
   "cell_type": "code",
   "execution_count": null,
   "id": "28b89115",
   "metadata": {},
   "outputs": [],
   "source": []
  },
  {
   "cell_type": "code",
   "execution_count": null,
   "id": "48760d58",
   "metadata": {},
   "outputs": [],
   "source": []
  },
  {
   "cell_type": "code",
   "execution_count": null,
   "id": "f9f7ec32",
   "metadata": {},
   "outputs": [],
   "source": []
  },
  {
   "cell_type": "code",
   "execution_count": null,
   "id": "f4f90d89",
   "metadata": {},
   "outputs": [],
   "source": []
  },
  {
   "cell_type": "code",
   "execution_count": null,
   "id": "2cb02f13",
   "metadata": {},
   "outputs": [],
   "source": []
  },
  {
   "cell_type": "code",
   "execution_count": null,
   "id": "344846f4",
   "metadata": {},
   "outputs": [],
   "source": [
    "print(transformed_x.min(), transformed_x.max())"
   ]
  },
  {
   "cell_type": "code",
   "execution_count": null,
   "id": "90b1a2a5",
   "metadata": {},
   "outputs": [],
   "source": [
    "n = transformed_x.size(0)\n",
    "sim_matrix = torch.zeros((n, n))\n",
    "\n",
    "mu_transformed = generate_capacity(enumerate_permute(transformed_x[0].unsqueeze(0))[0])\n"
   ]
  },
  {
   "cell_type": "code",
   "execution_count": null,
   "id": "02c50ef4",
   "metadata": {},
   "outputs": [],
   "source": [
    "for i in range(n):\n",
    "    for j in range(n):\n",
    "        if i != j:  # Exclude self-similarity\n",
    "            sim_matrix[i, j] = S1(transformed_x[i].unsqueeze(0), transformed_x[j].unsqueeze(0), mu_transformed).score()"
   ]
  },
  {
   "cell_type": "code",
   "execution_count": null,
   "id": "d01cf5b4",
   "metadata": {},
   "outputs": [],
   "source": [
    "test = sim_matrix.numpy()\n",
    "import seaborn as sns\n",
    "sns.set(style=\"white\")\n",
    "plt.figure(figsize=(10, 8))\n",
    "sns.heatmap(test, fmt=\".2f\", cmap='coolwarm')"
   ]
  },
  {
   "cell_type": "code",
   "execution_count": null,
   "id": "3c0867f0",
   "metadata": {},
   "outputs": [],
   "source": [
    "mask = torch.eye(n, dtype=torch.bool)\n",
    "sim_matrix.masked_fill_(mask, float('-inf'))  # Set diagonal to -inf"
   ]
  },
  {
   "cell_type": "code",
   "execution_count": null,
   "id": "33a190d6",
   "metadata": {},
   "outputs": [],
   "source": [
    "pij = torch.softmax(sim_matrix, dim=1)"
   ]
  },
  {
   "cell_type": "code",
   "execution_count": null,
   "id": "677480a3",
   "metadata": {},
   "outputs": [],
   "source": [
    "test = pij.numpy()\n",
    "import seaborn as sns\n",
    "sns.set(style=\"white\")\n",
    "plt.figure(figsize=(10, 8))\n",
    "sns.heatmap(test, fmt=\".2f\", cmap='coolwarm')"
   ]
  },
  {
   "cell_type": "code",
   "execution_count": null,
   "id": "93411dc1",
   "metadata": {},
   "outputs": [],
   "source": []
  }
 ],
 "metadata": {
  "kernelspec": {
   "display_name": "fuzzsim",
   "language": "python",
   "name": "python3"
  },
  "language_info": {
   "codemirror_mode": {
    "name": "ipython",
    "version": 3
   },
   "file_extension": ".py",
   "mimetype": "text/x-python",
   "name": "python",
   "nbconvert_exporter": "python",
   "pygments_lexer": "ipython3",
   "version": "3.10.16"
  }
 },
 "nbformat": 4,
 "nbformat_minor": 5
}
