{
 "cells": [
  {
   "cell_type": "code",
   "execution_count": 1,
   "id": "35f56abc",
   "metadata": {},
   "outputs": [],
   "source": [
    "import torch\n",
    "from itertools import combinations\n",
    "import numpy as np\n",
    "import torch.nn.functional as F\n",
    "from typing import List, Tuple, Dict, Any\n",
    "import matplotlib.pyplot as plt"
   ]
  },
  {
   "cell_type": "code",
   "execution_count": 2,
   "id": "bc2d3404",
   "metadata": {},
   "outputs": [],
   "source": [
    "from fuzz.utils import enumerate_permute, gap_count\n",
    "from fuzz.src.capacity import *\n",
    "from fuzz.src.norm import *\n",
    "from fuzz.src.choquet import *\n",
    "from fuzz.src.sim import *\n",
    "from fuzz.src.knn import *\n",
    "from fuzz.eval import FuzzLOO"
   ]
  },
  {
   "cell_type": "markdown",
   "id": "e90c09e7",
   "metadata": {},
   "source": [
    "### utils.py"
   ]
  },
  {
   "cell_type": "code",
   "execution_count": 3,
   "id": "b5f58597",
   "metadata": {},
   "outputs": [
    {
     "name": "stdout",
     "output_type": "stream",
     "text": [
      "done\n",
      "tensor([[[-1, -1, -1],\n",
      "         [ 1, -1, -1],\n",
      "         [ 0, -1, -1],\n",
      "         [ 2, -1, -1],\n",
      "         [ 1,  0, -1],\n",
      "         [ 1,  2, -1],\n",
      "         [ 0,  2, -1],\n",
      "         [ 1,  0,  2]]])\n",
      "shape torch.Size([1, 8, 3])\n"
     ]
    },
    {
     "data": {
      "text/plain": [
       "3"
      ]
     },
     "execution_count": 3,
     "metadata": {},
     "output_type": "execute_result"
    }
   ],
   "source": [
    "x = torch.rand(25, 3)\n",
    "print(\"done\")\n",
    "enum = enumerate_permute(x[0].unsqueeze(0))\n",
    "print(enum)\n",
    "print(\"shape\", enum.shape)\n",
    "gap_count(enum[0][0])"
   ]
  },
  {
   "cell_type": "markdown",
   "id": "3d9af02c",
   "metadata": {},
   "source": [
    "### capacity.py"
   ]
  },
  {
   "cell_type": "code",
   "execution_count": 4,
   "id": "af2416c9",
   "metadata": {},
   "outputs": [
    {
     "name": "stdout",
     "output_type": "stream",
     "text": [
      "0\n",
      "0.03991276025772095\n",
      "0.2978140711784363\n",
      "0.34711939096450806\n",
      "0.36431437730789185\n",
      "0.7530539631843567\n",
      "0.9656341671943665\n",
      "1\n",
      "Capacity locator for tensor([ 1,  0, -1]): 0.36431437730789185\n"
     ]
    }
   ],
   "source": [
    "mu = generate_capacity(enum[0])\n",
    "for i in range(len(mu)):\n",
    "    print(mu[i].get_capacity())\n",
    "\n",
    "print(f\"Capacity locator for {enum[0][4]}:\", locate_capacity(enum[0][4], mu))"
   ]
  },
  {
   "cell_type": "markdown",
   "id": "6c4deee6",
   "metadata": {},
   "source": [
    "### norm.py"
   ]
  },
  {
   "cell_type": "code",
   "execution_count": 5,
   "id": "57db98e4",
   "metadata": {},
   "outputs": [
    {
     "name": "stdout",
     "output_type": "stream",
     "text": [
      "Normalized x:\n",
      " tensor([[0.1915, 0.0000, 1.0000],\n",
      "        [0.0000, 0.5747, 1.0000],\n",
      "        [0.0000, 0.5401, 1.0000],\n",
      "        [1.0000, 0.2264, 0.0000],\n",
      "        [0.0000, 1.0000, 0.0723],\n",
      "        [0.0000, 0.4371, 1.0000],\n",
      "        [0.0000, 0.0349, 1.0000],\n",
      "        [0.7200, 1.0000, 0.0000],\n",
      "        [0.1636, 0.0000, 1.0000],\n",
      "        [1.0000, 0.0000, 0.6502],\n",
      "        [0.0000, 1.0000, 0.4213],\n",
      "        [1.0000, 0.8046, 0.0000],\n",
      "        [0.0000, 1.0000, 0.9786],\n",
      "        [1.0000, 0.6454, 0.0000],\n",
      "        [0.0000, 0.4537, 1.0000],\n",
      "        [1.0000, 0.0000, 0.2968],\n",
      "        [0.4692, 1.0000, 0.0000],\n",
      "        [1.0000, 0.0000, 0.3984],\n",
      "        [1.0000, 0.0000, 0.7868],\n",
      "        [0.3728, 0.0000, 1.0000],\n",
      "        [0.1489, 0.0000, 1.0000],\n",
      "        [0.0000, 0.9789, 1.0000],\n",
      "        [0.0000, 1.0000, 0.4567],\n",
      "        [0.9205, 0.0000, 1.0000],\n",
      "        [0.0000, 1.0000, 0.1187]])\n"
     ]
    }
   ],
   "source": [
    "normalized_x = normalize(x)\n",
    "print(\"Normalized x:\\n\", normalized_x)"
   ]
  },
  {
   "cell_type": "code",
   "execution_count": 6,
   "id": "5d88258e",
   "metadata": {},
   "outputs": [
    {
     "data": {
      "text/plain": [
       "tensor([[0.0376, 0.3550, 0.6378],\n",
       "        [0.4155, 0.0822, 0.7026],\n",
       "        [0.8261, 0.2110, 0.3084],\n",
       "        [0.4187, 0.5884, 0.1750],\n",
       "        [0.3403, 0.3534, 0.2471],\n",
       "        [0.9403, 0.5314, 0.7830],\n",
       "        [0.5947, 0.8518, 0.9135],\n",
       "        [0.0524, 0.5493, 0.9704],\n",
       "        [0.2845, 0.9687, 0.1448],\n",
       "        [0.8574, 0.7492, 0.5034],\n",
       "        [0.5432, 0.9482, 0.7307],\n",
       "        [0.8753, 0.8836, 0.9514],\n",
       "        [0.1868, 0.4824, 0.9634],\n",
       "        [0.6146, 0.1297, 0.5898],\n",
       "        [0.9429, 0.0463, 0.4151],\n",
       "        [0.0628, 0.7219, 0.7481],\n",
       "        [0.2891, 0.7751, 0.6804],\n",
       "        [0.1270, 0.5073, 0.9877],\n",
       "        [0.6178, 0.7260, 0.5838],\n",
       "        [0.4586, 0.4127, 0.0844],\n",
       "        [0.5169, 0.8846, 0.3092],\n",
       "        [0.4299, 0.4782, 0.6008],\n",
       "        [0.2701, 0.1910, 0.5681],\n",
       "        [0.1661, 0.7196, 0.4642],\n",
       "        [0.8424, 0.0596, 0.5776]])"
      ]
     },
     "execution_count": 6,
     "metadata": {},
     "output_type": "execute_result"
    }
   ],
   "source": [
    "x2 = torch.rand(25,3)\n",
    "x2"
   ]
  },
  {
   "cell_type": "code",
   "execution_count": 7,
   "id": "71e5014a",
   "metadata": {},
   "outputs": [
    {
     "data": {
      "text/plain": [
       "tensor([[0.7545, 1.0000, 1.0000],\n",
       "        [0.7589, 0.6269, 1.0000],\n",
       "        [0.8399, 0.5440, 0.9131],\n",
       "        [1.0000, 1.0000, 0.5444],\n",
       "        [0.4540, 0.6288, 0.3725],\n",
       "        [0.9431, 0.8802, 1.0000],\n",
       "        [1.0000, 1.0000, 1.0000],\n",
       "        [0.8235, 1.0000, 1.0000],\n",
       "        [0.4705, 1.0000, 0.7346],\n",
       "        [1.0000, 1.0000, 1.0000],\n",
       "        [0.7727, 1.0000, 1.0000],\n",
       "        [1.0000, 1.0000, 1.0000],\n",
       "        [0.4177, 1.0000, 1.0000],\n",
       "        [1.0000, 0.7450, 0.7503],\n",
       "        [1.0000, 0.6033, 1.0000],\n",
       "        [0.6059, 0.8896, 1.0000],\n",
       "        [0.5652, 1.0000, 0.8353],\n",
       "        [0.4067, 0.7638, 1.0000],\n",
       "        [1.0000, 1.0000, 1.0000],\n",
       "        [0.8993, 0.6710, 0.8320],\n",
       "        [0.6289, 0.9320, 0.7904],\n",
       "        [0.6904, 0.9449, 1.0000],\n",
       "        [0.6039, 0.8551, 1.0000],\n",
       "        [1.0000, 0.7266, 1.0000],\n",
       "        [1.0000, 0.9873, 1.0000]])"
      ]
     },
     "execution_count": 7,
     "metadata": {},
     "output_type": "execute_result"
    }
   ],
   "source": [
    "T_norm_result = T_conorm(x, x2, mode='L')\n",
    "T_norm_result"
   ]
  },
  {
   "cell_type": "markdown",
   "id": "5425e3c6",
   "metadata": {},
   "source": [
    "### choquet.py"
   ]
  },
  {
   "cell_type": "code",
   "execution_count": 8,
   "id": "04d67357",
   "metadata": {},
   "outputs": [
    {
     "data": {
      "text/plain": [
       "tensor([[0.7169, 0.6450, 0.3622],\n",
       "        [0.4155, 0.5447, 0.3062],\n",
       "        [0.8261, 0.3330, 0.6047],\n",
       "        [0.5813, 0.5121, 0.3693],\n",
       "        [0.3403, 0.3534, 0.2471],\n",
       "        [0.9403, 0.5314, 0.2170],\n",
       "        [0.5912, 0.5715, 0.0865],\n",
       "        [0.7712, 0.4507, 0.6226],\n",
       "        [0.2845, 0.8929, 0.5899],\n",
       "        [0.1426, 0.5429, 0.4966],\n",
       "        [0.5432, 0.2146, 0.5363],\n",
       "        [0.1247, 0.1879, 0.6404],\n",
       "        [0.2309, 0.5176, 0.2572],\n",
       "        [0.3854, 0.6153, 0.5898],\n",
       "        [0.5419, 0.5570, 0.5849],\n",
       "        [0.5431, 0.7219, 0.7209],\n",
       "        [0.2891, 0.5868, 0.6804],\n",
       "        [0.2796, 0.5073, 0.7343],\n",
       "        [0.3822, 0.5123, 0.4162],\n",
       "        [0.4586, 0.4127, 0.7476],\n",
       "        [0.5169, 0.8846, 0.4812],\n",
       "        [0.4299, 0.4782, 0.5289],\n",
       "        [0.3338, 0.6641, 0.5154],\n",
       "        [0.8339, 0.7196, 0.5358],\n",
       "        [0.6265, 0.9277, 0.5607]])"
      ]
     },
     "execution_count": 8,
     "metadata": {},
     "output_type": "execute_result"
    }
   ],
   "source": [
    "s_union_result = s_triangle(x, x2, mode='M')\n",
    "s_union_result"
   ]
  },
  {
   "cell_type": "code",
   "execution_count": 9,
   "id": "1d646021",
   "metadata": {},
   "outputs": [
    {
     "data": {
      "text/plain": [
       "tensor([0.7169, 0.6778, 0.8820])"
      ]
     },
     "execution_count": 9,
     "metadata": {},
     "output_type": "execute_result"
    }
   ],
   "source": [
    "x[0]"
   ]
  },
  {
   "cell_type": "code",
   "execution_count": 10,
   "id": "687130da",
   "metadata": {},
   "outputs": [
    {
     "data": {
      "text/plain": [
       "tensor([[[-1, -1, -1],\n",
       "         [ 1, -1, -1],\n",
       "         [ 0, -1, -1],\n",
       "         [ 2, -1, -1],\n",
       "         [ 1,  0, -1],\n",
       "         [ 1,  2, -1],\n",
       "         [ 0,  2, -1],\n",
       "         [ 1,  0,  2]]])"
      ]
     },
     "execution_count": 10,
     "metadata": {},
     "output_type": "execute_result"
    }
   ],
   "source": [
    "enumerate_permute(x[0].unsqueeze(0))"
   ]
  },
  {
   "cell_type": "code",
   "execution_count": 11,
   "id": "609e9d6e",
   "metadata": {},
   "outputs": [],
   "source": [
    "choquet = Choquet(X=x[0].unsqueeze(0), mu=mu)"
   ]
  },
  {
   "cell_type": "code",
   "execution_count": 12,
   "id": "251f7d81",
   "metadata": {},
   "outputs": [
    {
     "data": {
      "text/plain": [
       "0.7500029802322388"
      ]
     },
     "execution_count": 12,
     "metadata": {},
     "output_type": "execute_result"
    }
   ],
   "source": [
    "choquet.choquet"
   ]
  },
  {
   "cell_type": "markdown",
   "id": "dd1e17a1",
   "metadata": {},
   "source": [
    "### sim.py"
   ]
  },
  {
   "cell_type": "code",
   "execution_count": 13,
   "id": "1803e947",
   "metadata": {},
   "outputs": [
    {
     "data": {
      "text/plain": [
       "tensor([[0.7169, 0.6450, 0.3622]])"
      ]
     },
     "execution_count": 13,
     "metadata": {},
     "output_type": "execute_result"
    }
   ],
   "source": [
    "s_union_result = s_triangle(x, x2, mode='M')\n",
    "s_union_result[0].unsqueeze(0)"
   ]
  },
  {
   "cell_type": "code",
   "execution_count": 14,
   "id": "51bdb0b2",
   "metadata": {},
   "outputs": [
    {
     "data": {
      "text/plain": [
       "0.6064812541007996"
      ]
     },
     "execution_count": 14,
     "metadata": {},
     "output_type": "execute_result"
    }
   ],
   "source": [
    "choquet2 = Choquet(X=s_union_result[0].unsqueeze(0), mu=mu)\n",
    "choquet2.choquet"
   ]
  },
  {
   "cell_type": "code",
   "execution_count": 15,
   "id": "446bef92",
   "metadata": {},
   "outputs": [
    {
     "name": "stdout",
     "output_type": "stream",
     "text": [
      "Sim1: 0.3594119254376427\n",
      "Sim2: 0.33887921684676486\n",
      "Sim3: 0.3154812629197109\n",
      "\n",
      "Sim1: 0.3250580673318531\n",
      "Sim2: 0.3298692216741722\n",
      "Sim3: 0.3310077318039385\n",
      "\n",
      "Sim1: 0.24481186629920776\n",
      "Sim2: 0.2716417392478547\n",
      "Sim3: 0.23995326120504767\n",
      "\n",
      "Sim1: 0.3743626866367646\n",
      "Sim2: 0.38184123207891524\n",
      "Sim3: 0.3612155913507894\n",
      "\n",
      "Sim1: 0.28293837925884074\n",
      "Sim2: 0.29549672808194694\n",
      "Sim3: 0.27656994693258297\n",
      "\n"
     ]
    }
   ],
   "source": [
    "for i in range(5):\n",
    "    sim = S1(X=x[0].unsqueeze(0), Y=x2[i].unsqueeze(0), mu=mu)\n",
    "    print(\"Sim1:\", sim.score())\n",
    "    sim = S2(X=x[0].unsqueeze(0), Y=x2[i].unsqueeze(0), mu=mu)\n",
    "    print(\"Sim2:\", sim.score())\n",
    "    sim = S3(X=x[0].unsqueeze(0), Y=x2[i].unsqueeze(0), mu=mu)\n",
    "    print(\"Sim3:\", sim.score())\n",
    "    print()"
   ]
  },
  {
   "cell_type": "markdown",
   "id": "4b29338c",
   "metadata": {},
   "source": [
    "### knn.py"
   ]
  },
  {
   "cell_type": "code",
   "execution_count": 16,
   "id": "08133e86",
   "metadata": {},
   "outputs": [],
   "source": [
    "label = torch.randint(0, 2, (25, ))"
   ]
  },
  {
   "cell_type": "code",
   "execution_count": 17,
   "id": "6f714848",
   "metadata": {},
   "outputs": [
    {
     "data": {
      "text/plain": [
       "tensor(0.5600)"
      ]
     },
     "execution_count": 17,
     "metadata": {},
     "output_type": "execute_result"
    }
   ],
   "source": [
    "knn = KNNFuzz(input_dimension=3, mu=mu, k=3, sim=S1)\n",
    "knn.fit(desc_set=x, label_set=label)\n",
    "knn.accuracy(desc_set=x, label_set=label)"
   ]
  },
  {
   "cell_type": "code",
   "execution_count": 18,
   "id": "2d7b05b4",
   "metadata": {},
   "outputs": [],
   "source": [
    "import time \n",
    "import copy"
   ]
  },
  {
   "cell_type": "code",
   "execution_count": 19,
   "id": "e5ecf681",
   "metadata": {},
   "outputs": [],
   "source": [
    "import torch\n",
    "import time\n",
    "import copy\n",
    "\n",
    "def FuzzLOO(C, DS, mu, time_counter=False):\n",
    "    \"\"\"\n",
    "    Perform Leave-One-Out cross-validation for a classifier.\n",
    "\n",
    "    Args:\n",
    "        C: Classifier class (must have fit() and accuracy() methods)\n",
    "        DS: Tuple (X, Y) where X is a tensor of descriptions and Y is a tensor of labels\n",
    "        mu: List of Capacity objects for fuzzy similarity\n",
    "        time_counter (bool): If True, measure the execution time\n",
    "\n",
    "    Returns:\n",
    "        float: Accuracy over all leave-one-out runs\n",
    "    \"\"\"\n",
    "    correct = 0\n",
    "    X, Y = DS\n",
    "\n",
    "    if time_counter:\n",
    "        tic = time.time()\n",
    "\n",
    "    for i in range(X.size(0)):\n",
    "        # Split into train and test\n",
    "        X_test = X[i].unsqueeze(0)           # Shape: [1, D]\n",
    "        Y_test = Y[i].unsqueeze(0)           # Shape: [1]\n",
    "\n",
    "        X_train = torch.cat((X[:i], X[i+1:]), dim=0)\n",
    "        Y_train = torch.cat((Y[:i], Y[i+1:]), dim=0)\n",
    "\n",
    "        # Deep copy the classifier and re-fit\n",
    "        clf = copy.deepcopy(C)\n",
    "        clf.fit(X_train, Y_train)\n",
    "\n",
    "        # Evaluate\n",
    "        if clf.accuracy(X_test, Y_test) == 1:\n",
    "            correct += 1\n",
    "    if time_counter:\n",
    "        toc = time.time()\n",
    "        print(f'Result in {(toc - tic):.4f} seconds.')\n",
    "\n",
    "    return correct / X.size(0)\n"
   ]
  },
  {
   "cell_type": "code",
   "execution_count": 20,
   "id": "e27b23bd",
   "metadata": {},
   "outputs": [],
   "source": [
    "X = x \n",
    "Y = label"
   ]
  },
  {
   "cell_type": "code",
   "execution_count": 21,
   "id": "c2c08f57",
   "metadata": {},
   "outputs": [],
   "source": [
    "C = KNNFuzz(input_dimension=3, mu=mu, k=3, sim=S1)"
   ]
  },
  {
   "cell_type": "code",
   "execution_count": 22,
   "id": "f91dea39",
   "metadata": {},
   "outputs": [
    {
     "name": "stdout",
     "output_type": "stream",
     "text": [
      "Result in 0.3125 seconds.\n"
     ]
    },
    {
     "data": {
      "text/plain": [
       "0.56"
      ]
     },
     "execution_count": 22,
     "metadata": {},
     "output_type": "execute_result"
    }
   ],
   "source": [
    "FuzzLOO(\n",
    "    C = C,\n",
    "    DS = (x, label),\n",
    "    mu = mu,\n",
    "    time_counter=True\n",
    ")"
   ]
  },
  {
   "cell_type": "markdown",
   "id": "419d968e",
   "metadata": {},
   "source": [
    "### eval.py"
   ]
  },
  {
   "cell_type": "code",
   "execution_count": 23,
   "id": "3e5e3e65",
   "metadata": {},
   "outputs": [
    {
     "name": "stdout",
     "output_type": "stream",
     "text": [
      "Leave one out avec k = 1\n",
      "SimLevel1: 0.4\n",
      "SimLevel2: 0.32\n",
      "SimLevel3: 0.48\n",
      "\n",
      "Result in 0.9351 seconds.\n",
      "Leave one out avec k = 2\n",
      "SimLevel1: 0.56\n",
      "SimLevel2: 0.64\n",
      "SimLevel3: 0.68\n",
      "\n",
      "Result in 0.8749 seconds.\n",
      "Leave one out avec k = 3\n",
      "SimLevel1: 0.52\n",
      "SimLevel2: 0.56\n",
      "SimLevel3: 0.68\n",
      "\n",
      "Result in 0.8785 seconds.\n",
      "Leave one out avec k = 4\n",
      "SimLevel1: 0.56\n",
      "SimLevel2: 0.56\n",
      "SimLevel3: 0.52\n",
      "\n",
      "Result in 0.9490 seconds.\n",
      "Leave one out avec k = 5\n",
      "SimLevel1: 0.56\n",
      "SimLevel2: 0.56\n",
      "SimLevel3: 0.56\n",
      "\n",
      "Result in 1.0803 seconds.\n",
      "Leave one out avec k = 6\n",
      "SimLevel1: 0.56\n",
      "SimLevel2: 0.56\n",
      "SimLevel3: 0.56\n",
      "\n",
      "Result in 0.9659 seconds.\n",
      "Leave one out avec k = 7\n",
      "SimLevel1: 0.56\n",
      "SimLevel2: 0.56\n",
      "SimLevel3: 0.56\n",
      "\n",
      "Result in 0.9017 seconds.\n",
      "Leave one out avec k = 8\n",
      "SimLevel1: 0.56\n",
      "SimLevel2: 0.56\n",
      "SimLevel3: 0.56\n",
      "\n",
      "Result in 0.8833 seconds.\n",
      "Leave one out avec k = 9\n",
      "SimLevel1: 0.56\n",
      "SimLevel2: 0.56\n",
      "SimLevel3: 0.56\n",
      "\n",
      "Result in 0.8634 seconds.\n",
      "Leave one out avec k = 10\n",
      "SimLevel1: 0.56\n",
      "SimLevel2: 0.56\n",
      "SimLevel3: 0.56\n",
      "\n",
      "Result in 0.8724 seconds.\n"
     ]
    },
    {
     "data": {
      "text/plain": [
       "<matplotlib.legend.Legend at 0x126d558a0>"
      ]
     },
     "execution_count": 23,
     "metadata": {},
     "output_type": "execute_result"
    },
    {
     "data": {
      "image/png": "[encoded data removed]",
      "text/plain": [
       "<Figure size 640x480 with 1 Axes>"
      ]
     },
     "metadata": {},
     "output_type": "display_data"
    }
   ],
   "source": [
    "# LOO evaluation\n",
    "# Define list for each sim level\n",
    "l1 = []\n",
    "l2 = []\n",
    "l3 = []\n",
    "k = 10\n",
    "\n",
    "for k in range(1, k+1): \n",
    "    tic = time.time()\n",
    "    mu = generate_capacity(enumerate_permute(x[0].unsqueeze(0))[0])\n",
    "\n",
    "    print(f\"Leave one out avec k = {k}\")\n",
    "    \n",
    "    # SimLevel1\n",
    "    res = FuzzLOO(\n",
    "            C = KNNFuzz(input_dimension=x.size(1),mu=mu, k=k, sim=S1), \n",
    "            DS = (x, label),\n",
    "            mu=mu\n",
    "        )\n",
    "    l1.append(res)\n",
    "    print(f\"SimLevel1: {res}\")\n",
    "    # Sim level 2\n",
    "    res = FuzzLOO(\n",
    "            C = KNNFuzz(input_dimension=x.size(1),mu=mu, k=k, sim=S2), \n",
    "            DS = (x, label),\n",
    "            mu=mu\n",
    "        )\n",
    "    l2.append(res)\n",
    "    print(f\"SimLevel2: {res}\")\n",
    "\n",
    "    # Sim level 3\n",
    "    res = FuzzLOO(\n",
    "            C = KNNFuzz(input_dimension=x.size(1),mu=mu, k=k, sim=S3), \n",
    "            DS = (x, label),\n",
    "            mu=mu\n",
    "        )\n",
    "    l3.append(res)\n",
    "    print(f\"SimLevel3: {res}\\n\")\n",
    "\n",
    "    toc = time.time()\n",
    "    print(f\"Result in {(toc-tic):0.4f} seconds.\")\n",
    "\n",
    "# Plot results\n",
    "plt.plot(l1, label=\"Sim level 1\", marker='o')\n",
    "plt.plot(l2, label=\"Sim level 2\", marker='o')\n",
    "plt.plot(l3, label=\"Sim level 3\", marker='o')\n",
    "\n",
    "# Config additional params\n",
    "plt.ylabel(\"LOO accuracy\")\n",
    "plt.xlabel(\"k\")\n",
    "plt.title(\"Leave-One-Out Evaluation Results\")\n",
    "plt.grid()\n",
    "plt.legend()"
   ]
  },
  {
   "cell_type": "code",
   "execution_count": null,
   "id": "e419fd18",
   "metadata": {},
   "outputs": [],
   "source": []
  }
 ],
 "metadata": {
  "kernelspec": {
   "display_name": "fuzzsim",
   "language": "python",
   "name": "python3"
  },
  "language_info": {
   "codemirror_mode": {
    "name": "ipython",
    "version": 3
   },
   "file_extension": ".py",
   "mimetype": "text/x-python",
   "name": "python",
   "nbconvert_exporter": "python",
   "pygments_lexer": "ipython3",
   "version": "3.10.16"
  }
 },
 "nbformat": 4,
 "nbformat_minor": 5
}
